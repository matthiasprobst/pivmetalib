{
 "cells": [
  {
   "cell_type": "markdown",
   "id": "992bbf41-bfc8-45fa-ab30-53ad3e8d7f33",
   "metadata": {},
   "source": [
    "# Describe a PIV recording\n",
    "\n",
    "Let's say you recorded multiple PIV images and put them into a *ZIP* folder. The scenario is shown below. We will describe the data stored in the zip folder using linked-data syntax. The collection of PIV images is called a *dataset*. The information about it will be stored in a JSON-LD file:\n",
    "\n",
    "![piv_image_dataset_management](piv_image_dataset_management.svg)\n",
    "\n",
    "The [\"PIV Challenge\"](https://www.pivchallenge.org/) datasets will serve as real-world examples. We will describe one of them.\n",
    "\n",
    "Before we start, let's get clear about the vocabulary/semantic:\n",
    "\n",
    "We will use multiple vocabularies and ontologies. At the core, we will use the \"Data Catalog Vocabulary\" (dcat), which allows describing datasets. According to [dcat](https://www.w3.org/TR/vocab-dcat-2/), dataset and distribution, the main objects in our problem are described as follows:\n",
    "- *dcat:Dataset*: \"A collection of data, published or curated by a single agent, and available for access or download in one or more representations.\"\n",
    "- *dcat:Distribution*: \"A specific representation of a dataset. A dataset might be available in multiple serializations that may differ in various ways, including natural language, media-type or format, schematic organization, temporal and spatial resolution, level of detail or profiles (which might specify any or all of the above).\"\n",
    "\n",
    "Besides the description of file objects (*dcat:Distribution*), the dataset has many more properties, like the creator, a description and more such fields. We will add all this below."
   ]
  },
  {
   "cell_type": "markdown",
   "id": "9b0d5de4-8cc8-4297-8d1b-288c52ba23e3",
   "metadata": {},
   "source": [
    "## Imports\n",
    "\n",
    "We will import some namespace modules, which are provided by `pivmetalib`. All these namespace modules contain classes representing the concepts of their ontology. E.g. `prov` contains the class `Person` and describes [*prov:Person*](https://www.w3.org/ns/prov#Person). The most important properties of a person, such as the first and last name, the email or a researcher ID is implemented as class attributes. Learn more bout in in the [GettingStarted Notebook](./GettingStarted.ipynb)\n",
    "\n",
    "Here's an example for a Person:"
   ]
  },
  {
   "cell_type": "code",
   "execution_count": null,
   "id": "180a0df4-42be-4f66-aa44-672c038847da",
   "metadata": {},
   "outputs": [],
   "source": [
    "from pivmetalib import prov\n",
    "\n",
    "creator = prov.Person(\n",
    "    lastName='Okamoto',\n",
    "    mbox=\"okamoto@tokai.t.u-tokyo.ac.jp\"\n",
    ")\n",
    "creator"
   ]
  },
  {
   "cell_type": "markdown",
   "id": "34f28c88-19e5-43b6-a96a-d6ed73889457",
   "metadata": {},
   "source": [
    "Other important modules are `dcat` and `pivmeta`. The namespace module `dcat` contains *Distribution* and *Dataset*. The *pivmeta*-ontology provides many more PIV-specific concepts, among others it defines e.g. *PIVImageDistribution*, which is a (sub)type of *Distribution* and tells us, that the distribution contains PIV images as compared to other regular files, like README files, for example.\n",
    "\n",
    "Let's import the other modules:"
   ]
  },
  {
   "cell_type": "code",
   "execution_count": null,
   "id": "713bc33c-ebf1-433b-b0ec-7ddb2236e41a",
   "metadata": {},
   "outputs": [],
   "source": [
    "from pivmetalib import dcat # dcat import Dataset, Distribution\n",
    "from pivmetalib import pivmeta # we will need PivImageDistribution\n",
    "from pivmetalib import PIVMETA  # the namespace module containing the URI addresses"
   ]
  },
  {
   "cell_type": "markdown",
   "id": "d38eb062-8db6-4b71-9d8c-fe083eb80049",
   "metadata": {},
   "source": [
    "## Data collection\n",
    "\n",
    "We refer to the [PIV-Challenge](https://www.pivchallenge.org/pub/) website for all information, i.e. data and metadata. Much is written in the README file but some metadata is also available in the HTML text.\n",
    "\n",
    "Here is a (probably incomplete) list of metadata:\n",
    "- case/dataset name: \"C\"\n",
    "- description: \"Strong wall reflection in an impeller (background images and mask are provided), (provided by Stanislas)\"\n",
    "- long description from README: \"The set of images is referenced C001_1.tif and C001_2.tif...The two white circles are the two edges of the fixed vaneless diffuser.\"\n",
    "- image type: \"real\"\n",
    "- number of sets: \"1 + 2bg + 1 msk\"\n",
    "- author(s): \"Stanislas\"\n",
    "- camera characteristics (see README): \"Type: KODAK ES1.0 b & w.....Acquisition software\tINSIGHT 2.10.\"\n",
    "\n",
    "The challenge is to translate this into to a common language so that datasets become comparable, also from other sources. This is exactly what the ` \u0000T\u0000h\u0000a`-ontology achieves. Let's dive into building an interoperable description of the dataset:"
   ]
  },
  {
   "cell_type": "markdown",
   "id": "242551e3-7dee-4d3f-bf44-2c53e7f63b7a",
   "metadata": {},
   "source": [
    "## Describe the dataset\n",
    "\n",
    "The package `pivmetalib` has implemented the [RDF](https://www.w3.org/RDF/) vocabularies as python objects. Their parameters validated.\n",
    "\n",
    "Let's first examine this by creating the person, who created the dataset:"
   ]
  },
  {
   "cell_type": "markdown",
   "id": "6c2216e2-4985-429c-ab6e-d59c8dbebb88",
   "metadata": {},
   "source": [
    "## Author"
   ]
  },
  {
   "cell_type": "code",
   "execution_count": null,
   "id": "e5e9a7fc-fcb4-4430-b600-cc25d9060ef6",
   "metadata": {},
   "outputs": [],
   "source": [
    "creator = prov.Person(\n",
    "    lastName='Stanislas',\n",
    "    mbox=\"pivnet-sig32@univ-lille1.fr\"\n",
    ")\n",
    "creator"
   ]
  },
  {
   "cell_type": "markdown",
   "id": "00171555-b3ce-43d1-a92d-3eb0e78447b3",
   "metadata": {},
   "source": [
    "## Camera\n",
    "\n",
    "The most important properties of a camera used for PIV is the sensor size and the lens used:"
   ]
  },
  {
   "cell_type": "code",
   "execution_count": null,
   "id": "bfcce10e-5e1b-44d6-9b22-494d1cb9c1ea",
   "metadata": {},
   "outputs": [],
   "source": [
    "from pivmetalib import m4i\n",
    "from ontolutils import PIVMETA, QUDT_KIND"
   ]
  },
  {
   "cell_type": "code",
   "execution_count": null,
   "id": "3b4e36eb-b692-4647-9ce0-e7e7fdfe0e15",
   "metadata": {},
   "outputs": [],
   "source": [
    "sensor_width = pivmeta.NumericalVariable(hasNumericalValue=1008,\n",
    "                                         hasStandardName=\"https://matthiasprobst.github.io/pivmeta#sensor_pixel_width\")\n",
    "sensor_height = pivmeta.NumericalVariable(hasNumericalValue=1008,\n",
    "                                         hasStandardName=\"https://matthiasprobst.github.io/pivmeta#sensor_pixel_width\")"
   ]
  },
  {
   "cell_type": "code",
   "execution_count": null,
   "id": "491b1d30-8d14-4c91-b898-b3a7c57eacf9",
   "metadata": {},
   "outputs": [],
   "source": [
    "# # dont use PIVMETA better build a SNT-Namespace-like-class similar to PIVMETA\n",
    "# # consider outsourcing this to a separate package onto_utils, which let's you build namespace classes...\n",
    "\n",
    "# def standard_variable(name, value, unit):\n",
    "#     sn = PIVMETA.get(name)\n",
    "#     if unit != '':\n",
    "#         qk = get_qudt_from_string(unit)\n",
    "#         return pivmeta.NumericalVariable(hasNumericalValue=value,\n",
    "#                                          hasStandardName=\"https://matthiasprobst.github.io/pivmeta#sensor_pixel_width\",\n",
    "#                                          hasUnit=unit)\n",
    "#     return pivmeta.NumericalVariable(hasNumericalValue=value,\n",
    "#                                      hasStandardName=\"https://matthiasprobst.github.io/pivmeta#sensor_pixel_width\")"
   ]
  },
  {
   "cell_type": "code",
   "execution_count": null,
   "id": "86455021-dbea-400b-968b-8347c771e78c",
   "metadata": {},
   "outputs": [],
   "source": [
    "# standard_variable('x_pixel_coordinate', 1.4, 'm/s')\n",
    "# # download the TTL file (https://matthiasprobst.github.io/pivmeta/ontology.ttl) and find out the quantity type, then verify it!"
   ]
  },
  {
   "cell_type": "code",
   "execution_count": null,
   "id": "68541011-27fd-44f9-9fae-7d60de2e71f5",
   "metadata": {},
   "outputs": [],
   "source": [
    "# standard_variable(name='sensor_pixel_width', value=1008, unit='m/s')\n",
    "# standard_variable(name='sensor_pixel_width', value=1008, unit='') ## TODO quantity kind must be determined automatically!"
   ]
  },
  {
   "cell_type": "code",
   "execution_count": null,
   "id": "4bf19e53-b0fd-466d-83c0-6f3df05fb079",
   "metadata": {},
   "outputs": [],
   "source": [
    "camera = pivmeta.DigitalCamera(  # is a subclass of m4i.Tool, so use hasParameter\n",
    "    label='KODAK ES1.0 b & w',\n",
    "    fnumber='f/2',\n",
    "    hasParameter=[\n",
    "        pivmeta.NumericalVariable(\n",
    "            hasNumericalValue=1008,\n",
    "            hasStandardName=\"https://matthiasprobst.github.io/pivmeta#sensor_pixel_width\"),\n",
    "        pivmeta.NumericalVariable(\n",
    "            hasNumericalValue=1018,\n",
    "            hasStandardName=\"https://matthiasprobst.github.io/pivmeta#sensor_pixel_height\"),\n",
    "        pivmeta.NumericalVariable(\n",
    "            hasNumericalValue=9.072,\n",
    "            hasUnit='um',\n",
    "            hasKindOfQuantity=QUDT_KIND.Length,\n",
    "            hasStandardName=\"https://matthiasprobst.github.io/pivmeta#ccd_width\"),\n",
    "        pivmeta.NumericalVariable(\n",
    "            hasNumericalValue=9.07,\n",
    "            hasUnit='um',\n",
    "            hasKindOfQuantity=QUDT_KIND.Length,\n",
    "            hasStandardName=\"https://matthiasprobst.github.io/pivmeta#ccd_height\"),\n",
    "        pivmeta.NumericalVariable(\n",
    "            label='focal length',\n",
    "            hasNumericalValue=35,\n",
    "            hasUnit='mm',\n",
    "            hasKindOfQuantity=QUDT_KIND.Length,\n",
    "            hasStandardName=\"https://matthiasprobst.github.io/pivmeta#focal_length\",\n",
    "            hasVariableDescription='Nikkor')\n",
    "    ]\n",
    ")\n",
    "camera.model_dump(exclude_none=True)"
   ]
  },
  {
   "cell_type": "markdown",
   "id": "9468f098-8c0b-440a-888d-2d52e46fd8ec",
   "metadata": {},
   "source": [
    "Note, that sometimes there is a helper method for a model class. For DigitalCamera there is:"
   ]
  },
  {
   "cell_type": "code",
   "execution_count": null,
   "id": "db631e4a-782b-4a63-9a3b-f9c0328f8476",
   "metadata": {},
   "outputs": [],
   "source": [
    "cam = pivmeta.DigitalCamera.build_minimal(\n",
    "    label='KODAK ES1.0 b & w',\n",
    "    sensor_pixel_size=[1008, 1018],\n",
    "    ccd_pixel_size_um=[9.07, 9.07],\n",
    "    fnumber='f/2',\n",
    "    focal_length_mm=35,\n",
    "    image_coding='8 bits'\n",
    ")\n",
    "cam.model_dump(exclude_none=True)"
   ]
  },
  {
   "cell_type": "code",
   "execution_count": null,
   "id": "fe957f2d-3f97-4190-a7dc-d6ebf02a2ca7",
   "metadata": {},
   "outputs": [],
   "source": [
    "cam"
   ]
  },
  {
   "cell_type": "markdown",
   "id": "0e21fd07-8a4d-43ae-8634-acc3c90bc547",
   "metadata": {},
   "source": [
    "Now, let's describe the complete dataset:"
   ]
  },
  {
   "cell_type": "code",
   "execution_count": null,
   "id": "1eacfb97-fad6-4abd-bd8f-d6b24d267e04",
   "metadata": {},
   "outputs": [],
   "source": [
    "ds = dcat.Dataset(\n",
    "    title='piv-challenge-1-C',\n",
    "    creator=creator,\n",
    "    modified=\"2000-10-28\",\n",
    "    landingPage=\"https://www.pivchallenge.org/pub/index.html#c\",\n",
    "    description=\"Different velocity gradients with spatially varying image quality (provided by Okamoto) < synthetic > [256 x 128]\",\n",
    "    distribution=[\n",
    "        pivmeta.PivImageDistribution(\n",
    "            title='Raw piv image data',\n",
    "            downloadURL='https://www.pivchallenge.org/pub/C/C.zip',\n",
    "            mediaType='https://www.iana.org/assignments/media-types/image/tiff',\n",
    "            compressedFormat='application/zip',\n",
    "            pivImageType=PIVMETA.SyntheticImage,\n",
    "            numberOfRecords=1,  # It contains one double image\n",
    "            filenamePattern=r\"^C\\d{3}_\\d.tif$\",  # the regex for the filename\n",
    "            imageBitDepth=8\n",
    "        ),\n",
    "        pivmeta.PivMaskDistribution(\n",
    "            title='Mask file',\n",
    "            downloadURL='https://www.pivchallenge.org/pub/C/C.zip',\n",
    "            compressedFormat='application/zip',  # https://www.w3.org/TR/vocab-dcat-2/#Property:distribution_compression_format\n",
    "            mediaType='https://www.iana.org/assignments/media-types/image/tiff',\n",
    "            filenamePattern=\"Cmask_1.tif\"  # for compressed data\n",
    "        ),\n",
    "        dcat.Distribution(\n",
    "            title='ReadMe file',\n",
    "            downloadURL='https://www.pivchallenge.org/pub/E/readmeE.txt'\n",
    "        ),\n",
    "    ]\n",
    ")"
   ]
  },
  {
   "cell_type": "markdown",
   "id": "e9dba1ce-0972-40de-893b-d0057e66e101",
   "metadata": {},
   "source": [
    "## Export to JSON-LD\n",
    "\n",
    "The dataset python object can be written to JSON-LD like so:"
   ]
  },
  {
   "cell_type": "code",
   "execution_count": null,
   "id": "37b97566-0949-40f8-847a-24b8260d305b",
   "metadata": {},
   "outputs": [],
   "source": [
    "with open('piv_challenge.jsonld', 'w') as f:\n",
    "    json_ld_str = ds.dump_jsonld(context='https://raw.githubusercontent.com/matthiasprobst/pivmeta/main/pivmeta_context.jsonld')\n",
    "    f.write(json_ld_str)\n",
    "print(json_ld_str)"
   ]
  },
  {
   "cell_type": "markdown",
   "id": "6eb9939b-2c41-4d0c-b1cd-52bbb419f077",
   "metadata": {},
   "source": [
    "## Re-use the dataset\n",
    "\n",
    "Now, that we have written the metadata to the file, we would like to reuse it, i.e. identify specific data"
   ]
  },
  {
   "cell_type": "markdown",
   "id": "c2314b00-fad5-4302-8b47-f61648fa344c",
   "metadata": {},
   "source": [
    "### Find distribution within JSON-LD file"
   ]
  },
  {
   "cell_type": "code",
   "execution_count": null,
   "id": "395c58b1-d3be-41ac-880c-44facadb4f2e",
   "metadata": {},
   "outputs": [],
   "source": [
    "import ontolutils"
   ]
  },
  {
   "cell_type": "code",
   "execution_count": null,
   "id": "998a16a3-0227-4eaa-ba63-056a363ddd6b",
   "metadata": {},
   "outputs": [],
   "source": [
    "dss = ontolutils.query(dcat.Dataset, source='piv_challenge.jsonld')\n",
    "ds = dss[0]\n",
    "ds.model_dump(exclude_none=True)"
   ]
  },
  {
   "cell_type": "code",
   "execution_count": null,
   "id": "0a84a12c-ba5b-4357-80a9-9ae7e61eca2b",
   "metadata": {},
   "outputs": [],
   "source": [
    "ds.creator"
   ]
  },
  {
   "cell_type": "code",
   "execution_count": null,
   "id": "e420e343-295a-4416-9af0-eeb554f2cd3c",
   "metadata": {},
   "outputs": [],
   "source": [
    "image_dists = ontolutils.query(pivmeta.PivImageDistribution, source='piv_challenge.jsonld')\n",
    "image_dist = image_dists[0]"
   ]
  },
  {
   "cell_type": "code",
   "execution_count": null,
   "id": "b2c45147-d0ec-4d80-bb8a-ec27fca009cb",
   "metadata": {},
   "outputs": [],
   "source": [
    "from pprint import pprint\n",
    "pprint(image_dist.model_dump())"
   ]
  },
  {
   "cell_type": "code",
   "execution_count": null,
   "id": "98895025-b89e-4a48-8352-6224c25685a5",
   "metadata": {},
   "outputs": [],
   "source": [
    "zip_filename = image_dist.download(dest_filename='imgs.zip', overwrite_existing=False)"
   ]
  },
  {
   "cell_type": "code",
   "execution_count": null,
   "id": "8b86e581-b4e7-4b81-9f1a-e53e3553fe6a",
   "metadata": {},
   "outputs": [],
   "source": [
    "import zipfile\n",
    "import re\n",
    "from typing import Union\n",
    "import pathlib\n",
    "\n",
    "def get_files(img_dir, pattern: Union[re.Pattern, str]):\n",
    "    img_dir = pathlib.Path(img_dir)\n",
    "    if isinstance(pattern, str):\n",
    "        pattern = re.compile(pattern)\n",
    "    filenames = []\n",
    "    for f in img_dir.iterdir():\n",
    "        if f.is_file():\n",
    "            if pattern.match(f.name):\n",
    "                filenames.append(f)\n",
    "    return filenames\n",
    "\n",
    "with zipfile.ZipFile(zip_filename, 'r') as zip_ref:\n",
    "    zip_ref.extractall('imgs')"
   ]
  },
  {
   "cell_type": "code",
   "execution_count": null,
   "id": "6248f1fa-8f8e-4f2e-9321-c4420cb445f5",
   "metadata": {},
   "outputs": [],
   "source": [
    "get_files('imgs', image_dist.filenamePattern)"
   ]
  },
  {
   "cell_type": "code",
   "execution_count": null,
   "id": "4adfe7fa-2c15-4c2b-8057-c3bd75cde80d",
   "metadata": {},
   "outputs": [],
   "source": [
    "image_dist.is_synthetic()"
   ]
  },
  {
   "cell_type": "code",
   "execution_count": null,
   "id": "f73bb55d-9025-4b90-ba68-0bd14c460d2d",
   "metadata": {},
   "outputs": [],
   "source": [
    "mask_dists = ontolutils.query(pivmeta.PivMaskDistribution, source='piv_challenge.jsonld')\n",
    "mask_dist = mask_dists[0]"
   ]
  },
  {
   "cell_type": "code",
   "execution_count": null,
   "id": "c31a8c48-a2d7-4ca7-b7d7-8b8a56f993de",
   "metadata": {},
   "outputs": [],
   "source": [
    "get_files('imgs', mask_dist.filenamePattern)"
   ]
  },
  {
   "cell_type": "code",
   "execution_count": null,
   "id": "db683c9c-85ab-4e73-ba26-52d6c2e4c1a9",
   "metadata": {},
   "outputs": [],
   "source": [
    "# import cv2\n",
    "# import pivimage\n",
    "# pivimage.PIVImagePair('imgs/C001_1.tif', 'imgs/C001_2.tif').plot()"
   ]
  },
  {
   "cell_type": "code",
   "execution_count": null,
   "id": "bae4e7ac-7377-43c6-8601-a3bba6981689",
   "metadata": {},
   "outputs": [],
   "source": [
    "# import h5rdmtoolbox as h5tbx"
   ]
  },
  {
   "cell_type": "code",
   "execution_count": null,
   "id": "39fd1327-7337-4ecf-9804-60d5873c496d",
   "metadata": {},
   "outputs": [],
   "source": [
    "# piv_software = pivmeta.PIVSoftware(\n",
    "#     id='https://www.mypivsoftware.com/',\n",
    "#     author=prov.Organisation(\n",
    "#         name='MyPIVSoftware GmbH',\n",
    "#         mbox='info@mypivsoftware.com',\n",
    "#         url='https://www.mypivsoftware.com/'\n",
    "#     ),\n",
    "#     hasDocumentation='https://www.mypivsoftware.com/download/docs/Manual.pdf',\n",
    "# )\n",
    "# from pprint import pprint\n",
    "# # pprint(piv_software.dump_jsonld())\n",
    "# # pprint(piv_software.model_dump_namespaced())\n",
    "# with h5tbx.File('piv_software.h5', 'w') as h5:\n",
    "#     piv_software.dump_hdf(h5.create_group('my_piv_software'))\n",
    "#     h5.dump(collapsed=False)"
   ]
  },
  {
   "cell_type": "code",
   "execution_count": null,
   "id": "0af62b3b-3154-4bfc-97be-7c2c65b0b5a5",
   "metadata": {},
   "outputs": [],
   "source": [
    "# from h5rdmtoolbox import jsonld\n",
    "# import pivmetalib\n",
    "# from pprint import pprint"
   ]
  },
  {
   "cell_type": "code",
   "execution_count": null,
   "id": "d4786033-e9bb-4c86-80fc-853b55747aca",
   "metadata": {},
   "outputs": [],
   "source": [
    "# with h5tbx.File('piv_software.h5', 'r') as h5:\n",
    "#     pprint(jsonld.dumpd(h5['my_piv_software'],\n",
    "#                       context=pivmetalib.get_context_json())['@graph'])\n",
    "#     pprint(jsonld.dumpd(h5['my_piv_software']))"
   ]
  },
  {
   "cell_type": "code",
   "execution_count": null,
   "id": "81bdd123-4607-41f5-8fed-65d648c8cfb4",
   "metadata": {},
   "outputs": [],
   "source": [
    "# with h5tbx.File(mode='w') as h5:\n",
    "#     g = h5.create_group('my dataset')\n",
    "#     ds.dump_hdf(g)\n",
    "#     h5.dump(collapsed=False)"
   ]
  },
  {
   "cell_type": "code",
   "execution_count": null,
   "id": "3ef451b7-3651-4983-8b83-09646bc78e23",
   "metadata": {},
   "outputs": [],
   "source": [
    "# print(ds.dump_jsonld())"
   ]
  },
  {
   "cell_type": "code",
   "execution_count": null,
   "id": "35daa623-0e14-4208-9693-5446999adab7",
   "metadata": {},
   "outputs": [],
   "source": [
    "# with h5rdmtoolbox.File('exp1_001.hdf', 'w') as h5:\n",
    "#     h5.create_dataset("
   ]
  }
 ],
 "metadata": {
  "kernelspec": {
   "display_name": "Python 3 (ipykernel)",
   "language": "python",
   "name": "python3"
  },
  "language_info": {
   "codemirror_mode": {
    "name": "ipython",
    "version": 3
   },
   "file_extension": ".py",
   "mimetype": "text/x-python",
   "name": "python",
   "nbconvert_exporter": "python",
   "pygments_lexer": "ipython3",
   "version": "3.8.18"
  }
 },
 "nbformat": 4,
 "nbformat_minor": 5
}
