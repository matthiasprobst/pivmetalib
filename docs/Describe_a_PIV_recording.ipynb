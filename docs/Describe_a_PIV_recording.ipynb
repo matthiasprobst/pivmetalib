{
 "cells": [
  {
   "cell_type": "markdown",
   "id": "992bbf41-bfc8-45fa-ab30-53ad3e8d7f33",
   "metadata": {},
   "source": [
    "# Describing PIV recordings\n",
    "\n",
    "Let's say you recorded multiple PIV images and put them into a *ZIP* folder. The scenario is shown below. We will describe the data stored in the zip folder using linked-data syntax. The collection of PIV images is called a *dataset*. The information about it will be stored in a JSON-LD file:\n",
    "\n",
    "![piv_image_dataset_management](piv_image_dataset_management.svg)\n",
    "\n",
    "The [\"PIV Challenge\"](https://www.pivchallenge.org/) datasets will serve as real-world examples. We will describe one of them.\n",
    "\n",
    "Before we start, let's get clear about the vocabulary/semantic:\n",
    "\n",
    "We will use multiple vocabularies and ontologies. At the core, we will use the \"Data Catalog Vocabulary\" (dcat), which allows describing datasets. According to [dcat](https://www.w3.org/TR/vocab-dcat-2/), dataset and distribution, the main objects in our problem are described as follows:\n",
    "- *dcat:Dataset*: \"A collection of data, published or curated by a single agent, and available for access or download in one or more representations.\"\n",
    "- *dcat:Distribution*: \"A specific representation of a dataset. A dataset might be available in multiple serializations that may differ in various ways, including natural language, media-type or format, schematic organization, temporal and spatial resolution, level of detail or profiles (which might specify any or all of the above).\"\n",
    "\n",
    "Besides the description of file objects (*dcat:Distribution*), the dataset has many more properties, like the creator, a description and more such fields. We will add all this below."
   ]
  },
  {
   "cell_type": "markdown",
   "id": "9b0d5de4-8cc8-4297-8d1b-288c52ba23e3",
   "metadata": {},
   "source": [
    "## Imports\n",
    "\n",
    "We will import some namespace modules, which are provided by `pivmetalib`. All these namespace modules contain classes representing the concepts of their ontology. E.g. `prov` contains the class `Person` and describes [*prov:Person*](https://www.w3.org/ns/prov#Person). The most important properties of a person, such as the first and last name, the email or a researcher ID is implemented as class attributes. Learn more bout in the [GettingStarted Notebook](./GettingStarted.ipynb)\n",
    "\n",
    "Here's an example for a Person, who is one of the contributors to the PIV Challenge datasets:"
   ]
  },
  {
   "cell_type": "code",
   "execution_count": 1,
   "id": "180a0df4-42be-4f66-aa44-672c038847da",
   "metadata": {},
   "outputs": [
    {
     "data": {
      "text/html": [
       "Person(id=_:N893005492e494ab68de552f82b3e628a, mbox=okamoto@tokai.t.u-tokyo.ac.jp, last_name=Okamoto)"
      ],
      "text/plain": [
       "Person(id=_:N893005492e494ab68de552f82b3e628a, mbox=okamoto@tokai.t.u-tokyo.ac.jp, last_name=Okamoto)"
      ]
     },
     "execution_count": 1,
     "metadata": {},
     "output_type": "execute_result"
    }
   ],
   "source": [
    "from pivmetalib import prov\n",
    "\n",
    "creator = prov.Person(\n",
    "    lastName='Okamoto',\n",
    "    mbox=\"okamoto@tokai.t.u-tokyo.ac.jp\"\n",
    ")\n",
    "creator"
   ]
  },
  {
   "cell_type": "code",
   "execution_count": 25,
   "id": "dd0f24db-f360-4fd9-b0c4-66a959e7c8b9",
   "metadata": {},
   "outputs": [
    {
     "data": {
      "text/plain": [
       "{'id': '_:N508c786de6da434a82d18e4c8def5bae',\n",
       " 'label': None,\n",
       " 'mbox': 'pivnet-sig32@univ-lille1.fr',\n",
       " 'first_name': None,\n",
       " 'last_name': 'Stanislas',\n",
       " 'orcid_id': None,\n",
       " 'had_role': None,\n",
       " 'was_role_in': None,\n",
       " 'affiliation': None}"
      ]
     },
     "execution_count": 25,
     "metadata": {},
     "output_type": "execute_result"
    }
   ],
   "source": [
    "creator.model_dump()"
   ]
  },
  {
   "cell_type": "markdown",
   "id": "34f28c88-19e5-43b6-a96a-d6ed73889457",
   "metadata": {},
   "source": [
    "Other important modules are `dcat` and `pivmeta`. The namespace module `dcat` contains *Distribution* and *Dataset*. The *pivmeta*-ontology provides many more PIV-specific concepts, among others it defines e.g. *PIVImageDistribution*, which is a (sub)type of *Distribution* and tells us, that the distribution contains PIV images as compared to other regular files, like README files, for example.\n",
    "\n",
    "Let's import the other modules:"
   ]
  },
  {
   "cell_type": "code",
   "execution_count": 2,
   "id": "713bc33c-ebf1-433b-b0ec-7ddb2236e41a",
   "metadata": {},
   "outputs": [],
   "source": [
    "from pivmetalib import dcat # dcat import Dataset, Distribution\n",
    "from pivmetalib import pivmeta # we will need PivImageDistribution\n",
    "from pivmetalib import PIVMETA  # the namespace module containing the URI addresses"
   ]
  },
  {
   "cell_type": "markdown",
   "id": "d38eb062-8db6-4b71-9d8c-fe083eb80049",
   "metadata": {},
   "source": [
    "## Data collection\n",
    "\n",
    "We refer to the [PIV-Challenge](https://www.pivchallenge.org/pub/) website for all information, i.e. data and metadata. Much is written in the README file but some metadata is also available in the HTML text.\n",
    "\n",
    "Here is a (probably incomplete) list of metadata:\n",
    "- case/dataset name: \"C\"\n",
    "- description: \"Strong wall reflection in an impeller (background images and mask are provided), (provided by Stanislas)\"\n",
    "- long description from README: \"The set of images is referenced C001_1.tif and C001_2.tif...The two white circles are the two edges of the fixed vaneless diffuser.\"\n",
    "- image type: \"real\"\n",
    "- number of sets: \"1 + 2bg + 1 msk\"\n",
    "- author(s): \"Stanislas\"\n",
    "- camera characteristics (see README): \"Type: KODAK ES1.0 b & w.....Acquisition software\tINSIGHT 2.10.\"\n",
    "\n",
    "The challenge is to translate this into to a common language so that datasets become comparable, also from other sources. This is exactly what the ` \u0000T\u0000h\u0000a`-ontology achieves. Let's dive into building an interoperable description of the dataset:"
   ]
  },
  {
   "cell_type": "markdown",
   "id": "242551e3-7dee-4d3f-bf44-2c53e7f63b7a",
   "metadata": {},
   "source": [
    "## Describe the dataset\n",
    "\n",
    "The package `pivmetalib` has implemented the [RDF](https://www.w3.org/RDF/) vocabularies as python objects. Their parameters validated.\n",
    "\n",
    "Let's first examine this by creating the person, who created the dataset:"
   ]
  },
  {
   "cell_type": "markdown",
   "id": "6c2216e2-4985-429c-ab6e-d59c8dbebb88",
   "metadata": {},
   "source": [
    "## Author"
   ]
  },
  {
   "cell_type": "code",
   "execution_count": 3,
   "id": "e5e9a7fc-fcb4-4430-b600-cc25d9060ef6",
   "metadata": {},
   "outputs": [
    {
     "data": {
      "text/html": [
       "Person(id=_:N508c786de6da434a82d18e4c8def5bae, mbox=pivnet-sig32@univ-lille1.fr, last_name=Stanislas)"
      ],
      "text/plain": [
       "Person(id=_:N508c786de6da434a82d18e4c8def5bae, mbox=pivnet-sig32@univ-lille1.fr, last_name=Stanislas)"
      ]
     },
     "execution_count": 3,
     "metadata": {},
     "output_type": "execute_result"
    }
   ],
   "source": [
    "creator = prov.Person(\n",
    "    lastName='Stanislas',\n",
    "    mbox=\"pivnet-sig32@univ-lille1.fr\"\n",
    ")\n",
    "creator"
   ]
  },
  {
   "cell_type": "markdown",
   "id": "00171555-b3ce-43d1-a92d-3eb0e78447b3",
   "metadata": {},
   "source": [
    "## Camera\n",
    "\n",
    "The most important properties of a camera used for PIV is the sensor size and the lens used.\n",
    "\n",
    "Properties of a tool like a camera can be described via `m4i:NumericalVariable`. "
   ]
  },
  {
   "cell_type": "markdown",
   "id": "c4be2da6-8f34-4288-aee2-5cc1394fc4c6",
   "metadata": {},
   "source": [
    "**Sensor size**"
   ]
  },
  {
   "cell_type": "code",
   "execution_count": 4,
   "id": "3b4e36eb-b692-4647-9ce0-e7e7fdfe0e15",
   "metadata": {},
   "outputs": [],
   "source": [
    "sensor_width = pivmeta.NumericalVariable(value=1008, label=\"sensor width\", description=\"The width of the camera sensor\")\n",
    "sensor_height = pivmeta.NumericalVariable(value=1008, label=\"sensor height\", description=\"The height of the camera sensor\")"
   ]
  },
  {
   "cell_type": "markdown",
   "id": "7dbd64b9-7fe4-450e-8e79-deb9f93ce56d",
   "metadata": {},
   "source": [
    "See, a numerical variable is not very precise. Hence, we added a label and a description. Even more effectively would be the usage of standard names from a list of well-defined names. For this, we make use of the [SSNO-Ontology](https://matthiasprobst.github.io/ssno/).\n",
    "\n",
    "For this, we first need to download the standard name table, we or our porject agreed on:"
   ]
  },
  {
   "cell_type": "code",
   "execution_count": 5,
   "id": "da1845fc-b26b-4a61-b46d-86ee25bec8ba",
   "metadata": {},
   "outputs": [],
   "source": [
    "from ssnolib import StandardNameTable"
   ]
  },
  {
   "cell_type": "code",
   "execution_count": 6,
   "id": "03e84705-dd50-4c2f-b75a-29fffe899b07",
   "metadata": {},
   "outputs": [],
   "source": [
    "snt = StandardNameTable.download(url=\"https://zenodo.org/records/14175299/files/Standard_Name_Table_for_Particle_Image_Velociemtry_data.jsonld?download=1\", fmt=\"jsonld\")\n",
    "standard_names = snt.get_standard_names_as_frozen_dataclass()"
   ]
  },
  {
   "cell_type": "markdown",
   "id": "91cb096a-c096-4c50-93bb-6c27e16776a4",
   "metadata": {},
   "source": [
    "The standard name \"ccd_width\" and \"ccd_height\" are the standardized names to be used for the description of the sensor width and height. The user may refer to the standard name table for more precise information. Meanwhile, the standard name string is an ideal way of searching for specific information. Here is our improved variables:"
   ]
  },
  {
   "cell_type": "code",
   "execution_count": 7,
   "id": "4dd02a00-5759-4b25-869f-c398d612c0a3",
   "metadata": {},
   "outputs": [],
   "source": [
    "sensor_width = pivmeta.NumericalVariable(value=1008, standard_name=standard_names.sensor_pixel_width)\n",
    "sensor_height = pivmeta.NumericalVariable(value=1008, standard_name=standard_names.sensor_pixel_height)"
   ]
  },
  {
   "cell_type": "markdown",
   "id": "29c1ecb7-634e-4a00-852c-2fc23ba81007",
   "metadata": {},
   "source": [
    "There is more information about the camera:"
   ]
  },
  {
   "cell_type": "code",
   "execution_count": 8,
   "id": "3741a5e4-31ca-4b1d-be29-2208aa2c1280",
   "metadata": {},
   "outputs": [],
   "source": [
    "pixel_width = pivmeta.NumericalVariable(value=9.072, hasUnit='um', hasStandardName=standard_names.ccd_width)\n",
    "pixel_height = pivmeta.NumericalVariable(value=9.072, hasUnit='um', hasStandardName=standard_names.ccd_height)"
   ]
  },
  {
   "cell_type": "code",
   "execution_count": 9,
   "id": "ab21ac48-c712-4b03-9191-bad097749d1a",
   "metadata": {},
   "outputs": [],
   "source": [
    "objective = pivmeta.Objective(\n",
    "    label=\"Nikkor\",\n",
    "    fnumber='f/2',\n",
    "    hasParameter=[pivmeta.NumericalVariable(label='focal length', value=9.072, hasUnit='mm', hasStandardName=standard_names.focal_length)]\n",
    ")"
   ]
  },
  {
   "cell_type": "code",
   "execution_count": 10,
   "id": "4451f1e5-ea37-4b55-915e-ab39fd077457",
   "metadata": {
    "scrolled": true
   },
   "outputs": [],
   "source": [
    "camera = pivmeta.DigitalCamera(  # is a subclass of m4i.Tool, so use hasParameter\n",
    "    label='KODAK ES1.0 b & w',\n",
    "    hasParameter=[sensor_width, sensor_height, pixel_width, pixel_height],\n",
    "    hasPart=objective\n",
    ")\n",
    "# print(camera.model_dump_jsonld(exclude_none=True))"
   ]
  },
  {
   "cell_type": "markdown",
   "id": "0e21fd07-8a4d-43ae-8634-acc3c90bc547",
   "metadata": {},
   "source": [
    "Now, let's describe the complete dataset:"
   ]
  },
  {
   "cell_type": "code",
   "execution_count": 11,
   "id": "92ff30d7-2640-4cd0-9c2b-4228677139f1",
   "metadata": {},
   "outputs": [],
   "source": [
    "piv_setup = pivmeta.PIVSetup(haspart=[camera,])"
   ]
  },
  {
   "cell_type": "code",
   "execution_count": 12,
   "id": "1eacfb97-fad6-4abd-bd8f-d6b24d267e04",
   "metadata": {},
   "outputs": [],
   "source": [
    "ds = pivmeta.PIVDataset(\n",
    "    title='piv-challenge-1-C',\n",
    "    creator=creator,\n",
    "    modified=\"2000-10-28\",\n",
    "    landingPage=\"https://www.pivchallenge.org/pub/index.html#c\",\n",
    "    description=\"Different velocity gradients with spatially varying image quality (provided by Okamoto) < synthetic > [256 x 128]\",\n",
    "    hasPart=piv_setup,\n",
    "    distribution=[\n",
    "        pivmeta.PIVImageDistribution(\n",
    "            label=\"Raw PIV image data\",\n",
    "            title='Raw piv image data',\n",
    "            downloadURL='https://www.pivchallenge.org/pub/C/C.zip',\n",
    "            mediaType='https://www.iana.org/assignments/media-types/image/tiff',\n",
    "            compressedFormat='application/zip',\n",
    "            pivImageType=PIVMETA.SyntheticImage,\n",
    "            numberOfRecords=1,  # It contains one double image\n",
    "            filenamePattern=r\"C[0-9][0-9][0-9]_[1,2].tif\",  # the regex for the filename\n",
    "            imageBitDepth=8\n",
    "        ),\n",
    "        pivmeta.PIVMaskDistribution(\n",
    "            label='Mask file',\n",
    "            title='Mask file',\n",
    "            downloadURL='https://www.pivchallenge.org/pub/C/C.zip',\n",
    "            compressedFormat='application/zip',  # https://www.w3.org/TR/vocab-dcat-2/#Property:distribution_compression_format\n",
    "            mediaType='https://www.iana.org/assignments/media-types/image/tiff',\n",
    "            filenamePattern=\"Cmask_1.tif\"  # for compressed data\n",
    "        ),\n",
    "        dcat.Distribution(\n",
    "            label='README file',\n",
    "            title='ReadMe file',\n",
    "            downloadURL='https://www.pivchallenge.org/pub/E/readmeE.txt'\n",
    "        ),\n",
    "    ]\n",
    ")"
   ]
  },
  {
   "cell_type": "markdown",
   "id": "e9dba1ce-0972-40de-893b-d0057e66e101",
   "metadata": {},
   "source": [
    "## Export to JSON-LD\n",
    "\n",
    "The dataset python object can be written to JSON-LD like so:"
   ]
  },
  {
   "cell_type": "code",
   "execution_count": 13,
   "id": "37b97566-0949-40f8-847a-24b8260d305b",
   "metadata": {},
   "outputs": [
    {
     "name": "stdout",
     "output_type": "stream",
     "text": [
      "{\n",
      "    \"@context\": {\n",
      "        \"owl\": \"http://www.w3.org/2002/07/owl#\",\n",
      "        \"rdfs\": \"http://www.w3.org/2000/01/rdf-schema#\",\n",
      "        \"dcat\": \"http://www.w3.org/ns/dcat#\",\n",
      "        \"dcterms\": \"http://purl.org/dc/terms/\",\n",
      "        \"pivmeta\": \"https://matthiasprobst.github.io/pivmeta#\",\n",
      "        \"local\": \"https://example.org/\",\n",
      "        \"prov\": \"http://www.w3.org/ns/prov#\",\n",
      "        \"foaf\": \"http://xmlns.com/foaf/0.1/\",\n",
      "        \"m4i\": \"http://w3id.org/nfdi4ing/metadata4ing#\",\n",
      "        \"schema\": \"https://schema.org/\",\n",
      "        \"obo\": \"http://purl.obolibrary.org/obo/\",\n",
      "        \"ssno\": \"https://matthiasprobst.github.io/ssno#\",\n",
      "        \"skos\": \"http://www.w3.org/2004/02/skos/core#\"\n",
      "    },\n",
      "    \"@type\": \"pivmeta:PIVDataset\",\n",
      "    \"dcterms:title\": \"piv-challenge-1-C\",\n",
      "    \"dcterms:description\": \"Different velocity gradients with spatially varying image quality (provided by Okamoto) < synthetic > [256 x 128]\",\n",
      "    \"dcterms:creator\": {\n",
      "        \"@type\": \"prov:Person\",\n",
      "        \"foaf:mbox\": \"pivnet-sig32@univ-lille1.fr\",\n",
      "        \"foaf:lastName\": \"Stanislas\",\n",
      "        \"@id\": \"local:N508c786de6da434a82d18e4c8def5bae\"\n",
      "    },\n",
      "    \"dcat:distribution\": [\n",
      "        {\n",
      "            \"@type\": \"pivmeta:PIVImageDistribution\",\n",
      "            \"rdfs:label\": \"Raw PIV image data\",\n",
      "            \"dcterms:title\": \"Raw piv image data\",\n",
      "            \"dcat:downloadURL\": \"https://www.pivchallenge.org/pub/C/C.zip\",\n",
      "            \"dcat:mediaType\": \"https://www.iana.org/assignments/media-types/image/tiff\",\n",
      "            \"pivmeta:filenamePattern\": \"C[0-9][0-9][0-9]_[1,2].tif\",\n",
      "            \"pivmeta:pivImageType\": \"https://matthiasprobst.github.io/pivmeta#SyntheticImage\",\n",
      "            \"pivmeta:imageBitDepth\": 8,\n",
      "            \"pivmeta:numberOfRecords\": 1,\n",
      "            \"compressedFormat\": \"application/zip\",\n",
      "            \"@id\": \"local:N389d3a2db2b7459fb326178563891e9f\"\n",
      "        },\n",
      "        {\n",
      "            \"@type\": \"pivmeta:PIVMaskDistribution\",\n",
      "            \"rdfs:label\": \"Mask file\",\n",
      "            \"dcterms:title\": \"Mask file\",\n",
      "            \"dcat:downloadURL\": \"https://www.pivchallenge.org/pub/C/C.zip\",\n",
      "            \"dcat:mediaType\": \"https://www.iana.org/assignments/media-types/image/tiff\",\n",
      "            \"pivmeta:filenamePattern\": \"Cmask_1.tif\",\n",
      "            \"compressedFormat\": \"application/zip\",\n",
      "            \"@id\": \"local:N6559dbbabb0b4c909b698a88c71348dd\"\n",
      "        },\n",
      "        {\n",
      "            \"@type\": \"dcat:Distribution\",\n",
      "            \"rdfs:label\": \"README file\",\n",
      "            \"dcterms:title\": \"ReadMe file\",\n",
      "            \"dcat:downloadURL\": \"https://www.pivchallenge.org/pub/E/readmeE.txt\",\n",
      "            \"@id\": \"local:Ne5a346c7e0304f54b770bed96e80fb23\"\n",
      "        }\n",
      "    ],\n",
      "    \"modified\": \"2000-10-28\",\n",
      "    \"landingPage\": \"https://www.pivchallenge.org/pub/index.html#c\",\n",
      "    \"hasPart\": {\n",
      "        \"@type\": \"pivmeta:PIVSetup\",\n",
      "        \"haspart\": [\n",
      "            {\n",
      "                \"@type\": \"pivmeta:DigitalCamera\",\n",
      "                \"rdfs:label\": \"KODAK ES1.0 b & w\",\n",
      "                \"m4i:hasParameter\": [\n",
      "                    {\n",
      "                        \"@type\": \"m4i:NumericalVariable\",\n",
      "                        \"m4i:hasNumericalValue\": 1008,\n",
      "                        \"pivmeta:hasStandardName\": {\n",
      "                            \"@type\": \"ssno:StandardName\",\n",
      "                            \"ssno:standardName\": \"sensor_pixel_width\",\n",
      "                            \"ssno:unit\": \"http://qudt.org/vocab/unit/M\",\n",
      "                            \"ssno:description\": \"The width of the sensor in pixel.\",\n",
      "                            \"@id\": \"https://doi.org/10.5281/zenodo.14175299/N604dbc5c900c4c70a06d20bc020c8795\"\n",
      "                        },\n",
      "                        \"@id\": \"local:N5059f37abf2747d8a1b79649a3213655\"\n",
      "                    },\n",
      "                    {\n",
      "                        \"@type\": \"m4i:NumericalVariable\",\n",
      "                        \"m4i:hasNumericalValue\": 1008,\n",
      "                        \"pivmeta:hasStandardName\": {\n",
      "                            \"@type\": \"ssno:StandardName\",\n",
      "                            \"ssno:standardName\": \"sensor_pixel_height\",\n",
      "                            \"ssno:unit\": \"http://qudt.org/vocab/unit/M\",\n",
      "                            \"ssno:description\": \"The height of the sensor in pixel.\",\n",
      "                            \"@id\": \"https://doi.org/10.5281/zenodo.14175299/Ne865f8ced89c48399457cc32366d6376\"\n",
      "                        },\n",
      "                        \"@id\": \"local:N0798ede71dc5458cacd93bdb34a34c58\"\n",
      "                    },\n",
      "                    {\n",
      "                        \"@type\": \"m4i:NumericalVariable\",\n",
      "                        \"m4i:hasNumericalValue\": 9.072,\n",
      "                        \"m4i:hasUnit\": \"http://qudt.org/vocab/unit/MicroM\",\n",
      "                        \"pivmeta:hasStandardName\": {\n",
      "                            \"@type\": \"ssno:StandardName\",\n",
      "                            \"ssno:standardName\": \"ccd_width\",\n",
      "                            \"ssno:unit\": \"http://qudt.org/vocab/unit/M\",\n",
      "                            \"ssno:description\": \"The width of a ccd pixel.\",\n",
      "                            \"@id\": \"https://doi.org/10.5281/zenodo.14175299/N6be920c790c74bb681a33dd27834c45c\"\n",
      "                        },\n",
      "                        \"@id\": \"local:N12461de2ea0941d3bb4fa5565ca7b31c\"\n",
      "                    },\n",
      "                    {\n",
      "                        \"@type\": \"m4i:NumericalVariable\",\n",
      "                        \"m4i:hasNumericalValue\": 9.072,\n",
      "                        \"m4i:hasUnit\": \"http://qudt.org/vocab/unit/MicroM\",\n",
      "                        \"pivmeta:hasStandardName\": {\n",
      "                            \"@type\": \"ssno:StandardName\",\n",
      "                            \"ssno:standardName\": \"ccd_height\",\n",
      "                            \"ssno:unit\": \"http://qudt.org/vocab/unit/M\",\n",
      "                            \"ssno:description\": \"The height of a ccd pixel.\",\n",
      "                            \"@id\": \"https://doi.org/10.5281/zenodo.14175299/Nbf8a2a0f1884418fad849cb96f9072c5\"\n",
      "                        },\n",
      "                        \"@id\": \"local:N404033e527744c8d9858d1fb9adf2403\"\n",
      "                    }\n",
      "                ],\n",
      "                \"obo:BFO_0000051\": {\n",
      "                    \"@type\": \"pivmeta:Objective\",\n",
      "                    \"rdfs:label\": \"Nikkor\",\n",
      "                    \"m4i:hasParameter\": [\n",
      "                        {\n",
      "                            \"@type\": \"m4i:NumericalVariable\",\n",
      "                            \"rdfs:label\": \"focal length\",\n",
      "                            \"m4i:hasNumericalValue\": 9.072,\n",
      "                            \"m4i:hasUnit\": \"http://qudt.org/vocab/unit/MilliM\",\n",
      "                            \"pivmeta:hasStandardName\": {\n",
      "                                \"@type\": \"ssno:StandardName\",\n",
      "                                \"ssno:standardName\": \"focal_length\",\n",
      "                                \"ssno:unit\": \"http://qudt.org/vocab/unit/M\",\n",
      "                                \"ssno:description\": \"The focal length. See also https://www.wikidata.org/wiki/Q193540.\",\n",
      "                                \"@id\": \"https://doi.org/10.5281/zenodo.14175299/Naaaa330cd3d947e1934fabc59839d3db\"\n",
      "                            },\n",
      "                            \"@id\": \"local:N381e03e27496481ea9f8c46668b3c3de\"\n",
      "                        }\n",
      "                    ],\n",
      "                    \"fnumber\": \"f/2\",\n",
      "                    \"@id\": \"local:N7f66ae43b66b4555914f6555b0d5f4d2\"\n",
      "                },\n",
      "                \"@id\": \"local:Nfb29a46cc725482daf3bf02b62ec461c\"\n",
      "            }\n",
      "        ],\n",
      "        \"@id\": \"local:N5047cc31a50b46a3a633cdd3be8daea0\"\n",
      "    },\n",
      "    \"@id\": \"local:N7d8a8bf7d30f4d6e859fe947b5c5f8ec\"\n",
      "}\n"
     ]
    }
   ],
   "source": [
    "with open('piv_challenge.jsonld', 'w') as f:\n",
    "    json_ld_str = ds.model_dump_jsonld(context={\"local\":\"https://example.org/\"}).replace(\"_:\", \"local:\")\n",
    "    f.write(json_ld_str)\n",
    "print(json_ld_str)"
   ]
  },
  {
   "cell_type": "markdown",
   "id": "6eb9939b-2c41-4d0c-b1cd-52bbb419f077",
   "metadata": {},
   "source": [
    "## Re-use the dataset\n",
    "\n",
    "Now, that we have written the metadata to the file, we would like to reuse it, i.e. identify specific data"
   ]
  },
  {
   "cell_type": "markdown",
   "id": "c2314b00-fad5-4302-8b47-f61648fa344c",
   "metadata": {},
   "source": [
    "### Find distribution within JSON-LD file"
   ]
  },
  {
   "cell_type": "code",
   "execution_count": 14,
   "id": "395c58b1-d3be-41ac-880c-44facadb4f2e",
   "metadata": {},
   "outputs": [],
   "source": [
    "import ontolutils"
   ]
  },
  {
   "cell_type": "code",
   "execution_count": 15,
   "id": "0442ce6b-6631-408a-88b4-3e6883889df1",
   "metadata": {},
   "outputs": [
    {
     "data": {
      "text/plain": [
       "{'id': 'https://example.org/N7d8a8bf7d30f4d6e859fe947b5c5f8ec',\n",
       " 'title': 'piv-challenge-1-C',\n",
       " 'description': 'Different velocity gradients with spatially varying image quality (provided by Okamoto) < synthetic > [256 x 128]',\n",
       " 'creator': {'id': '_:N6bb44ae68e734c3ca10f344828dc6c2b',\n",
       "  'mbox': 'pivnet-sig32@univ-lille1.fr',\n",
       "  'last_name': 'Stanislas',\n",
       "  '@id': 'https://example.org/N508c786de6da434a82d18e4c8def5bae',\n",
       "  '@type': 'http://www.w3.org/ns/prov#Person'},\n",
       " 'distribution': [{'@id': 'https://example.org/N389d3a2db2b7459fb326178563891e9f',\n",
       "   '@type': 'https://matthiasprobst.github.io/pivmeta#PIVImageDistribution',\n",
       "   'label': 'Raw PIV image data',\n",
       "   'title': 'Raw piv image data',\n",
       "   'downloadURL': 'https://www.pivchallenge.org/pub/C/C.zip',\n",
       "   'mediaType': 'https://www.iana.org/assignments/media-types/image/tiff',\n",
       "   'filenamePattern': 'C[0-9][0-9][0-9]_[1,2].tif',\n",
       "   'pivImageType': 'https://matthiasprobst.github.io/pivmeta#SyntheticImage',\n",
       "   'imageBitDepth': '8',\n",
       "   'numberOfRecords': '1'},\n",
       "  {'@id': 'https://example.org/N6559dbbabb0b4c909b698a88c71348dd',\n",
       "   '@type': 'https://matthiasprobst.github.io/pivmeta#PIVMaskDistribution',\n",
       "   'label': 'Mask file',\n",
       "   'title': 'Mask file',\n",
       "   'downloadURL': 'https://www.pivchallenge.org/pub/C/C.zip',\n",
       "   'mediaType': 'https://www.iana.org/assignments/media-types/image/tiff',\n",
       "   'filenamePattern': 'Cmask_1.tif'},\n",
       "  {'@id': 'https://example.org/Ne5a346c7e0304f54b770bed96e80fb23',\n",
       "   '@type': 'http://www.w3.org/ns/dcat#Distribution',\n",
       "   'label': 'README file',\n",
       "   'title': 'ReadMe file',\n",
       "   'downloadURL': 'https://www.pivchallenge.org/pub/E/readmeE.txt'}]}"
      ]
     },
     "execution_count": 15,
     "metadata": {},
     "output_type": "execute_result"
    }
   ],
   "source": [
    "loaded_ds = pivmeta.PIVDataset.from_jsonld(source='piv_challenge.jsonld', limit=1)\n",
    "loaded_ds.model_dump(exclude_none=True)"
   ]
  },
  {
   "cell_type": "code",
   "execution_count": 16,
   "id": "0a84a12c-ba5b-4357-80a9-9ae7e61eca2b",
   "metadata": {},
   "outputs": [
    {
     "data": {
      "text/html": [
       "Person(id=_:N6bb44ae68e734c3ca10f344828dc6c2b, mbox=pivnet-sig32@univ-lille1.fr, last_name=Stanislas, @id=https://example.org/N508c786de6da434a82d18e4c8def5bae, @type=http://www.w3.org/ns/prov#Person)"
      ],
      "text/plain": [
       "Person(id=_:N6bb44ae68e734c3ca10f344828dc6c2b, mbox=pivnet-sig32@univ-lille1.fr, last_name=Stanislas, @id=https://example.org/N508c786de6da434a82d18e4c8def5bae, @type=http://www.w3.org/ns/prov#Person)"
      ]
     },
     "execution_count": 16,
     "metadata": {},
     "output_type": "execute_result"
    }
   ],
   "source": [
    "loaded_ds.creator"
   ]
  },
  {
   "cell_type": "code",
   "execution_count": 17,
   "id": "e420e343-295a-4416-9af0-eeb554f2cd3c",
   "metadata": {},
   "outputs": [
    {
     "data": {
      "text/html": [
       "PIVImageDistribution(https://www.pivchallenge.org/pub/C/C.zip)"
      ],
      "text/plain": [
       "PIVImageDistribution(id=https://example.org/N389d3a2db2b7459fb326178563891e9f, label=Raw PIV image data, title=Raw piv image data, download_URL=https://www.pivchallenge.org/pub/C/C.zip, media_type=https://www.iana.org/assignments/media-types/image/tiff, filenamePattern=C[0-9][0-9][0-9]_[1,2].tif, piv_image_type=https://matthiasprobst.github.io/pivmeta#SyntheticImage, image_bit_depth=8, number_of_records=1)"
      ]
     },
     "execution_count": 17,
     "metadata": {},
     "output_type": "execute_result"
    }
   ],
   "source": [
    "image_dist = pivmeta.PIVImageDistribution.from_jsonld(source='piv_challenge.jsonld', limit=1)\n",
    "image_dist"
   ]
  },
  {
   "cell_type": "code",
   "execution_count": 18,
   "id": "b2c45147-d0ec-4d80-bb8a-ec27fca009cb",
   "metadata": {},
   "outputs": [
    {
     "name": "stdout",
     "output_type": "stream",
     "text": [
      "{'access_URL': None,\n",
      " 'byte_size': None,\n",
      " 'creator': None,\n",
      " 'description': None,\n",
      " 'download_URL': HttpUrl('https://www.pivchallenge.org/pub/C/C.zip'),\n",
      " 'filenamePattern': 'C[0-9][0-9][0-9]_[1,2].tif',\n",
      " 'id': 'https://example.org/N389d3a2db2b7459fb326178563891e9f',\n",
      " 'identifier': None,\n",
      " 'image_bit_depth': 8,\n",
      " 'keyword': None,\n",
      " 'label': 'Raw PIV image data',\n",
      " 'media_type': HttpUrl('https://www.iana.org/assignments/media-types/image/tiff'),\n",
      " 'number_of_records': 1,\n",
      " 'piv_image_type': 'https://matthiasprobst.github.io/pivmeta#SyntheticImage',\n",
      " 'title': 'Raw piv image data',\n",
      " 'version': None}\n"
     ]
    }
   ],
   "source": [
    "from pprint import pprint\n",
    "pprint(image_dist.model_dump())"
   ]
  },
  {
   "cell_type": "code",
   "execution_count": 19,
   "id": "98895025-b89e-4a48-8352-6224c25685a5",
   "metadata": {},
   "outputs": [],
   "source": [
    "zip_filename = image_dist.download(dest_filename='imgs.zip', overwrite_existing=False)"
   ]
  },
  {
   "cell_type": "code",
   "execution_count": 20,
   "id": "8b86e581-b4e7-4b81-9f1a-e53e3553fe6a",
   "metadata": {},
   "outputs": [],
   "source": [
    "import zipfile\n",
    "import pathlib\n",
    "\n",
    "with zipfile.ZipFile(zip_filename, 'r') as zip_ref:\n",
    "    zip_ref.extractall('imgs')"
   ]
  },
  {
   "cell_type": "code",
   "execution_count": 21,
   "id": "4adfe7fa-2c15-4c2b-8057-c3bd75cde80d",
   "metadata": {},
   "outputs": [
    {
     "data": {
      "text/plain": [
       "False"
      ]
     },
     "execution_count": 21,
     "metadata": {},
     "output_type": "execute_result"
    }
   ],
   "source": [
    "image_dist.is_synthetic()"
   ]
  },
  {
   "cell_type": "code",
   "execution_count": 22,
   "id": "f73bb55d-9025-4b90-ba68-0bd14c460d2d",
   "metadata": {},
   "outputs": [
    {
     "data": {
      "text/html": [
       "PIVMaskDistribution(https://www.pivchallenge.org/pub/C/C.zip)"
      ],
      "text/plain": [
       "PIVMaskDistribution(id=https://example.org/N6559dbbabb0b4c909b698a88c71348dd, label=Mask file, title=Mask file, download_URL=https://www.pivchallenge.org/pub/C/C.zip, media_type=https://www.iana.org/assignments/media-types/image/tiff, filenamePattern=Cmask_1.tif)"
      ]
     },
     "execution_count": 22,
     "metadata": {},
     "output_type": "execute_result"
    }
   ],
   "source": [
    "mask_dist = pivmeta.PIVMaskDistribution.from_jsonld(source='piv_challenge.jsonld', limit=1)\n",
    "mask_dist"
   ]
  },
  {
   "cell_type": "code",
   "execution_count": 23,
   "id": "51c2ab44-6eff-451e-b0ad-4b5ecc88fcfe",
   "metadata": {},
   "outputs": [
    {
     "data": {
      "text/plain": [
       "[WindowsPath('imgs/Cmask_1.tif')]"
      ]
     },
     "execution_count": 23,
     "metadata": {},
     "output_type": "execute_result"
    }
   ],
   "source": [
    "filenames = sorted(pathlib.Path('imgs').glob(mask_dist.filenamePattern))\n",
    "filenames"
   ]
  },
  {
   "cell_type": "code",
   "execution_count": null,
   "id": "5f7497f8-2dc5-4eb6-9d53-c46910d71c09",
   "metadata": {},
   "outputs": [],
   "source": []
  },
  {
   "cell_type": "code",
   "execution_count": null,
   "id": "3636ace7-f6cf-4781-a524-dd9bf9af9440",
   "metadata": {},
   "outputs": [],
   "source": []
  }
 ],
 "metadata": {
  "kernelspec": {
   "display_name": "Python 3 (ipykernel)",
   "language": "python",
   "name": "python3"
  },
  "language_info": {
   "codemirror_mode": {
    "name": "ipython",
    "version": 3
   },
   "file_extension": ".py",
   "mimetype": "text/x-python",
   "name": "python",
   "nbconvert_exporter": "python",
   "pygments_lexer": "ipython3",
   "version": "3.12.7"
  }
 },
 "nbformat": 4,
 "nbformat_minor": 5
}
