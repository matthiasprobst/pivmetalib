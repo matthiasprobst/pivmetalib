{
 "cells": [
  {
   "cell_type": "markdown",
   "id": "992bbf41-bfc8-45fa-ab30-53ad3e8d7f33",
   "metadata": {},
   "source": [
    "# Describing PIV recordings\n",
    "\n",
    "Let's say you recorded multiple PIV images and put them into a *ZIP* folder. The scenario is shown below. We will describe the data stored in the zip folder using linked-data syntax. The collection of PIV images is called a *dataset*. The information about it will be stored in a JSON-LD file:\n",
    "\n",
    "![piv_image_dataset_management](piv_image_dataset_management.svg)\n",
    "\n",
    "The [\"PIV Challenge\"](https://www.pivchallenge.org/) datasets will serve as real-world examples. We will describe one of them.\n",
    "\n",
    "Before we start, let's get clear about the vocabulary/semantic:\n",
    "\n",
    "We will use multiple vocabularies and ontologies. At the core, we will use the \"Data Catalog Vocabulary\" (dcat), which allows describing datasets. According to [dcat](https://www.w3.org/TR/vocab-dcat-2/), dataset and distribution, the main objects in our problem are described as follows:\n",
    "- *dcat:Dataset*: \"A collection of data, published or curated by a single agent, and available for access or download in one or more representations.\"\n",
    "- *dcat:Distribution*: \"A specific representation of a dataset. A dataset might be available in multiple serializations that may differ in various ways, including natural language, media-type or format, schematic organization, temporal and spatial resolution, level of detail or profiles (which might specify any or all of the above).\"\n",
    "\n",
    "Besides the description of file objects (*dcat:Distribution*), the dataset has many more properties, like the creator, a description and more such fields. We will add all this below."
   ]
  },
  {
   "cell_type": "markdown",
   "id": "9b0d5de4-8cc8-4297-8d1b-288c52ba23e3",
   "metadata": {},
   "source": [
    "## Imports\n",
    "\n",
    "We will import some namespace modules, which are provided by `pivmetalib`. All these namespace modules contain classes representing the concepts of their ontology. E.g. `prov` contains the class `Person` and describes [*prov:Person*](https://www.w3.org/ns/prov#Person). The most important properties of a person, such as the first and last name, the email or a researcher ID is implemented as class attributes. Learn more bout in the [GettingStarted Notebook](./GettingStarted.ipynb)"
   ]
  },
  {
   "cell_type": "code",
   "execution_count": 1,
   "id": "14074578-6945-4188-8458-359a345187f2",
   "metadata": {},
   "outputs": [],
   "source": [
    "from pivmetalib import PIV\n",
    "from pivmetalib import prov, dcat, pivmeta, m4i"
   ]
  },
  {
   "cell_type": "markdown",
   "id": "d38eb062-8db6-4b71-9d8c-fe083eb80049",
   "metadata": {},
   "source": [
    "## Data collection\n",
    "\n",
    "We refer to the [PIV-Challenge](https://www.pivchallenge.org/pub/) website for all information, i.e. data and metadata. Much is written in the README file, but some metadata is also available in the HTML text - you get the problem of scattered data! Using **Case C** as an example, we want to write the metadata using semantic technologies.\n",
    "\n",
    "Here is a (probably incomplete) list of metadata:\n",
    "- case/dataset name: \"C\"\n",
    "- description: \"Strong wall reflection in an impeller (background images and mask are provided), (provided by Stanislas)\"\n",
    "- long description from README: \"The set of images is referenced C001_1.tif and C001_2.tif...The two white circles are the two edges of the fixed vaneless diffuser.\"\n",
    "- image type: \"real\"\n",
    "- number of sets: \"1 + 2bg + 1 msk\"\n",
    "- author(s): \"Stanislas\"\n",
    "- camera characteristics (see README): \"Type: KODAK ES1.0 b & w.....Acquisition software\tINSIGHT 2.10.\"\n",
    "\n",
    "The challenge is to translate this into to a common language so that datasets become comparable, also from other sources. This is exactly what the `PIVMeta`-ontology achieves. Let's dive into building an interoperable description of the dataset:"
   ]
  },
  {
   "cell_type": "markdown",
   "id": "355cb814-8989-40e6-a0f9-cfb1e1639909",
   "metadata": {},
   "source": [
    "## Before we start - a word on Standard Names\n",
    "\n",
    "We will use numerical variables to describe some of the properties and settings of the PIV measurement. Those values are of great importance for the understanding of the experiment and analysis, respectively. It is therefore important to get the naming right. A precise way of doing this is, by assigning variables to a well-defined standard name, which is documented in a standard name table online (see more about it [here](https://matthiasprobst.github.io/ssno/))\n",
    "\n",
    "Let's download one such standard name. We will use it in the process of describing the data:"
   ]
  },
  {
   "cell_type": "code",
   "execution_count": 2,
   "id": "3b2d073a-042b-49b0-9b9d-2e9e496f9db0",
   "metadata": {},
   "outputs": [],
   "source": [
    "from ssnolib import StandardNameTable\n",
    "\n",
    "snt = StandardNameTable.download(url=\"https://zenodo.org/records/14175299/files/Standard_Name_Table_for_Particle_Image_Velociemtry_data.jsonld?download=1\", fmt=\"jsonld\")\n",
    "standard_names = snt.get_standard_names_as_frozen_dataclass()"
   ]
  },
  {
   "cell_type": "markdown",
   "id": "242551e3-7dee-4d3f-bf44-2c53e7f63b7a",
   "metadata": {},
   "source": [
    "## Describe the setup\n",
    "\n",
    "Essentially, the most importent components are the camera (optics+sensor) and the laser:"
   ]
  },
  {
   "cell_type": "markdown",
   "id": "00171555-b3ce-43d1-a92d-3eb0e78447b3",
   "metadata": {},
   "source": [
    "For the **camera**, we are interested in the number and size of the pixel as well as the used lens. Properties of a tool like a camera can be described via [m4i:m4i.NumericalVariable](https://nfdi4ing.pages.rwth-aachen.de/metadata4ing/metadata4ing/index.html#m4i.NumericalVariable). \n",
    "\n",
    "We know the **sensor width and pixel size**:"
   ]
  },
  {
   "cell_type": "code",
   "execution_count": 3,
   "id": "3b4e36eb-b692-4647-9ce0-e7e7fdfe0e15",
   "metadata": {},
   "outputs": [],
   "source": [
    "sensor_width = m4i.NumericalVariable(\n",
    "    hasNumericalValue=1008,\n",
    "    label=\"sensor width\",\n",
    "    standard_name=standard_names.sensor_pixel_width\n",
    ")\n",
    "sensor_height = m4i.NumericalVariable(\n",
    "    hasNumericalValue=1008,\n",
    "    label=\"sensor height\",\n",
    "    standard_name=standard_names.sensor_pixel_height\n",
    ")\n",
    "\n",
    "pixel_width = m4i.NumericalVariable(\n",
    "    hasNumericalValue=9.072,\n",
    "    hasUnit='um',\n",
    "    hasStandardName=standard_names.ccd_width\n",
    ")\n",
    "pixel_height = m4i.NumericalVariable(\n",
    "    hasNumericalValue=9.072,\n",
    "    hasUnit='um',\n",
    "    hasStandardName=standard_names.ccd_height\n",
    ")"
   ]
  },
  {
   "cell_type": "markdown",
   "id": "8a2c0c5e-e064-43cb-b847-f009d03ad3bb",
   "metadata": {},
   "source": [
    "The objective can be described using the `pivmeta:Objective` class:"
   ]
  },
  {
   "cell_type": "code",
   "execution_count": 4,
   "id": "ab21ac48-c712-4b03-9191-bad097749d1a",
   "metadata": {},
   "outputs": [
    {
     "data": {
      "text/html": [
       "StandardName(id=https://doi.org/10.5281/zenodo.14175299/Naaaa330cd3d947e1934fabc59839d3db, standardName=focal_length, unit=http://qudt.org/vocab/unit/M, description=The focal length. See also https://www.wikidata.org/wiki/Q193540.)"
      ],
      "text/plain": [
       "StandardName(id=https://doi.org/10.5281/zenodo.14175299/Naaaa330cd3d947e1934fabc59839d3db, standardName=focal_length, unit=http://qudt.org/vocab/unit/M, description=The focal length. See also https://www.wikidata.org/wiki/Q193540.)"
      ]
     },
     "execution_count": 4,
     "metadata": {},
     "output_type": "execute_result"
    }
   ],
   "source": [
    "objective = pivmeta.Objective(\n",
    "    label=\"Nikkor\",\n",
    "    fnumber='f/2',\n",
    "    hasParameter=[\n",
    "        m4i.NumericalVariable(\n",
    "            label='focal length',\n",
    "            hasNumericalValue=9.072,\n",
    "            hasUnit='mm',\n",
    "            hasStandardName=standard_names.focal_length\n",
    "        )\n",
    "    ]\n",
    ")\n",
    "standard_names.focal_length"
   ]
  },
  {
   "cell_type": "code",
   "execution_count": 5,
   "id": "1745b3e4-d42e-4cf2-b9a5-0592477e7ca7",
   "metadata": {},
   "outputs": [
    {
     "name": "stdout",
     "output_type": "stream",
     "text": [
      "NumericalVariable(id=_:Nafe0988852ae48cc9409b516c8954dac, label=focal length, hasUnit=mm, hasNumericalValue=9.072, hasStandardName=focal_length)\n"
     ]
    }
   ],
   "source": [
    "print(objective.hasParameter[0])"
   ]
  },
  {
   "cell_type": "markdown",
   "id": "ade400cc-a634-4318-9b18-8005237f223b",
   "metadata": {},
   "source": [
    "Finally, we can describe the **camera as a tool** with three parameters and another tool (the objective) which is part of it:"
   ]
  },
  {
   "cell_type": "code",
   "execution_count": 6,
   "id": "4451f1e5-ea37-4b55-915e-ab39fd077457",
   "metadata": {
    "scrolled": true
   },
   "outputs": [
    {
     "name": "stdout",
     "output_type": "stream",
     "text": [
      "@prefix m4i: <http://w3id.org/nfdi4ing/metadata4ing#> .\n",
      "@prefix pivmeta: <https://matthiasprobst.github.io/pivmeta#> .\n",
      "@prefix rdfs: <http://www.w3.org/2000/01/rdf-schema#> .\n",
      "@prefix ssno: <https://matthiasprobst.github.io/ssno#> .\n",
      "@prefix xsd: <http://www.w3.org/2001/XMLSchema#> .\n",
      "\n",
      "<https://doi.org/10.5281/zenodo.14175299/N6be920c790c74bb681a33dd27834c45c> a ssno:StandardName ;\n",
      "    ssno:description \"The width of a ccd pixel.\" ;\n",
      "    ssno:standardName \"ccd_width\" ;\n",
      "    ssno:unit \"http://qudt.org/vocab/unit/M\" .\n",
      "\n",
      "<https://doi.org/10.5281/zenodo.14175299/Nbf8a2a0f1884418fad849cb96f9072c5> a ssno:StandardName ;\n",
      "    ssno:description \"The height of a ccd pixel.\" ;\n",
      "    ssno:standardName \"ccd_height\" ;\n",
      "    ssno:unit \"http://qudt.org/vocab/unit/M\" .\n",
      "\n",
      "[] a pivmeta:DigitalCamera ;\n",
      "    rdfs:label \"KODAK ES1.0 b & w\" ;\n",
      "    m4i:hasParameter [ a m4i:NumericalVariable ;\n",
      "            m4i:hasNumericalValue 9.072e+00 ;\n",
      "            m4i:hasUnit \"um\" ;\n",
      "            ssno:hasStandardName <https://doi.org/10.5281/zenodo.14175299/Nbf8a2a0f1884418fad849cb96f9072c5> ],\n",
      "        [ a m4i:NumericalVariable ;\n",
      "            rdfs:label \"sensor height\" ;\n",
      "            m4i:hasNumericalValue 1.008e+03 ],\n",
      "        [ a m4i:NumericalVariable ;\n",
      "            m4i:hasNumericalValue 9.072e+00 ;\n",
      "            m4i:hasUnit \"um\" ;\n",
      "            ssno:hasStandardName <https://doi.org/10.5281/zenodo.14175299/N6be920c790c74bb681a33dd27834c45c> ],\n",
      "        [ a m4i:NumericalVariable ;\n",
      "            rdfs:label \"sensor width\" ;\n",
      "            m4i:hasNumericalValue 1.008e+03 ] .\n",
      "\n",
      "\n"
     ]
    }
   ],
   "source": [
    "camera = pivmeta.DigitalCamera(  # is a subclass of m4i.Tool, so use hasParameter\n",
    "    label='KODAK ES1.0 b & w',\n",
    "    hasParameter=[sensor_width, sensor_height, pixel_width, pixel_height],\n",
    "    hasPart=objective\n",
    ")\n",
    "print(camera.serialize(\"ttl\", context={\"ssno\": \"https://matthiasprobst.github.io/ssno#\"}))"
   ]
  },
  {
   "cell_type": "markdown",
   "id": "0e21fd07-8a4d-43ae-8634-acc3c90bc547",
   "metadata": {},
   "source": [
    "Now, let's describe the complete dataset:"
   ]
  },
  {
   "cell_type": "code",
   "execution_count": 7,
   "id": "92ff30d7-2640-4cd0-9c2b-4228677139f1",
   "metadata": {},
   "outputs": [],
   "source": [
    "piv_setup = pivmeta.Setup(haspart=[camera,])"
   ]
  },
  {
   "cell_type": "markdown",
   "id": "6c2216e2-4985-429c-ab6e-d59c8dbebb88",
   "metadata": {},
   "source": [
    "## Author"
   ]
  },
  {
   "cell_type": "code",
   "execution_count": 8,
   "id": "e5e9a7fc-fcb4-4430-b600-cc25d9060ef6",
   "metadata": {},
   "outputs": [
    {
     "data": {
      "text/html": [
       "Person(id=_:N725ee015aab547df890a22cc0ea87383, mbox=pivnet-sig32@univ-lille1.fr, lastName=Stanislas)"
      ],
      "text/plain": [
       "Person(id=_:N725ee015aab547df890a22cc0ea87383, mbox=pivnet-sig32@univ-lille1.fr, lastName=Stanislas)"
      ]
     },
     "execution_count": 8,
     "metadata": {},
     "output_type": "execute_result"
    }
   ],
   "source": [
    "creator = prov.Person(\n",
    "    lastName='Stanislas',\n",
    "    mbox=\"pivnet-sig32@univ-lille1.fr\"\n",
    ")\n",
    "creator"
   ]
  },
  {
   "cell_type": "code",
   "execution_count": 9,
   "id": "3f51d9a7-e2b3-4b83-8d00-16989bd20cb8",
   "metadata": {},
   "outputs": [],
   "source": [
    "image_bit_depth = m4i.NumericalVariable(label=\"bit depth\", hasNumericalValue=8)"
   ]
  },
  {
   "cell_type": "code",
   "execution_count": 10,
   "id": "1eacfb97-fad6-4abd-bd8f-d6b24d267e04",
   "metadata": {},
   "outputs": [
    {
     "name": "stdout",
     "output_type": "stream",
     "text": [
      "@prefix dcat: <http://www.w3.org/ns/dcat#> .\n",
      "@prefix dcterms: <http://purl.org/dc/terms/> .\n",
      "@prefix foaf: <http://xmlns.com/foaf/0.1/> .\n",
      "@prefix m4i: <http://w3id.org/nfdi4ing/metadata4ing#> .\n",
      "@prefix pivmeta: <https://matthiasprobst.github.io/pivmeta#> .\n",
      "@prefix prov: <http://www.w3.org/ns/prov#> .\n",
      "@prefix rdfs: <http://www.w3.org/2000/01/rdf-schema#> .\n",
      "@prefix xsd: <http://www.w3.org/2001/XMLSchema#> .\n",
      "\n",
      "[] a pivmeta:ImageVelocimetryDataset ;\n",
      "    dcterms:creator [ a prov:Person ;\n",
      "            foaf:lastName \"Stanislas\" ;\n",
      "            foaf:mbox \"pivnet-sig32@univ-lille1.fr\" ] ;\n",
      "    dcterms:description \"Different velocity gradients with spatially varying image quality (provided by Okamoto) < synthetic > [256 x 128]\" ;\n",
      "    dcterms:modified \"2000-10-28T00:00:00\" ;\n",
      "    dcterms:title \"piv-challenge-1-C\" ;\n",
      "    dcat:distribution [ a pivmeta:ImageVelocimetryDistribution ;\n",
      "            dcterms:title \"Mask file\" ;\n",
      "            dcat:accessURL \"https://www.pivchallenge.org/pub\" ;\n",
      "            dcat:downloadURL \"https://www.pivchallenge.org/pub/C/C.zip\" ;\n",
      "            dcat:mediaType \"https://www.iana.org/assignments/media-types/image/tiff\" ],\n",
      "        [ a pivmeta:ImageVelocimetryDistribution ;\n",
      "            dcterms:title \"Raw piv image data\" ;\n",
      "            dcat:accessURL \"https://www.pivchallenge.org/pub\" ;\n",
      "            dcat:downloadURL \"https://www.pivchallenge.org/pub/C/C.zip\" ;\n",
      "            dcat:mediaType \"https://www.iana.org/assignments/media-types/image/tiff\" ;\n",
      "            pivmeta:filenamePattern \"C[0-9][0-9][0-9]_[1,2].tif\" ;\n",
      "            pivmeta:hasMetric [ a m4i:NumericalVariable ;\n",
      "                    rdfs:label \"bit depth\" ;\n",
      "                    m4i:hasNumericalValue 8e+00 ] ] ;\n",
      "    dcat:landingPage \"https://www.pivchallenge.org/pub/index.html#c\" .\n",
      "\n",
      "\n"
     ]
    }
   ],
   "source": [
    "ds = pivmeta.ImageVelocimetryDataset(\n",
    "    title='piv-challenge-1-C',\n",
    "    creator=creator,\n",
    "    modified=\"2000-10-28\",\n",
    "    landingPage=\"https://www.pivchallenge.org/pub/index.html#c\",\n",
    "    description=\"Different velocity gradients with spatially varying image quality (provided by Okamoto) < synthetic > [256 x 128]\",\n",
    "    hasPart=piv_setup,\n",
    "    distribution=[\n",
    "        pivmeta.ImageVelocimetryDistribution(\n",
    "            title='Raw piv image data',\n",
    "            accessURL='https://www.pivchallenge.org/pub',\n",
    "            downloadURL='https://www.pivchallenge.org/pub/C/C.zip',\n",
    "            mediaType='https://www.iana.org/assignments/media-types/image/tiff',\n",
    "            compressedFormat='application/zip',\n",
    "            isPIVDistributionType=[PIV.SyntheticImage, PIV.Image],\n",
    "            numberOfRecords=1,  # It contains one double image\n",
    "            filenamePattern=r\"C[0-9][0-9][0-9]_[1,2].tif\",  # the regex for the filename\n",
    "            hasMetric=image_bit_depth\n",
    "        ),\n",
    "        pivmeta.ImageVelocimetryDistribution(\n",
    "            title='Mask file',\n",
    "            isPIVDistributionType=PIV.Mask,\n",
    "            accessURL='https://www.pivchallenge.org/pub',\n",
    "            downloadURL='https://www.pivchallenge.org/pub/C/C.zip',\n",
    "            compressedFormat='application/zip',  # https://www.w3.org/TR/vocab-dcat-2/#Property:distribution_compression_format\n",
    "            mediaType='https://www.iana.org/assignments/media-types/image/tiff'\n",
    "        ),\n",
    "        # dcat.Distribution(\n",
    "        #     label='README file',\n",
    "        #     title='ReadMe file',\n",
    "        #     accessURL='https://www.pivchallenge.org/pub',\n",
    "        #     downloadURL='https://www.pivchallenge.org/pub/E/readmeE.txt'\n",
    "        # ),\n",
    "    ]\n",
    ")\n",
    "print(ds.serialize(format=\"ttl\"))"
   ]
  },
  {
   "cell_type": "markdown",
   "id": "e9dba1ce-0972-40de-893b-d0057e66e101",
   "metadata": {},
   "source": [
    "## Export to JSON-LD\n",
    "\n",
    "The dataset python object can be written to JSON-LD like so:"
   ]
  },
  {
   "cell_type": "code",
   "execution_count": 11,
   "id": "37b97566-0949-40f8-847a-24b8260d305b",
   "metadata": {},
   "outputs": [
    {
     "name": "stdout",
     "output_type": "stream",
     "text": [
      "{\n",
      "    \"@context\": {\n",
      "        \"owl\": \"http://www.w3.org/2002/07/owl#\",\n",
      "        \"rdfs\": \"http://www.w3.org/2000/01/rdf-schema#\",\n",
      "        \"dcat\": \"http://www.w3.org/ns/dcat#\",\n",
      "        \"dcterms\": \"http://purl.org/dc/terms/\",\n",
      "        \"prov\": \"http://www.w3.org/ns/prov#\",\n",
      "        \"pivmeta\": \"https://matthiasprobst.github.io/pivmeta#\",\n",
      "        \"local\": \"https://example.org/\",\n",
      "        \"foaf\": \"http://xmlns.com/foaf/0.1/\",\n",
      "        \"m4i\": \"http://w3id.org/nfdi4ing/metadata4ing#\",\n",
      "        \"schema\": \"https://schema.org/\",\n",
      "        \"pims\": \"http://www.molmod.info/semantics/pims-ii.ttl#\",\n",
      "        \"ssno\": \"https://matthiasprobst.github.io/ssno#\",\n",
      "        \"obo\": \"http://purl.obolibrary.org/obo/\",\n",
      "        \"skos\": \"http://www.w3.org/2004/02/skos/core#\"\n",
      "    },\n",
      "    \"@type\": \"pivmeta:ImageVelocimetryDataset\",\n",
      "    \"dcterms:title\": \"piv-challenge-1-C\",\n",
      "    \"dcterms:description\": \"Different velocity gradients with spatially varying image quality (provided by Okamoto) < synthetic > [256 x 128]\",\n",
      "    \"dcterms:creator\": {\n",
      "        \"@type\": \"prov:Person\",\n",
      "        \"foaf:mbox\": \"pivnet-sig32@univ-lille1.fr\",\n",
      "        \"foaf:lastName\": \"Stanislas\",\n",
      "        \"@id\": \"local:N725ee015aab547df890a22cc0ea87383\"\n",
      "    },\n",
      "    \"dcat:distribution\": [\n",
      "        {\n",
      "            \"@type\": \"pivmeta:ImageVelocimetryDistribution\",\n",
      "            \"dcterms:title\": \"Raw piv image data\",\n",
      "            \"dcat:downloadURL\": \"https://www.pivchallenge.org/pub/C/C.zip\",\n",
      "            \"dcat:accessURL\": \"https://www.pivchallenge.org/pub\",\n",
      "            \"dcat:mediaType\": \"https://www.iana.org/assignments/media-types/image/tiff\",\n",
      "            \"pivmeta:filenamePattern\": \"C[0-9][0-9][0-9]_[1,2].tif\",\n",
      "            \"pivmeta:hasMetric\": {\n",
      "                \"@type\": \"m4i:NumericalVariable\",\n",
      "                \"rdfs:label\": \"bit depth\",\n",
      "                \"m4i:hasNumericalValue\": 8.0,\n",
      "                \"@id\": \"local:Nee54622d5fc5438c9859c123cd2028e9\"\n",
      "            },\n",
      "            \"compressedFormat\": \"application/zip\",\n",
      "            \"isPIVDistributionType\": [\n",
      "                \"https://matthiasprobst.github.io/pivmeta#SyntheticImage\",\n",
      "                \"https://matthiasprobst.github.io/pivmeta#Image\"\n",
      "            ],\n",
      "            \"numberOfRecords\": 1,\n",
      "            \"@id\": \"local:N1db4e22fb34a4f08b735f53d8c300a92\"\n",
      "        },\n",
      "        {\n",
      "            \"@type\": \"pivmeta:ImageVelocimetryDistribution\",\n",
      "            \"dcterms:title\": \"Mask file\",\n",
      "            \"dcat:downloadURL\": \"https://www.pivchallenge.org/pub/C/C.zip\",\n",
      "            \"dcat:accessURL\": \"https://www.pivchallenge.org/pub\",\n",
      "            \"dcat:mediaType\": \"https://www.iana.org/assignments/media-types/image/tiff\",\n",
      "            \"isPIVDistributionType\": \"https://matthiasprobst.github.io/pivmeta#Mask\",\n",
      "            \"compressedFormat\": \"application/zip\",\n",
      "            \"@id\": \"local:N06f830232e4343d78f80c97f29352c32\"\n",
      "        }\n",
      "    ],\n",
      "    \"dcterms:modified\": \"2000-10-28T00:00:00\",\n",
      "    \"dcat:landingPage\": \"https://www.pivchallenge.org/pub/index.html#c\",\n",
      "    \"hasPart\": {\n",
      "        \"@type\": \"pivmeta:Setup\",\n",
      "        \"haspart\": [\n",
      "            {\n",
      "                \"@type\": \"pivmeta:DigitalCamera\",\n",
      "                \"rdfs:label\": \"KODAK ES1.0 b & w\",\n",
      "                \"m4i:hasParameter\": [\n",
      "                    {\n",
      "                        \"@type\": \"m4i:NumericalVariable\",\n",
      "                        \"rdfs:label\": \"sensor width\",\n",
      "                        \"m4i:hasNumericalValue\": 1008.0,\n",
      "                        \"standard_name\": {\n",
      "                            \"@type\": \"ssno:StandardName\",\n",
      "                            \"ssno:standardName\": \"sensor_pixel_width\",\n",
      "                            \"ssno:unit\": \"http://qudt.org/vocab/unit/M\",\n",
      "                            \"ssno:description\": \"The width of the sensor in pixel.\",\n",
      "                            \"@id\": \"https://doi.org/10.5281/zenodo.14175299/N604dbc5c900c4c70a06d20bc020c8795\"\n",
      "                        },\n",
      "                        \"@id\": \"local:Nca3c3a0c692a45ffb1217ea29852c6b5\"\n",
      "                    },\n",
      "                    {\n",
      "                        \"@type\": \"m4i:NumericalVariable\",\n",
      "                        \"rdfs:label\": \"sensor height\",\n",
      "                        \"m4i:hasNumericalValue\": 1008.0,\n",
      "                        \"standard_name\": {\n",
      "                            \"@type\": \"ssno:StandardName\",\n",
      "                            \"ssno:standardName\": \"sensor_pixel_height\",\n",
      "                            \"ssno:unit\": \"http://qudt.org/vocab/unit/M\",\n",
      "                            \"ssno:description\": \"The height of the sensor in pixel.\",\n",
      "                            \"@id\": \"https://doi.org/10.5281/zenodo.14175299/Ne865f8ced89c48399457cc32366d6376\"\n",
      "                        },\n",
      "                        \"@id\": \"local:N1286729236bc4361b2650528f0564cbe\"\n",
      "                    },\n",
      "                    {\n",
      "                        \"@type\": \"m4i:NumericalVariable\",\n",
      "                        \"m4i:hasUnit\": \"um\",\n",
      "                        \"m4i:hasNumericalValue\": 9.072,\n",
      "                        \"ssno:hasStandardName\": {\n",
      "                            \"@type\": \"ssno:StandardName\",\n",
      "                            \"ssno:standardName\": \"ccd_width\",\n",
      "                            \"ssno:unit\": \"http://qudt.org/vocab/unit/M\",\n",
      "                            \"ssno:description\": \"The width of a ccd pixel.\",\n",
      "                            \"@id\": \"https://doi.org/10.5281/zenodo.14175299/N6be920c790c74bb681a33dd27834c45c\"\n",
      "                        },\n",
      "                        \"@id\": \"local:Na4bd9809d0d547e18da2239436eb36ac\"\n",
      "                    },\n",
      "                    {\n",
      "                        \"@type\": \"m4i:NumericalVariable\",\n",
      "                        \"m4i:hasUnit\": \"um\",\n",
      "                        \"m4i:hasNumericalValue\": 9.072,\n",
      "                        \"ssno:hasStandardName\": {\n",
      "                            \"@type\": \"ssno:StandardName\",\n",
      "                            \"ssno:standardName\": \"ccd_height\",\n",
      "                            \"ssno:unit\": \"http://qudt.org/vocab/unit/M\",\n",
      "                            \"ssno:description\": \"The height of a ccd pixel.\",\n",
      "                            \"@id\": \"https://doi.org/10.5281/zenodo.14175299/Nbf8a2a0f1884418fad849cb96f9072c5\"\n",
      "                        },\n",
      "                        \"@id\": \"local:N099e193f89244b23acec7e41dc702380\"\n",
      "                    }\n",
      "                ],\n",
      "                \"@id\": \"local:N22dac6b70e7d4407beb925ce24879256\"\n",
      "            }\n",
      "        ],\n",
      "        \"@id\": \"local:N41fe1af420684388ab79b5f54e0a4f00\"\n",
      "    },\n",
      "    \"@id\": \"local:N2b6f5da73de24c2d86b717338f2494bb\"\n",
      "}\n"
     ]
    }
   ],
   "source": [
    "with open('piv_challenge.jsonld', 'w') as f:\n",
    "    json_ld_str = ds.model_dump_jsonld(context={\"local\":\"https://example.org/\"}).replace(\"_:\", \"local:\")\n",
    "    f.write(json_ld_str)\n",
    "print(json_ld_str)"
   ]
  },
  {
   "cell_type": "markdown",
   "id": "cf95981f-b675-4732-aead-3400c9e96e6b",
   "metadata": {},
   "source": [
    "# Integrate into the broader context\n",
    "\n",
    "The dataset we described is part of the PIV-Challenge. As the data is hosted on the website https://www.pivchallenge.org with many other datasets per PIV-Challenge-Event we can define it as a data catalog ([dcat:Catalog](https://www.w3.org/TR/vocab-dcat-3/#Class:Catalog)).\n",
    "\n",
    "`pivmealib` does not provide this class (maybe in the future). But we can build a class for it (see also [this figure](https://www.w3.org/TR/vocab-dcat-3/#fig-dcat-all-attributes)):"
   ]
  },
  {
   "cell_type": "code",
   "execution_count": 12,
   "id": "7e67166c-5d3c-47ee-a97e-93602bfc2a26",
   "metadata": {},
   "outputs": [],
   "source": [
    "from rdflib import DCAT\n",
    "from typing import Union, List\n",
    "from pivmetalib.dcat import Dataset\n",
    "from ontolutils import Thing\n",
    "from pydantic import HttpUrl\n",
    "\n",
    "Event = Thing.build(\n",
    "    namespace=\"https://schema.org/\",\n",
    "    namespace_prefix=\"schema\",\n",
    "    class_name=\"Event\",\n",
    "    properties=[\n",
    "        dict(name=\"location\", property_type=str),\n",
    "        dict(name=\"startDate\", property_type=str),\n",
    "    ]\n",
    ")\n",
    "\n",
    "Catalog = dcat.Resource.build(\n",
    "    namespace=str(DCAT),\n",
    "    namespace_prefix=\"dcat\",\n",
    "    class_name=\"Catalog\",\n",
    "    properties=[\n",
    "        dict(name=\"dataset\", property_type=Union[Dataset, List[Dataset], pivmeta.ImageVelocimetryDataset]),\n",
    "        dict(name=\"homepage\", property_type=HttpUrl, namespace=\"https://schema.org/\", namespace_prefix=\"schema\"),\n",
    "        dict(name=\"relation\", property_type=Thing, namespace=\"http://purl.org/dc/terms/\", namespace_prefix=\"dct\"),\n",
    "    ]\n",
    ")"
   ]
  },
  {
   "cell_type": "code",
   "execution_count": 13,
   "id": "95a8f308-8bee-4a95-b639-5c9e20f3299e",
   "metadata": {},
   "outputs": [
    {
     "name": "stdout",
     "output_type": "stream",
     "text": [
      "@prefix dcat: <http://www.w3.org/ns/dcat#> .\n",
      "@prefix dct: <http://purl.org/dc/terms/> .\n",
      "@prefix foaf: <http://xmlns.com/foaf/0.1/> .\n",
      "@prefix m4i: <http://w3id.org/nfdi4ing/metadata4ing#> .\n",
      "@prefix pivmeta: <https://matthiasprobst.github.io/pivmeta#> .\n",
      "@prefix prov: <http://www.w3.org/ns/prov#> .\n",
      "@prefix rdfs: <http://www.w3.org/2000/01/rdf-schema#> .\n",
      "@prefix schema: <https://schema.org/> .\n",
      "@prefix xsd: <http://www.w3.org/2001/XMLSchema#> .\n",
      "\n",
      "[] a dcat:Catalog ;\n",
      "    dct:relation [ a schema:Event ;\n",
      "            rdfs:label \"1st PIV Challenge (Sept.14-15, 2001, Göttingen, Germany)\" ;\n",
      "            schema:location \"Göttingen, Germany\" ;\n",
      "            schema:startDate \"2001-9-14\" ] ;\n",
      "    dcat:dataset [ a pivmeta:ImageVelocimetryDataset ;\n",
      "            dct:creator [ a prov:Person ;\n",
      "                    foaf:lastName \"Stanislas\" ;\n",
      "                    foaf:mbox \"pivnet-sig32@univ-lille1.fr\" ] ;\n",
      "            dct:description \"Different velocity gradients with spatially varying image quality (provided by Okamoto) < synthetic > [256 x 128]\" ;\n",
      "            dct:modified \"2000-10-28T00:00:00\" ;\n",
      "            dct:title \"piv-challenge-1-C\" ;\n",
      "            dcat:distribution [ a pivmeta:ImageVelocimetryDistribution ;\n",
      "                    dct:title \"Mask file\" ;\n",
      "                    dcat:accessURL \"https://www.pivchallenge.org/pub\" ;\n",
      "                    dcat:downloadURL \"https://www.pivchallenge.org/pub/C/C.zip\" ;\n",
      "                    dcat:mediaType \"https://www.iana.org/assignments/media-types/image/tiff\" ],\n",
      "                [ a pivmeta:ImageVelocimetryDistribution ;\n",
      "                    dct:title \"Raw piv image data\" ;\n",
      "                    dcat:accessURL \"https://www.pivchallenge.org/pub\" ;\n",
      "                    dcat:downloadURL \"https://www.pivchallenge.org/pub/C/C.zip\" ;\n",
      "                    dcat:mediaType \"https://www.iana.org/assignments/media-types/image/tiff\" ;\n",
      "                    pivmeta:filenamePattern \"C[0-9][0-9][0-9]_[1,2].tif\" ;\n",
      "                    pivmeta:hasMetric [ a m4i:NumericalVariable ;\n",
      "                            rdfs:label \"bit depth\" ;\n",
      "                            m4i:hasNumericalValue 8e+00 ] ] ;\n",
      "            dcat:landingPage \"https://www.pivchallenge.org/pub/index.html#c\" ] ;\n",
      "    schema:homepage \"https://www.pivchallenge.org/\" .\n",
      "\n",
      "\n"
     ]
    }
   ],
   "source": [
    "from datetime import datetime\n",
    "\n",
    "first_challenge = Event(\n",
    "    label=\"1st PIV Challenge (Sept.14-15, 2001, Göttingen, Germany)\",\n",
    "    location=\"Göttingen, Germany\",\n",
    "    startDate=\"2001-9-14\"\n",
    ")\n",
    "catalog = Catalog(dataset=ds, homepage=\"https://www.pivchallenge.org\", relation=first_challenge)\n",
    "print(catalog.serialize(\"ttl\"))"
   ]
  },
  {
   "cell_type": "code",
   "execution_count": null,
   "id": "e9292820-cf4e-4bf2-8e8f-127750dfa4e3",
   "metadata": {},
   "outputs": [],
   "source": []
  }
 ],
 "metadata": {
  "kernelspec": {
   "display_name": "Python 3 (ipykernel)",
   "language": "python",
   "name": "python3"
  },
  "language_info": {
   "codemirror_mode": {
    "name": "ipython",
    "version": 3
   },
   "file_extension": ".py",
   "mimetype": "text/x-python",
   "name": "python",
   "nbconvert_exporter": "python",
   "pygments_lexer": "ipython3",
   "version": "3.12.7"
  }
 },
 "nbformat": 4,
 "nbformat_minor": 5
}
