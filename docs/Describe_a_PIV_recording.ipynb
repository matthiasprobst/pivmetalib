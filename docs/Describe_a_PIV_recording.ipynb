{
 "cells": [
  {
   "cell_type": "markdown",
   "id": "992bbf41-bfc8-45fa-ab30-53ad3e8d7f33",
   "metadata": {},
   "source": [
    "# Describe a PIV recording\n",
    "\n",
    "Let's say you recorded multiple PIV images and put them into a *ZIP* folder. The scenario is shown below. We will describe the data stored in the zip folder using linked-data syntax. The collection of PIV images is called a *dataset*. The information about it will be stored in a JSON-LD file:\n",
    "\n",
    "![piv_image_dataset_management](piv_image_dataset_management.svg)\n",
    "\n",
    "The [\"PIV Challenge\"](https://www.pivchallenge.org/) datasets will serve as real-world examples. We will describe one of them.\n",
    "\n",
    "Before we start, let's get clear about the vocabulary/semantic:\n",
    "\n",
    "We will use multiple vocabularies and ontologies. At the core, we will use the \"Data Catalog Vocabulary\" (dcat), which allows describing datasets. According to [dcat](https://www.w3.org/TR/vocab-dcat-2/), dataset and distribution, the main objects in our problem are described as follows:\n",
    "- *dcat:Dataset*: \"A collection of data, published or curated by a single agent, and available for access or download in one or more representations.\"\n",
    "- *dcat:Distribution*: \"A specific representation of a dataset. A dataset might be available in multiple serializations that may differ in various ways, including natural language, media-type or format, schematic organization, temporal and spatial resolution, level of detail or profiles (which might specify any or all of the above).\"\n",
    "\n",
    "Besides the description of file objects (*dcat:Distribution*), the dataset has many more properties, like the creator, a description and more such fields. We will add all this below."
   ]
  },
  {
   "cell_type": "markdown",
   "id": "9b0d5de4-8cc8-4297-8d1b-288c52ba23e3",
   "metadata": {},
   "source": [
    "## Imports\n",
    "\n",
    "We will import some namespace modules, which are provided by `pivmetalib`. All these namespace modules contain classes representing the concepts of their ontology. E.g. `prov` contains the class `Person` and describes [*prov:Person*](https://www.w3.org/ns/prov#Person). The most important properties of a person, such as the first and last name, the email or a researcher ID is implemented as class attributes. Learn more bout in in the [GettingStarted Notebook](./GettingStarted.ipynb)\n",
    "\n",
    "Here's an example for a Person:"
   ]
  },
  {
   "cell_type": "code",
   "execution_count": 1,
   "id": "180a0df4-42be-4f66-aa44-672c038847da",
   "metadata": {},
   "outputs": [
    {
     "data": {
      "text/html": [
       "Person(mbox=okamoto@tokai.t.u-tokyo.ac.jp, last_name=Okamoto)"
      ],
      "text/plain": [
       "Person(mbox=okamoto@tokai.t.u-tokyo.ac.jp, last_name=Okamoto)"
      ]
     },
     "execution_count": 1,
     "metadata": {},
     "output_type": "execute_result"
    }
   ],
   "source": [
    "from pivmetalib import prov\n",
    "\n",
    "creator = prov.Person(\n",
    "    lastName='Okamoto',\n",
    "    mbox=\"okamoto@tokai.t.u-tokyo.ac.jp\"\n",
    ")\n",
    "creator"
   ]
  },
  {
   "cell_type": "markdown",
   "id": "34f28c88-19e5-43b6-a96a-d6ed73889457",
   "metadata": {},
   "source": [
    "Other important modules are `dcat` and `pivmeta`. The namespace module `dcat` contains *Distribution* and *Dataset*. The *pivmeta*-ontology provides many more PIV-specific concepts, among others it defines e.g. *PIVImageDistribution*, which is a (sub)type of *Distribution* and tells us, that the distribution contains PIV images as compared to other regular files, like README files, for example.\n",
    "\n",
    "Let's import the other modules:"
   ]
  },
  {
   "cell_type": "code",
   "execution_count": 2,
   "id": "713bc33c-ebf1-433b-b0ec-7ddb2236e41a",
   "metadata": {},
   "outputs": [
    {
     "ename": "PydanticUserError",
     "evalue": "Decorators defined with incorrect fields: pivmetalib.dcat.resource.Distribution:2346587928256._mediaType (use check_fields=False if you're inheriting from the model and intended this)\n\nFor further information visit https://errors.pydantic.dev/2.4/u/decorator-missing-field",
     "output_type": "error",
     "traceback": [
      "\u001b[1;31m---------------------------------------------------------------------------\u001b[0m",
      "\u001b[1;31mPydanticUserError\u001b[0m                         Traceback (most recent call last)",
      "Cell \u001b[1;32mIn[2], line 1\u001b[0m\n\u001b[1;32m----> 1\u001b[0m \u001b[38;5;28;01mfrom\u001b[39;00m \u001b[38;5;21;01mpivmetalib\u001b[39;00m \u001b[38;5;28;01mimport\u001b[39;00m dcat \u001b[38;5;66;03m# dcat import Dataset, Distribution\u001b[39;00m\n\u001b[0;32m      2\u001b[0m \u001b[38;5;28;01mfrom\u001b[39;00m \u001b[38;5;21;01mpivmetalib\u001b[39;00m \u001b[38;5;28;01mimport\u001b[39;00m pivmeta \u001b[38;5;66;03m# we will need PivImageDistribution\u001b[39;00m\n\u001b[0;32m      3\u001b[0m \u001b[38;5;28;01mfrom\u001b[39;00m \u001b[38;5;21;01montolutils\u001b[39;00m \u001b[38;5;28;01mimport\u001b[39;00m PIVMETA  \u001b[38;5;66;03m# the namespace module containing the URI addresses\u001b[39;00m\n",
      "File \u001b[1;32m~\\Documents\\programming\\git\\pivmetalib\\pivmetalib\\dcat\\__init__.py:1\u001b[0m\n\u001b[1;32m----> 1\u001b[0m \u001b[38;5;28;01mfrom\u001b[39;00m \u001b[38;5;21;01m.\u001b[39;00m\u001b[38;5;21;01mresource\u001b[39;00m \u001b[38;5;28;01mimport\u001b[39;00m Distribution, Dataset, Resource, DatasetSeries\n\u001b[0;32m      3\u001b[0m __all__ \u001b[38;5;241m=\u001b[39m (\u001b[38;5;124m\"\u001b[39m\u001b[38;5;124mDistribution\u001b[39m\u001b[38;5;124m\"\u001b[39m, \u001b[38;5;124m\"\u001b[39m\u001b[38;5;124mDataset\u001b[39m\u001b[38;5;124m\"\u001b[39m, \u001b[38;5;124m\"\u001b[39m\u001b[38;5;124mResource\u001b[39m\u001b[38;5;124m\"\u001b[39m, \u001b[38;5;124m\"\u001b[39m\u001b[38;5;124mDatasetSeries\u001b[39m\u001b[38;5;124m\"\u001b[39m)\n",
      "File \u001b[1;32m~\\Documents\\programming\\git\\pivmetalib\\pivmetalib\\dcat\\resource.py:89\u001b[0m\n\u001b[0;32m     79\u001b[0m             \u001b[38;5;28;01mreturn\u001b[39;00m organisation\n\u001b[0;32m     80\u001b[0m         \u001b[38;5;28;01mreturn\u001b[39;00m creator\n\u001b[0;32m     83\u001b[0m \u001b[38;5;129m@namespaces\u001b[39m(dcat\u001b[38;5;241m=\u001b[39m\u001b[38;5;124m\"\u001b[39m\u001b[38;5;124mhttp://www.w3.org/ns/dcat#\u001b[39m\u001b[38;5;124m\"\u001b[39m)\n\u001b[0;32m     84\u001b[0m \u001b[38;5;129m@urirefs\u001b[39m(Distribution\u001b[38;5;241m=\u001b[39m\u001b[38;5;124m'\u001b[39m\u001b[38;5;124mdcat:Distribution\u001b[39m\u001b[38;5;124m'\u001b[39m,\n\u001b[0;32m     85\u001b[0m          download_URL\u001b[38;5;241m=\u001b[39m\u001b[38;5;124m'\u001b[39m\u001b[38;5;124mdcat:downloadURL\u001b[39m\u001b[38;5;124m'\u001b[39m,\n\u001b[0;32m     86\u001b[0m          media_type\u001b[38;5;241m=\u001b[39m\u001b[38;5;124m'\u001b[39m\u001b[38;5;124mdcat:mediaType\u001b[39m\u001b[38;5;124m'\u001b[39m,\n\u001b[0;32m     87\u001b[0m          byte_size\u001b[38;5;241m=\u001b[39m\u001b[38;5;124m'\u001b[39m\u001b[38;5;124mdcat:byteSize\u001b[39m\u001b[38;5;124m'\u001b[39m,\n\u001b[0;32m     88\u001b[0m          keyword\u001b[38;5;241m=\u001b[39m\u001b[38;5;124m'\u001b[39m\u001b[38;5;124mdcat:keyword\u001b[39m\u001b[38;5;124m'\u001b[39m)\n\u001b[1;32m---> 89\u001b[0m \u001b[38;5;28;01mclass\u001b[39;00m \u001b[38;5;21;01mDistribution\u001b[39;00m(Resource):\n\u001b[0;32m     90\u001b[0m \u001b[38;5;250m    \u001b[39m\u001b[38;5;124;03m\"\"\"Implementation of dcat:Distribution\u001b[39;00m\n\u001b[0;32m     91\u001b[0m \n\u001b[0;32m     92\u001b[0m \u001b[38;5;124;03m    .. note::\u001b[39;00m\n\u001b[1;32m   (...)\u001b[0m\n\u001b[0;32m    106\u001b[0m \u001b[38;5;124;03m        Keywords for the distribution.\u001b[39;00m\n\u001b[0;32m    107\u001b[0m \u001b[38;5;124;03m    \"\"\"\u001b[39;00m\n\u001b[0;32m    108\u001b[0m     download_URL: Union[HttpUrl, FileUrl, pathlib\u001b[38;5;241m.\u001b[39mPath] \u001b[38;5;241m=\u001b[39m Field(default\u001b[38;5;241m=\u001b[39m\u001b[38;5;28;01mNone\u001b[39;00m,\n\u001b[0;32m    109\u001b[0m                                                                 alias\u001b[38;5;241m=\u001b[39m\u001b[38;5;124m'\u001b[39m\u001b[38;5;124mdownloadURL\u001b[39m\u001b[38;5;124m'\u001b[39m)  \u001b[38;5;66;03m# dcat:downloadURL, e.g.\u001b[39;00m\n",
      "File \u001b[1;32m~\\Anaconda3\\envs\\piv\\lib\\site-packages\\pydantic\\_internal\\_model_construction.py:184\u001b[0m, in \u001b[0;36mModelMetaclass.__new__\u001b[1;34m(mcs, cls_name, bases, namespace, __pydantic_generic_metadata__, __pydantic_reset_parent_namespace__, **kwargs)\u001b[0m\n\u001b[0;32m    182\u001b[0m types_namespace \u001b[38;5;241m=\u001b[39m get_cls_types_namespace(\u001b[38;5;28mcls\u001b[39m, parent_namespace)\n\u001b[0;32m    183\u001b[0m set_model_fields(\u001b[38;5;28mcls\u001b[39m, bases, config_wrapper, types_namespace)\n\u001b[1;32m--> 184\u001b[0m \u001b[43mcomplete_model_class\u001b[49m\u001b[43m(\u001b[49m\n\u001b[0;32m    185\u001b[0m \u001b[43m    \u001b[49m\u001b[38;5;28;43mcls\u001b[39;49m\u001b[43m,\u001b[49m\n\u001b[0;32m    186\u001b[0m \u001b[43m    \u001b[49m\u001b[43mcls_name\u001b[49m\u001b[43m,\u001b[49m\n\u001b[0;32m    187\u001b[0m \u001b[43m    \u001b[49m\u001b[43mconfig_wrapper\u001b[49m\u001b[43m,\u001b[49m\n\u001b[0;32m    188\u001b[0m \u001b[43m    \u001b[49m\u001b[43mraise_errors\u001b[49m\u001b[38;5;241;43m=\u001b[39;49m\u001b[38;5;28;43;01mFalse\u001b[39;49;00m\u001b[43m,\u001b[49m\n\u001b[0;32m    189\u001b[0m \u001b[43m    \u001b[49m\u001b[43mtypes_namespace\u001b[49m\u001b[38;5;241;43m=\u001b[39;49m\u001b[43mtypes_namespace\u001b[49m\u001b[43m,\u001b[49m\n\u001b[0;32m    190\u001b[0m \u001b[43m\u001b[49m\u001b[43m)\u001b[49m\n\u001b[0;32m    191\u001b[0m \u001b[38;5;66;03m# using super(cls, cls) on the next line ensures we only call the parent class's __pydantic_init_subclass__\u001b[39;00m\n\u001b[0;32m    192\u001b[0m \u001b[38;5;66;03m# I believe the `type: ignore` is only necessary because mypy doesn't realize that this code branch is\u001b[39;00m\n\u001b[0;32m    193\u001b[0m \u001b[38;5;66;03m# only hit for _proper_ subclasses of BaseModel\u001b[39;00m\n\u001b[0;32m    194\u001b[0m \u001b[38;5;28msuper\u001b[39m(\u001b[38;5;28mcls\u001b[39m, \u001b[38;5;28mcls\u001b[39m)\u001b[38;5;241m.\u001b[39m__pydantic_init_subclass__(\u001b[38;5;241m*\u001b[39m\u001b[38;5;241m*\u001b[39mkwargs)  \u001b[38;5;66;03m# type: ignore[misc]\u001b[39;00m\n",
      "File \u001b[1;32m~\\Anaconda3\\envs\\piv\\lib\\site-packages\\pydantic\\_internal\\_model_construction.py:481\u001b[0m, in \u001b[0;36mcomplete_model_class\u001b[1;34m(cls, cls_name, config_wrapper, raise_errors, types_namespace)\u001b[0m\n\u001b[0;32m    478\u001b[0m     \u001b[38;5;28;01mreturn\u001b[39;00m \u001b[38;5;28;01mFalse\u001b[39;00m\n\u001b[0;32m    480\u001b[0m \u001b[38;5;28;01mtry\u001b[39;00m:\n\u001b[1;32m--> 481\u001b[0m     schema \u001b[38;5;241m=\u001b[39m \u001b[38;5;28;43mcls\u001b[39;49m\u001b[38;5;241;43m.\u001b[39;49m\u001b[43m__get_pydantic_core_schema__\u001b[49m\u001b[43m(\u001b[49m\u001b[38;5;28;43mcls\u001b[39;49m\u001b[43m,\u001b[49m\u001b[43m \u001b[49m\u001b[43mhandler\u001b[49m\u001b[43m)\u001b[49m\n\u001b[0;32m    482\u001b[0m \u001b[38;5;28;01mexcept\u001b[39;00m PydanticUndefinedAnnotation \u001b[38;5;28;01mas\u001b[39;00m e:\n\u001b[0;32m    483\u001b[0m     \u001b[38;5;28;01mif\u001b[39;00m raise_errors:\n",
      "File \u001b[1;32m~\\Anaconda3\\envs\\piv\\lib\\site-packages\\pydantic\\main.py:576\u001b[0m, in \u001b[0;36mBaseModel.__get_pydantic_core_schema__\u001b[1;34m(cls, _BaseModel__source, _BaseModel__handler)\u001b[0m\n\u001b[0;32m    573\u001b[0m     \u001b[38;5;28;01mif\u001b[39;00m \u001b[38;5;129;01mnot\u001b[39;00m \u001b[38;5;28mcls\u001b[39m\u001b[38;5;241m.\u001b[39m__pydantic_generic_metadata__[\u001b[38;5;124m'\u001b[39m\u001b[38;5;124morigin\u001b[39m\u001b[38;5;124m'\u001b[39m]:\n\u001b[0;32m    574\u001b[0m         \u001b[38;5;28;01mreturn\u001b[39;00m \u001b[38;5;28mcls\u001b[39m\u001b[38;5;241m.\u001b[39m__pydantic_core_schema__\n\u001b[1;32m--> 576\u001b[0m \u001b[38;5;28;01mreturn\u001b[39;00m \u001b[43m__handler\u001b[49m\u001b[43m(\u001b[49m\u001b[43m__source\u001b[49m\u001b[43m)\u001b[49m\n",
      "File \u001b[1;32m~\\Anaconda3\\envs\\piv\\lib\\site-packages\\pydantic\\_internal\\_schema_generation_shared.py:82\u001b[0m, in \u001b[0;36mCallbackGetCoreSchemaHandler.__call__\u001b[1;34m(self, _CallbackGetCoreSchemaHandler__source_type)\u001b[0m\n\u001b[0;32m     81\u001b[0m \u001b[38;5;28;01mdef\u001b[39;00m \u001b[38;5;21m__call__\u001b[39m(\u001b[38;5;28mself\u001b[39m, __source_type: Any) \u001b[38;5;241m-\u001b[39m\u001b[38;5;241m>\u001b[39m core_schema\u001b[38;5;241m.\u001b[39mCoreSchema:\n\u001b[1;32m---> 82\u001b[0m     schema \u001b[38;5;241m=\u001b[39m \u001b[38;5;28;43mself\u001b[39;49m\u001b[38;5;241;43m.\u001b[39;49m\u001b[43m_handler\u001b[49m\u001b[43m(\u001b[49m\u001b[43m__source_type\u001b[49m\u001b[43m)\u001b[49m\n\u001b[0;32m     83\u001b[0m     ref \u001b[38;5;241m=\u001b[39m schema\u001b[38;5;241m.\u001b[39mget(\u001b[38;5;124m'\u001b[39m\u001b[38;5;124mref\u001b[39m\u001b[38;5;124m'\u001b[39m)\n\u001b[0;32m     84\u001b[0m     \u001b[38;5;28;01mif\u001b[39;00m \u001b[38;5;28mself\u001b[39m\u001b[38;5;241m.\u001b[39m_ref_mode \u001b[38;5;241m==\u001b[39m \u001b[38;5;124m'\u001b[39m\u001b[38;5;124mto-def\u001b[39m\u001b[38;5;124m'\u001b[39m:\n",
      "File \u001b[1;32m~\\Anaconda3\\envs\\piv\\lib\\site-packages\\pydantic\\_internal\\_generate_schema.py:452\u001b[0m, in \u001b[0;36mGenerateSchema.generate_schema\u001b[1;34m(self, obj, from_dunder_get_core_schema)\u001b[0m\n\u001b[0;32m    449\u001b[0m         schema \u001b[38;5;241m=\u001b[39m from_property\n\u001b[0;32m    451\u001b[0m \u001b[38;5;28;01mif\u001b[39;00m schema \u001b[38;5;129;01mis\u001b[39;00m \u001b[38;5;28;01mNone\u001b[39;00m:\n\u001b[1;32m--> 452\u001b[0m     schema \u001b[38;5;241m=\u001b[39m \u001b[38;5;28;43mself\u001b[39;49m\u001b[38;5;241;43m.\u001b[39;49m\u001b[43m_generate_schema\u001b[49m\u001b[43m(\u001b[49m\u001b[43mobj\u001b[49m\u001b[43m)\u001b[49m\n\u001b[0;32m    454\u001b[0m metadata_js_function \u001b[38;5;241m=\u001b[39m _extract_get_pydantic_json_schema(obj, schema)\n\u001b[0;32m    455\u001b[0m \u001b[38;5;28;01mif\u001b[39;00m metadata_js_function \u001b[38;5;129;01mis\u001b[39;00m \u001b[38;5;129;01mnot\u001b[39;00m \u001b[38;5;28;01mNone\u001b[39;00m:\n",
      "File \u001b[1;32m~\\Anaconda3\\envs\\piv\\lib\\site-packages\\pydantic\\_internal\\_generate_schema.py:684\u001b[0m, in \u001b[0;36mGenerateSchema._generate_schema\u001b[1;34m(self, obj)\u001b[0m\n\u001b[0;32m    682\u001b[0m needs_apply_discriminated_union \u001b[38;5;241m=\u001b[39m \u001b[38;5;28mself\u001b[39m\u001b[38;5;241m.\u001b[39m_needs_apply_discriminated_union\n\u001b[0;32m    683\u001b[0m \u001b[38;5;28mself\u001b[39m\u001b[38;5;241m.\u001b[39m_needs_apply_discriminated_union \u001b[38;5;241m=\u001b[39m \u001b[38;5;28;01mFalse\u001b[39;00m\n\u001b[1;32m--> 684\u001b[0m schema \u001b[38;5;241m=\u001b[39m \u001b[38;5;28mself\u001b[39m\u001b[38;5;241m.\u001b[39m_post_process_generated_schema(\u001b[38;5;28;43mself\u001b[39;49m\u001b[38;5;241;43m.\u001b[39;49m\u001b[43m_generate_schema_inner\u001b[49m\u001b[43m(\u001b[49m\u001b[43mobj\u001b[49m\u001b[43m)\u001b[49m)\n\u001b[0;32m    685\u001b[0m \u001b[38;5;28mself\u001b[39m\u001b[38;5;241m.\u001b[39m_has_invalid_schema \u001b[38;5;241m=\u001b[39m \u001b[38;5;28mself\u001b[39m\u001b[38;5;241m.\u001b[39m_has_invalid_schema \u001b[38;5;129;01mor\u001b[39;00m has_invalid_schema\n\u001b[0;32m    686\u001b[0m \u001b[38;5;28mself\u001b[39m\u001b[38;5;241m.\u001b[39m_needs_apply_discriminated_union \u001b[38;5;241m=\u001b[39m \u001b[38;5;28mself\u001b[39m\u001b[38;5;241m.\u001b[39m_needs_apply_discriminated_union \u001b[38;5;129;01mor\u001b[39;00m needs_apply_discriminated_union\n",
      "File \u001b[1;32m~\\Anaconda3\\envs\\piv\\lib\\site-packages\\pydantic\\_internal\\_generate_schema.py:706\u001b[0m, in \u001b[0;36mGenerateSchema._generate_schema_inner\u001b[1;34m(self, obj)\u001b[0m\n\u001b[0;32m    703\u001b[0m \u001b[38;5;28;01mfrom\u001b[39;00m \u001b[38;5;21;01m.\u001b[39;00m\u001b[38;5;21;01m.\u001b[39;00m\u001b[38;5;21;01mmain\u001b[39;00m \u001b[38;5;28;01mimport\u001b[39;00m BaseModel\n\u001b[0;32m    705\u001b[0m \u001b[38;5;28;01mif\u001b[39;00m lenient_issubclass(obj, BaseModel):\n\u001b[1;32m--> 706\u001b[0m     \u001b[38;5;28;01mreturn\u001b[39;00m \u001b[38;5;28;43mself\u001b[39;49m\u001b[38;5;241;43m.\u001b[39;49m\u001b[43m_model_schema\u001b[49m\u001b[43m(\u001b[49m\u001b[43mobj\u001b[49m\u001b[43m)\u001b[49m\n\u001b[0;32m    708\u001b[0m \u001b[38;5;28;01mif\u001b[39;00m \u001b[38;5;28misinstance\u001b[39m(obj, PydanticRecursiveRef):\n\u001b[0;32m    709\u001b[0m     \u001b[38;5;28;01mreturn\u001b[39;00m core_schema\u001b[38;5;241m.\u001b[39mdefinition_reference_schema(schema_ref\u001b[38;5;241m=\u001b[39mobj\u001b[38;5;241m.\u001b[39mtype_ref)\n",
      "File \u001b[1;32m~\\Anaconda3\\envs\\piv\\lib\\site-packages\\pydantic\\_internal\\_generate_schema.py:475\u001b[0m, in \u001b[0;36mGenerateSchema._model_schema\u001b[1;34m(self, cls)\u001b[0m\n\u001b[0;32m    473\u001b[0m decorators \u001b[38;5;241m=\u001b[39m \u001b[38;5;28mcls\u001b[39m\u001b[38;5;241m.\u001b[39m__pydantic_decorators__\n\u001b[0;32m    474\u001b[0m computed_fields \u001b[38;5;241m=\u001b[39m decorators\u001b[38;5;241m.\u001b[39mcomputed_fields\n\u001b[1;32m--> 475\u001b[0m \u001b[43mcheck_decorator_fields_exist\u001b[49m\u001b[43m(\u001b[49m\n\u001b[0;32m    476\u001b[0m \u001b[43m    \u001b[49m\u001b[43mchain\u001b[49m\u001b[43m(\u001b[49m\n\u001b[0;32m    477\u001b[0m \u001b[43m        \u001b[49m\u001b[43mdecorators\u001b[49m\u001b[38;5;241;43m.\u001b[39;49m\u001b[43mfield_validators\u001b[49m\u001b[38;5;241;43m.\u001b[39;49m\u001b[43mvalues\u001b[49m\u001b[43m(\u001b[49m\u001b[43m)\u001b[49m\u001b[43m,\u001b[49m\n\u001b[0;32m    478\u001b[0m \u001b[43m        \u001b[49m\u001b[43mdecorators\u001b[49m\u001b[38;5;241;43m.\u001b[39;49m\u001b[43mfield_serializers\u001b[49m\u001b[38;5;241;43m.\u001b[39;49m\u001b[43mvalues\u001b[49m\u001b[43m(\u001b[49m\u001b[43m)\u001b[49m\u001b[43m,\u001b[49m\n\u001b[0;32m    479\u001b[0m \u001b[43m        \u001b[49m\u001b[43mdecorators\u001b[49m\u001b[38;5;241;43m.\u001b[39;49m\u001b[43mvalidators\u001b[49m\u001b[38;5;241;43m.\u001b[39;49m\u001b[43mvalues\u001b[49m\u001b[43m(\u001b[49m\u001b[43m)\u001b[49m\u001b[43m,\u001b[49m\n\u001b[0;32m    480\u001b[0m \u001b[43m    \u001b[49m\u001b[43m)\u001b[49m\u001b[43m,\u001b[49m\n\u001b[0;32m    481\u001b[0m \u001b[43m    \u001b[49m\u001b[43m{\u001b[49m\u001b[38;5;241;43m*\u001b[39;49m\u001b[43mfields\u001b[49m\u001b[38;5;241;43m.\u001b[39;49m\u001b[43mkeys\u001b[49m\u001b[43m(\u001b[49m\u001b[43m)\u001b[49m\u001b[43m,\u001b[49m\u001b[43m \u001b[49m\u001b[38;5;241;43m*\u001b[39;49m\u001b[43mcomputed_fields\u001b[49m\u001b[38;5;241;43m.\u001b[39;49m\u001b[43mkeys\u001b[49m\u001b[43m(\u001b[49m\u001b[43m)\u001b[49m\u001b[43m}\u001b[49m\u001b[43m,\u001b[49m\n\u001b[0;32m    482\u001b[0m \u001b[43m\u001b[49m\u001b[43m)\u001b[49m\n\u001b[0;32m    483\u001b[0m config_wrapper \u001b[38;5;241m=\u001b[39m ConfigWrapper(\u001b[38;5;28mcls\u001b[39m\u001b[38;5;241m.\u001b[39mmodel_config, check\u001b[38;5;241m=\u001b[39m\u001b[38;5;28;01mFalse\u001b[39;00m)\n\u001b[0;32m    484\u001b[0m core_config \u001b[38;5;241m=\u001b[39m config_wrapper\u001b[38;5;241m.\u001b[39mcore_config(\u001b[38;5;28mcls\u001b[39m)\n",
      "File \u001b[1;32m~\\Anaconda3\\envs\\piv\\lib\\site-packages\\pydantic\\_internal\\_generate_schema.py:154\u001b[0m, in \u001b[0;36mcheck_decorator_fields_exist\u001b[1;34m(decorators, fields)\u001b[0m\n\u001b[0;32m    152\u001b[0m \u001b[38;5;28;01mfor\u001b[39;00m field \u001b[38;5;129;01min\u001b[39;00m dec\u001b[38;5;241m.\u001b[39minfo\u001b[38;5;241m.\u001b[39mfields:\n\u001b[0;32m    153\u001b[0m     \u001b[38;5;28;01mif\u001b[39;00m field \u001b[38;5;129;01mnot\u001b[39;00m \u001b[38;5;129;01min\u001b[39;00m fields:\n\u001b[1;32m--> 154\u001b[0m         \u001b[38;5;28;01mraise\u001b[39;00m PydanticUserError(\n\u001b[0;32m    155\u001b[0m             \u001b[38;5;124mf\u001b[39m\u001b[38;5;124m'\u001b[39m\u001b[38;5;124mDecorators defined with incorrect fields: \u001b[39m\u001b[38;5;132;01m{\u001b[39;00mdec\u001b[38;5;241m.\u001b[39mcls_ref\u001b[38;5;132;01m}\u001b[39;00m\u001b[38;5;124m.\u001b[39m\u001b[38;5;132;01m{\u001b[39;00mdec\u001b[38;5;241m.\u001b[39mcls_var_name\u001b[38;5;132;01m}\u001b[39;00m\u001b[38;5;124m'\u001b[39m\n\u001b[0;32m    156\u001b[0m             \u001b[38;5;124m\"\u001b[39m\u001b[38;5;124m (use check_fields=False if you\u001b[39m\u001b[38;5;124m'\u001b[39m\u001b[38;5;124mre inheriting from the model and intended this)\u001b[39m\u001b[38;5;124m\"\u001b[39m,\n\u001b[0;32m    157\u001b[0m             code\u001b[38;5;241m=\u001b[39m\u001b[38;5;124m'\u001b[39m\u001b[38;5;124mdecorator-missing-field\u001b[39m\u001b[38;5;124m'\u001b[39m,\n\u001b[0;32m    158\u001b[0m         )\n",
      "\u001b[1;31mPydanticUserError\u001b[0m: Decorators defined with incorrect fields: pivmetalib.dcat.resource.Distribution:2346587928256._mediaType (use check_fields=False if you're inheriting from the model and intended this)\n\nFor further information visit https://errors.pydantic.dev/2.4/u/decorator-missing-field"
     ]
    }
   ],
   "source": [
    "from pivmetalib import dcat # dcat import Dataset, Distribution\n",
    "from pivmetalib import pivmeta # we will need PivImageDistribution\n",
    "from ontolutils import PIVMETA  # the namespace module containing the URI addresses"
   ]
  },
  {
   "cell_type": "markdown",
   "id": "d38eb062-8db6-4b71-9d8c-fe083eb80049",
   "metadata": {},
   "source": [
    "## Data collection\n",
    "\n",
    "We refer to the [PIV-Challenge](https://www.pivchallenge.org/pub/) website for all information, i.e. data and metadata. Much is written in the README file but some metadata is also available in the HTML text.\n",
    "\n",
    "Here is a (probably incomplete) list of metadata:\n",
    "- case/dataset name: \"C\"\n",
    "- description: \"Strong wall reflection in an impeller (background images and mask are provided), (provided by Stanislas)\"\n",
    "- long description from README: \"The set of images is referenced C001_1.tif and C001_2.tif...The two white circles are the two edges of the fixed vaneless diffuser.\"\n",
    "- image type: \"real\"\n",
    "- number of sets: \"1 + 2bg + 1 msk\"\n",
    "- author(s): \"Stanislas\"\n",
    "- camera characteristics (see README): \"Type: KODAK ES1.0 b & w.....Acquisition software\tINSIGHT 2.10.\"\n",
    "\n",
    "The challenge is to translate this into to a common language so that datasets become comparable, also from other sources. This is exactly what the ` \u0000T\u0000h\u0000a`-ontology achieves. Let's dive into building an interoperable description of the dataset:"
   ]
  },
  {
   "cell_type": "markdown",
   "id": "242551e3-7dee-4d3f-bf44-2c53e7f63b7a",
   "metadata": {},
   "source": [
    "## Describe the dataset\n",
    "\n",
    "The package `pivmetalib` has implemented the [RDF](https://www.w3.org/RDF/) vocabularies as python objects. Their parameters validated.\n",
    "\n",
    "Let's first examine this by creating the person, who created the dataset:"
   ]
  },
  {
   "cell_type": "markdown",
   "id": "6c2216e2-4985-429c-ab6e-d59c8dbebb88",
   "metadata": {},
   "source": [
    "## Author"
   ]
  },
  {
   "cell_type": "code",
   "execution_count": null,
   "id": "e5e9a7fc-fcb4-4430-b600-cc25d9060ef6",
   "metadata": {},
   "outputs": [],
   "source": [
    "creator = prov.Person(\n",
    "    lastName='Stanislas',\n",
    "    mbox=\"pivnet-sig32@univ-lille1.fr\"\n",
    ")\n",
    "creator"
   ]
  },
  {
   "cell_type": "markdown",
   "id": "00171555-b3ce-43d1-a92d-3eb0e78447b3",
   "metadata": {},
   "source": [
    "## Camera\n",
    "\n",
    "The most important properties of a camera used for PIV is the sensor size and the lens used:"
   ]
  },
  {
   "cell_type": "code",
   "execution_count": null,
   "id": "bfcce10e-5e1b-44d6-9b22-494d1cb9c1ea",
   "metadata": {},
   "outputs": [],
   "source": [
    "from pivmetalib import m4i\n",
    "from ontolutils import PIVMETA, QUDT_KIND"
   ]
  },
  {
   "cell_type": "markdown",
   "id": "c4be2da6-8f34-4288-aee2-5cc1394fc4c6",
   "metadata": {},
   "source": [
    "**Sensor size**"
   ]
  },
  {
   "cell_type": "code",
   "execution_count": null,
   "id": "3b4e36eb-b692-4647-9ce0-e7e7fdfe0e15",
   "metadata": {},
   "outputs": [],
   "source": [
    "sensor_width = pivmeta.NumericalVariable(value=1008,\n",
    "                                         standard_name=\"https://matthiasprobst.github.io/pivmeta#sensor_pixel_width\")\n",
    "sensor_height = pivmeta.NumericalVariable(value=1008,\n",
    "                                         standard_name=\"https://matthiasprobst.github.io/pivmeta#sensor_pixel_width\")"
   ]
  },
  {
   "cell_type": "code",
   "execution_count": null,
   "id": "4451f1e5-ea37-4b55-915e-ab39fd077457",
   "metadata": {},
   "outputs": [],
   "source": [
    "camera = pivmeta.DigitalCamera(  # is a subclass of m4i.Tool, so use hasParameter\n",
    "    label='KODAK ES1.0 b & w',\n",
    "    fnumber='f/2',\n",
    "    hasParameter=[\n",
    "        sensor_width, sensor_height,\n",
    "        pivmeta.NumericalVariable(\n",
    "            value=9.072,\n",
    "            hasUnit='um',\n",
    "            hasKindOfQuantity=QUDT_KIND.Length,\n",
    "            standard_name=\"https://matthiasprobst.github.io/pivmeta#ccd_width\"),\n",
    "        pivmeta.NumericalVariable(\n",
    "            value=9.07,\n",
    "            hasUnit='um',\n",
    "            hasKindOfQuantity=QUDT_KIND.Length,\n",
    "            standard_name=\"https://matthiasprobst.github.io/pivmeta#ccd_height\"),\n",
    "        pivmeta.NumericalVariable(\n",
    "            label='focal length',\n",
    "            value=35,\n",
    "            hasUnit='mm',\n",
    "            hasKindOfQuantity=QUDT_KIND.Length,\n",
    "            standard_name=\"https://matthiasprobst.github.io/pivmeta#focal_length\",\n",
    "            hasVariableDescription='Nikkor')\n",
    "    ]\n",
    ")\n",
    "camera.model_dump(exclude_none=True)"
   ]
  },
  {
   "cell_type": "code",
   "execution_count": null,
   "id": "491b1d30-8d14-4c91-b898-b3a7c57eacf9",
   "metadata": {},
   "outputs": [],
   "source": [
    "# # dont use PIVMETA better build a SNT-Namespace-like-class similar to PIVMETA\n",
    "# # consider outsourcing this to a separate package onto_utils, which let's you build namespace classes...\n",
    "\n",
    "# def standard_variable(name, value, unit):\n",
    "#     sn = PIVMETA.get(name)\n",
    "#     if unit != '':\n",
    "#         qk = get_qudt_from_string(unit)\n",
    "#         return pivmeta.NumericalVariable(value=value,\n",
    "#                                          standard_name=\"https://matthiasprobst.github.io/pivmeta#sensor_pixel_width\",\n",
    "#                                          hasUnit=unit)\n",
    "#     return pivmeta.NumericalVariable(value=value,\n",
    "#                                      standard_name=\"https://matthiasprobst.github.io/pivmeta#sensor_pixel_width\")"
   ]
  },
  {
   "cell_type": "code",
   "execution_count": null,
   "id": "86455021-dbea-400b-968b-8347c771e78c",
   "metadata": {},
   "outputs": [],
   "source": [
    "# standard_variable('x_pixel_coordinate', 1.4, 'm/s')\n",
    "# # download the TTL file (https://matthiasprobst.github.io/pivmeta/ontology.ttl) and find out the quantity type, then verify it!"
   ]
  },
  {
   "cell_type": "code",
   "execution_count": null,
   "id": "68541011-27fd-44f9-9fae-7d60de2e71f5",
   "metadata": {},
   "outputs": [],
   "source": [
    "# standard_variable(name='sensor_pixel_width', value=1008, unit='m/s')\n",
    "# standard_variable(name='sensor_pixel_width', value=1008, unit='') ## TODO quantity kind must be determined automatically!"
   ]
  },
  {
   "cell_type": "code",
   "execution_count": null,
   "id": "4bf19e53-b0fd-466d-83c0-6f3df05fb079",
   "metadata": {},
   "outputs": [],
   "source": []
  },
  {
   "cell_type": "markdown",
   "id": "9468f098-8c0b-440a-888d-2d52e46fd8ec",
   "metadata": {},
   "source": [
    "Note, that sometimes there is a helper method for a model class. For DigitalCamera there is:"
   ]
  },
  {
   "cell_type": "code",
   "execution_count": null,
   "id": "db631e4a-782b-4a63-9a3b-f9c0328f8476",
   "metadata": {},
   "outputs": [],
   "source": [
    "cam = pivmeta.DigitalCamera.build_minimal(\n",
    "    label='KODAK ES1.0 b & w',\n",
    "    sensor_pixel_size=[1008, 1018],\n",
    "    ccd_pixel_size_um=[9.07, 9.07],\n",
    "    fnumber='f/2',\n",
    "    focal_length_mm=35,\n",
    "    image_coding='8 bits'\n",
    ")\n",
    "cam.model_dump(exclude_none=True)"
   ]
  },
  {
   "cell_type": "code",
   "execution_count": null,
   "id": "fe957f2d-3f97-4190-a7dc-d6ebf02a2ca7",
   "metadata": {},
   "outputs": [],
   "source": [
    "cam"
   ]
  },
  {
   "cell_type": "markdown",
   "id": "0e21fd07-8a4d-43ae-8634-acc3c90bc547",
   "metadata": {},
   "source": [
    "Now, let's describe the complete dataset:"
   ]
  },
  {
   "cell_type": "code",
   "execution_count": null,
   "id": "1eacfb97-fad6-4abd-bd8f-d6b24d267e04",
   "metadata": {},
   "outputs": [],
   "source": [
    "ds = dcat.Dataset(\n",
    "    title='piv-challenge-1-C',\n",
    "    creator=creator,\n",
    "    modified=\"2000-10-28\",\n",
    "    landingPage=\"https://www.pivchallenge.org/pub/index.html#c\",\n",
    "    description=\"Different velocity gradients with spatially varying image quality (provided by Okamoto) < synthetic > [256 x 128]\",\n",
    "    distribution=[\n",
    "        pivmeta.PivImageDistribution(\n",
    "            title='Raw piv image data',\n",
    "            downloadURL='https://www.pivchallenge.org/pub/C/C.zip',\n",
    "            mediaType='https://www.iana.org/assignments/media-types/image/tiff',\n",
    "            compressedFormat='application/zip',\n",
    "            pivImageType=PIVMETA.SyntheticImage,\n",
    "            numberOfRecords=1,  # It contains one double image\n",
    "            filenamePattern=r\"C[0-9][0-9][0-9]_[1,2].tif\",  # the regex for the filename\n",
    "            imageBitDepth=8\n",
    "        ),\n",
    "        pivmeta.PivMaskDistribution(\n",
    "            title='Mask file',\n",
    "            downloadURL='https://www.pivchallenge.org/pub/C/C.zip',\n",
    "            compressedFormat='application/zip',  # https://www.w3.org/TR/vocab-dcat-2/#Property:distribution_compression_format\n",
    "            mediaType='https://www.iana.org/assignments/media-types/image/tiff',\n",
    "            filenamePattern=\"Cmask_1.tif\"  # for compressed data\n",
    "        ),\n",
    "        dcat.Distribution(\n",
    "            title='ReadMe file',\n",
    "            downloadURL='https://www.pivchallenge.org/pub/E/readmeE.txt'\n",
    "        ),\n",
    "    ]\n",
    ")"
   ]
  },
  {
   "cell_type": "markdown",
   "id": "e9dba1ce-0972-40de-893b-d0057e66e101",
   "metadata": {},
   "source": [
    "## Export to JSON-LD\n",
    "\n",
    "The dataset python object can be written to JSON-LD like so:"
   ]
  },
  {
   "cell_type": "code",
   "execution_count": null,
   "id": "37b97566-0949-40f8-847a-24b8260d305b",
   "metadata": {},
   "outputs": [],
   "source": [
    "with open('piv_challenge.jsonld', 'w') as f:\n",
    "    json_ld_str = ds.model_dump_jsonld(\n",
    "        context={\"@import\": \"https://raw.githubusercontent.com/matthiasprobst/pivmeta/main/pivmeta_context.jsonld\"}\n",
    "    )\n",
    "    f.write(json_ld_str)\n",
    "print(json_ld_str)"
   ]
  },
  {
   "cell_type": "markdown",
   "id": "6eb9939b-2c41-4d0c-b1cd-52bbb419f077",
   "metadata": {},
   "source": [
    "## Re-use the dataset\n",
    "\n",
    "Now, that we have written the metadata to the file, we would like to reuse it, i.e. identify specific data"
   ]
  },
  {
   "cell_type": "markdown",
   "id": "c2314b00-fad5-4302-8b47-f61648fa344c",
   "metadata": {},
   "source": [
    "### Find distribution within JSON-LD file"
   ]
  },
  {
   "cell_type": "code",
   "execution_count": null,
   "id": "395c58b1-d3be-41ac-880c-44facadb4f2e",
   "metadata": {},
   "outputs": [],
   "source": [
    "import ontolutils"
   ]
  },
  {
   "cell_type": "code",
   "execution_count": null,
   "id": "0442ce6b-6631-408a-88b4-3e6883889df1",
   "metadata": {},
   "outputs": [],
   "source": [
    "ds = dcat.Dataset.from_jsonld(source='piv_challenge.jsonld', limit=1)\n",
    "ds.model_dump(exclude_none=True)"
   ]
  },
  {
   "cell_type": "code",
   "execution_count": null,
   "id": "0a84a12c-ba5b-4357-80a9-9ae7e61eca2b",
   "metadata": {},
   "outputs": [],
   "source": [
    "ds.creator"
   ]
  },
  {
   "cell_type": "code",
   "execution_count": null,
   "id": "e420e343-295a-4416-9af0-eeb554f2cd3c",
   "metadata": {},
   "outputs": [],
   "source": [
    "image_dist = pivmeta.PivImageDistribution.from_jsonld(source='piv_challenge.jsonld', limit=1)\n",
    "image_dist"
   ]
  },
  {
   "cell_type": "code",
   "execution_count": null,
   "id": "b2c45147-d0ec-4d80-bb8a-ec27fca009cb",
   "metadata": {},
   "outputs": [],
   "source": [
    "from pprint import pprint\n",
    "pprint(image_dist.model_dump())"
   ]
  },
  {
   "cell_type": "code",
   "execution_count": null,
   "id": "98895025-b89e-4a48-8352-6224c25685a5",
   "metadata": {},
   "outputs": [],
   "source": [
    "zip_filename = image_dist.download(dest_filename='imgs.zip', overwrite_existing=False)"
   ]
  },
  {
   "cell_type": "code",
   "execution_count": null,
   "id": "8b86e581-b4e7-4b81-9f1a-e53e3553fe6a",
   "metadata": {},
   "outputs": [],
   "source": [
    "import zipfile\n",
    "import pathlib\n",
    "\n",
    "with zipfile.ZipFile(zip_filename, 'r') as zip_ref:\n",
    "    zip_ref.extractall('imgs')"
   ]
  },
  {
   "cell_type": "code",
   "execution_count": null,
   "id": "4adfe7fa-2c15-4c2b-8057-c3bd75cde80d",
   "metadata": {},
   "outputs": [],
   "source": [
    "image_dist.is_synthetic()"
   ]
  },
  {
   "cell_type": "code",
   "execution_count": null,
   "id": "f73bb55d-9025-4b90-ba68-0bd14c460d2d",
   "metadata": {},
   "outputs": [],
   "source": [
    "mask_dist = pivmeta.PivMaskDistribution.from_jsonld(source='piv_challenge.jsonld', limit=1)\n",
    "mask_dist"
   ]
  },
  {
   "cell_type": "code",
   "execution_count": null,
   "id": "51c2ab44-6eff-451e-b0ad-4b5ecc88fcfe",
   "metadata": {},
   "outputs": [],
   "source": [
    "filenames = sorted(pathlib.Path('imgs').glob(mask_dist.filenamePattern))\n",
    "filenames"
   ]
  },
  {
   "cell_type": "code",
   "execution_count": null,
   "id": "5f7497f8-2dc5-4eb6-9d53-c46910d71c09",
   "metadata": {},
   "outputs": [],
   "source": []
  }
 ],
 "metadata": {
  "kernelspec": {
   "display_name": "Python 3 (ipykernel)",
   "language": "python",
   "name": "python3"
  },
  "language_info": {
   "codemirror_mode": {
    "name": "ipython",
    "version": 3
   },
   "file_extension": ".py",
   "mimetype": "text/x-python",
   "name": "python",
   "nbconvert_exporter": "python",
   "pygments_lexer": "ipython3",
   "version": "3.8.18"
  }
 },
 "nbformat": 4,
 "nbformat_minor": 5
}
