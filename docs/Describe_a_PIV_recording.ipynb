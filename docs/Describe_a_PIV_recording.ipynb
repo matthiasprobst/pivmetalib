{
 "cells": [
  {
   "cell_type": "markdown",
   "id": "992bbf41-bfc8-45fa-ab30-53ad3e8d7f33",
   "metadata": {},
   "source": [
    "# Describe a PIV recording\n",
    "\n",
    "Let's say you recorded multiple PIV images and put them into a *ZIP* folder. The scenario is shown below. We will describe the data stored in the zip folder using linked-data syntax. The collection of PIV images is called a *dataset*. The information about it will be stored in a JSON-LD file:\n",
    "\n",
    "![piv_image_dataset_management](piv_image_dataset_management.svg)\n",
    "\n",
    "The [\"PIV Challenge\"](https://www.pivchallenge.org/) datasets will serve as real-world examples. We will describe one of them.\n",
    "\n",
    "Before we start, let's get clear about the vocabulary/semantic:\n",
    "\n",
    "We will use multiple vocabularies and ontologies. At the core, we will use the \"Data Catalog Vocabulary\" (dcat), which allows describing datasets. According to [dcat](https://www.w3.org/TR/vocab-dcat-2/), dataset and distribution, the main objects in our problem are described as follows:\n",
    "- *dcat:Dataset*: \"A collection of data, published or curated by a single agent, and available for access or download in one or more representations.\"\n",
    "- *dcat:Distribution*: \"A specific representation of a dataset. A dataset might be available in multiple serializations that may differ in various ways, including natural language, media-type or format, schematic organization, temporal and spatial resolution, level of detail or profiles (which might specify any or all of the above).\"\n",
    "\n",
    "Besides the description of file objects (*dcat:Distribution*), the dataset has many more properties, like the creator, a description and more such fields. We will add all this below."
   ]
  },
  {
   "cell_type": "markdown",
   "id": "9b0d5de4-8cc8-4297-8d1b-288c52ba23e3",
   "metadata": {},
   "source": [
    "## Imports\n",
    "\n",
    "We will import some namespace modules, which are provided by `pivmetalib`. All these namespace modules contain classes representing the concepts of their ontology. E.g. `prov` contains the class `Person` and describes [*prov:Person*](https://www.w3.org/ns/prov#Person). The most important properties of a person, such as the first and last name, the email or a researcher ID is implemented as class attributes. Learn more bout in in the [GettingStarted Notebook](./GettingStarted.ipynb)\n",
    "\n",
    "Here's an example for a Person:"
   ]
  },
  {
   "cell_type": "code",
   "execution_count": 1,
   "id": "180a0df4-42be-4f66-aa44-672c038847da",
   "metadata": {},
   "outputs": [
    {
     "data": {
      "text/html": [
       "Person(id=_:Nda1136c7c4a242ae9bbe1e8f554480cf, mbox=okamoto@tokai.t.u-tokyo.ac.jp, last_name=Okamoto)"
      ],
      "text/plain": [
       "Person(id=_:Nda1136c7c4a242ae9bbe1e8f554480cf, mbox=okamoto@tokai.t.u-tokyo.ac.jp, last_name=Okamoto)"
      ]
     },
     "execution_count": 1,
     "metadata": {},
     "output_type": "execute_result"
    }
   ],
   "source": [
    "from pivmetalib import prov\n",
    "\n",
    "creator = prov.Person(\n",
    "    lastName='Okamoto',\n",
    "    mbox=\"okamoto@tokai.t.u-tokyo.ac.jp\"\n",
    ")\n",
    "creator"
   ]
  },
  {
   "cell_type": "markdown",
   "id": "34f28c88-19e5-43b6-a96a-d6ed73889457",
   "metadata": {},
   "source": [
    "Other important modules are `dcat` and `pivmeta`. The namespace module `dcat` contains *Distribution* and *Dataset*. The *pivmeta*-ontology provides many more PIV-specific concepts, among others it defines e.g. *PIVImageDistribution*, which is a (sub)type of *Distribution* and tells us, that the distribution contains PIV images as compared to other regular files, like README files, for example.\n",
    "\n",
    "Let's import the other modules:"
   ]
  },
  {
   "cell_type": "code",
   "execution_count": 2,
   "id": "713bc33c-ebf1-433b-b0ec-7ddb2236e41a",
   "metadata": {},
   "outputs": [],
   "source": [
    "from pivmetalib import dcat # dcat import Dataset, Distribution\n",
    "from pivmetalib import pivmeta # we will need PivImageDistribution\n",
    "from ontolutils import PIVMETA  # the namespace module containing the URI addresses"
   ]
  },
  {
   "cell_type": "markdown",
   "id": "d38eb062-8db6-4b71-9d8c-fe083eb80049",
   "metadata": {},
   "source": [
    "## Data collection\n",
    "\n",
    "We refer to the [PIV-Challenge](https://www.pivchallenge.org/pub/) website for all information, i.e. data and metadata. Much is written in the README file but some metadata is also available in the HTML text.\n",
    "\n",
    "Here is a (probably incomplete) list of metadata:\n",
    "- case/dataset name: \"C\"\n",
    "- description: \"Strong wall reflection in an impeller (background images and mask are provided), (provided by Stanislas)\"\n",
    "- long description from README: \"The set of images is referenced C001_1.tif and C001_2.tif...The two white circles are the two edges of the fixed vaneless diffuser.\"\n",
    "- image type: \"real\"\n",
    "- number of sets: \"1 + 2bg + 1 msk\"\n",
    "- author(s): \"Stanislas\"\n",
    "- camera characteristics (see README): \"Type: KODAK ES1.0 b & w.....Acquisition software\tINSIGHT 2.10.\"\n",
    "\n",
    "The challenge is to translate this into to a common language so that datasets become comparable, also from other sources. This is exactly what the ` \u0000T\u0000h\u0000a`-ontology achieves. Let's dive into building an interoperable description of the dataset:"
   ]
  },
  {
   "cell_type": "markdown",
   "id": "242551e3-7dee-4d3f-bf44-2c53e7f63b7a",
   "metadata": {},
   "source": [
    "## Describe the dataset\n",
    "\n",
    "The package `pivmetalib` has implemented the [RDF](https://www.w3.org/RDF/) vocabularies as python objects. Their parameters validated.\n",
    "\n",
    "Let's first examine this by creating the person, who created the dataset:"
   ]
  },
  {
   "cell_type": "markdown",
   "id": "6c2216e2-4985-429c-ab6e-d59c8dbebb88",
   "metadata": {},
   "source": [
    "## Author"
   ]
  },
  {
   "cell_type": "code",
   "execution_count": 3,
   "id": "e5e9a7fc-fcb4-4430-b600-cc25d9060ef6",
   "metadata": {},
   "outputs": [
    {
     "data": {
      "text/html": [
       "Person(id=_:N1b6f07b929cc4a509f95d5150e6eac31, mbox=pivnet-sig32@univ-lille1.fr, last_name=Stanislas)"
      ],
      "text/plain": [
       "Person(id=_:N1b6f07b929cc4a509f95d5150e6eac31, mbox=pivnet-sig32@univ-lille1.fr, last_name=Stanislas)"
      ]
     },
     "execution_count": 3,
     "metadata": {},
     "output_type": "execute_result"
    }
   ],
   "source": [
    "creator = prov.Person(\n",
    "    lastName='Stanislas',\n",
    "    mbox=\"pivnet-sig32@univ-lille1.fr\"\n",
    ")\n",
    "creator"
   ]
  },
  {
   "cell_type": "markdown",
   "id": "00171555-b3ce-43d1-a92d-3eb0e78447b3",
   "metadata": {},
   "source": [
    "## Camera\n",
    "\n",
    "The most important properties of a camera used for PIV is the sensor size and the lens used:"
   ]
  },
  {
   "cell_type": "code",
   "execution_count": 4,
   "id": "bfcce10e-5e1b-44d6-9b22-494d1cb9c1ea",
   "metadata": {},
   "outputs": [],
   "source": [
    "from pivmetalib import m4i\n",
    "from ontolutils import PIVMETA, QUDT_KIND"
   ]
  },
  {
   "cell_type": "markdown",
   "id": "c4be2da6-8f34-4288-aee2-5cc1394fc4c6",
   "metadata": {},
   "source": [
    "**Sensor size**"
   ]
  },
  {
   "cell_type": "code",
   "execution_count": 5,
   "id": "3b4e36eb-b692-4647-9ce0-e7e7fdfe0e15",
   "metadata": {},
   "outputs": [],
   "source": [
    "sensor_width = pivmeta.NumericalVariable(value=1008,\n",
    "                                         standard_name=\"https://matthiasprobst.github.io/pivmeta#sensor_pixel_width\")\n",
    "sensor_height = pivmeta.NumericalVariable(value=1008,\n",
    "                                         standard_name=\"https://matthiasprobst.github.io/pivmeta#sensor_pixel_width\")"
   ]
  },
  {
   "cell_type": "code",
   "execution_count": 6,
   "id": "4451f1e5-ea37-4b55-915e-ab39fd077457",
   "metadata": {},
   "outputs": [
    {
     "data": {
      "text/plain": [
       "{'id': '_:N54572e9276d048e3a351bea598a890ce',\n",
       " 'label': 'KODAK ES1.0 b & w',\n",
       " 'parameter': [{'id': '_:N40663cc2f13545618132a30183120b61', 'value': 1008},\n",
       "  {'id': '_:Ncc75f0cac0234e3bb668c448c87144b9', 'value': 1008},\n",
       "  {'id': '_:N8b968042c4354519bb9b2ac2759b2ec5',\n",
       "   'value': 9.072,\n",
       "   'unit': 'http://qudt.org/vocab/unit/MicroM',\n",
       "   'quantity_kind': 'http://qudt.org/vocab/quantitykind/Length'},\n",
       "  {'id': '_:N4e10e885f5a34a23a65d5ab1ff72c082',\n",
       "   'value': 9.07,\n",
       "   'unit': 'http://qudt.org/vocab/unit/MicroM',\n",
       "   'quantity_kind': 'http://qudt.org/vocab/quantitykind/Length'},\n",
       "  {'id': '_:N40e140eba9ea4b9bba85400072995d09',\n",
       "   'label': 'focal length',\n",
       "   'value': 35,\n",
       "   'unit': 'http://qudt.org/vocab/unit/MilliM',\n",
       "   'quantity_kind': 'http://qudt.org/vocab/quantitykind/Length',\n",
       "   'hasVariableDescription': 'Nikkor'}],\n",
       " 'hasParameter': [{'id': '_:N40663cc2f13545618132a30183120b61',\n",
       "   'value': 1008,\n",
       "   'standard_name': 'https://matthiasprobst.github.io/pivmeta#sensor_pixel_width'},\n",
       "  {'id': '_:Ncc75f0cac0234e3bb668c448c87144b9',\n",
       "   'value': 1008,\n",
       "   'standard_name': 'https://matthiasprobst.github.io/pivmeta#sensor_pixel_width'},\n",
       "  {'id': '_:N8b968042c4354519bb9b2ac2759b2ec5',\n",
       "   'value': 9.072,\n",
       "   'unit': 'http://qudt.org/vocab/unit/MicroM',\n",
       "   'quantity_kind': 'http://qudt.org/vocab/quantitykind/Length',\n",
       "   'standard_name': 'https://matthiasprobst.github.io/pivmeta#ccd_width'},\n",
       "  {'id': '_:N4e10e885f5a34a23a65d5ab1ff72c082',\n",
       "   'value': 9.07,\n",
       "   'unit': 'http://qudt.org/vocab/unit/MicroM',\n",
       "   'quantity_kind': 'http://qudt.org/vocab/quantitykind/Length',\n",
       "   'standard_name': 'https://matthiasprobst.github.io/pivmeta#ccd_height'},\n",
       "  {'id': '_:N40e140eba9ea4b9bba85400072995d09',\n",
       "   'label': 'focal length',\n",
       "   'value': 35,\n",
       "   'unit': 'http://qudt.org/vocab/unit/MilliM',\n",
       "   'quantity_kind': 'http://qudt.org/vocab/quantitykind/Length',\n",
       "   'standard_name': 'https://matthiasprobst.github.io/pivmeta#focal_length',\n",
       "   'hasVariableDescription': 'Nikkor'}],\n",
       " 'fnumber': 'f/2'}"
      ]
     },
     "execution_count": 6,
     "metadata": {},
     "output_type": "execute_result"
    }
   ],
   "source": [
    "camera = pivmeta.DigitalCamera(  # is a subclass of m4i.Tool, so use hasParameter\n",
    "    label='KODAK ES1.0 b & w',\n",
    "    fnumber='f/2',\n",
    "    hasParameter=[\n",
    "        sensor_width, sensor_height,\n",
    "        pivmeta.NumericalVariable(\n",
    "            value=9.072,\n",
    "            hasUnit='um',\n",
    "            hasKindOfQuantity=QUDT_KIND.Length,\n",
    "            standard_name=\"https://matthiasprobst.github.io/pivmeta#ccd_width\"),\n",
    "        pivmeta.NumericalVariable(\n",
    "            value=9.07,\n",
    "            hasUnit='um',\n",
    "            hasKindOfQuantity=QUDT_KIND.Length,\n",
    "            standard_name=\"https://matthiasprobst.github.io/pivmeta#ccd_height\"),\n",
    "        pivmeta.NumericalVariable(\n",
    "            label='focal length',\n",
    "            value=35,\n",
    "            hasUnit='mm',\n",
    "            hasKindOfQuantity=QUDT_KIND.Length,\n",
    "            standard_name=\"https://matthiasprobst.github.io/pivmeta#focal_length\",\n",
    "            hasVariableDescription='Nikkor')\n",
    "    ]\n",
    ")\n",
    "camera.model_dump(exclude_none=True)"
   ]
  },
  {
   "cell_type": "code",
   "execution_count": 7,
   "id": "491b1d30-8d14-4c91-b898-b3a7c57eacf9",
   "metadata": {},
   "outputs": [],
   "source": [
    "# # dont use PIVMETA better build a SNT-Namespace-like-class similar to PIVMETA\n",
    "# # consider outsourcing this to a separate package onto_utils, which let's you build namespace classes...\n",
    "\n",
    "# def standard_variable(name, value, unit):\n",
    "#     sn = PIVMETA.get(name)\n",
    "#     if unit != '':\n",
    "#         qk = get_qudt_from_string(unit)\n",
    "#         return pivmeta.NumericalVariable(value=value,\n",
    "#                                          standard_name=\"https://matthiasprobst.github.io/pivmeta#sensor_pixel_width\",\n",
    "#                                          hasUnit=unit)\n",
    "#     return pivmeta.NumericalVariable(value=value,\n",
    "#                                      standard_name=\"https://matthiasprobst.github.io/pivmeta#sensor_pixel_width\")"
   ]
  },
  {
   "cell_type": "code",
   "execution_count": 8,
   "id": "86455021-dbea-400b-968b-8347c771e78c",
   "metadata": {},
   "outputs": [],
   "source": [
    "# standard_variable('x_pixel_coordinate', 1.4, 'm/s')\n",
    "# # download the TTL file (https://matthiasprobst.github.io/pivmeta/ontology.ttl) and find out the quantity type, then verify it!"
   ]
  },
  {
   "cell_type": "code",
   "execution_count": 9,
   "id": "68541011-27fd-44f9-9fae-7d60de2e71f5",
   "metadata": {},
   "outputs": [],
   "source": [
    "# standard_variable(name='sensor_pixel_width', value=1008, unit='m/s')\n",
    "# standard_variable(name='sensor_pixel_width', value=1008, unit='') ## TODO quantity kind must be determined automatically!"
   ]
  },
  {
   "cell_type": "code",
   "execution_count": null,
   "id": "4bf19e53-b0fd-466d-83c0-6f3df05fb079",
   "metadata": {},
   "outputs": [],
   "source": []
  },
  {
   "cell_type": "markdown",
   "id": "9468f098-8c0b-440a-888d-2d52e46fd8ec",
   "metadata": {},
   "source": [
    "Note, that sometimes there is a helper method for a model class. For DigitalCamera there is:"
   ]
  },
  {
   "cell_type": "code",
   "execution_count": 10,
   "id": "db631e4a-782b-4a63-9a3b-f9c0328f8476",
   "metadata": {},
   "outputs": [
    {
     "data": {
      "text/plain": [
       "{'id': '_:N0dc756128778421fb58a235c26d0a310',\n",
       " 'label': 'KODAK ES1.0 b & w',\n",
       " 'parameter': [{'id': '_:Nac445d26829340a4aa654fbe3ee0149c',\n",
       "   'value': 35,\n",
       "   'unit': 'http://qudt.org/vocab/unit/MilliM',\n",
       "   'quantity_kind': 'http://qudt.org/vocab/quantitykind/Length'},\n",
       "  {'id': '_:N978237770d16456ba5b889870318ca84',\n",
       "   'label': 'sensor_pixel_width',\n",
       "   'value': 1008},\n",
       "  {'id': '_:Neb6f5a1b73df4c2aa5a06431fc687f1f',\n",
       "   'label': 'sensor_pixel_height',\n",
       "   'value': 1018},\n",
       "  {'id': '_:Nc7e9dc5e6b624d328ffd3a46c79a3d8d',\n",
       "   'label': 'ccd_pixel_width',\n",
       "   'value': 9.07,\n",
       "   'unit': 'http://qudt.org/vocab/unit/MicroM',\n",
       "   'quantity_kind': 'http://qudt.org/vocab/quantitykind/Length'},\n",
       "  {'id': '_:N4898d48a6b61447cb3417255a6197b4f',\n",
       "   'label': 'ccd_pixel_height',\n",
       "   'value': 9.07,\n",
       "   'unit': 'http://qudt.org/vocab/unit/MicroM',\n",
       "   'quantity_kind': 'http://qudt.org/vocab/quantitykind/Length'},\n",
       "  {'id': '_:Naeb19a8036884c3b842aa90b369d43f7',\n",
       "   'label': 'image_coding',\n",
       "   'value': '8 bits'}],\n",
       " 'hasParameter': [{'id': '_:Nac445d26829340a4aa654fbe3ee0149c',\n",
       "   'value': 35,\n",
       "   'unit': 'http://qudt.org/vocab/unit/MilliM',\n",
       "   'quantity_kind': 'http://qudt.org/vocab/quantitykind/Length',\n",
       "   'standard_name': 'https://matthiasprobst.github.io/pivmeta#focal_length'},\n",
       "  {'id': '_:N978237770d16456ba5b889870318ca84',\n",
       "   'label': 'sensor_pixel_width',\n",
       "   'value': 1008,\n",
       "   'standard_name': 'https://matthiasprobst.github.io/pivmeta#sensor_pixel_width'},\n",
       "  {'id': '_:Neb6f5a1b73df4c2aa5a06431fc687f1f',\n",
       "   'label': 'sensor_pixel_height',\n",
       "   'value': 1018,\n",
       "   'standard_name': 'https://matthiasprobst.github.io/pivmeta#sensor_pixel_height'},\n",
       "  {'id': '_:Nc7e9dc5e6b624d328ffd3a46c79a3d8d',\n",
       "   'label': 'ccd_pixel_width',\n",
       "   'value': 9.07,\n",
       "   'unit': 'http://qudt.org/vocab/unit/MicroM',\n",
       "   'quantity_kind': 'http://qudt.org/vocab/quantitykind/Length',\n",
       "   'standard_name': 'https://matthiasprobst.github.io/pivmeta#ccd_width'},\n",
       "  {'id': '_:N4898d48a6b61447cb3417255a6197b4f',\n",
       "   'label': 'ccd_pixel_height',\n",
       "   'value': 9.07,\n",
       "   'unit': 'http://qudt.org/vocab/unit/MicroM',\n",
       "   'quantity_kind': 'http://qudt.org/vocab/quantitykind/Length',\n",
       "   'standard_name': 'https://matthiasprobst.github.io/pivmeta#ccd_height'},\n",
       "  {'id': '_:Naeb19a8036884c3b842aa90b369d43f7',\n",
       "   'label': 'image_coding',\n",
       "   'value': '8 bits'}],\n",
       " 'fnumber': 'f/2'}"
      ]
     },
     "execution_count": 10,
     "metadata": {},
     "output_type": "execute_result"
    }
   ],
   "source": [
    "cam = pivmeta.DigitalCamera.build_minimal(\n",
    "    label='KODAK ES1.0 b & w',\n",
    "    sensor_pixel_size=[1008, 1018],\n",
    "    ccd_pixel_size_um=[9.07, 9.07],\n",
    "    fnumber='f/2',\n",
    "    focal_length_mm=35,\n",
    "    image_coding='8 bits'\n",
    ")\n",
    "cam.model_dump(exclude_none=True)"
   ]
  },
  {
   "cell_type": "code",
   "execution_count": 11,
   "id": "fe957f2d-3f97-4190-a7dc-d6ebf02a2ca7",
   "metadata": {},
   "outputs": [
    {
     "data": {
      "text/html": [
       "DigitalCamera(id=_:N0dc756128778421fb58a235c26d0a310, label=KODAK ES1.0 b & w, parameter=[NumericalVariable(id=_:Nac445d26829340a4aa654fbe3ee0149c, value=35, unit=http://qudt.org/vocab/unit/MilliM, quantity_kind=http://qudt.org/vocab/quantitykind/Length, standard_name=https://matthiasprobst.github.io/pivmeta#focal_length), NumericalVariable(id=_:N978237770d16456ba5b889870318ca84, label=sensor_pixel_width, value=1008, standard_name=https://matthiasprobst.github.io/pivmeta#sensor_pixel_width), NumericalVariable(id=_:Neb6f5a1b73df4c2aa5a06431fc687f1f, label=sensor_pixel_height, value=1018, standard_name=https://matthiasprobst.github.io/pivmeta#sensor_pixel_height), NumericalVariable(id=_:Nc7e9dc5e6b624d328ffd3a46c79a3d8d, label=ccd_pixel_width, value=9.07, unit=http://qudt.org/vocab/unit/MicroM, quantity_kind=http://qudt.org/vocab/quantitykind/Length, standard_name=https://matthiasprobst.github.io/pivmeta#ccd_width), NumericalVariable(id=_:N4898d48a6b61447cb3417255a6197b4f, label=ccd_pixel_height, value=9.07, unit=http://qudt.org/vocab/unit/MicroM, quantity_kind=http://qudt.org/vocab/quantitykind/Length, standard_name=https://matthiasprobst.github.io/pivmeta#ccd_height), TextVariable(id=_:Naeb19a8036884c3b842aa90b369d43f7, label=image_coding, value=8 bits)], hasParameter=[NumericalVariable(id=_:Nac445d26829340a4aa654fbe3ee0149c, value=35, unit=http://qudt.org/vocab/unit/MilliM, quantity_kind=http://qudt.org/vocab/quantitykind/Length, standard_name=https://matthiasprobst.github.io/pivmeta#focal_length), NumericalVariable(id=_:N978237770d16456ba5b889870318ca84, label=sensor_pixel_width, value=1008, standard_name=https://matthiasprobst.github.io/pivmeta#sensor_pixel_width), NumericalVariable(id=_:Neb6f5a1b73df4c2aa5a06431fc687f1f, label=sensor_pixel_height, value=1018, standard_name=https://matthiasprobst.github.io/pivmeta#sensor_pixel_height), NumericalVariable(id=_:Nc7e9dc5e6b624d328ffd3a46c79a3d8d, label=ccd_pixel_width, value=9.07, unit=http://qudt.org/vocab/unit/MicroM, quantity_kind=http://qudt.org/vocab/quantitykind/Length, standard_name=https://matthiasprobst.github.io/pivmeta#ccd_width), NumericalVariable(id=_:N4898d48a6b61447cb3417255a6197b4f, label=ccd_pixel_height, value=9.07, unit=http://qudt.org/vocab/unit/MicroM, quantity_kind=http://qudt.org/vocab/quantitykind/Length, standard_name=https://matthiasprobst.github.io/pivmeta#ccd_height), TextVariable(id=_:Naeb19a8036884c3b842aa90b369d43f7, label=image_coding, value=8 bits)], fnumber=f/2)"
      ],
      "text/plain": [
       "DigitalCamera(id=_:N0dc756128778421fb58a235c26d0a310, label=KODAK ES1.0 b & w, parameter=[NumericalVariable(id=_:Nac445d26829340a4aa654fbe3ee0149c, value=35, unit=http://qudt.org/vocab/unit/MilliM, quantity_kind=http://qudt.org/vocab/quantitykind/Length, standard_name=https://matthiasprobst.github.io/pivmeta#focal_length), NumericalVariable(id=_:N978237770d16456ba5b889870318ca84, label=sensor_pixel_width, value=1008, standard_name=https://matthiasprobst.github.io/pivmeta#sensor_pixel_width), NumericalVariable(id=_:Neb6f5a1b73df4c2aa5a06431fc687f1f, label=sensor_pixel_height, value=1018, standard_name=https://matthiasprobst.github.io/pivmeta#sensor_pixel_height), NumericalVariable(id=_:Nc7e9dc5e6b624d328ffd3a46c79a3d8d, label=ccd_pixel_width, value=9.07, unit=http://qudt.org/vocab/unit/MicroM, quantity_kind=http://qudt.org/vocab/quantitykind/Length, standard_name=https://matthiasprobst.github.io/pivmeta#ccd_width), NumericalVariable(id=_:N4898d48a6b61447cb3417255a6197b4f, label=ccd_pixel_height, value=9.07, unit=http://qudt.org/vocab/unit/MicroM, quantity_kind=http://qudt.org/vocab/quantitykind/Length, standard_name=https://matthiasprobst.github.io/pivmeta#ccd_height), TextVariable(id=_:Naeb19a8036884c3b842aa90b369d43f7, label=image_coding, value=8 bits)], hasParameter=[NumericalVariable(id=_:Nac445d26829340a4aa654fbe3ee0149c, value=35, unit=http://qudt.org/vocab/unit/MilliM, quantity_kind=http://qudt.org/vocab/quantitykind/Length, standard_name=https://matthiasprobst.github.io/pivmeta#focal_length), NumericalVariable(id=_:N978237770d16456ba5b889870318ca84, label=sensor_pixel_width, value=1008, standard_name=https://matthiasprobst.github.io/pivmeta#sensor_pixel_width), NumericalVariable(id=_:Neb6f5a1b73df4c2aa5a06431fc687f1f, label=sensor_pixel_height, value=1018, standard_name=https://matthiasprobst.github.io/pivmeta#sensor_pixel_height), NumericalVariable(id=_:Nc7e9dc5e6b624d328ffd3a46c79a3d8d, label=ccd_pixel_width, value=9.07, unit=http://qudt.org/vocab/unit/MicroM, quantity_kind=http://qudt.org/vocab/quantitykind/Length, standard_name=https://matthiasprobst.github.io/pivmeta#ccd_width), NumericalVariable(id=_:N4898d48a6b61447cb3417255a6197b4f, label=ccd_pixel_height, value=9.07, unit=http://qudt.org/vocab/unit/MicroM, quantity_kind=http://qudt.org/vocab/quantitykind/Length, standard_name=https://matthiasprobst.github.io/pivmeta#ccd_height), TextVariable(id=_:Naeb19a8036884c3b842aa90b369d43f7, label=image_coding, value=8 bits)], fnumber=f/2)"
      ]
     },
     "execution_count": 11,
     "metadata": {},
     "output_type": "execute_result"
    }
   ],
   "source": [
    "cam"
   ]
  },
  {
   "cell_type": "markdown",
   "id": "0e21fd07-8a4d-43ae-8634-acc3c90bc547",
   "metadata": {},
   "source": [
    "Now, let's describe the complete dataset:"
   ]
  },
  {
   "cell_type": "code",
   "execution_count": 12,
   "id": "1eacfb97-fad6-4abd-bd8f-d6b24d267e04",
   "metadata": {},
   "outputs": [],
   "source": [
    "ds = dcat.Dataset(\n",
    "    title='piv-challenge-1-C',\n",
    "    creator=creator,\n",
    "    modified=\"2000-10-28\",\n",
    "    landingPage=\"https://www.pivchallenge.org/pub/index.html#c\",\n",
    "    description=\"Different velocity gradients with spatially varying image quality (provided by Okamoto) < synthetic > [256 x 128]\",\n",
    "    distribution=[\n",
    "        pivmeta.PivImageDistribution(\n",
    "            title='Raw piv image data',\n",
    "            downloadURL='https://www.pivchallenge.org/pub/C/C.zip',\n",
    "            mediaType='https://www.iana.org/assignments/media-types/image/tiff',\n",
    "            compressedFormat='application/zip',\n",
    "            pivImageType=PIVMETA.SyntheticImage,\n",
    "            numberOfRecords=1,  # It contains one double image\n",
    "            filenamePattern=r\"C[0-9][0-9][0-9]_[1,2].tif\",  # the regex for the filename\n",
    "            imageBitDepth=8\n",
    "        ),\n",
    "        pivmeta.PivMaskDistribution(\n",
    "            title='Mask file',\n",
    "            downloadURL='https://www.pivchallenge.org/pub/C/C.zip',\n",
    "            compressedFormat='application/zip',  # https://www.w3.org/TR/vocab-dcat-2/#Property:distribution_compression_format\n",
    "            mediaType='https://www.iana.org/assignments/media-types/image/tiff',\n",
    "            filenamePattern=\"Cmask_1.tif\"  # for compressed data\n",
    "        ),\n",
    "        dcat.Distribution(\n",
    "            title='ReadMe file',\n",
    "            downloadURL='https://www.pivchallenge.org/pub/E/readmeE.txt'\n",
    "        ),\n",
    "    ]\n",
    ")"
   ]
  },
  {
   "cell_type": "markdown",
   "id": "e9dba1ce-0972-40de-893b-d0057e66e101",
   "metadata": {},
   "source": [
    "## Export to JSON-LD\n",
    "\n",
    "The dataset python object can be written to JSON-LD like so:"
   ]
  },
  {
   "cell_type": "code",
   "execution_count": 13,
   "id": "37b97566-0949-40f8-847a-24b8260d305b",
   "metadata": {},
   "outputs": [
    {
     "name": "stdout",
     "output_type": "stream",
     "text": [
      "{\n",
      "    \"@context\": {\n",
      "        \"owl\": \"http://www.w3.org/2002/07/owl#\",\n",
      "        \"rdfs\": \"http://www.w3.org/2000/01/rdf-schema#\",\n",
      "        \"dcat\": \"http://www.w3.org/ns/dcat#\",\n",
      "        \"dcterms\": \"http://purl.org/dc/terms/\",\n",
      "        \"prov\": \"http://www.w3.org/ns/prov#\",\n",
      "        \"@import\": \"https://raw.githubusercontent.com/matthiasprobst/pivmeta/main/pivmeta_context.jsonld\",\n",
      "        \"foaf\": \"http://xmlns.com/foaf/0.1/\",\n",
      "        \"m4i\": \"http://w3id.org/nfdi4ing/metadata4ing#\",\n",
      "        \"schema\": \"https://schema.org/\",\n",
      "        \"pivmeta\": \"https://matthiasprobst.github.io/pivmeta#\"\n",
      "    },\n",
      "    \"@type\": \"dcat:Dataset\",\n",
      "    \"dcterms:title\": \"piv-challenge-1-C\",\n",
      "    \"dcterms:description\": \"Different velocity gradients with spatially varying image quality (provided by Okamoto) < synthetic > [256 x 128]\",\n",
      "    \"dcterms:creator\": {\n",
      "        \"@type\": \"prov:Person\",\n",
      "        \"foaf:mbox\": \"pivnet-sig32@univ-lille1.fr\",\n",
      "        \"foaf:lastName\": \"Stanislas\",\n",
      "        \"@id\": \"_:N1b6f07b929cc4a509f95d5150e6eac31\"\n",
      "    },\n",
      "    \"dcat:distribution\": [\n",
      "        {\n",
      "            \"@type\": \"pivmeta:PivImageDistribution\",\n",
      "            \"dcterms:title\": \"Raw piv image data\",\n",
      "            \"dcat:downloadURL\": \"https://www.pivchallenge.org/pub/C/C.zip\",\n",
      "            \"dcat:mediaType\": \"https://www.iana.org/assignments/media-types/image/tiff\",\n",
      "            \"pivmeta:filenamePattern\": \"C[0-9][0-9][0-9]_[1,2].tif\",\n",
      "            \"pivmeta:pivImageType\": \"https://matthiasprobst.github.io/pivmeta#SyntheticImage\",\n",
      "            \"pivmeta:imageBitDepth\": 8,\n",
      "            \"pivmeta:numberOfRecords\": 1,\n",
      "            \"compressedFormat\": \"application/zip\",\n",
      "            \"@id\": \"_:N2dbba4f850d14f838780b853bfbf4894\"\n",
      "        },\n",
      "        {\n",
      "            \"@type\": \"pivmeta:PivMaskDistribution\",\n",
      "            \"dcterms:title\": \"Mask file\",\n",
      "            \"dcat:downloadURL\": \"https://www.pivchallenge.org/pub/C/C.zip\",\n",
      "            \"dcat:mediaType\": \"https://www.iana.org/assignments/media-types/image/tiff\",\n",
      "            \"pivmeta:filenamePattern\": \"Cmask_1.tif\",\n",
      "            \"compressedFormat\": \"application/zip\",\n",
      "            \"@id\": \"_:N764915bc0c89400599d2d91c5d232412\"\n",
      "        },\n",
      "        {\n",
      "            \"@type\": \"dcat:Distribution\",\n",
      "            \"dcterms:title\": \"ReadMe file\",\n",
      "            \"dcat:downloadURL\": \"https://www.pivchallenge.org/pub/E/readmeE.txt\",\n",
      "            \"@id\": \"_:Nf0d57df818bd4292a41b49416d193975\"\n",
      "        }\n",
      "    ],\n",
      "    \"dcterms:modified\": \"2000-10-28T00:00:00\",\n",
      "    \"dcat:landingPage\": \"https://www.pivchallenge.org/pub/index.html#c\",\n",
      "    \"@id\": \"_:N4b73f581a47d44f4a6459aabe0e97110\"\n",
      "}\n"
     ]
    }
   ],
   "source": [
    "with open('piv_challenge.jsonld', 'w') as f:\n",
    "    json_ld_str = ds.model_dump_jsonld(\n",
    "        context={\"@import\": \"https://raw.githubusercontent.com/matthiasprobst/pivmeta/main/pivmeta_context.jsonld\"}\n",
    "    )\n",
    "    f.write(json_ld_str)\n",
    "print(json_ld_str)"
   ]
  },
  {
   "cell_type": "markdown",
   "id": "6eb9939b-2c41-4d0c-b1cd-52bbb419f077",
   "metadata": {},
   "source": [
    "## Re-use the dataset\n",
    "\n",
    "Now, that we have written the metadata to the file, we would like to reuse it, i.e. identify specific data"
   ]
  },
  {
   "cell_type": "markdown",
   "id": "c2314b00-fad5-4302-8b47-f61648fa344c",
   "metadata": {},
   "source": [
    "### Find distribution within JSON-LD file"
   ]
  },
  {
   "cell_type": "code",
   "execution_count": 14,
   "id": "395c58b1-d3be-41ac-880c-44facadb4f2e",
   "metadata": {},
   "outputs": [],
   "source": [
    "import ontolutils"
   ]
  },
  {
   "cell_type": "code",
   "execution_count": 15,
   "id": "0442ce6b-6631-408a-88b4-3e6883889df1",
   "metadata": {},
   "outputs": [
    {
     "data": {
      "text/plain": [
       "{'id': '_:N4b73f581a47d44f4a6459aabe0e97110',\n",
       " 'title': 'piv-challenge-1-C',\n",
       " 'description': 'Different velocity gradients with spatially varying image quality (provided by Okamoto) < synthetic > [256 x 128]',\n",
       " 'creator': {'id': '_:Ne3c4e5ffc7ae4735aae87efcce4e2de7',\n",
       "  'mbox': 'pivnet-sig32@univ-lille1.fr',\n",
       "  'type': 'http://www.w3.org/ns/prov#Person'},\n",
       " 'distribution': [{'id': '_:N90d650c377db4dfdbb0ef78a92b7cb97',\n",
       "   'title': 'Raw piv image data',\n",
       "   'download_URL': Url('https://www.pivchallenge.org/pub/C/C.zip'),\n",
       "   'media_type': Url('https://www.iana.org/assignments/media-types/image/tiff'),\n",
       "   'pivImageType': 'https://matthiasprobst.github.io/pivmeta#SyntheticImage',\n",
       "   'compressedFormat': 'application/zip',\n",
       "   'type': 'https://matthiasprobst.github.io/pivmeta#PivImageDistribution',\n",
       "   'imageBitDepth': '8',\n",
       "   'filenamePattern': 'C[0-9][0-9][0-9]_[1,2].tif',\n",
       "   'numberOfRecords': '1'},\n",
       "  {'id': '_:N68b0d806384e48a69fb7e65c242e8458',\n",
       "   'title': 'Mask file',\n",
       "   'download_URL': Url('https://www.pivchallenge.org/pub/C/C.zip'),\n",
       "   'media_type': Url('https://www.iana.org/assignments/media-types/image/tiff'),\n",
       "   'type': 'https://matthiasprobst.github.io/pivmeta#PivMaskDistribution',\n",
       "   'filenamePattern': 'Cmask_1.tif',\n",
       "   'compressedFormat': 'application/zip'},\n",
       "  {'id': '_:N8b61a579c0c04804aee80e09aab5beab',\n",
       "   'title': 'ReadMe file',\n",
       "   'download_URL': Url('https://www.pivchallenge.org/pub/E/readmeE.txt'),\n",
       "   'type': 'http://www.w3.org/ns/dcat#Distribution'}],\n",
       " 'modified': datetime.datetime(2000, 10, 28, 0, 0),\n",
       " 'landing_page': Url('https://www.pivchallenge.org/pub/index.html#c')}"
      ]
     },
     "execution_count": 15,
     "metadata": {},
     "output_type": "execute_result"
    }
   ],
   "source": [
    "ds = dcat.Dataset.from_jsonld(source='piv_challenge.jsonld', limit=1)\n",
    "ds.model_dump(exclude_none=True)"
   ]
  },
  {
   "cell_type": "code",
   "execution_count": 16,
   "id": "0a84a12c-ba5b-4357-80a9-9ae7e61eca2b",
   "metadata": {},
   "outputs": [
    {
     "data": {
      "text/html": [
       "Person(id=_:Ne3c4e5ffc7ae4735aae87efcce4e2de7, mbox=pivnet-sig32@univ-lille1.fr, last_name=Stanislas, type=http://www.w3.org/ns/prov#Person)"
      ],
      "text/plain": [
       "Person(id=_:Ne3c4e5ffc7ae4735aae87efcce4e2de7, mbox=pivnet-sig32@univ-lille1.fr, last_name=Stanislas, type=http://www.w3.org/ns/prov#Person)"
      ]
     },
     "execution_count": 16,
     "metadata": {},
     "output_type": "execute_result"
    }
   ],
   "source": [
    "ds.creator"
   ]
  },
  {
   "cell_type": "code",
   "execution_count": 17,
   "id": "e420e343-295a-4416-9af0-eeb554f2cd3c",
   "metadata": {},
   "outputs": [
    {
     "data": {
      "text/html": [
       "PivImageDistribution(https://www.pivchallenge.org/pub/C/C.zip)"
      ],
      "text/plain": [
       "PivImageDistribution(id=_:N2dbba4f850d14f838780b853bfbf4894, title=Raw piv image data, download_URL=https://www.pivchallenge.org/pub/C/C.zip, media_type=https://www.iana.org/assignments/media-types/image/tiff, filenamePattern=C[0-9][0-9][0-9]_[1,2].tif, piv_image_type=https://matthiasprobst.github.io/pivmeta#SyntheticImage, image_bit_depth=8, number_of_records=1, compressedFormat=application/zip)"
      ]
     },
     "execution_count": 17,
     "metadata": {},
     "output_type": "execute_result"
    }
   ],
   "source": [
    "image_dist = pivmeta.PivImageDistribution.from_jsonld(source='piv_challenge.jsonld', limit=1)\n",
    "image_dist"
   ]
  },
  {
   "cell_type": "code",
   "execution_count": 18,
   "id": "b2c45147-d0ec-4d80-bb8a-ec27fca009cb",
   "metadata": {},
   "outputs": [
    {
     "name": "stdout",
     "output_type": "stream",
     "text": [
      "{'access_URL': None,\n",
      " 'byte_size': None,\n",
      " 'compressedFormat': 'application/zip',\n",
      " 'creator': None,\n",
      " 'description': None,\n",
      " 'download_URL': Url('https://www.pivchallenge.org/pub/C/C.zip'),\n",
      " 'filenamePattern': 'C[0-9][0-9][0-9]_[1,2].tif',\n",
      " 'id': '_:N2dbba4f850d14f838780b853bfbf4894',\n",
      " 'identifier': None,\n",
      " 'image_bit_depth': 8,\n",
      " 'keyword': None,\n",
      " 'label': None,\n",
      " 'media_type': Url('https://www.iana.org/assignments/media-types/image/tiff'),\n",
      " 'number_of_records': 1,\n",
      " 'piv_image_type': Url('https://matthiasprobst.github.io/pivmeta#SyntheticImage'),\n",
      " 'title': 'Raw piv image data',\n",
      " 'version': None}\n"
     ]
    }
   ],
   "source": [
    "from pprint import pprint\n",
    "pprint(image_dist.model_dump())"
   ]
  },
  {
   "cell_type": "code",
   "execution_count": 19,
   "id": "98895025-b89e-4a48-8352-6224c25685a5",
   "metadata": {},
   "outputs": [],
   "source": [
    "zip_filename = image_dist.download(dest_filename='imgs.zip', overwrite_existing=False)"
   ]
  },
  {
   "cell_type": "code",
   "execution_count": 20,
   "id": "8b86e581-b4e7-4b81-9f1a-e53e3553fe6a",
   "metadata": {},
   "outputs": [],
   "source": [
    "import zipfile\n",
    "import pathlib\n",
    "\n",
    "with zipfile.ZipFile(zip_filename, 'r') as zip_ref:\n",
    "    zip_ref.extractall('imgs')"
   ]
  },
  {
   "cell_type": "code",
   "execution_count": 21,
   "id": "4adfe7fa-2c15-4c2b-8057-c3bd75cde80d",
   "metadata": {},
   "outputs": [
    {
     "data": {
      "text/plain": [
       "False"
      ]
     },
     "execution_count": 21,
     "metadata": {},
     "output_type": "execute_result"
    }
   ],
   "source": [
    "image_dist.is_synthetic()"
   ]
  },
  {
   "cell_type": "code",
   "execution_count": 22,
   "id": "f73bb55d-9025-4b90-ba68-0bd14c460d2d",
   "metadata": {},
   "outputs": [
    {
     "data": {
      "text/html": [
       "PivMaskDistribution(https://www.pivchallenge.org/pub/C/C.zip)"
      ],
      "text/plain": [
       "PivMaskDistribution(id=_:N764915bc0c89400599d2d91c5d232412, title=Mask file, download_URL=https://www.pivchallenge.org/pub/C/C.zip, media_type=https://www.iana.org/assignments/media-types/image/tiff, filenamePattern=Cmask_1.tif, compressedFormat=application/zip)"
      ]
     },
     "execution_count": 22,
     "metadata": {},
     "output_type": "execute_result"
    }
   ],
   "source": [
    "mask_dist = pivmeta.PivMaskDistribution.from_jsonld(source='piv_challenge.jsonld', limit=1)\n",
    "mask_dist"
   ]
  },
  {
   "cell_type": "code",
   "execution_count": 23,
   "id": "51c2ab44-6eff-451e-b0ad-4b5ecc88fcfe",
   "metadata": {},
   "outputs": [
    {
     "data": {
      "text/plain": [
       "[WindowsPath('imgs/Cmask_1.tif')]"
      ]
     },
     "execution_count": 23,
     "metadata": {},
     "output_type": "execute_result"
    }
   ],
   "source": [
    "filenames = sorted(pathlib.Path('imgs').glob(mask_dist.filenamePattern))\n",
    "filenames"
   ]
  },
  {
   "cell_type": "code",
   "execution_count": null,
   "id": "5f7497f8-2dc5-4eb6-9d53-c46910d71c09",
   "metadata": {},
   "outputs": [],
   "source": []
  }
 ],
 "metadata": {
  "kernelspec": {
   "display_name": "Python 3 (ipykernel)",
   "language": "python",
   "name": "python3"
  },
  "language_info": {
   "codemirror_mode": {
    "name": "ipython",
    "version": 3
   },
   "file_extension": ".py",
   "mimetype": "text/x-python",
   "name": "python",
   "nbconvert_exporter": "python",
   "pygments_lexer": "ipython3",
   "version": "3.8.20"
  }
 },
 "nbformat": 4,
 "nbformat_minor": 5
}
