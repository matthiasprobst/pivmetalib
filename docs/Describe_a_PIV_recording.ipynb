{
 "cells": [
  {
   "cell_type": "markdown",
   "id": "992bbf41-bfc8-45fa-ab30-53ad3e8d7f33",
   "metadata": {},
   "source": [
    "# Describe a PIV recording\n",
    "\n",
    "\n",
    "Let's say you recorded multiple PIV images and put everything into a *ZIP* folder. The following shows how such a dataset can be described. As a real-world example we use a dataset from the \"PIV Challenge\":"
   ]
  },
  {
   "cell_type": "code",
   "execution_count": 1,
   "id": "713bc33c-ebf1-433b-b0ec-7ddb2236e41a",
   "metadata": {},
   "outputs": [],
   "source": [
    "from pivmetalib.prov import Person\n",
    "from pivmetalib.dcat import Dataset, Distribution\n",
    "from pivmetalib.pivmeta import PivImageDistribution\n",
    "from pivmetalib.namespace import PIVMETA "
   ]
  },
  {
   "cell_type": "markdown",
   "id": "242551e3-7dee-4d3f-bf44-2c53e7f63b7a",
   "metadata": {},
   "source": [
    "A PIV Dataset can be described with `dcat:Dataset`. Two distributions are relevant for this example:\n",
    "\n",
    "- Images: The images in a zip folder. Use pivmeta ontology class `pivmeta:PIVImageDistribution`\n",
    "- Readme file: A plain text file, use `dcat:Distribution`"
   ]
  },
  {
   "cell_type": "code",
   "execution_count": 2,
   "id": "1eacfb97-fad6-4abd-bd8f-d6b24d267e04",
   "metadata": {},
   "outputs": [],
   "source": [
    "ds = Dataset(\n",
    "    title='piv-challenge-1-C',\n",
    "    creator=Person(last_name='Okamoto', mbox=\"okamoto@tokai.t.u-tokyo.ac.jp\"),\n",
    "    modified=\"2000-10-28\",\n",
    "    landingPage=\"https://www.pivchallenge.org/pub/index.html#c\",\n",
    "    description=\"Different velocity gradients with spatially varying image quality (provided Okamoto) < synthetic > [256 x 128]\",\n",
    "    distribution=[\n",
    "        PivImageDistribution(\n",
    "            title='raw data',\n",
    "            download_URL='https://www.pivchallenge.org/pub/C/C.zip',\n",
    "            media_type='application/zip',\n",
    "            piv_image_type=PIVMETA.SyntheticImage\n",
    "        ),\n",
    "        Distribution(\n",
    "            title='ReadMe file',\n",
    "            download_URL='https://www.pivchallenge.org/pub/E/readmeE.txt'\n",
    "        ),\n",
    "    ]\n",
    ")"
   ]
  },
  {
   "cell_type": "code",
   "execution_count": 3,
   "id": "3ef451b7-3651-4983-8b83-09646bc78e23",
   "metadata": {},
   "outputs": [
    {
     "name": "stdout",
     "output_type": "stream",
     "text": [
      "{\n",
      "    \"@context\": {\n",
      "        \"@import\": \"https://raw.githubusercontent.com/matthiasprobst/pivmeta/main/pivmeta_context.jsonld\"\n",
      "    },\n",
      "    \"@graph\": [\n",
      "        {\n",
      "            \"@id\": \"https://www.pivchallenge.org/pub/index.html#c\",\n",
      "            \"@type\": \"ssno:Dataset\",\n",
      "            \"creator\": {\n",
      "                \"@id\": \"_:Nbbcec641b42b4f61a418d8913a966d75\"\n",
      "            },\n",
      "            \"description\": \"Different velocity gradients with spatially varying image quality (provided Okamoto) < synthetic > [256 x 128]\",\n",
      "            \"distribution\": [\n",
      "                {\n",
      "                    \"@id\": \"_:N95ca799eb945444783605e3cd576c317\"\n",
      "                },\n",
      "                {\n",
      "                    \"@id\": \"_:Nf3f93c8730164138a6fb0582dd2126c8\"\n",
      "                }\n",
      "            ],\n",
      "            \"landingPage\": \"https://www.pivchallenge.org/pub/index.html#c\",\n",
      "            \"modified\": \"2000-10-28T00:00:00\",\n",
      "            \"title\": \"piv-challenge-1-C\"\n",
      "        },\n",
      "        {\n",
      "            \"@id\": \"_:Nbbcec641b42b4f61a418d8913a966d75\",\n",
      "            \"@type\": \"ssno:Person\",\n",
      "            \"last_name\": \"Okamoto\",\n",
      "            \"mbox\": \"okamoto@tokai.t.u-tokyo.ac.jp\"\n",
      "        },\n",
      "        {\n",
      "            \"@id\": \"_:N95ca799eb945444783605e3cd576c317\",\n",
      "            \"@type\": \"ssno:PivImageDistribution\",\n",
      "            \"download_URL\": \"https://www.pivchallenge.org/pub/C/C.zip\",\n",
      "            \"media_type\": \"https://www.iana.org/assignments/media-types/application/zip\",\n",
      "            \"piv_image_type\": \"https://matthiasprobst.github.io/pivmeta#SyntheticImage\",\n",
      "            \"title\": \"raw data\"\n",
      "        },\n",
      "        {\n",
      "            \"@id\": \"_:Nf3f93c8730164138a6fb0582dd2126c8\",\n",
      "            \"@type\": \"ssno:Distribution\",\n",
      "            \"download_URL\": \"https://www.pivchallenge.org/pub/E/readmeE.txt\",\n",
      "            \"title\": \"ReadMe file\"\n",
      "        }\n",
      "    ]\n",
      "}\n"
     ]
    }
   ],
   "source": [
    "print(ds.dump_jsonld(id='https://www.pivchallenge.org/pub/index.html#c'))"
   ]
  },
  {
   "cell_type": "code",
   "execution_count": null,
   "id": "dbf4350d-b456-4cb4-aec9-cedea828285f",
   "metadata": {},
   "outputs": [],
   "source": []
  }
 ],
 "metadata": {
  "kernelspec": {
   "display_name": "Python 3 (ipykernel)",
   "language": "python",
   "name": "python3"
  },
  "language_info": {
   "codemirror_mode": {
    "name": "ipython",
    "version": 3
   },
   "file_extension": ".py",
   "mimetype": "text/x-python",
   "name": "python",
   "nbconvert_exporter": "python",
   "pygments_lexer": "ipython3",
   "version": "3.8.18"
  }
 },
 "nbformat": 4,
 "nbformat_minor": 5
}
