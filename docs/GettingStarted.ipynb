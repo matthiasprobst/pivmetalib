{
 "cells": [
  {
   "cell_type": "markdown",
   "id": "15904eef-ef3d-4e76-aa58-0759ffb7fd13",
   "metadata": {},
   "source": [
    "# Getting started\n",
    "\n",
    "The `pivmetalib` implements many (but not all) classes for various ontologies and vocabularies used in the ontology [\"pivmeta\"](https://matthiasprobst.github.io/pivmeta/).\n",
    "\n",
    "Let's find out, what that means for the description of a Person (A person can be described by the PROV namespace: https://www.w3.org/ns/prov)"
   ]
  },
  {
   "cell_type": "code",
   "execution_count": 1,
   "id": "0fa028b3-85a9-4361-a708-0e3d1b0f7b06",
   "metadata": {},
   "outputs": [],
   "source": [
    "from pivmetalib import prov"
   ]
  },
  {
   "cell_type": "code",
   "execution_count": 2,
   "id": "b2c3c084-8a98-48db-ac33-92d4768eccf8",
   "metadata": {},
   "outputs": [
    {
     "data": {
      "text/html": [
       "Person(mbox=okamoto@tokai.t.u-tokyo.ac.jp, lastName=Okamoto)"
      ],
      "text/plain": [
       "Person(mbox=okamoto@tokai.t.u-tokyo.ac.jp, lastName=Okamoto)"
      ]
     },
     "execution_count": 2,
     "metadata": {},
     "output_type": "execute_result"
    }
   ],
   "source": [
    "creator = prov.Person(\n",
    "    lastName='Okamoto',\n",
    "    mbox=\"okamoto@tokai.t.u-tokyo.ac.jp\"\n",
    ")\n",
    "creator"
   ]
  },
  {
   "cell_type": "markdown",
   "id": "d77faac2-f249-4161-9112-ebfcd959b722",
   "metadata": {},
   "source": [
    "**What's behind the class:** Each class is inherited from the `pydantic.BaseModel`. The package [`pydantic`](https://docs.pydantic.dev/latest/) allows validating the attributes of a class.\n",
    "\n",
    "Here's a minimal example of how such a class is built:"
   ]
  },
  {
   "cell_type": "code",
   "execution_count": 3,
   "id": "dfedd1d0-8a44-4ed6-9861-aaed7b6ad769",
   "metadata": {},
   "outputs": [
    {
     "data": {
      "text/plain": [
       "MyPerson(name='John Doe', age=34, website=None)"
      ]
     },
     "execution_count": 3,
     "metadata": {},
     "output_type": "execute_result"
    }
   ],
   "source": [
    "import pydantic\n",
    "\n",
    "class MyPerson(pydantic.BaseModel):\n",
    "    name: str\n",
    "    age: int\n",
    "    website: pydantic.HttpUrl=None\n",
    "\n",
    "jd = MyPerson(name='John Doe', age=34)\n",
    "jd"
   ]
  },
  {
   "cell_type": "markdown",
   "id": "0e0e8197-f394-4dc5-8f0a-4308c254e93e",
   "metadata": {},
   "source": [
    "See, very simple but effective. Let's provoke an error by passing an invalid website URL:"
   ]
  },
  {
   "cell_type": "code",
   "execution_count": 4,
   "id": "11064ec1-f6cd-4a9f-b5fe-e1337d47b809",
   "metadata": {},
   "outputs": [
    {
     "name": "stdout",
     "output_type": "stream",
     "text": [
      "1 validation error for MyPerson\n",
      "website\n",
      "  Input should be a valid URL, relative URL without a base [type=url_parsing, input_value='invalid.de', input_type=str]\n",
      "    For further information visit https://errors.pydantic.dev/2.6/v/url_parsing\n"
     ]
    }
   ],
   "source": [
    "try:\n",
    "    MyPerson(name='John Doe', age=34, website='invalid.de')\n",
    "except pydantic.ValidationError as e:\n",
    "    print(e)"
   ]
  },
  {
   "cell_type": "markdown",
   "id": "22fa6990-2b80-4d94-a92e-35624828bd56",
   "metadata": {},
   "source": [
    "We could improve the model by using other built-in validators, like `PositiveInt` to ensure, that age is always positive:"
   ]
  },
  {
   "cell_type": "code",
   "execution_count": 5,
   "id": "63c2bc1b-175c-4a08-970f-35d913d80733",
   "metadata": {},
   "outputs": [],
   "source": [
    "class MyPerson(pydantic.BaseModel):\n",
    "    name: str\n",
    "    age: pydantic.PositiveInt\n",
    "    website: pydantic.HttpUrl=None"
   ]
  },
  {
   "cell_type": "code",
   "execution_count": 6,
   "id": "5b59866f-9a01-4ccd-90a9-cb317f0f2521",
   "metadata": {},
   "outputs": [
    {
     "name": "stdout",
     "output_type": "stream",
     "text": [
      "1 validation error for MyPerson\n",
      "age\n",
      "  Input should be greater than 0 [type=greater_than, input_value=-4, input_type=int]\n",
      "    For further information visit https://errors.pydantic.dev/2.6/v/greater_than\n"
     ]
    }
   ],
   "source": [
    "try:\n",
    "    MyPerson(name='John Doe', age=-4)\n",
    "except pydantic.ValidationError as e:\n",
    "    print(e)"
   ]
  },
  {
   "cell_type": "markdown",
   "id": "5acc5f4f-8d1f-47ec-8aec-ed599471576c",
   "metadata": {},
   "source": [
    "## Example: prov.Person\n",
    "\n",
    "The classes in the `pivmetalib` namespace modules like `prov` are like that *and* moreover, include some other helpful methods.\n",
    "\n",
    "The easiest way to find out, which fields are implemented, call the property `model_field`:"
   ]
  },
  {
   "cell_type": "code",
   "execution_count": 7,
   "id": "03666f16-af22-4529-9d01-75d77f2a195d",
   "metadata": {},
   "outputs": [
    {
     "data": {
      "text/plain": [
       "dict_keys(['id', 'label', 'mbox', 'firstName', 'lastName', 'hadRole', 'wasRoleIn'])"
      ]
     },
     "execution_count": 7,
     "metadata": {},
     "output_type": "execute_result"
    }
   ],
   "source": [
    "prov.Person.model_fields.keys()"
   ]
  },
  {
   "cell_type": "markdown",
   "id": "54f64dbc-4eaa-4f0a-a320-865cc8b407ae",
   "metadata": {},
   "source": [
    "Note, that you can add fields, that are note pre-defined, too."
   ]
  },
  {
   "cell_type": "code",
   "execution_count": 8,
   "id": "bfd8ef0b-74e2-40b4-95ef-ee2e69e0db36",
   "metadata": {},
   "outputs": [
    {
     "data": {
      "text/html": [
       "Person(firstName=John, lastName=Doe)"
      ],
      "text/plain": [
       "Person(firstName=John, lastName=Doe, nickname=JD)"
      ]
     },
     "execution_count": 8,
     "metadata": {},
     "output_type": "execute_result"
    }
   ],
   "source": [
    "creator = prov.Person(\n",
    "    firstName='John',\n",
    "    lastName='Doe',\n",
    "    nickname='JD'\n",
    ")\n",
    "creator"
   ]
  },
  {
   "cell_type": "markdown",
   "id": "1fda8260-a82b-476d-9e7f-ab79ca0288be",
   "metadata": {},
   "source": [
    "## Working with the classes\n",
    "\n",
    "There are two importing things, you can do with the classes:\n",
    "- **Dumping**: This means exporting the content to various formats (dictionary, json-ld strings, ...)\n",
    "- **querying**: Finding data of a class in a JSON-LD file\n",
    "\n",
    "### Dumping:\n",
    "The most basic form of \"dumping\" is exporting the class instance to a dictionary:"
   ]
  },
  {
   "cell_type": "code",
   "execution_count": 9,
   "id": "a6bb4f27-a6ac-4736-bae9-ee22a5ca77c2",
   "metadata": {},
   "outputs": [
    {
     "data": {
      "text/plain": [
       "{'id': None,\n",
       " 'label': None,\n",
       " 'mbox': None,\n",
       " 'firstName': 'John',\n",
       " 'lastName': 'Doe',\n",
       " 'hadRole': None,\n",
       " 'wasRoleIn': None,\n",
       " 'nickname': 'JD'}"
      ]
     },
     "execution_count": 9,
     "metadata": {},
     "output_type": "execute_result"
    }
   ],
   "source": [
    "creator.model_dump()"
   ]
  },
  {
   "cell_type": "markdown",
   "id": "86e53718-338d-444d-8724-10e75d3bc9f1",
   "metadata": {},
   "source": [
    "The `pivmetalib` adds also `dump_jsonld` to the classes and allows to create a JSON-LD string, which can be saved to a file, too:"
   ]
  },
  {
   "cell_type": "code",
   "execution_count": 10,
   "id": "609c2eb6-ba5e-457b-8421-833ebcdd9984",
   "metadata": {},
   "outputs": [
    {
     "name": "stdout",
     "output_type": "stream",
     "text": [
      "[\n",
      "    {\n",
      "        \"@id\": \"https://local-domain.org/08b47721-4927-40be-b802-bcd1933892bd\",\n",
      "        \"@type\": [\n",
      "            \"prov:Person\"\n",
      "        ],\n",
      "        \"foaf:firstName\": [\n",
      "            {\n",
      "                \"@value\": \"John\"\n",
      "            }\n",
      "        ],\n",
      "        \"foaf:lastName\": [\n",
      "            {\n",
      "                \"@value\": \"Doe\"\n",
      "            }\n",
      "        ]\n",
      "    }\n",
      "]\n"
     ]
    }
   ],
   "source": [
    "print(creator.dump_jsonld())"
   ]
  },
  {
   "cell_type": "markdown",
   "id": "ae6c7f7d-c09e-4287-975a-52fedc4b3e29",
   "metadata": {},
   "source": [
    "**Save JSON-LD file**"
   ]
  },
  {
   "cell_type": "code",
   "execution_count": 11,
   "id": "cdcd3c78-6fac-45e4-86d3-8b48cbf957be",
   "metadata": {},
   "outputs": [],
   "source": [
    "import pivmetalib"
   ]
  },
  {
   "cell_type": "code",
   "execution_count": 12,
   "id": "28ace445-61c0-4cbc-957b-4d1e7d837010",
   "metadata": {},
   "outputs": [],
   "source": [
    "# save to file:\n",
    "with open('john.jsonld', 'w') as f:\n",
    "    creator.dump_jsonld(context=pivmetalib.CONTEXT)"
   ]
  },
  {
   "cell_type": "markdown",
   "id": "23733b7c-57d0-4c8c-98fd-67e4276f434a",
   "metadata": {},
   "source": [
    "Let's create another person and save both to the file. For this we will need to \"merge\" both JSON-LD strings. There is a helper function for this in the `utils` module: "
   ]
  },
  {
   "cell_type": "code",
   "execution_count": 13,
   "id": "5174b5d2-70d8-4842-a67d-e476d987a549",
   "metadata": {},
   "outputs": [],
   "source": [
    "other_person = prov.Person(first_name='Lisa')"
   ]
  },
  {
   "cell_type": "code",
   "execution_count": 14,
   "id": "d843f209-e6bf-4fbb-95e0-f54bd7ac7713",
   "metadata": {},
   "outputs": [],
   "source": [
    "from pivmetalib import utils"
   ]
  },
  {
   "cell_type": "code",
   "execution_count": 15,
   "id": "6ed015e9-c1b8-48e6-9cf6-b979fd444091",
   "metadata": {},
   "outputs": [],
   "source": [
    "# save to file:\n",
    "with open('creator.jsonld', 'w') as f:\n",
    "    f.write(utils.merge_jsonld([creator.dump_jsonld(context=pivmetalib.CONTEXT), other_person.dump_jsonld(context=pivmetalib.CONTEXT)]))"
   ]
  },
  {
   "cell_type": "markdown",
   "id": "7fbd0fb1-b959-48f2-b911-42bea1efbf99",
   "metadata": {},
   "source": [
    "### Querying\n",
    "\n",
    "We can identify data within a JSON-LD file by calling `query` and providing the class we want to find. The method applies a SPARQL query ad returns an instance of the provided object:"
   ]
  },
  {
   "cell_type": "code",
   "execution_count": 16,
   "id": "836ec1ad-bcd9-4fff-8884-e39d1673f220",
   "metadata": {},
   "outputs": [],
   "source": [
    "from ontolutils import query"
   ]
  },
  {
   "cell_type": "code",
   "execution_count": 17,
   "id": "5b488c55-6bbe-47b6-afa5-f3a6e2364f6d",
   "metadata": {},
   "outputs": [
    {
     "name": "stdout",
     "output_type": "stream",
     "text": [
      "PREFIX owl: <http://www.w3.org/2002/07/owl#>\n",
      "PREFIX rdfs: <http://www.w3.org/2000/01/rdf-schema#>\n",
      "PREFIX local: <http://example.com/>\n",
      "PREFIX prov: <http://www.w3.org/ns/prov#>\n",
      "PREFIX foaf: <http://xmlns.com/foaf/0.1/>\n",
      "\n",
      "SELECT *\n",
      "WHERE {{\n",
      "    ?id a prov:Person .\n",
      "    ?id ?p ?o .\n",
      "}}\n"
     ]
    }
   ],
   "source": [
    "persons = query(cls=prov.Person, source='creator.jsonld', context=pivmetalib.CONTEXT)"
   ]
  },
  {
   "cell_type": "markdown",
   "id": "b7b9125f-46fa-4cf5-9b0e-4614cb0b7d5c",
   "metadata": {},
   "source": [
    "As expected, we find both persons:"
   ]
  },
  {
   "cell_type": "code",
   "execution_count": 18,
   "id": "f204089d-c6d3-4a00-8525-aea6b325e778",
   "metadata": {},
   "outputs": [],
   "source": [
    "import rdflib"
   ]
  },
  {
   "cell_type": "code",
   "execution_count": 19,
   "id": "b1ccd864-1d16-422c-9b54-375993932e53",
   "metadata": {},
   "outputs": [],
   "source": [
    "g = rdflib.Graph().parse(source='creator.jsonld', context=pivmetalib.CONTEXT)"
   ]
  },
  {
   "cell_type": "code",
   "execution_count": 20,
   "id": "323c69ca-5e72-402b-969f-b92fca85bf1e",
   "metadata": {},
   "outputs": [
    {
     "name": "stdout",
     "output_type": "stream",
     "text": [
      "https://local-domain.org/4a433b7f-d1dd-4d47-a5de-80db5b84d15a http://www.w3.org/ns/prov#Person\n",
      "https://local-domain.org/4a433b7f-d1dd-4d47-a5de-80db5b84d15a John\n",
      "https://local-domain.org/4a433b7f-d1dd-4d47-a5de-80db5b84d15a JD\n",
      "https://local-domain.org/d78fbcc9-d9f7-4704-9dee-3c1fd7e4f234 http://www.w3.org/ns/prov#Person\n",
      "https://local-domain.org/4a433b7f-d1dd-4d47-a5de-80db5b84d15a Doe\n",
      "https://local-domain.org/d78fbcc9-d9f7-4704-9dee-3c1fd7e4f234 Lisa\n"
     ]
    }
   ],
   "source": [
    "for s,p,o in g:\n",
    "    print(s, o)"
   ]
  },
  {
   "cell_type": "code",
   "execution_count": 21,
   "id": "c6eb017a-dbff-42ea-9f88-d0897da47688",
   "metadata": {},
   "outputs": [],
   "source": [
    "qs = \"\"\"PREFIX owl: <http://www.w3.org/2002/07/owl#>\n",
    "PREFIX rdfs: <http://www.w3.org/2000/01/rdf-schema#>\n",
    "PREFIX local: <http://example.com/>\n",
    "PREFIX prov: <http://www.w3.org/ns/prov#>\n",
    "PREFIX foaf: <http://xmlns.com/foaf/0.1/>\n",
    "\n",
    "SELECT *\n",
    "WHERE {\n",
    "    ?id a prov:Person .\n",
    "    ?id ?p ?o .\n",
    "}\"\"\""
   ]
  },
  {
   "cell_type": "code",
   "execution_count": 22,
   "id": "08129a2c-556d-479a-b0ee-6823568b67ee",
   "metadata": {},
   "outputs": [
    {
     "name": "stdout",
     "output_type": "stream",
     "text": [
      "(rdflib.term.URIRef('https://local-domain.org/4a433b7f-d1dd-4d47-a5de-80db5b84d15a'), rdflib.term.URIRef('http://www.w3.org/ns/prov#Person'), rdflib.term.URIRef('http://www.w3.org/1999/02/22-rdf-syntax-ns#type'))\n",
      "(rdflib.term.URIRef('https://local-domain.org/4a433b7f-d1dd-4d47-a5de-80db5b84d15a'), rdflib.term.Literal('John'), rdflib.term.URIRef('http://xmlns.com/foaf/0.1/firstName'))\n",
      "(rdflib.term.URIRef('https://local-domain.org/4a433b7f-d1dd-4d47-a5de-80db5b84d15a'), rdflib.term.Literal('Doe'), rdflib.term.URIRef('http://xmlns.com/foaf/0.1/lastName'))\n",
      "(rdflib.term.URIRef('https://local-domain.org/4a433b7f-d1dd-4d47-a5de-80db5b84d15a'), rdflib.term.Literal('JD'), rdflib.term.URIRef('https://matthiasprobst.github.io/pivmeta#nickname'))\n",
      "(rdflib.term.URIRef('https://local-domain.org/d78fbcc9-d9f7-4704-9dee-3c1fd7e4f234'), rdflib.term.URIRef('http://www.w3.org/ns/prov#Person'), rdflib.term.URIRef('http://www.w3.org/1999/02/22-rdf-syntax-ns#type'))\n",
      "(rdflib.term.URIRef('https://local-domain.org/d78fbcc9-d9f7-4704-9dee-3c1fd7e4f234'), rdflib.term.Literal('Lisa'), rdflib.term.URIRef('https://matthiasprobst.github.io/pivmeta#first_name'))\n"
     ]
    }
   ],
   "source": [
    "for r in g.query(qs):\n",
    "    print(r)"
   ]
  },
  {
   "cell_type": "code",
   "execution_count": 23,
   "id": "df9c581b-b3e1-4fd0-8516-13515d3df27f",
   "metadata": {},
   "outputs": [
    {
     "name": "stdout",
     "output_type": "stream",
     "text": [
      "{'id': 'https://local-domain.org/4a433b7f-d1dd-4d47-a5de-80db5b84d15a', 'firstName': 'John', 'lastName': 'Doe', 'type': {}, 'nickname': 'JD'}\n",
      "{'id': 'https://local-domain.org/d78fbcc9-d9f7-4704-9dee-3c1fd7e4f234', 'type': {}, 'first_name': 'Lisa'}\n"
     ]
    }
   ],
   "source": [
    "for person in persons:\n",
    "    print(person.model_dump(exclude_none=True))"
   ]
  },
  {
   "cell_type": "code",
   "execution_count": null,
   "id": "c2c4fca8-25b0-4a2f-824b-995dc0a726c0",
   "metadata": {},
   "outputs": [],
   "source": []
  }
 ],
 "metadata": {
  "kernelspec": {
   "display_name": "Python 3 (ipykernel)",
   "language": "python",
   "name": "python3"
  },
  "language_info": {
   "codemirror_mode": {
    "name": "ipython",
    "version": 3
   },
   "file_extension": ".py",
   "mimetype": "text/x-python",
   "name": "python",
   "nbconvert_exporter": "python",
   "pygments_lexer": "ipython3",
   "version": "3.8.18"
  }
 },
 "nbformat": 4,
 "nbformat_minor": 5
}
