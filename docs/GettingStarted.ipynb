{
 "cells": [
  {
   "cell_type": "markdown",
   "id": "15904eef-ef3d-4e76-aa58-0759ffb7fd13",
   "metadata": {},
   "source": [
    "# Getting started\n",
    "\n",
    "The `pivmetalib` implements many (but not all) classes for various ontologies and vocabularies used in the ontology [\"pivmeta\"](https://matthiasprobst.github.io/pivmeta/).\n",
    "\n",
    "By means of `pivmetalib` you are able to instantiate objects of the ontology `pivmeta` (and the related ones).\n",
    "\n",
    "Let's find out, what that means for the description of a Person (A person can be described by the PROV namespace: https://www.w3.org/ns/prov)"
   ]
  },
  {
   "cell_type": "code",
   "execution_count": 1,
   "id": "0fa028b3-85a9-4361-a708-0e3d1b0f7b06",
   "metadata": {},
   "outputs": [],
   "source": [
    "from pivmetalib import prov"
   ]
  },
  {
   "cell_type": "code",
   "execution_count": 2,
   "id": "b2c3c084-8a98-48db-ac33-92d4768eccf8",
   "metadata": {},
   "outputs": [
    {
     "data": {
      "text/html": [
       "Person(mbox=okamoto@tokai.t.u-tokyo.ac.jp, lastName=Okamoto)"
      ],
      "text/plain": [
       "Person(mbox=okamoto@tokai.t.u-tokyo.ac.jp, lastName=Okamoto)"
      ]
     },
     "execution_count": 2,
     "metadata": {},
     "output_type": "execute_result"
    }
   ],
   "source": [
    "creator = prov.Person(\n",
    "    lastName='Okamoto',\n",
    "    mbox=\"okamoto@tokai.t.u-tokyo.ac.jp\"\n",
    ")\n",
    "creator"
   ]
  },
  {
   "cell_type": "markdown",
   "id": "beb234d8-5abe-4eea-ada8-fb2337f7b0f3",
   "metadata": {},
   "source": [
    "Most importantly, dumping the data to a JSON-LD string is most practical and useful for use in data description. For this call `model_dump_jsonld()`:"
   ]
  },
  {
   "cell_type": "code",
   "execution_count": 3,
   "id": "10492ced-950c-4dd2-ac74-65a1e96ddf7e",
   "metadata": {},
   "outputs": [
    {
     "name": "stdout",
     "output_type": "stream",
     "text": [
      "{\n",
      "    \"@context\": {\n",
      "        \"owl\": \"http://www.w3.org/2002/07/owl#\",\n",
      "        \"rdfs\": \"http://www.w3.org/2000/01/rdf-schema#\",\n",
      "        \"local\": \"http://example.org/\",\n",
      "        \"prov\": \"http://www.w3.org/ns/prov#\",\n",
      "        \"foaf\": \"http://xmlns.com/foaf/0.1/\"\n",
      "    },\n",
      "    \"@type\": \"prov:Person\",\n",
      "    \"foaf:mbox\": \"okamoto@tokai.t.u-tokyo.ac.jp\",\n",
      "    \"foaf:lastName\": \"Okamoto\",\n",
      "    \"@id\": \"local:e8c8047a-c467-4539-a640-2fb4e0d31f37\"\n",
      "}\n"
     ]
    }
   ],
   "source": [
    "print(creator.model_dump_jsonld())"
   ]
  },
  {
   "cell_type": "markdown",
   "id": "d77faac2-f249-4161-9112-ebfcd959b722",
   "metadata": {},
   "source": [
    "**What's behind the class:** Each class is inherited from the `ontolutils.Thing`, which again is a `pydantic.BaseModel` subclass. The package [`pydantic`](https://docs.pydantic.dev/latest/) allows validating the attributes of a class. This means, that passing wrong types to the person, will lead to an error:"
   ]
  },
  {
   "cell_type": "code",
   "execution_count": 4,
   "id": "00d76bd5-62e7-4598-8e88-88c0dc29b099",
   "metadata": {},
   "outputs": [],
   "source": [
    "import pydantic"
   ]
  },
  {
   "cell_type": "code",
   "execution_count": 5,
   "id": "fcb88db7-de3c-4c02-9c36-368b5759c0f8",
   "metadata": {},
   "outputs": [
    {
     "name": "stdout",
     "output_type": "stream",
     "text": [
      "1 validation error for Person\n",
      "mbox\n",
      "  value is not a valid email address: The email address is not valid. It must have exactly one @-sign. [type=value_error, input_value='email.com', input_type=str]\n"
     ]
    }
   ],
   "source": [
    "try:\n",
    "    prov.Person(lastName='John', mbox='email.com')\n",
    "except pydantic.ValidationError as e:\n",
    "    print(e)"
   ]
  },
  {
   "cell_type": "markdown",
   "id": "a7a57b7f-b4dd-4841-bead-aa0a9ffc0aa8",
   "metadata": {},
   "source": [
    "**Extra fields**\n",
    "\n",
    "Generally, it is possible to add any additional fields, like age, for example. The field \"age\" will wil appear in the JSON-LD string, however without a *prefix*:"
   ]
  },
  {
   "cell_type": "code",
   "execution_count": 6,
   "id": "951f9daf-78d1-41bb-8de4-d4826cf6a3f1",
   "metadata": {},
   "outputs": [
    {
     "name": "stdout",
     "output_type": "stream",
     "text": [
      "{\n",
      "    \"@context\": {\n",
      "        \"owl\": \"http://www.w3.org/2002/07/owl#\",\n",
      "        \"rdfs\": \"http://www.w3.org/2000/01/rdf-schema#\",\n",
      "        \"local\": \"http://example.org/\",\n",
      "        \"prov\": \"http://www.w3.org/ns/prov#\",\n",
      "        \"foaf\": \"http://xmlns.com/foaf/0.1/\"\n",
      "    },\n",
      "    \"@type\": \"prov:Person\",\n",
      "    \"foaf:lastName\": \"Doe\",\n",
      "    \"firtName\": \"John\",\n",
      "    \"age\": \"34\",\n",
      "    \"@id\": \"local:336cbdd4-5946-445c-a710-ce0f170920db\"\n",
      "}\n"
     ]
    }
   ],
   "source": [
    "creator = prov.Person(\n",
    "    firtName='John',\n",
    "    lastName='Doe',\n",
    "    age=34\n",
    ")\n",
    "print(creator.model_dump_jsonld())"
   ]
  },
  {
   "cell_type": "markdown",
   "id": "00faecfe-4554-4399-97a1-4ca3d8449352",
   "metadata": {},
   "source": [
    "To change this, we can update the missing URI at all times:"
   ]
  },
  {
   "cell_type": "code",
   "execution_count": 13,
   "id": "30dc63bc-4c01-469b-b483-953f5c4d1bf2",
   "metadata": {},
   "outputs": [],
   "source": [
    "creator.urirefs['age'] = 'foaf:age'"
   ]
  },
  {
   "cell_type": "code",
   "execution_count": 14,
   "id": "41ff6688-bc1f-4642-b18b-cf7b540001b0",
   "metadata": {},
   "outputs": [
    {
     "name": "stdout",
     "output_type": "stream",
     "text": [
      "{\n",
      "    \"@context\": {\n",
      "        \"owl\": \"http://www.w3.org/2002/07/owl#\",\n",
      "        \"rdfs\": \"http://www.w3.org/2000/01/rdf-schema#\",\n",
      "        \"local\": \"http://example.org/\",\n",
      "        \"prov\": \"http://www.w3.org/ns/prov#\",\n",
      "        \"foaf\": \"http://xmlns.com/foaf/0.1/\"\n",
      "    },\n",
      "    \"@type\": \"prov:Person\",\n",
      "    \"foaf:lastName\": \"Doe\",\n",
      "    \"firtName\": \"John\",\n",
      "    \"foaf:age\": \"34\",\n",
      "    \"@id\": \"local:483ed129-b20e-4b8d-996d-72cf6b0db57b\"\n",
      "}\n"
     ]
    }
   ],
   "source": [
    "print(creator.model_dump_jsonld())"
   ]
  },
  {
   "cell_type": "markdown",
   "id": "1fda8260-a82b-476d-9e7f-ab79ca0288be",
   "metadata": {},
   "source": [
    "## Working with the classes\n",
    "\n",
    "There are two importing things, you can do with the classes:\n",
    "- **Dumping**: This means exporting the content to various formats (dictionary, json-ld strings, ...)\n",
    "- **querying**: Finding data of a class in a JSON-LD file\n",
    "\n",
    "### Dumping:\n",
    "The most basic form of \"dumping\" is exporting the class instance to a dictionary:"
   ]
  },
  {
   "cell_type": "code",
   "execution_count": 15,
   "id": "a6bb4f27-a6ac-4736-bae9-ee22a5ca77c2",
   "metadata": {},
   "outputs": [
    {
     "data": {
      "text/plain": [
       "{'id': None,\n",
       " 'label': None,\n",
       " 'mbox': None,\n",
       " 'firstName': None,\n",
       " 'lastName': 'Doe',\n",
       " 'hadRole': None,\n",
       " 'wasRoleIn': None,\n",
       " 'affiliation': None,\n",
       " 'firtName': 'John',\n",
       " 'age': 34}"
      ]
     },
     "execution_count": 15,
     "metadata": {},
     "output_type": "execute_result"
    }
   ],
   "source": [
    "creator.model_dump()"
   ]
  },
  {
   "cell_type": "markdown",
   "id": "86e53718-338d-444d-8724-10e75d3bc9f1",
   "metadata": {},
   "source": [
    "The `pivmetalib` adds also `dump_jsonld` to the classes and allows to create a JSON-LD string, which can be saved to a file, too:"
   ]
  },
  {
   "cell_type": "code",
   "execution_count": 16,
   "id": "609c2eb6-ba5e-457b-8421-833ebcdd9984",
   "metadata": {},
   "outputs": [
    {
     "name": "stdout",
     "output_type": "stream",
     "text": [
      "{\n",
      "    \"@context\": {\n",
      "        \"owl\": \"http://www.w3.org/2002/07/owl#\",\n",
      "        \"rdfs\": \"http://www.w3.org/2000/01/rdf-schema#\",\n",
      "        \"local\": \"http://example.org/\",\n",
      "        \"prov\": \"http://www.w3.org/ns/prov#\",\n",
      "        \"foaf\": \"http://xmlns.com/foaf/0.1/\"\n",
      "    },\n",
      "    \"@type\": \"prov:Person\",\n",
      "    \"foaf:lastName\": \"Doe\",\n",
      "    \"firtName\": \"John\",\n",
      "    \"foaf:age\": \"34\",\n",
      "    \"@id\": \"local:629b6d5a-c1f5-4b4e-a402-94310e8f6f62\"\n",
      "}\n"
     ]
    }
   ],
   "source": [
    "print(creator.model_dump_jsonld())"
   ]
  },
  {
   "cell_type": "markdown",
   "id": "ae6c7f7d-c09e-4287-975a-52fedc4b3e29",
   "metadata": {},
   "source": [
    "**Save JSON-LD file**"
   ]
  },
  {
   "cell_type": "code",
   "execution_count": 17,
   "id": "cdcd3c78-6fac-45e4-86d3-8b48cbf957be",
   "metadata": {},
   "outputs": [],
   "source": [
    "import pivmetalib"
   ]
  },
  {
   "cell_type": "code",
   "execution_count": 18,
   "id": "28ace445-61c0-4cbc-957b-4d1e7d837010",
   "metadata": {},
   "outputs": [],
   "source": [
    "# save to file:\n",
    "with open('john.jsonld', 'w') as f:\n",
    "    creator.model_dump_jsonld(context={\"@import\": pivmetalib.CONTEXT})"
   ]
  },
  {
   "cell_type": "markdown",
   "id": "23733b7c-57d0-4c8c-98fd-67e4276f434a",
   "metadata": {},
   "source": [
    "Let's create another person and save both to the file. For this we will need to \"merge\" both JSON-LD strings. There is a helper function for this in the `utils` module: "
   ]
  },
  {
   "cell_type": "code",
   "execution_count": 19,
   "id": "5174b5d2-70d8-4842-a67d-e476d987a549",
   "metadata": {},
   "outputs": [],
   "source": [
    "other_person = prov.Person(first_name='Lisa')"
   ]
  },
  {
   "cell_type": "code",
   "execution_count": 20,
   "id": "d843f209-e6bf-4fbb-95e0-f54bd7ac7713",
   "metadata": {},
   "outputs": [],
   "source": [
    "from pivmetalib.jsonld import merge"
   ]
  },
  {
   "cell_type": "code",
   "execution_count": 21,
   "id": "6ed015e9-c1b8-48e6-9cf6-b979fd444091",
   "metadata": {},
   "outputs": [],
   "source": [
    "# save to file:\n",
    "with open('creator.jsonld', 'w') as f:\n",
    "    f.write(merge([creator.model_dump_jsonld(context={\"@import\": pivmetalib.CONTEXT}),\n",
    "                   other_person.model_dump_jsonld(context={\"@import\": pivmetalib.CONTEXT})]))"
   ]
  },
  {
   "cell_type": "markdown",
   "id": "7fbd0fb1-b959-48f2-b911-42bea1efbf99",
   "metadata": {},
   "source": [
    "### Querying\n",
    "\n",
    "We can identify data within a JSON-LD file by calling `query` and providing the class we want to find. The method applies a SPARQL query ad returns an instance of the provided object:"
   ]
  },
  {
   "cell_type": "code",
   "execution_count": 22,
   "id": "836ec1ad-bcd9-4fff-8884-e39d1673f220",
   "metadata": {},
   "outputs": [],
   "source": [
    "from ontolutils import query"
   ]
  },
  {
   "cell_type": "code",
   "execution_count": 27,
   "id": "5b488c55-6bbe-47b6-afa5-f3a6e2364f6d",
   "metadata": {},
   "outputs": [
    {
     "data": {
      "text/plain": [
       "[Person(id=http://example.org/c9013111-000c-4c5e-8c4d-f4fb743a8779, lastName=Doe, firtName=John, age=34),\n",
       " Person(id=http://example.org/d4f6000d-bcf1-4795-a724-54987a59956d, first_name=Lisa)]"
      ]
     },
     "execution_count": 27,
     "metadata": {},
     "output_type": "execute_result"
    }
   ],
   "source": [
    "persons = query(cls=prov.Person, source='creator.jsonld', context={\"@import\": pivmetalib.CONTEXT})\n",
    "persons"
   ]
  },
  {
   "cell_type": "markdown",
   "id": "596e7d60-b267-4fce-8e7e-9146646dfe15",
   "metadata": {},
   "source": [
    "Likewise, you can call `from_jsonld` from the Person object:"
   ]
  },
  {
   "cell_type": "code",
   "execution_count": 28,
   "id": "95550855-cfa0-4fd1-be47-ed3d58f39cc8",
   "metadata": {},
   "outputs": [
    {
     "data": {
      "text/plain": [
       "[Person(id=http://example.org/c9013111-000c-4c5e-8c4d-f4fb743a8779, lastName=Doe, firtName=John, age=34),\n",
       " Person(id=http://example.org/d4f6000d-bcf1-4795-a724-54987a59956d, first_name=Lisa)]"
      ]
     },
     "execution_count": 28,
     "metadata": {},
     "output_type": "execute_result"
    }
   ],
   "source": [
    "persons = prov.Person.from_jsonld(source='creator.jsonld', context={\"@import\": pivmetalib.CONTEXT})\n",
    "persons"
   ]
  },
  {
   "cell_type": "markdown",
   "id": "b7b9125f-46fa-4cf5-9b0e-4614cb0b7d5c",
   "metadata": {},
   "source": [
    "As expected, we find both persons:"
   ]
  },
  {
   "cell_type": "code",
   "execution_count": 29,
   "id": "f204089d-c6d3-4a00-8525-aea6b325e778",
   "metadata": {},
   "outputs": [],
   "source": [
    "import rdflib"
   ]
  },
  {
   "cell_type": "code",
   "execution_count": 30,
   "id": "b1ccd864-1d16-422c-9b54-375993932e53",
   "metadata": {},
   "outputs": [],
   "source": [
    "g = rdflib.Graph().parse(source='creator.jsonld', context=pivmetalib.CONTEXT)"
   ]
  },
  {
   "cell_type": "code",
   "execution_count": 31,
   "id": "323c69ca-5e72-402b-969f-b92fca85bf1e",
   "metadata": {},
   "outputs": [
    {
     "name": "stdout",
     "output_type": "stream",
     "text": [
      "http://example.org/c9013111-000c-4c5e-8c4d-f4fb743a8779 http://www.w3.org/ns/prov#Person\n",
      "http://example.org/c9013111-000c-4c5e-8c4d-f4fb743a8779 Doe\n",
      "http://example.org/d4f6000d-bcf1-4795-a724-54987a59956d http://www.w3.org/ns/prov#Person\n",
      "http://example.org/d4f6000d-bcf1-4795-a724-54987a59956d Lisa\n",
      "http://example.org/c9013111-000c-4c5e-8c4d-f4fb743a8779 34\n",
      "http://example.org/c9013111-000c-4c5e-8c4d-f4fb743a8779 John\n"
     ]
    }
   ],
   "source": [
    "for s,p,o in g:\n",
    "    print(s, o)"
   ]
  },
  {
   "cell_type": "code",
   "execution_count": 32,
   "id": "c6eb017a-dbff-42ea-9f88-d0897da47688",
   "metadata": {},
   "outputs": [],
   "source": [
    "qs = \"\"\"PREFIX owl: <http://www.w3.org/2002/07/owl#>\n",
    "PREFIX rdfs: <http://www.w3.org/2000/01/rdf-schema#>\n",
    "PREFIX local: <http://example.com/>\n",
    "PREFIX prov: <http://www.w3.org/ns/prov#>\n",
    "PREFIX foaf: <http://xmlns.com/foaf/0.1/>\n",
    "\n",
    "SELECT *\n",
    "WHERE {\n",
    "    ?id a prov:Person .\n",
    "    ?id ?p ?o .\n",
    "}\"\"\""
   ]
  },
  {
   "cell_type": "code",
   "execution_count": 33,
   "id": "08129a2c-556d-479a-b0ee-6823568b67ee",
   "metadata": {},
   "outputs": [
    {
     "name": "stdout",
     "output_type": "stream",
     "text": [
      "(rdflib.term.URIRef('http://www.w3.org/ns/prov#Person'), rdflib.term.URIRef('http://example.org/c9013111-000c-4c5e-8c4d-f4fb743a8779'), rdflib.term.URIRef('http://www.w3.org/1999/02/22-rdf-syntax-ns#type'))\n",
      "(rdflib.term.Literal('Doe'), rdflib.term.URIRef('http://example.org/c9013111-000c-4c5e-8c4d-f4fb743a8779'), rdflib.term.URIRef('http://xmlns.com/foaf/0.1/lastName'))\n",
      "(rdflib.term.Literal('John'), rdflib.term.URIRef('http://example.org/c9013111-000c-4c5e-8c4d-f4fb743a8779'), rdflib.term.URIRef('https://matthiasprobst.github.io/pivmeta#firtName'))\n",
      "(rdflib.term.Literal('34'), rdflib.term.URIRef('http://example.org/c9013111-000c-4c5e-8c4d-f4fb743a8779'), rdflib.term.URIRef('http://xmlns.com/foaf/0.1/age'))\n",
      "(rdflib.term.URIRef('http://www.w3.org/ns/prov#Person'), rdflib.term.URIRef('http://example.org/d4f6000d-bcf1-4795-a724-54987a59956d'), rdflib.term.URIRef('http://www.w3.org/1999/02/22-rdf-syntax-ns#type'))\n",
      "(rdflib.term.Literal('Lisa'), rdflib.term.URIRef('http://example.org/d4f6000d-bcf1-4795-a724-54987a59956d'), rdflib.term.URIRef('https://matthiasprobst.github.io/pivmeta#first_name'))\n"
     ]
    }
   ],
   "source": [
    "for r in g.query(qs):\n",
    "    print(r)"
   ]
  },
  {
   "cell_type": "code",
   "execution_count": 34,
   "id": "df9c581b-b3e1-4fd0-8516-13515d3df27f",
   "metadata": {},
   "outputs": [
    {
     "name": "stdout",
     "output_type": "stream",
     "text": [
      "{'id': 'http://example.org/c9013111-000c-4c5e-8c4d-f4fb743a8779', 'lastName': 'Doe', 'firtName': 'John', 'age': '34'}\n",
      "{'id': 'http://example.org/d4f6000d-bcf1-4795-a724-54987a59956d', 'first_name': 'Lisa'}\n"
     ]
    }
   ],
   "source": [
    "for person in persons:\n",
    "    print(person.model_dump(exclude_none=True))"
   ]
  }
 ],
 "metadata": {
  "kernelspec": {
   "display_name": "Python 3 (ipykernel)",
   "language": "python",
   "name": "python3"
  },
  "language_info": {
   "codemirror_mode": {
    "name": "ipython",
    "version": 3
   },
   "file_extension": ".py",
   "mimetype": "text/x-python",
   "name": "python",
   "nbconvert_exporter": "python",
   "pygments_lexer": "ipython3",
   "version": "3.8.18"
  }
 },
 "nbformat": 4,
 "nbformat_minor": 5
}
