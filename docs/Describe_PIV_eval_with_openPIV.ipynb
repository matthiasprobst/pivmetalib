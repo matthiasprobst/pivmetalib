{
 "cells": [
  {
   "cell_type": "markdown",
   "id": "21119269-eba1-457e-9a6e-23a5a63f01ab",
   "metadata": {},
   "source": [
    "# Describe a PIV evaluation using openPIV\n",
    "\n",
    "[OpenPIV](https://github.com/OpenPIV/openpiv-python) is an open-source PIV software. Let's use it to process the PIV-Challenge recording. Of course, you should have installed for this tutorial "
   ]
  },
  {
   "cell_type": "markdown",
   "id": "6f0814f8-592d-48db-8960-fb6dd92ace03",
   "metadata": {},
   "source": [
    "## Get image filenames from JSON-LD"
   ]
  },
  {
   "cell_type": "code",
   "execution_count": 1,
   "id": "a90a9131-06cb-42d7-97fa-456f9e5d046a",
   "metadata": {},
   "outputs": [],
   "source": [
    "import pivmetalib\n",
    "import ontolutils\n",
    "from pivmetalib import pivmeta"
   ]
  },
  {
   "cell_type": "markdown",
   "id": "8dd49609-adbd-4129-9f34-0757fb0e7bb9",
   "metadata": {},
   "source": [
    "**Download files**"
   ]
  },
  {
   "cell_type": "code",
   "execution_count": 2,
   "id": "9e846335-4864-4546-bc97-0bb109c51d57",
   "metadata": {},
   "outputs": [],
   "source": [
    "image_dists = ontolutils.query(pivmeta.PivImageDistribution, source='piv_challenge.jsonld',)\n",
    "image_dist = image_dists[0]"
   ]
  },
  {
   "cell_type": "code",
   "execution_count": 3,
   "id": "f3508d2c-7321-4cea-9714-52dd42f79ab0",
   "metadata": {},
   "outputs": [
    {
     "data": {
      "text/plain": [
       "WindowsPath('C.zip')"
      ]
     },
     "execution_count": 3,
     "metadata": {},
     "output_type": "execute_result"
    }
   ],
   "source": [
    "zip_filename = image_dist.download()\n",
    "zip_filename"
   ]
  },
  {
   "cell_type": "markdown",
   "id": "fbdcb11c-45e0-452a-89a0-f5ff8ab068e6",
   "metadata": {},
   "source": [
    "**unzip**"
   ]
  },
  {
   "cell_type": "code",
   "execution_count": 4,
   "id": "2c2ab542-b632-49b2-ba8b-8d91dd00544b",
   "metadata": {},
   "outputs": [],
   "source": [
    "import zipfile\n",
    "with zipfile.ZipFile(zip_filename, 'r') as zip_ref:\n",
    "    zip_ref.extractall('imgs')"
   ]
  },
  {
   "cell_type": "markdown",
   "id": "c479b7f4-0ecc-4d47-9da6-cb1824c94436",
   "metadata": {},
   "source": [
    "**get filenames based on filename pattern**"
   ]
  },
  {
   "cell_type": "code",
   "execution_count": 5,
   "id": "7efae210-2142-43ca-a502-c69e86abe4cd",
   "metadata": {},
   "outputs": [],
   "source": [
    "import pathlib"
   ]
  },
  {
   "cell_type": "code",
   "execution_count": 6,
   "id": "88168f69-6020-47eb-854d-b6116273cbe5",
   "metadata": {},
   "outputs": [
    {
     "data": {
      "text/plain": [
       "'C[0-9][0-9][0-9]_[1,2].tif'"
      ]
     },
     "execution_count": 6,
     "metadata": {},
     "output_type": "execute_result"
    }
   ],
   "source": [
    "image_dist.filenamePattern"
   ]
  },
  {
   "cell_type": "code",
   "execution_count": 7,
   "id": "8423c041-7aa6-4aac-92a5-e2d2b9ea2798",
   "metadata": {},
   "outputs": [
    {
     "data": {
      "text/plain": [
       "[WindowsPath('imgs/C001_1.tif'), WindowsPath('imgs/C001_2.tif')]"
      ]
     },
     "execution_count": 7,
     "metadata": {},
     "output_type": "execute_result"
    }
   ],
   "source": [
    "filenames = sorted(pathlib.Path('imgs').glob(image_dist.filenamePattern)) #image_dist.filenamePattern))\n",
    "filenames"
   ]
  },
  {
   "cell_type": "code",
   "execution_count": 8,
   "id": "e02c4c2e-434b-4e06-a746-e75ef996dd3e",
   "metadata": {},
   "outputs": [
    {
     "data": {
      "text/html": [
       "PivMaskDistribution(https://www.pivchallenge.org/pub/C/C.zip)"
      ],
      "text/plain": [
       "PivMaskDistribution(id=_:N96eaa647e7744de18ccabdb2f48adaef, title=Mask file, download_URL=https://www.pivchallenge.org/pub/C/C.zip, media_type=https://www.iana.org/assignments/media-types/image/tiff, filenamePattern=Cmask_1.tif, compressedFormat=application/zip)"
      ]
     },
     "execution_count": 8,
     "metadata": {},
     "output_type": "execute_result"
    }
   ],
   "source": [
    "mask_dist = pivmeta.PivMaskDistribution.from_jsonld(source='piv_challenge.jsonld', limit=1)\n",
    "mask_dist"
   ]
  },
  {
   "cell_type": "code",
   "execution_count": 9,
   "id": "059f93b8-b6e2-4167-9786-ab1346160840",
   "metadata": {},
   "outputs": [
    {
     "data": {
      "text/plain": [
       "[WindowsPath('imgs/Cmask_1.tif')]"
      ]
     },
     "execution_count": 9,
     "metadata": {},
     "output_type": "execute_result"
    }
   ],
   "source": [
    "mask_filename = sorted(pathlib.Path('imgs').glob(mask_dist.filenamePattern)) #image_dist.filenamePattern))\n",
    "mask_filename"
   ]
  },
  {
   "cell_type": "markdown",
   "id": "e1429ce8-6ac1-4b2c-93c3-2eaadc57e684",
   "metadata": {},
   "source": [
    "## Perform evaluation with OpenPIV"
   ]
  },
  {
   "cell_type": "code",
   "execution_count": null,
   "id": "e04cfb16-ff24-4f91-9d56-2c0c4afd51c8",
   "metadata": {
    "scrolled": true
   },
   "outputs": [],
   "source": [
    "# !pip install openpiv"
   ]
  },
  {
   "cell_type": "code",
   "execution_count": 11,
   "id": "5f430dd7-4713-4798-94b3-11425728dc88",
   "metadata": {},
   "outputs": [
    {
     "ename": "ModuleNotFoundError",
     "evalue": "No module named 'openpiv'",
     "output_type": "error",
     "traceback": [
      "\u001b[1;31m---------------------------------------------------------------------------\u001b[0m",
      "\u001b[1;31mModuleNotFoundError\u001b[0m                       Traceback (most recent call last)",
      "Cell \u001b[1;32mIn[11], line 1\u001b[0m\n\u001b[1;32m----> 1\u001b[0m \u001b[38;5;28;01mimport\u001b[39;00m \u001b[38;5;21;01mopenpiv\u001b[39;00m\n\u001b[0;32m      2\u001b[0m \u001b[38;5;28;01mfrom\u001b[39;00m \u001b[38;5;21;01mopenpiv\u001b[39;00m \u001b[38;5;28;01mimport\u001b[39;00m tools, pyprocess, validation, filters, scaling\n\u001b[0;32m      4\u001b[0m \u001b[38;5;66;03m# openpiv.__version__\u001b[39;00m\n",
      "\u001b[1;31mModuleNotFoundError\u001b[0m: No module named 'openpiv'"
     ]
    }
   ],
   "source": [
    "import openpiv\n",
    "from openpiv import tools, pyprocess, validation, filters, scaling\n",
    "\n",
    "# openpiv.__version__"
   ]
  },
  {
   "cell_type": "markdown",
   "id": "46f653ea-b1ee-4acb-826e-6d355318afcd",
   "metadata": {},
   "source": [
    "We'll be re-using code from [openpiv's tutorial 1](https://nbviewer.org/github/OpenPIV/openpiv-python-examples/blob/main/notebooks/tutorial1.ipynb):"
   ]
  },
  {
   "cell_type": "code",
   "execution_count": null,
   "id": "e01b63b5-0111-454b-91fb-20b63bd9f7b5",
   "metadata": {},
   "outputs": [],
   "source": [
    "# !pip install opencv-python"
   ]
  },
  {
   "cell_type": "code",
   "execution_count": null,
   "id": "018cb22c-eba1-46be-91e8-f87fe4ccfee7",
   "metadata": {},
   "outputs": [],
   "source": [
    "import cv2\n",
    "import numpy as np\n",
    "\n",
    "frame_a = cv2.imread(str(filenames[0]), -1)\n",
    "frame_b = cv2.imread(str(filenames[1]), -1)\n",
    "\n",
    "# mask images\n",
    "image_mask = cv2.imread(str(mask_filename), -1)\n",
    "frame_a_masked = np.where(image_mask, frame_a, 0)\n",
    "frame_b_masked = np.where(image_mask, frame_b, 0)"
   ]
  },
  {
   "cell_type": "code",
   "execution_count": null,
   "id": "f5e0b009-f2b5-4317-a838-ab866b82f039",
   "metadata": {},
   "outputs": [],
   "source": [
    "import matplotlib.pyplot as plt\n",
    "\n",
    "fig, _axs = plt.subplots(1,2,figsize=(12,10))\n",
    "axs = _axs.ravel()\n",
    "axs[0].imshow(frame_a,cmap=plt.cm.gray)\n",
    "axs[1].imshow(frame_b,cmap=plt.cm.gray)\n",
    "# axs[2].imshow(frame_a_masked, cmap=plt.cm.gray)\n",
    "# axs[3].imshow(frame_b_masked, cmap=plt.cm.gray)"
   ]
  },
  {
   "cell_type": "code",
   "execution_count": null,
   "id": "da76aea1-c6cb-4d7e-8edd-51743f1cca59",
   "metadata": {},
   "outputs": [],
   "source": [
    "winsize = 32 # pixels, interrogation window size in frame A\n",
    "searchsize = 38  # pixels, search in image B\n",
    "overlap = 12 # pixels, 50% overlap\n",
    "dt = 1 # sec, arbitrary here as we have no information\n",
    "\n",
    "u0, v0, sig2noise = pyprocess.extended_search_area_piv(frame_a.astype(np.int32), \n",
    "                                                       frame_b.astype(np.int32), \n",
    "                                                       window_size=winsize, \n",
    "                                                       overlap=overlap, \n",
    "                                                       dt=dt, \n",
    "                                                       search_area_size=searchsize, \n",
    "                                                       sig2noise_method='peak2peak')\n",
    "\n"
   ]
  },
  {
   "cell_type": "code",
   "execution_count": null,
   "id": "4897346c-8008-4ac6-81a0-3be8ba55420b",
   "metadata": {},
   "outputs": [],
   "source": [
    "x, y = pyprocess.get_coordinates(image_size=frame_a.shape, \n",
    "                                 search_area_size=searchsize, \n",
    "                                 overlap=overlap )"
   ]
  },
  {
   "cell_type": "code",
   "execution_count": null,
   "id": "cbbc645e-a8aa-45d6-bb45-ac7a87880daf",
   "metadata": {},
   "outputs": [],
   "source": [
    "flags = validation.sig2noise_val( sig2noise, \n",
    "                                 threshold = 1.05 )"
   ]
  },
  {
   "cell_type": "code",
   "execution_count": null,
   "id": "433a4c73-14d6-4801-a565-95bf0c39df69",
   "metadata": {},
   "outputs": [],
   "source": [
    "# filter out outliers that are very different from the\n",
    "# neighbours\n",
    "\n",
    "u2, v2 = filters.replace_outliers( u0, v0, \n",
    "                                   flags,\n",
    "                                   method='localmean', \n",
    "                                   max_iter=3, \n",
    "                                   kernel_size=3)"
   ]
  },
  {
   "cell_type": "code",
   "execution_count": null,
   "id": "574c5395-404b-4422-a260-6ba2cbe6b6b3",
   "metadata": {},
   "outputs": [],
   "source": [
    "# convert x,y to mm\n",
    "# convert u,v to mm/sec\n",
    "\n",
    "x, y, u3, v3 = scaling.uniform(x, y, u2, v2, \n",
    "                               scaling_factor = 1 ) # 1 microns/pixel (arbitrary, no info)\n",
    "\n",
    "# 0,0 shall be bottom left, positive rotation rate is counterclockwise\n",
    "x, y, u3, v3 = tools.transform_coordinates(x, y, u3, v3)"
   ]
  },
  {
   "cell_type": "code",
   "execution_count": null,
   "id": "09be4a09-f6e3-48b5-9cf5-0b9f61b3691a",
   "metadata": {},
   "outputs": [],
   "source": [
    "#save in the simple ASCII table format\n",
    "tools.save('exp1_001.txt', x, y, u3, v3, flags=flags)"
   ]
  },
  {
   "cell_type": "code",
   "execution_count": null,
   "id": "d91eb4f6-f91a-4161-a21e-095d19cb26ad",
   "metadata": {},
   "outputs": [],
   "source": [
    "from mpl_toolkits.axes_grid1 import make_axes_locatable\n",
    "\n",
    "fig, ax = plt.subplots(figsize=(8,8))\n",
    "ax.imshow(frame_a,cmap=plt.cm.gray, alpha=0.5)\n",
    "\n",
    "v_abs = np.sqrt(u3**2+v3**2)\n",
    "\n",
    "plt.rcParams['image.cmap'] = 'viridis'\n",
    "\n",
    "divider = make_axes_locatable(ax)\n",
    "cax = divider.append_axes(\"right\", size=\"5%\", pad=0.05)\n",
    "\n",
    "q = ax.quiver(x, y, u3, v3, v_abs)\n",
    "ax.quiver(x[flags], y[flags], u3[flags], v3[flags], color='r', label='invalid')\n",
    "plt.colorbar(q, cax=cax)"
   ]
  },
  {
   "cell_type": "markdown",
   "id": "f427ebd4-dd1b-4188-a81f-3b5bfd41fcc8",
   "metadata": {},
   "source": [
    "## Describe the result file\n",
    "\n",
    "First of all we need to describe the software that was used:"
   ]
  },
  {
   "cell_type": "code",
   "execution_count": null,
   "id": "f0471b9a-640c-4019-b069-cbc6a430bbeb",
   "metadata": {},
   "outputs": [],
   "source": [
    "from pivmetalib import prov\n",
    "\n",
    "from pprint import pprint"
   ]
  },
  {
   "cell_type": "code",
   "execution_count": null,
   "id": "ffd39535-245c-45dc-9cb4-3ecef1271eaa",
   "metadata": {},
   "outputs": [],
   "source": [
    "software = pivmeta.PIVSoftware(\n",
    "    author=prov.Organization(\n",
    "        name='OpenPIV',\n",
    "        url='https://github.com/OpenPIV/openpiv-python',\n",
    "    ),\n",
    "    description='OpenPIV is an open source Particle Image Velocimetry analysis software written in Python and Cython',\n",
    "    softwareVersion='0.25.0',#openpiv.__version__,\n",
    "    has_documentation='https://openpiv.readthedocs.io/en/latest/',\n",
    ")\n",
    "pprint(software.model_dump(exclude_none=True))"
   ]
  },
  {
   "cell_type": "code",
   "execution_count": null,
   "id": "4fcfce98-3d39-41a0-8d4a-cb4d9c03e01f",
   "metadata": {},
   "outputs": [],
   "source": [
    "import pathlib\n",
    "result_distribution = pivmeta.PivResultDistribution(\n",
    "    downloadURL=pathlib.Path('exp1_001.txt')\n",
    ")"
   ]
  },
  {
   "cell_type": "code",
   "execution_count": null,
   "id": "b86cc6c4-4bd8-42f3-a8c6-6f54372586c8",
   "metadata": {},
   "outputs": [],
   "source": [
    "from ontolutils import M4I"
   ]
  },
  {
   "cell_type": "code",
   "execution_count": null,
   "id": "8a950221-3ef4-4eb2-8270-837ecf51059b",
   "metadata": {},
   "outputs": [],
   "source": [
    "M4I.Researcher"
   ]
  },
  {
   "cell_type": "code",
   "execution_count": null,
   "id": "47dc4c72-a444-4466-9f6e-7027f98e2508",
   "metadata": {},
   "outputs": [],
   "source": [
    "from pivmetalib import dcat, m4i\n",
    "import rdflib\n",
    "\n",
    "result_dataset = dcat.Dataset(\n",
    "    distribution=result_distribution,\n",
    "    hadRole=prov.Person(firstName='Matthias',\n",
    "                        role=M4I.Researcher)\n",
    ")\n",
    "print(result_dataset.model_dump_jsonld(\n",
    "    context={\"@import\": \"https://raw.githubusercontent.com/matthiasprobst/pivmeta/main/pivmeta_context.jsonld\"}\n",
    ")\n",
    ")"
   ]
  },
  {
   "cell_type": "code",
   "execution_count": null,
   "id": "938a8feb-97e9-43db-ba37-b8226aa16b6b",
   "metadata": {},
   "outputs": [],
   "source": []
  },
  {
   "cell_type": "code",
   "execution_count": null,
   "id": "e6898355-4243-4754-a6a6-7566a82637d7",
   "metadata": {},
   "outputs": [],
   "source": []
  }
 ],
 "metadata": {
  "kernelspec": {
   "display_name": "Python 3 (ipykernel)",
   "language": "python",
   "name": "python3"
  },
  "language_info": {
   "codemirror_mode": {
    "name": "ipython",
    "version": 3
   },
   "file_extension": ".py",
   "mimetype": "text/x-python",
   "name": "python",
   "nbconvert_exporter": "python",
   "pygments_lexer": "ipython3",
   "version": "3.8.20"
  }
 },
 "nbformat": 4,
 "nbformat_minor": 5
}
