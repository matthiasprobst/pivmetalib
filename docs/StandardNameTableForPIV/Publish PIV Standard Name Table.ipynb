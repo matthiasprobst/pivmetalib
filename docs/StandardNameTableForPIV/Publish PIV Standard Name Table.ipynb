{
 "cells": [
  {
   "cell_type": "markdown",
   "id": "f426f851-5093-4635-a299-6e6fc2425e7a",
   "metadata": {},
   "source": [
    "# Standard Name Table for PIV"
   ]
  },
  {
   "cell_type": "code",
   "execution_count": 1,
   "id": "8fc3ed31-5d8a-418e-932a-29707550e45f",
   "metadata": {},
   "outputs": [],
   "source": [
    "from ssnolib import parse_table, StandardNameTable, AgentRole, StandardName, VectorStandardName\n",
    "from ssnolib.prov import Organization, Person\n",
    "from datetime import datetime\n",
    "import ontolutils"
   ]
  },
  {
   "cell_type": "code",
   "execution_count": 2,
   "id": "e2f82a66-0dcc-4237-96a7-6788e6ea2610",
   "metadata": {},
   "outputs": [],
   "source": [
    "zenodo_id = 14175299"
   ]
  },
  {
   "cell_type": "code",
   "execution_count": 3,
   "id": "123fc684-51a7-48fb-8c65-ce0a22b4b2ed",
   "metadata": {},
   "outputs": [],
   "source": [
    "VERSION = \"1.1.0\""
   ]
  },
  {
   "cell_type": "code",
   "execution_count": 4,
   "id": "3fdafe7f-f882-4471-951d-9e3078698381",
   "metadata": {},
   "outputs": [],
   "source": [
    "description = \"\"\"This table provides standard names for the description of PIV data. It is an initial version covering the most basic properties of planar PIV data.\"\"\""
   ]
  },
  {
   "cell_type": "code",
   "execution_count": 18,
   "id": "5d3b4d15-256e-4261-a3d0-80513070c691",
   "metadata": {},
   "outputs": [],
   "source": [
    "changelog = \"\"\"\n",
    "- Improved some standard name descriptions\n",
    "\"\"\""
   ]
  },
  {
   "cell_type": "code",
   "execution_count": 5,
   "id": "6514fbc2-9f43-412f-a973-ab63138dbbc2",
   "metadata": {},
   "outputs": [
    {
     "data": {
      "text/html": [
       "StandardNameTable(id=https://doi.org/10.5281/zenodo.14175299, title=Standard Name Table for Particle Image Velociemtry data, hasVersion=1.0.0, description=This table provides standard names for the description of PIV data. It is an initial version covering the most basic properties of planar PIV data., created=2024-11-17, modified=2024-11-23, standardNames=[])"
      ],
      "text/plain": [
       "StandardNameTable(id=https://doi.org/10.5281/zenodo.14175299, title=Standard Name Table for Particle Image Velociemtry data, hasVersion=1.0.0, description=This table provides standard names for the description of PIV data. It is an initial version covering the most basic properties of planar PIV data., created=2024-11-17, modified=2024-11-23, standardNames=[])"
      ]
     },
     "execution_count": 5,
     "metadata": {},
     "output_type": "execute_result"
    }
   ],
   "source": [
    "snt = StandardNameTable(\n",
    "    title=\"Standard Name Table for Particle Image Velociemtry data\",\n",
    "    version=VERSION,\n",
    "    description=description,\n",
    "    id=f\"https://doi.org/10.5281/zenodo.{zenodo_id}\",\n",
    "    # editorial_note=\"Changed blank nodes to explicit IRIs. This especially makes the standard names unique for the version and allows better visualization in tools like GraphDB. The IRIs uses the Zenodo Record URL as a prefix.\",\n",
    "    created=\"2024-11-17\",\n",
    "    modified=datetime.today().strftime(\"%Y-%m-%d\")\n",
    ")\n",
    "snt"
   ]
  },
  {
   "cell_type": "code",
   "execution_count": 6,
   "id": "07d0397f-f3ac-49de-a19f-9e091126aa4d",
   "metadata": {},
   "outputs": [],
   "source": [
    "with ontolutils.set_config(blank_node_prefix_name=\"local:\"):\n",
    "    KIT = Organization(id=\"https://ror.org/04t3en479\",\n",
    "                       name=\"Karlsruhe Institute of Technology, Institute of Thermal Turbomachinery\",\n",
    "                       ror_id=\"https://ror.org/04t3en479\")\n",
    "    author1 = Person(id=\"https://orcid.org/0000-0001-8729-0482\",\n",
    "                     first_name=\"Matthias\",\n",
    "                     last_name=\"Probst\",\n",
    "                     orcid_id=\"https://orcid.org/0000-0001-8729-0482\",\n",
    "                    affiliation=KIT)\n",
    "    author2 = Person(id=\"https://orcid.org/0000-0001-9560-500X\",\n",
    "                     first_name=\"Balazs\",\n",
    "                     last_name=\"Pritz\",\n",
    "                     orcid_id=\"https://orcid.org/0000-0001-9560-500X\",\n",
    "                     affiliation=KIT)"
   ]
  },
  {
   "cell_type": "code",
   "execution_count": 7,
   "id": "351ffd43-903b-4150-83bb-251c170d4cb3",
   "metadata": {},
   "outputs": [],
   "source": [
    "with ontolutils.set_config(blank_node_prefix_name=\"local:\"):\n",
    "    snt.add_author(author1, AgentRole.Contact_Person)\n",
    "    snt.add_author(author2, AgentRole.Supervisor)"
   ]
  },
  {
   "cell_type": "markdown",
   "id": "5eddd1b3-30a8-469d-9a89-2b8a40a300a4",
   "metadata": {},
   "source": [
    "## Adding Standard names"
   ]
  },
  {
   "cell_type": "code",
   "execution_count": 8,
   "id": "fab0cf82-cd92-42f7-8fa3-6414ecf7738f",
   "metadata": {},
   "outputs": [],
   "source": [
    "import pathlib\n",
    "from typing import Union\n",
    "\n",
    "import yaml\n",
    "\n",
    "\n",
    "def read_standard_names_from_yaml(yaml_filename: Union[str, pathlib.Path]):\n",
    "    yaml_filename = pathlib.Path(yaml_filename)\n",
    "    if not yaml_filename.exists():\n",
    "        raise FileNotFoundError(f\"File {yaml_filename} does not exist\")\n",
    "\n",
    "    with open(yaml_filename, 'r') as f:\n",
    "        data = yaml.safe_load(f)\n",
    "\n",
    "    standard_names = []\n",
    "    for k, v in data.items():\n",
    "        standard_names.append(StandardName(standard_name=k, unit=v[\"unit\"], description=v[\"description\"]))\n",
    "\n",
    "    return standard_names"
   ]
  },
  {
   "cell_type": "code",
   "execution_count": 9,
   "id": "c321bad8-f799-451c-93aa-61ac24f5a711",
   "metadata": {},
   "outputs": [],
   "source": [
    "with ontolutils.set_config(blank_node_prefix_name=\"local:\"):\n",
    "    standard_names = read_standard_names_from_yaml(\"piv_standard_names.yaml\")"
   ]
  },
  {
   "cell_type": "code",
   "execution_count": 10,
   "id": "1db5615b-23d6-4c44-8bc1-f1447b3d132b",
   "metadata": {},
   "outputs": [],
   "source": [
    "snt.standardNames = standard_names"
   ]
  },
  {
   "cell_type": "code",
   "execution_count": 11,
   "id": "3621fa68-d3e9-43ec-b080-3e9f5b4df6c2",
   "metadata": {},
   "outputs": [],
   "source": [
    "json_ld_filename = snt.to_jsonld(\n",
    "    f\"{snt.title.replace(' ', '_')}.jsonld\",\n",
    "    context={\"local\": f\"https://doi.org/10.5281/zenodo.{zenodo_id}/\"},\n",
    "    overwrite=True)\n",
    "ttl_filename = snt.to_ttl(\n",
    "    json_ld_filename.with_suffix(\".ttl\"),\n",
    "    context={\"local\": f\"https://doi.org/10.5281/zenodo.{zenodo_id}/\"},\n",
    "    overwrite=True\n",
    ")\n",
    "xml_filename = snt.to_xml(\n",
    "    json_ld_filename.with_suffix(\".xml\"),\n",
    "    context={\"local\": f\"https://doi.org/10.5281/zenodo.{zenodo_id}/\"},\n",
    "    overwrite=True\n",
    ")"
   ]
  },
  {
   "cell_type": "code",
   "execution_count": 12,
   "id": "a8cbe5f0-0c3b-44a7-8cc6-bc7e6a628bb1",
   "metadata": {},
   "outputs": [],
   "source": [
    "from h5rdmtoolbox.repository import zenodo\n",
    "from h5rdmtoolbox.repository.zenodo import metadata\n",
    "from datetime import datetime"
   ]
  },
  {
   "cell_type": "code",
   "execution_count": 13,
   "id": "0b2c18de-299f-435b-a842-ef3e61db69da",
   "metadata": {},
   "outputs": [
    {
     "data": {
      "text/plain": [
       "14175299"
      ]
     },
     "execution_count": 13,
     "metadata": {},
     "output_type": "execute_result"
    }
   ],
   "source": [
    "zenodo_id"
   ]
  },
  {
   "cell_type": "code",
   "execution_count": 14,
   "id": "dbb42754-1e50-4a04-82cc-81f56242a12f",
   "metadata": {},
   "outputs": [],
   "source": [
    "real_repo = zenodo.ZenodoRecord(source=zenodo_id, sandbox=False, env_name_for_token=\"ZENODO_API_TOKEN2\")\n",
    "zen = real_repo"
   ]
  },
  {
   "cell_type": "code",
   "execution_count": 15,
   "id": "dd4fd36c-1951-42aa-9662-a370aa11b740",
   "metadata": {},
   "outputs": [],
   "source": [
    "meta = metadata.Metadata(\n",
    "    version=VERSION,\n",
    "    title=json_ld_filename.stem.replace(\"_\", \" \"),\n",
    "    description=snt.description,\n",
    "    creators=[metadata.Creator(name=f\"{author1.lastName}, {author1.firstName}\",\n",
    "                               affiliation=KIT.name,\n",
    "                               orcid=author1.orcidId),\n",
    "             metadata.Creator(name=f\"{author2.lastName}, {author2.firstName}\",\n",
    "                                       affiliation=KIT.name,\n",
    "                                       orcid=author2.orcidId)],\n",
    "    upload_type='other',\n",
    "    access_right='open',\n",
    "    keywords=['standard name table', 'piv', 'particle image velocimetry'],\n",
    "    publication_date=datetime.now(),\n",
    ")"
   ]
  },
  {
   "cell_type": "code",
   "execution_count": 16,
   "id": "fe098a41-78e4-4d07-9669-4628afe2f185",
   "metadata": {},
   "outputs": [],
   "source": [
    "zen.set_metadata(meta)"
   ]
  },
  {
   "cell_type": "code",
   "execution_count": 17,
   "id": "e373a3fb-7a24-43d2-a443-f0cb0a17a7cd",
   "metadata": {},
   "outputs": [],
   "source": [
    "zen.upload_file(json_ld_filename, overwrite=True)\n",
    "zen.upload_file(ttl_filename, overwrite=True)\n",
    "zen.upload_file(xml_filename, overwrite=True)"
   ]
  },
  {
   "cell_type": "code",
   "execution_count": null,
   "id": "b49e864a-e2ae-4e9e-b2d7-7acb4781f321",
   "metadata": {},
   "outputs": [],
   "source": []
  }
 ],
 "metadata": {
  "kernelspec": {
   "display_name": "Python 3 (ipykernel)",
   "language": "python",
   "name": "python3"
  },
  "language_info": {
   "codemirror_mode": {
    "name": "ipython",
    "version": 3
   },
   "file_extension": ".py",
   "mimetype": "text/x-python",
   "name": "python",
   "nbconvert_exporter": "python",
   "pygments_lexer": "ipython3",
   "version": "3.8.20"
  }
 },
 "nbformat": 4,
 "nbformat_minor": 5
}
