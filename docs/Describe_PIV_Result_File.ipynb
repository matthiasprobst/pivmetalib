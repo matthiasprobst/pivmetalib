{
 "cells": [
  {
   "cell_type": "markdown",
   "id": "d9e14431-c577-4f76-9e5c-556b3cf9a4a5",
   "metadata": {},
   "source": [
    "# Describe a PIV Result File\n",
    "\n",
    "In this example, we want to describe the result file of the ILA Vortex pair (source: https://www.pivtec.com/download/samples/VortexPairSeq.zip)\n",
    "\n",
    "Where to start? Let's first evaluate what we have:\n",
    "\n",
    "General context:\n",
    "- The general concept of a dataset is described by `dcat:Dataset`\n",
    "- The file is described by `pivmeta:PivResultDistribution` and is part of the `dcat:Dataset`\n",
    "\n",
    "Specific information:<br>\n",
    "Of greater interest is the PIV process including the PIV parameters leading to the dataset. A `dcat:Dataset` is the output of the PIV process. For this, we can use [`m4i:output of`](http://purl.obolibrary.org/obo/RO_0002353):"
   ]
  },
  {
   "cell_type": "code",
   "execution_count": 1,
   "id": "ab72c7ec-9b38-4533-ac56-affd899fec3a",
   "metadata": {},
   "outputs": [],
   "source": [
    "from pivmetalib import pivmeta, dcat, m4i, schema, sd, prov"
   ]
  },
  {
   "cell_type": "code",
   "execution_count": 2,
   "id": "e8c7d349-1914-496d-8822-b07d4bccfa08",
   "metadata": {},
   "outputs": [],
   "source": [
    "result_dist = pivmeta.PivResultDistribution(\n",
    "    title='Result File',\n",
    "    downloadURL='file:///vp1a.dat'\n",
    ")\n",
    "# the \"downloaded\" file must exist:\n",
    "assert result_dist.download().exists()"
   ]
  },
  {
   "cell_type": "code",
   "execution_count": 3,
   "id": "2dedd781-049c-45fa-97da-e1c6bf9e089e",
   "metadata": {},
   "outputs": [
    {
     "data": {
      "text/plain": [
       "Url('file:///vp1a.dat')"
      ]
     },
     "execution_count": 3,
     "metadata": {},
     "output_type": "execute_result"
    }
   ],
   "source": [
    "result_dist.downloadURL"
   ]
  },
  {
   "cell_type": "code",
   "execution_count": 4,
   "id": "9c46182e-d70e-4e31-ab68-01449aeeddf7",
   "metadata": {},
   "outputs": [
    {
     "data": {
      "text/plain": [
       "<PivImageType.ExperimentalImage: 'https://matthiasprobst.github.io/pivmeta#ExperimentalImage'>"
      ]
     },
     "execution_count": 4,
     "metadata": {},
     "output_type": "execute_result"
    }
   ],
   "source": [
    "pivmeta.PivImageType.ExperimentalImage"
   ]
  },
  {
   "cell_type": "code",
   "execution_count": 5,
   "id": "84695ded-4cca-477e-960d-8caff46bc2fa",
   "metadata": {},
   "outputs": [
    {
     "data": {
      "text/plain": [
       "<PivImageType.ExperimentalImage: 'https://matthiasprobst.github.io/pivmeta#ExperimentalImage'>"
      ]
     },
     "execution_count": 5,
     "metadata": {},
     "output_type": "execute_result"
    }
   ],
   "source": [
    "piv_image_dist = pivmeta.PivImageDistribution(\n",
    "    title='ILA Vortex Pair Images',\n",
    "    download_URL='https://www.pivtec.com/download/samples/pivimg1.zip',\n",
    "    piv_image_type=pivmeta.PivImageType.ExperimentalImage\n",
    ")\n",
    "piv_image_dist.piv_image_type"
   ]
  },
  {
   "cell_type": "code",
   "execution_count": 6,
   "id": "6f9ea047-6108-4395-9f71-81ff5a0442fb",
   "metadata": {},
   "outputs": [
    {
     "data": {
      "text/html": [
       "Dataset(title=ILA Vortex Pair, distribution=[PivResultDistribution(title=Result File, downloadURL=file:///vp1a.dat), PivImageDistribution(title=ILA Vortex Pair Images, download_URL=https://www.pivtec.com/download/samples/pivimg1.zip, piv_image_type=PivImageType.ExperimentalImage)])"
      ],
      "text/plain": [
       "Dataset(title=ILA Vortex Pair, distribution=[PivResultDistribution(title=Result File, downloadURL=file:///vp1a.dat), PivImageDistribution(title=ILA Vortex Pair Images, download_URL=https://www.pivtec.com/download/samples/pivimg1.zip, piv_image_type=PivImageType.ExperimentalImage)])"
      ]
     },
     "execution_count": 6,
     "metadata": {},
     "output_type": "execute_result"
    }
   ],
   "source": [
    "ds = dcat.Dataset(\n",
    "    title='ILA Vortex Pair',\n",
    "    distribution=[result_dist, piv_image_dist]\n",
    ")\n",
    "ds"
   ]
  },
  {
   "cell_type": "markdown",
   "id": "0f2f7895-5f01-45fd-95cb-cef9fa67851a",
   "metadata": {},
   "source": [
    "Before defining the PIV processing steps, we need to describe the software used:"
   ]
  },
  {
   "cell_type": "code",
   "execution_count": 7,
   "id": "481978f4-a49c-479c-b40e-abd5de377e72",
   "metadata": {},
   "outputs": [],
   "source": [
    "piv_software = pivmeta.PIVSoftware(\n",
    "    author=prov.Organisation(\n",
    "        name='PIVTEC GmbH',\n",
    "        mbox='info@pivtec.com',\n",
    "        url='https://www.pivtec.com/'\n",
    "    ),\n",
    "    has_documentation='https://www.pivtec.com/download/docs/PIVview_v36_Manual.pdf',\n",
    ")"
   ]
  },
  {
   "cell_type": "code",
   "execution_count": 8,
   "id": "2f059f4b-154e-4f5d-ad66-409f7fb4f9db",
   "metadata": {},
   "outputs": [],
   "source": [
    "# import h5py\n",
    "# from typing import Dict\n",
    "\n",
    "\n",
    "# import h5rdmtoolbox as h5tbx\n",
    "# h5tbx.set_config(natural_naming=False)\n",
    "\n",
    "# with h5tbx.File() as h5:\n",
    "#     piv_software.dump_hdf(h5)\n",
    "#     h5.dump()\n",
    "#\n",
    "# print(piv_software.dump_jsonld())"
   ]
  },
  {
   "cell_type": "markdown",
   "id": "faac78e5-65fe-44f4-8950-9d4c6f2dd46c",
   "metadata": {},
   "source": [
    "## Processing steps\n",
    "\n",
    "A `PivProcessingStep` class is provided in order to distinguish the processing step from others. Some methods are provided as classes but without specific properties. This is done to provide flexibility, as all methods can be standardized. However, by introducing **standard names**, the authors may narrow their parameter definitions either by using global standard names (with an IRI) or within their project.\n",
    "\n",
    "*TODO: Put here an image illustrating the possibilities*\n",
    "\n",
    "By using standard names, important parameters can be identified unambiguously. See `PIVMETA.image_filter_kernel_size` in the example in contrast to the 180° image rotation."
   ]
  },
  {
   "cell_type": "markdown",
   "id": "da19c623-fd59-4936-b702-d94c601ebffb",
   "metadata": {},
   "source": [
    "### 1. Pre-Processing (Image processing)\n",
    "\n",
    "Methods:\n",
    "- image rotation by 180 deg"
   ]
  },
  {
   "cell_type": "code",
   "execution_count": 9,
   "id": "27665a5d-a23a-4f3b-b85f-6965d92ee703",
   "metadata": {},
   "outputs": [],
   "source": [
    "from ontolutils import PIVMETA"
   ]
  },
  {
   "cell_type": "code",
   "execution_count": 10,
   "id": "8bcde2fb-ddf5-4520-a151-a71bd4f184f5",
   "metadata": {},
   "outputs": [
    {
     "data": {
      "text/html": [
       "PivPreProcessing(realizesMethod=[Method(description=Rotates the input image by 180 deg, hasParameter=NumericalVariable(hasNumericalValue=180, hasUnit=deg, name=rotation, kindOfQuantity=https://qudt.org/vocab/unit/DEG)), Method(description=Applies a median filter to the image, hasParameter=NumericalVariable(hasNumericalValue=3, hasStandardName=https://matthiasprobst.github.io/pivmeta#image_filter_kernel_size))])"
      ],
      "text/plain": [
       "PivPreProcessing(realizesMethod=[Method(description=Rotates the input image by 180 deg, hasParameter=NumericalVariable(hasNumericalValue=180, hasUnit=deg, name=rotation, kindOfQuantity=https://qudt.org/vocab/unit/DEG)), Method(description=Applies a median filter to the image, hasParameter=NumericalVariable(hasNumericalValue=3, hasStandardName=https://matthiasprobst.github.io/pivmeta#image_filter_kernel_size))], name=Image pre processing)"
      ]
     },
     "execution_count": 10,
     "metadata": {},
     "output_type": "execute_result"
    }
   ],
   "source": [
    "pre = pivmeta.PivPreProcessing(\n",
    "    name='Image pre processing',\n",
    "    realizesMethod=[\n",
    "        m4i.Method(\n",
    "            description='Rotates the input image by 180 deg',\n",
    "            hasParameter=m4i.NumericalVariable(\n",
    "                name='rotation',\n",
    "                hasNumericalValue=180,\n",
    "                hasUnit='deg',\n",
    "                kindOfQuantity='https://qudt.org/vocab/unit/DEG'\n",
    "            )\n",
    "        ),\n",
    "        # Dont define all the classes for filters and outlier detection because everybody may define it differently.\n",
    "        # common parameters can be specified \"on demand\" by standard names like so: \n",
    "        m4i.Method(\n",
    "            description='Applies a median filter to the image',\n",
    "            hasParameter=pivmeta.NumericalVariable(\n",
    "                hasStandardName=PIVMETA.image_filter_kernel_size,\n",
    "                hasNumericalValue=3,\n",
    "            )\n",
    "        )\n",
    "    ]\n",
    ")\n",
    "pre"
   ]
  },
  {
   "cell_type": "markdown",
   "id": "473b212f-f571-427e-92f1-b301961b75d1",
   "metadata": {},
   "source": [
    "## 2. PIV evaluation\n",
    "\n",
    "The PIV evaluation is a `m4i:ProcessingStep`. It realizes the methods\n",
    "- `pivemta:CorrelationMethod` (e.g. FFT, ... ),\n",
    "- `pivemta:InterrogationMethod` (e.g. `pivemta:Multigrid`, ...) and\n",
    "- `pivemta:PeakSearchMethod`.\n",
    "\n",
    "The outlier detection (validation) is a sub-processing step (`pivemta:PivValidation`), because it can realize multiple methods. Most popular ones are described by classes:\n",
    "- `pivemta:DynMean`.\n",
    "\n",
    "Here, a multigrid evaluation is performed using standard FFT."
   ]
  },
  {
   "cell_type": "markdown",
   "id": "df6461be-e23c-4688-8f46-e9c3d3786882",
   "metadata": {},
   "source": [
    "### 2.1 Correlation algorithm\n",
    "\n",
    "The correlation algorithm is a subclass of `m4i:Method`. At least a name and description should be provided (here, taken from the documentation). We could also provide parameters."
   ]
  },
  {
   "cell_type": "code",
   "execution_count": 11,
   "id": "7447a632-4fa7-41e9-95d1-be5386a5bccc",
   "metadata": {},
   "outputs": [
    {
     "data": {
      "text/html": [
       "CorrelationAlgorithm(description=The default mode of cross-correlation using FFTs to speed the computation. In principle the sum of pixel-wise multiplication of intensities is computed for each correlation offset (For implementation details please refer to Raffel et al. 2007).)"
      ],
      "text/plain": [
       "CorrelationAlgorithm(description=The default mode of cross-correlation using FFTs to speed the computation. In principle the sum of pixel-wise multiplication of intensities is computed for each correlation offset (For implementation details please refer to Raffel et al. 2007)., name=Standard (FFT) Correlation)"
      ]
     },
     "execution_count": 11,
     "metadata": {},
     "output_type": "execute_result"
    }
   ],
   "source": [
    "calgo = pivmeta.CorrelationAlgorithm(\n",
    "    name='Standard (FFT) Correlation',\n",
    "    description='The default mode of cross-correlation using FFTs to speed the computation. ' \n",
    "    'In principle the sum of pixel-wise multiplication of intensities is computed for each ' \n",
    "    'correlation offset (For implementation details please refer to Raffel et al. 2007).'\n",
    ")\n",
    "calgo"
   ]
  },
  {
   "cell_type": "markdown",
   "id": "eb1f5c6b-d7ce-4502-b997-cc79e719d97f",
   "metadata": {},
   "source": [
    "### 2.2 Interrogation method\n",
    "\n",
    "In this example, a *Multi-Grid* method was used starting from a window with size 64 px down to 16 px in 3 steps"
   ]
  },
  {
   "cell_type": "code",
   "execution_count": 12,
   "id": "6045c0bd-448f-4285-ac9a-579b018cf734",
   "metadata": {},
   "outputs": [
    {
     "data": {
      "text/html": [
       "NumericalVariable(hasNumericalValue=64, hasStandardName=https://matthiasprobst.github.io/pivmeta#x_initial_interrogation_window_size)"
      ],
      "text/plain": [
       "NumericalVariable(hasNumericalValue=64, hasStandardName=https://matthiasprobst.github.io/pivmeta#x_initial_interrogation_window_size)"
      ]
     },
     "execution_count": 12,
     "metadata": {},
     "output_type": "execute_result"
    }
   ],
   "source": [
    "v = pivmeta.NumericalVariable(\n",
    "            hasStandardName=PIVMETA.x_initial_interrogation_window_size,\n",
    "            hasNumericalValue=64,\n",
    "        )\n",
    "v"
   ]
  },
  {
   "cell_type": "code",
   "execution_count": 13,
   "id": "6eb9d495-a9b6-4c63-9e94-62680abb2620",
   "metadata": {},
   "outputs": [],
   "source": [
    "#print(v.dump_jsonld())"
   ]
  },
  {
   "cell_type": "code",
   "execution_count": 14,
   "id": "cf03a99e-133b-4ced-aab5-599eb3ef1472",
   "metadata": {},
   "outputs": [
    {
     "data": {
      "text/html": [
       "NumericalVariable(hasVariableDescription=Number of multigrid passes, hasNumericalValue=3)"
      ],
      "text/plain": [
       "NumericalVariable(hasVariableDescription=Number of multigrid passes, hasNumericalValue=3)"
      ]
     },
     "execution_count": 14,
     "metadata": {},
     "output_type": "execute_result"
    }
   ],
   "source": [
    "int_meth = m4i.Method(\n",
    "    name='Multigrid interrogation method',\n",
    "    description='Run a multigrid PIV algorithm on all images',\n",
    "    hasParameter=[\n",
    "        pivmeta.NumericalVariable(\n",
    "            hasStandardName=PIVMETA.x_initial_interrogation_window_size,\n",
    "            hasNumericalValue=64,\n",
    "        ),\n",
    "        pivmeta.NumericalVariable(\n",
    "            hasStandardName=PIVMETA.y_initial_interrogation_window_size,\n",
    "            hasNumericalValue=64,\n",
    "        ),\n",
    "        pivmeta.NumericalVariable(\n",
    "            hasStandardName=PIVMETA.x_final_interrogation_window_size,\n",
    "            hasNumericalValue=16,\n",
    "        ),\n",
    "        pivmeta.NumericalVariable(\n",
    "            hasStandardName=PIVMETA.y_final_interrogation_window_size,\n",
    "            hasNumericalValue=16,\n",
    "        ),\n",
    "        pivmeta.NumericalVariable(\n",
    "            hasStandardName=PIVMETA.x_final_interrogation_window_overlap_size,\n",
    "            hasNumericalValue=8,\n",
    "        ),\n",
    "        pivmeta.NumericalVariable(\n",
    "            hasStandardName=PIVMETA.y_final_interrogation_window_overlap_size,\n",
    "            hasNumericalValue=8,\n",
    "        ),\n",
    "        pivmeta.NumericalVariable(\n",
    "            # hasStandardName=PIVMETA.number_of_multigrid_passes,\n",
    "            hasVariableDescription='Number of multigrid passes',\n",
    "            hasNumericalValue=3,\n",
    "        )\n",
    "    ]\n",
    ")\n",
    "int_meth.hasParameter[-1]"
   ]
  },
  {
   "cell_type": "markdown",
   "id": "fce1e717-0e02-4f4a-bbb2-af411dc36db8",
   "metadata": {},
   "source": [
    "### 2.3 Outlier detection\n",
    "\n",
    "We use the following two methods for outlier detection:\n",
    "- normalized median test threshold: 3.0 (see DOI=https://doi.org/10.1007/s00348-005-0016-6)\n",
    "- dynamic mean test: mean=2.0, var=1.0"
   ]
  },
  {
   "cell_type": "code",
   "execution_count": 15,
   "id": "739aa70a-7dc0-4317-a814-f3c14b8e8727",
   "metadata": {},
   "outputs": [],
   "source": [
    "median_test = pivmeta.OutlierDetectionMethod(\n",
    "    name='normalized median test',\n",
    "    hasParameter=m4i.NumericalVariable(\n",
    "        label='threshold',\n",
    "        hasNumericalValue=3.0\n",
    "    )\n",
    ")"
   ]
  },
  {
   "cell_type": "code",
   "execution_count": 16,
   "id": "5048b457-c0c7-4f01-a168-0805de557080",
   "metadata": {},
   "outputs": [],
   "source": [
    "dyn_mean = pivmeta.OutlierDetectionMethod(\n",
    "    name='dynamic mean test',\n",
    "    hasParameter=[\n",
    "        m4i.NumericalVariable(\n",
    "            label='mean',\n",
    "            hasNumericalValue=2.0\n",
    "        ),\n",
    "        m4i.NumericalVariable(\n",
    "            label='var',\n",
    "            hasNumericalValue=1.0\n",
    "        )\n",
    "    ]\n",
    ")"
   ]
  },
  {
   "cell_type": "code",
   "execution_count": 17,
   "id": "f1acbf4e-ee47-4d81-976e-990ba8af789c",
   "metadata": {},
   "outputs": [
    {
     "data": {
      "text/html": [
       "PivEvaluation(label=piv evaluation, realizesMethod=[CorrelationAlgorithm(description=The default mode of cross-correlation using FFTs to speed the computation. In principle the sum of pixel-wise multiplication of intensities is computed for each correlation offset (For implementation details please refer to Raffel et al. 2007)., name=Standard (FFT) Correlation), Method(description=Run a multigrid PIV algorithm on all images, hasParameter=[NumericalVariable(hasNumericalValue=64, hasStandardName=https://matthiasprobst.github.io/pivmeta#x_initial_interrogation_window_size), NumericalVariable(hasNumericalValue=64, hasStandardName=https://matthiasprobst.github.io/pivmeta#y_initial_interrogation_window_size), NumericalVariable(hasNumericalValue=16, hasStandardName=https://matthiasprobst.github.io/pivmeta#x_final_interrogation_window_size), NumericalVariable(hasNumericalValue=16, hasStandardName=https://matthiasprobst.github.io/pivmeta#y_final_interrogation_window_size), NumericalVariable(hasNumericalValue=8, hasStandardName=https://matthiasprobst.github.io/pivmeta#x_final_interrogation_window_overlap_size), NumericalVariable(hasNumericalValue=8, hasStandardName=https://matthiasprobst.github.io/pivmeta#y_final_interrogation_window_overlap_size), NumericalVariable(hasVariableDescription=Number of multigrid passes, hasNumericalValue=3)], name=Multigrid interrogation method), OutlierDetectionMethod(hasParameter=NumericalVariable(label=threshold, hasNumericalValue=3.0), name=normalized median test), OutlierDetectionMethod(hasParameter=[NumericalVariable(label=mean, hasNumericalValue=2.0), NumericalVariable(label=var, hasNumericalValue=1.0)], name=dynamic mean test)])"
      ],
      "text/plain": [
       "PivEvaluation(label=piv evaluation, realizesMethod=[CorrelationAlgorithm(description=The default mode of cross-correlation using FFTs to speed the computation. In principle the sum of pixel-wise multiplication of intensities is computed for each correlation offset (For implementation details please refer to Raffel et al. 2007)., name=Standard (FFT) Correlation), Method(description=Run a multigrid PIV algorithm on all images, hasParameter=[NumericalVariable(hasNumericalValue=64, hasStandardName=https://matthiasprobst.github.io/pivmeta#x_initial_interrogation_window_size), NumericalVariable(hasNumericalValue=64, hasStandardName=https://matthiasprobst.github.io/pivmeta#y_initial_interrogation_window_size), NumericalVariable(hasNumericalValue=16, hasStandardName=https://matthiasprobst.github.io/pivmeta#x_final_interrogation_window_size), NumericalVariable(hasNumericalValue=16, hasStandardName=https://matthiasprobst.github.io/pivmeta#y_final_interrogation_window_size), NumericalVariable(hasNumericalValue=8, hasStandardName=https://matthiasprobst.github.io/pivmeta#x_final_interrogation_window_overlap_size), NumericalVariable(hasNumericalValue=8, hasStandardName=https://matthiasprobst.github.io/pivmeta#y_final_interrogation_window_overlap_size), NumericalVariable(hasVariableDescription=Number of multigrid passes, hasNumericalValue=3)], name=Multigrid interrogation method), OutlierDetectionMethod(hasParameter=NumericalVariable(label=threshold, hasNumericalValue=3.0), name=normalized median test), OutlierDetectionMethod(hasParameter=[NumericalVariable(label=mean, hasNumericalValue=2.0), NumericalVariable(label=var, hasNumericalValue=1.0)], name=dynamic mean test)])"
      ]
     },
     "execution_count": 17,
     "metadata": {},
     "output_type": "execute_result"
    }
   ],
   "source": [
    "proc = pivmeta.PivEvaluation(\n",
    "    label='piv evaluation',\n",
    "    realizesMethod=[\n",
    "        calgo,\n",
    "        int_meth,\n",
    "        median_test,\n",
    "        dyn_mean\n",
    "    ]\n",
    ")\n",
    "proc"
   ]
  },
  {
   "cell_type": "code",
   "execution_count": 21,
   "id": "f708a8ea-8e34-40a1-8788-e36d282b52f6",
   "metadata": {},
   "outputs": [],
   "source": [
    "data_smoothing = m4i.Method(\n",
    "    name='Low-pass filtering',\n",
    "    description='applies a low-pass filtering on the data using a Gaussian weighted kernel of specified width to reduce spurious noise.',\n",
    "    hasParameter=m4i.NumericalVariable(label='kernel', hasNumericalValue=2.0)\n",
    ")"
   ]
  },
  {
   "cell_type": "code",
   "execution_count": 22,
   "id": "c0aa9014-102f-4dba-9977-3a310ac1afd1",
   "metadata": {},
   "outputs": [],
   "source": [
    "post = pivmeta.PivPostProcessing(\n",
    "    label='Post processing',\n",
    "    realizesMethod=data_smoothing\n",
    ")\n",
    "            "
   ]
  },
  {
   "cell_type": "markdown",
   "id": "f1809a68-1074-48e5-b047-85cf6f62a147",
   "metadata": {},
   "source": [
    "## 3. Creating the full Meta document (connect information)\n",
    "\n",
    "We created three processing steps:\n",
    "1. pre (takes raw images)\n",
    "2. proc\n",
    "3. post (outputs result data)\n"
   ]
  },
  {
   "cell_type": "code",
   "execution_count": 24,
   "id": "b4e4230c-aff3-4adb-bba0-24b33fad657c",
   "metadata": {},
   "outputs": [],
   "source": [
    "post.hasOutput = ds"
   ]
  },
  {
   "cell_type": "markdown",
   "id": "adc7dc2e-06f6-4500-9066-fa9ebc390429",
   "metadata": {},
   "source": [
    "## 4. dump piv run to JSON-LD"
   ]
  },
  {
   "cell_type": "code",
   "execution_count": 26,
   "id": "355ccc0f-79f9-4068-9aef-3b72aadf9dad",
   "metadata": {},
   "outputs": [],
   "source": [
    "piv = m4i.ProcessingStep(\n",
    "    label='PIV Run',\n",
    "    startsWith=pre,\n",
    "    endsWith=post\n",
    ")\n",
    "# proc.part_of = piv\n",
    "pre.precedes = proc\n",
    "proc.precedes = post\n",
    "\n",
    "# all processing steps were employed by software pivview:\n",
    "pre.has_employed_tool = piv_software\n",
    "proc.has_employed_tool = piv_software\n",
    "post.has_employed_tool = piv_software"
   ]
  },
  {
   "cell_type": "code",
   "execution_count": 27,
   "id": "0cbb3eae-3c90-489f-8311-fa159e3e488c",
   "metadata": {},
   "outputs": [],
   "source": [
    "with open('piv_process.json', 'w') as f:\n",
    "    f.write(proc.dump_jsonld())"
   ]
  },
  {
   "cell_type": "code",
   "execution_count": 34,
   "id": "73935d8b-9949-4bf9-b56d-c71940ba9bec",
   "metadata": {},
   "outputs": [
    {
     "name": "stdout",
     "output_type": "stream",
     "text": [
      "{\n",
      "    \"@context\": {\n",
      "        \"@import\": \"https://raw.githubusercontent.com/matthiasprobst/pivmeta/main/pivmeta_context.jsonld\",\n",
      "        \"local\": \"https://local-domain.org/\"\n",
      "    },\n",
      "    \"@graph\": [\n",
      "        {\n",
      "            \"@id\": \"local:86014695-fe85-451e-b78c-2ecc087f6106\",\n",
      "            \"@type\": \"piv post processing\",\n",
      "            \"has_employed_tool\": {\n",
      "                \"@id\": \"local:67046a17-5c3d-429a-adef-434acc980a97\"\n",
      "            },\n",
      "            \"has_output\": {\n",
      "                \"@id\": \"local:d964e055-62bb-430d-91fc-887b95a4dd63\"\n",
      "            },\n",
      "            \"m4i:hasOutput\": {\n",
      "                \"@id\": \"local:0cd5c7dd-b7a9-4b31-9eb8-a4582c796a30\"\n",
      "            },\n",
      "            \"m4i:realizesMethod\": {\n",
      "                \"@id\": \"local:0d931bfb-8db9-407a-9ab0-e8fedb039db3\"\n",
      "            },\n",
      "            \"rdfs:label\": \"Post processing\"\n",
      "        },\n",
      "        {\n",
      "            \"@id\": \"local:f29184a1-b5fd-4bae-a89d-5b8276fd2351\",\n",
      "            \"@type\": \"numerische Variable\",\n",
      "            \"hat Zahlenwert\": \"3.0\",\n",
      "            \"rdfs:label\": \"threshold\"\n",
      "        },\n",
      "        {\n",
      "            \"@id\": \"local:4a78760d-bc20-4b8b-8f46-24e0d242a9ab\",\n",
      "            \"@type\": \"processing step\",\n",
      "            \"endsWith\": {\n",
      "                \"@id\": \"local:9f53baa8-30a1-49af-a547-be960ccf0298\"\n",
      "            },\n",
      "            \"rdfs:label\": \"PIV Run\",\n",
      "            \"startsWith\": {\n",
      "                \"@id\": \"local:862cac0f-d82c-4f53-a559-0b7c4bd7496c\"\n",
      "            }\n",
      "        },\n",
      "        {\n",
      "            \"@id\": \"local:53c38533-9a13-4d04-af28-36ca57514d8f\",\n",
      "            \"@type\": \"Piv Software\",\n",
      "            \"schema:author\": {\n",
      "                \"@id\": \"local:18afc7ce-dd1e-401f-a023-9a76d51bf91e\"\n",
      "            },\n",
      "            \"sd:hasDocumentation\": \"https://www.pivtec.com/download/docs/PIVview_v36_Manual.pdf\"\n",
      "        },\n",
      "        {\n",
      "            \"@id\": \"local:862cac0f-d82c-4f53-a559-0b7c4bd7496c\",\n",
      "            \"@type\": \"piv pre processing\",\n",
      "            \"has_employed_tool\": {\n",
      "                \"@id\": \"local:6658eb5c-2e4b-440f-b3e2-6fb928962cf4\"\n",
      "            },\n",
      "            \"m4i:precedes\": {\n",
      "                \"@id\": \"local:46d29ac2-d05a-41fa-a3f6-84b166ffae6c\"\n",
      "            },\n",
      "            \"m4i:realizesMethod\": [\n",
      "                {\n",
      "                    \"@id\": \"local:7eff441e-2e17-48bf-b3ff-e64013ee0e31\"\n",
      "                },\n",
      "                {\n",
      "                    \"@id\": \"local:54b3f616-fc47-40e3-bb40-d55e542a930d\"\n",
      "                }\n",
      "            ],\n",
      "            \"name\": \"Image pre processing\"\n",
      "        },\n",
      "        {\n",
      "            \"@id\": \"local:70868140-22a5-4e6e-abcd-0050d77b4ac0\",\n",
      "            \"@type\": \"numerische Variable\",\n",
      "            \"hasStandardName\": \"https://matthiasprobst.github.io/pivmeta#x_initial_interrogation_window_size\",\n",
      "            \"hat Zahlenwert\": \"64\"\n",
      "        },\n",
      "        {\n",
      "            \"@id\": \"local:d868df95-752e-43ea-8e78-9ab461759529\",\n",
      "            \"@type\": \"dataset\",\n",
      "            \"dct:title\": \"ILA Vortex Pair\",\n",
      "            \"hat Verteilung\": [\n",
      "                {\n",
      "                    \"@id\": \"local:cd240168-091f-4627-b5d1-db2390e5e0ca\"\n",
      "                },\n",
      "                {\n",
      "                    \"@id\": \"local:9730ee0d-76e1-4b4d-88fc-98501697de06\"\n",
      "                }\n",
      "            ]\n",
      "        },\n",
      "        {\n",
      "            \"@id\": \"local:54b3f616-fc47-40e3-bb40-d55e542a930d\",\n",
      "            \"@type\": \"method\",\n",
      "            \"m4i:hasParameter\": {\n",
      "                \"@id\": \"local:53e271ab-8364-4100-9bfc-66539fd55584\"\n",
      "            },\n",
      "            \"schema:description\": \"Applies a median filter to the image\"\n",
      "        },\n",
      "        {\n",
      "            \"@id\": \"local:1e87aa27-77a1-4631-8593-b1dd93469304\",\n",
      "            \"@type\": \"dataset\",\n",
      "            \"dct:title\": \"ILA Vortex Pair\",\n",
      "            \"hat Verteilung\": [\n",
      "                {\n",
      "                    \"@id\": \"local:f4362506-14ab-49df-bd90-c7e55a856006\"\n",
      "                },\n",
      "                {\n",
      "                    \"@id\": \"local:1ac04f1a-e93c-4492-801e-33f30ec789c4\"\n",
      "                }\n",
      "            ]\n",
      "        },\n",
      "        {\n",
      "            \"@id\": \"local:53e271ab-8364-4100-9bfc-66539fd55584\",\n",
      "            \"@type\": \"numerische Variable\",\n",
      "            \"hasStandardName\": \"https://matthiasprobst.github.io/pivmeta#image_filter_kernel_size\",\n",
      "            \"hat Zahlenwert\": \"3\"\n",
      "        },\n",
      "        {\n",
      "            \"@id\": \"local:cd240168-091f-4627-b5d1-db2390e5e0ca\",\n",
      "            \"@type\": \"piv result distribution\",\n",
      "            \"dct:title\": \"Result File\",\n",
      "            \"download URL\": \"file:///vp1a.dat\"\n",
      "        },\n",
      "        {\n",
      "            \"@id\": \"local:67046a17-5c3d-429a-adef-434acc980a97\",\n",
      "            \"@type\": \"Piv Software\",\n",
      "            \"schema:author\": {\n",
      "                \"@id\": \"local:d47c3750-ed5e-4022-824b-0719183b900b\"\n",
      "            },\n",
      "            \"sd:hasDocumentation\": \"https://www.pivtec.com/download/docs/PIVview_v36_Manual.pdf\"\n",
      "        },\n",
      "        {\n",
      "            \"@id\": \"local:0cd5c7dd-b7a9-4b31-9eb8-a4582c796a30\",\n",
      "            \"@type\": \"dataset\",\n",
      "            \"dct:title\": \"ILA Vortex Pair\",\n",
      "            \"hat Verteilung\": [\n",
      "                {\n",
      "                    \"@id\": \"local:3c474c0a-e7cb-43ec-a1b0-29e8bd215b1c\"\n",
      "                },\n",
      "                {\n",
      "                    \"@id\": \"local:10280e9d-b77f-416a-b880-8ade2071e51f\"\n",
      "                }\n",
      "            ]\n",
      "        },\n",
      "        {\n",
      "            \"@id\": \"local:67d2a898-f81e-48f6-9c5d-2b0e6c0d2c41\",\n",
      "            \"@type\": \"outlier detection method\",\n",
      "            \"m4i:hasParameter\": {\n",
      "                \"@id\": \"local:f29184a1-b5fd-4bae-a89d-5b8276fd2351\"\n",
      "            },\n",
      "            \"name\": \"normalized median test\"\n",
      "        },\n",
      "        {\n",
      "            \"@id\": \"local:f800670f-d7b4-4533-9af7-846a3b6b61f9\",\n",
      "            \"@type\": \"method\",\n",
      "            \"m4i:hasParameter\": {\n",
      "                \"@id\": \"local:ddc9609f-728b-48fa-98ca-ec98768e6fd0\"\n",
      "            },\n",
      "            \"name\": \"Low-pass filtering\",\n",
      "            \"schema:description\": \"applies a low-pass filtering on the data using a Gaussian weighted kernel of specified width to reduce spurious noise.\"\n",
      "        },\n",
      "        {\n",
      "            \"@id\": \"local:0d931bfb-8db9-407a-9ab0-e8fedb039db3\",\n",
      "            \"@type\": \"method\",\n",
      "            \"m4i:hasParameter\": {\n",
      "                \"@id\": \"local:ebfa2060-375a-4201-88cc-1026987abb66\"\n",
      "            },\n",
      "            \"name\": \"Low-pass filtering\",\n",
      "            \"schema:description\": \"applies a low-pass filtering on the data using a Gaussian weighted kernel of specified width to reduce spurious noise.\"\n",
      "        },\n",
      "        {\n",
      "            \"@id\": \"local:d8eb65c9-015b-478a-8af3-6cee104be683\",\n",
      "            \"@type\": \"numerische Variable\",\n",
      "            \"hasStandardName\": \"https://matthiasprobst.github.io/pivmeta#y_final_interrogation_window_overlap_size\",\n",
      "            \"hat Zahlenwert\": \"8\"\n",
      "        },\n",
      "        {\n",
      "            \"@id\": \"local:18afc7ce-dd1e-401f-a023-9a76d51bf91e\",\n",
      "            \"@type\": \"prov:Organisation\",\n",
      "            \"foaf:mbox\": \"info@pivtec.com\",\n",
      "            \"foaf:name\": \"PIVTEC GmbH\",\n",
      "            \"schema:url\": \"https://www.pivtec.com/\"\n",
      "        },\n",
      "        {\n",
      "            \"@id\": \"local:f4362506-14ab-49df-bd90-c7e55a856006\",\n",
      "            \"@type\": \"piv result distribution\",\n",
      "            \"dct:title\": \"Result File\",\n",
      "            \"download URL\": \"file:///vp1a.dat\"\n",
      "        },\n",
      "        {\n",
      "            \"@id\": \"local:e576ff49-28ec-41b0-94d1-523008f23e3b\",\n",
      "            \"@type\": \"numerische Variable\",\n",
      "            \"hat Zahlenwert\": \"3\",\n",
      "            \"m4i:hasVariableDescription\": \"Number of multigrid passes\"\n",
      "        },\n",
      "        {\n",
      "            \"@id\": \"local:15824481-276f-49a1-8dc2-6c65c25b214e\",\n",
      "            \"@type\": \"numerische Variable\",\n",
      "            \"hasStandardName\": \"https://matthiasprobst.github.io/pivmeta#y_initial_interrogation_window_size\",\n",
      "            \"hat Zahlenwert\": \"64\"\n",
      "        },\n",
      "        {\n",
      "            \"@id\": \"local:9f53baa8-30a1-49af-a547-be960ccf0298\",\n",
      "            \"@type\": \"piv post processing\",\n",
      "            \"has_employed_tool\": {\n",
      "                \"@id\": \"local:53c38533-9a13-4d04-af28-36ca57514d8f\"\n",
      "            },\n",
      "            \"has_output\": {\n",
      "                \"@id\": \"local:1e87aa27-77a1-4631-8593-b1dd93469304\"\n",
      "            },\n",
      "            \"m4i:hasOutput\": {\n",
      "                \"@id\": \"local:d868df95-752e-43ea-8e78-9ab461759529\"\n",
      "            },\n",
      "            \"m4i:realizesMethod\": {\n",
      "                \"@id\": \"local:f800670f-d7b4-4533-9af7-846a3b6b61f9\"\n",
      "            },\n",
      "            \"rdfs:label\": \"Post processing\"\n",
      "        },\n",
      "        {\n",
      "            \"@id\": \"local:4c3cbb71-ffa5-424b-b125-628988f47cd1\",\n",
      "            \"@type\": \"CorrelationAlgorithm\",\n",
      "            \"name\": \"Standard (FFT) Correlation\",\n",
      "            \"schema:description\": \"The default mode of cross-correlation using FFTs to speed the computation. In principle the sum of pixel-wise multiplication of intensities is computed for each correlation offset (For implementation details please refer to Raffel et al. 2007).\"\n",
      "        },\n",
      "        {\n",
      "            \"@id\": \"local:8d18a981-d57e-428e-b6d3-003f7202a30a\",\n",
      "            \"@type\": \"numerische Variable\",\n",
      "            \"hasStandardName\": \"https://matthiasprobst.github.io/pivmeta#y_final_interrogation_window_size\",\n",
      "            \"hat Zahlenwert\": \"16\"\n",
      "        },\n",
      "        {\n",
      "            \"@id\": \"local:6658eb5c-2e4b-440f-b3e2-6fb928962cf4\",\n",
      "            \"@type\": \"Piv Software\",\n",
      "            \"schema:author\": {\n",
      "                \"@id\": \"local:c7f96776-5593-443a-94c0-5a6a73e2d52e\"\n",
      "            },\n",
      "            \"sd:hasDocumentation\": \"https://www.pivtec.com/download/docs/PIVview_v36_Manual.pdf\"\n",
      "        },\n",
      "        {\n",
      "            \"@id\": \"local:90ba1a93-e20b-40ba-bdb5-345a0daf325f\",\n",
      "            \"@type\": \"numerische Variable\",\n",
      "            \"hasStandardName\": \"https://matthiasprobst.github.io/pivmeta#x_final_interrogation_window_size\",\n",
      "            \"hat Zahlenwert\": \"16\"\n",
      "        },\n",
      "        {\n",
      "            \"@id\": \"local:c7f96776-5593-443a-94c0-5a6a73e2d52e\",\n",
      "            \"@type\": \"prov:Organisation\",\n",
      "            \"foaf:mbox\": \"info@pivtec.com\",\n",
      "            \"foaf:name\": \"PIVTEC GmbH\",\n",
      "            \"schema:url\": \"https://www.pivtec.com/\"\n",
      "        },\n",
      "        {\n",
      "            \"@id\": \"local:d964e055-62bb-430d-91fc-887b95a4dd63\",\n",
      "            \"@type\": \"dataset\",\n",
      "            \"dct:title\": \"ILA Vortex Pair\",\n",
      "            \"hat Verteilung\": [\n",
      "                {\n",
      "                    \"@id\": \"local:949b7bc6-e7be-4b2f-be41-f7386de8150a\"\n",
      "                },\n",
      "                {\n",
      "                    \"@id\": \"local:0c7810df-9ad7-475e-8ac7-a6671e79442d\"\n",
      "                }\n",
      "            ]\n",
      "        },\n",
      "        {\n",
      "            \"@id\": \"local:ddc9609f-728b-48fa-98ca-ec98768e6fd0\",\n",
      "            \"@type\": \"numerische Variable\",\n",
      "            \"hat Zahlenwert\": \"2.0\",\n",
      "            \"rdfs:label\": \"kernel\"\n",
      "        },\n",
      "        {\n",
      "            \"@id\": \"local:ebfa2060-375a-4201-88cc-1026987abb66\",\n",
      "            \"@type\": \"numerische Variable\",\n",
      "            \"hat Zahlenwert\": \"2.0\",\n",
      "            \"rdfs:label\": \"kernel\"\n",
      "        },\n",
      "        {\n",
      "            \"@id\": \"local:10280e9d-b77f-416a-b880-8ade2071e51f\",\n",
      "            \"@type\": \"piv image distribution\",\n",
      "            \"dct:title\": \"ILA Vortex Pair Images\",\n",
      "            \"download_URL\": \"https://www.pivtec.com/download/samples/pivimg1.zip\",\n",
      "            \"piv_image_type\": \"PivImageType.ExperimentalImage\"\n",
      "        },\n",
      "        {\n",
      "            \"@id\": \"local:949b7bc6-e7be-4b2f-be41-f7386de8150a\",\n",
      "            \"@type\": \"piv result distribution\",\n",
      "            \"dct:title\": \"Result File\",\n",
      "            \"download URL\": \"file:///vp1a.dat\"\n",
      "        },\n",
      "        {\n",
      "            \"@id\": \"local:d47c3750-ed5e-4022-824b-0719183b900b\",\n",
      "            \"@type\": \"prov:Organisation\",\n",
      "            \"foaf:mbox\": \"info@pivtec.com\",\n",
      "            \"foaf:name\": \"PIVTEC GmbH\",\n",
      "            \"schema:url\": \"https://www.pivtec.com/\"\n",
      "        },\n",
      "        {\n",
      "            \"@id\": \"local:46d29ac2-d05a-41fa-a3f6-84b166ffae6c\",\n",
      "            \"@type\": \"PivEvaluation\",\n",
      "            \"has_employed_tool\": {\n",
      "                \"@id\": \"local:a6bdff46-59c7-4c8e-8be3-a5eced9a0b1c\"\n",
      "            },\n",
      "            \"m4i:precedes\": {\n",
      "                \"@id\": \"local:86014695-fe85-451e-b78c-2ecc087f6106\"\n",
      "            },\n",
      "            \"m4i:realizesMethod\": [\n",
      "                {\n",
      "                    \"@id\": \"local:4c3cbb71-ffa5-424b-b125-628988f47cd1\"\n",
      "                },\n",
      "                {\n",
      "                    \"@id\": \"local:88337f73-d681-4b38-ae67-b4c9a5e9f0cb\"\n",
      "                },\n",
      "                {\n",
      "                    \"@id\": \"local:67d2a898-f81e-48f6-9c5d-2b0e6c0d2c41\"\n",
      "                },\n",
      "                {\n",
      "                    \"@id\": \"local:8cefa954-1e2b-4b9f-b7c0-319355903eff\"\n",
      "                }\n",
      "            ],\n",
      "            \"rdfs:label\": \"piv evaluation\"\n",
      "        },\n",
      "        {\n",
      "            \"@id\": \"local:88337f73-d681-4b38-ae67-b4c9a5e9f0cb\",\n",
      "            \"@type\": \"method\",\n",
      "            \"m4i:hasParameter\": [\n",
      "                {\n",
      "                    \"@id\": \"local:70868140-22a5-4e6e-abcd-0050d77b4ac0\"\n",
      "                },\n",
      "                {\n",
      "                    \"@id\": \"local:15824481-276f-49a1-8dc2-6c65c25b214e\"\n",
      "                },\n",
      "                {\n",
      "                    \"@id\": \"local:90ba1a93-e20b-40ba-bdb5-345a0daf325f\"\n",
      "                },\n",
      "                {\n",
      "                    \"@id\": \"local:8d18a981-d57e-428e-b6d3-003f7202a30a\"\n",
      "                },\n",
      "                {\n",
      "                    \"@id\": \"local:122caf4b-7943-449b-8ff8-027267f919e2\"\n",
      "                },\n",
      "                {\n",
      "                    \"@id\": \"local:d8eb65c9-015b-478a-8af3-6cee104be683\"\n",
      "                },\n",
      "                {\n",
      "                    \"@id\": \"local:e576ff49-28ec-41b0-94d1-523008f23e3b\"\n",
      "                }\n",
      "            ],\n",
      "            \"name\": \"Multigrid interrogation method\",\n",
      "            \"schema:description\": \"Run a multigrid PIV algorithm on all images\"\n",
      "        },\n",
      "        {\n",
      "            \"@id\": \"local:8c7a72d5-31fd-47c6-8169-756c122de9a5\",\n",
      "            \"@type\": \"prov:Organisation\",\n",
      "            \"foaf:mbox\": \"info@pivtec.com\",\n",
      "            \"foaf:name\": \"PIVTEC GmbH\",\n",
      "            \"schema:url\": \"https://www.pivtec.com/\"\n",
      "        },\n",
      "        {\n",
      "            \"@id\": \"local:a6bdff46-59c7-4c8e-8be3-a5eced9a0b1c\",\n",
      "            \"@type\": \"Piv Software\",\n",
      "            \"schema:author\": {\n",
      "                \"@id\": \"local:8c7a72d5-31fd-47c6-8169-756c122de9a5\"\n",
      "            },\n",
      "            \"sd:hasDocumentation\": \"https://www.pivtec.com/download/docs/PIVview_v36_Manual.pdf\"\n",
      "        },\n",
      "        {\n",
      "            \"@id\": \"local:8cefa954-1e2b-4b9f-b7c0-319355903eff\",\n",
      "            \"@type\": \"outlier detection method\",\n",
      "            \"m4i:hasParameter\": [\n",
      "                {\n",
      "                    \"@id\": \"local:46e3c2bf-3a6e-48f5-b9e4-1d6e7f980294\"\n",
      "                },\n",
      "                {\n",
      "                    \"@id\": \"local:b03dfab4-37f7-4f2b-b1cd-084ec59b8e58\"\n",
      "                }\n",
      "            ],\n",
      "            \"name\": \"dynamic mean test\"\n",
      "        },\n",
      "        {\n",
      "            \"@id\": \"local:9730ee0d-76e1-4b4d-88fc-98501697de06\",\n",
      "            \"@type\": \"piv image distribution\",\n",
      "            \"dct:title\": \"ILA Vortex Pair Images\",\n",
      "            \"download_URL\": \"https://www.pivtec.com/download/samples/pivimg1.zip\",\n",
      "            \"piv_image_type\": \"PivImageType.ExperimentalImage\"\n",
      "        },\n",
      "        {\n",
      "            \"@id\": \"local:b03dfab4-37f7-4f2b-b1cd-084ec59b8e58\",\n",
      "            \"@type\": \"numerische Variable\",\n",
      "            \"hat Zahlenwert\": \"1.0\",\n",
      "            \"rdfs:label\": \"var\"\n",
      "        },\n",
      "        {\n",
      "            \"@id\": \"local:46e3c2bf-3a6e-48f5-b9e4-1d6e7f980294\",\n",
      "            \"@type\": \"numerische Variable\",\n",
      "            \"hat Zahlenwert\": \"2.0\",\n",
      "            \"rdfs:label\": \"mean\"\n",
      "        },\n",
      "        {\n",
      "            \"@id\": \"local:122caf4b-7943-449b-8ff8-027267f919e2\",\n",
      "            \"@type\": \"numerische Variable\",\n",
      "            \"hasStandardName\": \"https://matthiasprobst.github.io/pivmeta#x_final_interrogation_window_overlap_size\",\n",
      "            \"hat Zahlenwert\": \"8\"\n",
      "        },\n",
      "        {\n",
      "            \"@id\": \"local:3c474c0a-e7cb-43ec-a1b0-29e8bd215b1c\",\n",
      "            \"@type\": \"piv result distribution\",\n",
      "            \"dct:title\": \"Result File\",\n",
      "            \"download URL\": \"file:///vp1a.dat\"\n",
      "        },\n",
      "        {\n",
      "            \"@id\": \"local:7eff441e-2e17-48bf-b3ff-e64013ee0e31\",\n",
      "            \"@type\": \"method\",\n",
      "            \"m4i:hasParameter\": {\n",
      "                \"@id\": \"local:f9e30801-680f-433d-a854-5fc73d9a0734\"\n",
      "            },\n",
      "            \"schema:description\": \"Rotates the input image by 180 deg\"\n",
      "        },\n",
      "        {\n",
      "            \"@id\": \"local:0c7810df-9ad7-475e-8ac7-a6671e79442d\",\n",
      "            \"@type\": \"piv image distribution\",\n",
      "            \"dct:title\": \"ILA Vortex Pair Images\",\n",
      "            \"download_URL\": \"https://www.pivtec.com/download/samples/pivimg1.zip\",\n",
      "            \"piv_image_type\": \"PivImageType.ExperimentalImage\"\n",
      "        },\n",
      "        {\n",
      "            \"@id\": \"local:f9e30801-680f-433d-a854-5fc73d9a0734\",\n",
      "            \"@type\": \"numerische Variable\",\n",
      "            \"hat Zahlenwert\": \"180\",\n",
      "            \"kindOfQuantity\": \"https://qudt.org/vocab/unit/DEG\",\n",
      "            \"m4i:hasUnit\": \"deg\",\n",
      "            \"name\": \"rotation\"\n",
      "        },\n",
      "        {\n",
      "            \"@id\": \"local:1ac04f1a-e93c-4492-801e-33f30ec789c4\",\n",
      "            \"@type\": \"piv image distribution\",\n",
      "            \"dct:title\": \"ILA Vortex Pair Images\",\n",
      "            \"download_URL\": \"https://www.pivtec.com/download/samples/pivimg1.zip\",\n",
      "            \"piv_image_type\": \"PivImageType.ExperimentalImage\"\n",
      "        }\n",
      "    ]\n",
      "}\n"
     ]
    }
   ],
   "source": [
    "print(piv.dump_jsonld(context=\"https://raw.githubusercontent.com/matthiasprobst/pivmeta/main/pivmeta_context.jsonld\"))"
   ]
  },
  {
   "cell_type": "code",
   "execution_count": 35,
   "id": "07b8666b-7f4c-47a2-9ab5-206d167de1b7",
   "metadata": {
    "scrolled": true
   },
   "outputs": [],
   "source": [
    "# print(dump_jsonld([pre, proc]))"
   ]
  }
 ],
 "metadata": {
  "kernelspec": {
   "display_name": "Python 3 (ipykernel)",
   "language": "python",
   "name": "python3"
  },
  "language_info": {
   "codemirror_mode": {
    "name": "ipython",
    "version": 3
   },
   "file_extension": ".py",
   "mimetype": "text/x-python",
   "name": "python",
   "nbconvert_exporter": "python",
   "pygments_lexer": "ipython3",
   "version": "3.8.18"
  }
 },
 "nbformat": 4,
 "nbformat_minor": 5
}
