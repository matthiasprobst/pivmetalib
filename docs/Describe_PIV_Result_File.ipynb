{
 "cells": [
  {
   "cell_type": "markdown",
   "id": "d9e14431-c577-4f76-9e5c-556b3cf9a4a5",
   "metadata": {},
   "source": [
    "# Describe a PIV Result File\n",
    "\n",
    "In this example, we want to describe the result file of the ILA Vortex pair (source: https://www.pivtec.com/download/samples/VortexPairSeq.zip)\n",
    "\n",
    "Where to start? Let's first evaluate what we have:\n",
    "\n",
    "General context:\n",
    "- The general concept of a dataset is described by `dcat:Dataset`\n",
    "- The file is described by `pivmeta:PivResultDistribution` and is part of the `dcat:Dataset`\n",
    "\n",
    "Specific information:<br>\n",
    "Of greater interest is the PIV process including the PIV parameters leading to the dataset. A `dcat:Dataset` is the output of the PIV process. For this, we can use [`m4i:output of`](http://purl.obolibrary.org/obo/RO_0002353):"
   ]
  },
  {
   "cell_type": "code",
   "execution_count": 1,
   "id": "ab72c7ec-9b38-4533-ac56-affd899fec3a",
   "metadata": {},
   "outputs": [],
   "source": [
    "from pivmetalib import pivmeta, dcat, m4i, schema, sd, prov"
   ]
  },
  {
   "cell_type": "code",
   "execution_count": 2,
   "id": "e8c7d349-1914-496d-8822-b07d4bccfa08",
   "metadata": {},
   "outputs": [],
   "source": [
    "result_dist = pivmeta.PivResultDistribution(\n",
    "    title='Result File',\n",
    "    downloadURL='file:///vp1a.dat'\n",
    ")\n",
    "# the \"downloaded\" file must exist:\n",
    "assert result_dist.download().exists()"
   ]
  },
  {
   "cell_type": "code",
   "execution_count": 3,
   "id": "2dedd781-049c-45fa-97da-e1c6bf9e089e",
   "metadata": {},
   "outputs": [
    {
     "data": {
      "text/plain": [
       "Url('file:///vp1a.dat')"
      ]
     },
     "execution_count": 3,
     "metadata": {},
     "output_type": "execute_result"
    }
   ],
   "source": [
    "result_dist.downloadURL"
   ]
  },
  {
   "cell_type": "code",
   "execution_count": 4,
   "id": "9c46182e-d70e-4e31-ab68-01449aeeddf7",
   "metadata": {},
   "outputs": [
    {
     "data": {
      "text/plain": [
       "<PivImageType.ExperimentalImage: rdflib.term.URIRef('https://matthiasprobst.github.io/pivmeta#ExperimentalImage')>"
      ]
     },
     "execution_count": 4,
     "metadata": {},
     "output_type": "execute_result"
    }
   ],
   "source": [
    "pivmeta.PivImageType.ExperimentalImage"
   ]
  },
  {
   "cell_type": "code",
   "execution_count": 5,
   "id": "84695ded-4cca-477e-960d-8caff46bc2fa",
   "metadata": {},
   "outputs": [
    {
     "data": {
      "text/plain": [
       "<PivImageType.ExperimentalImage: rdflib.term.URIRef('https://matthiasprobst.github.io/pivmeta#ExperimentalImage')>"
      ]
     },
     "execution_count": 5,
     "metadata": {},
     "output_type": "execute_result"
    }
   ],
   "source": [
    "piv_image_dist = pivmeta.PivImageDistribution(\n",
    "    title='ILA Vortex Pair Images',\n",
    "    download_URL='https://www.pivtec.com/download/samples/pivimg1.zip',\n",
    "    piv_image_type=pivmeta.PivImageType.ExperimentalImage\n",
    ")\n",
    "piv_image_dist.piv_image_type"
   ]
  },
  {
   "cell_type": "code",
   "execution_count": 6,
   "id": "6f9ea047-6108-4395-9f71-81ff5a0442fb",
   "metadata": {},
   "outputs": [
    {
     "data": {
      "text/html": [
       "Dataset(title=ILA Vortex Pair, distribution=[PivResultDistribution(title=Result File, downloadURL=file:///vp1a.dat), PivImageDistribution(title=ILA Vortex Pair Images, download_URL=https://www.pivtec.com/download/samples/pivimg1.zip, piv_image_type=PivImageType.ExperimentalImage)])"
      ],
      "text/plain": [
       "Dataset(title=ILA Vortex Pair, distribution=[PivResultDistribution(title=Result File, downloadURL=file:///vp1a.dat), PivImageDistribution(title=ILA Vortex Pair Images, download_URL=https://www.pivtec.com/download/samples/pivimg1.zip, piv_image_type=PivImageType.ExperimentalImage)])"
      ]
     },
     "execution_count": 6,
     "metadata": {},
     "output_type": "execute_result"
    }
   ],
   "source": [
    "ds = dcat.Dataset(\n",
    "    title='ILA Vortex Pair',\n",
    "    distribution=[result_dist, piv_image_dist]\n",
    ")\n",
    "ds"
   ]
  },
  {
   "cell_type": "markdown",
   "id": "0f2f7895-5f01-45fd-95cb-cef9fa67851a",
   "metadata": {},
   "source": [
    "Before defining the PIV processing steps, we need to describe the software used:"
   ]
  },
  {
   "cell_type": "code",
   "execution_count": 7,
   "id": "481978f4-a49c-479c-b40e-abd5de377e72",
   "metadata": {},
   "outputs": [],
   "source": [
    "piv_software = pivmeta.PIVSoftware(\n",
    "    author=prov.Organisation(\n",
    "        name='PIVTEC GmbH',\n",
    "        mbox='info@pivtec.com',\n",
    "        url='https://www.pivtec.com/'\n",
    "    ),\n",
    "    has_documentation='https://www.pivtec.com/download/docs/PIVview_v36_Manual.pdf',\n",
    ")"
   ]
  },
  {
   "cell_type": "code",
   "execution_count": 8,
   "id": "2f059f4b-154e-4f5d-ad66-409f7fb4f9db",
   "metadata": {},
   "outputs": [],
   "source": [
    "# import h5py\n",
    "# from typing import Dict\n",
    "\n",
    "\n",
    "# import h5rdmtoolbox as h5tbx\n",
    "# h5tbx.set_config(natural_naming=False)\n",
    "\n",
    "# with h5tbx.File() as h5:\n",
    "#     piv_software.dump_hdf(h5)\n",
    "#     h5.dump()\n",
    "#\n",
    "# print(piv_software.dump_jsonld())"
   ]
  },
  {
   "cell_type": "markdown",
   "id": "faac78e5-65fe-44f4-8950-9d4c6f2dd46c",
   "metadata": {},
   "source": [
    "## Processing steps\n",
    "\n",
    "A `PivProcessingStep` class is provided in order to distinguish the processing step from others. Some methods are provided as classes but without specific properties. This is done to provide flexibility, as all methods can be standardized. However, by introducing **standard names**, the authors may narrow their parameter definitions either by using global standard names (with an IRI) or within their project.\n",
    "\n",
    "*TODO: Put here an image illustrating the possibilities*\n",
    "\n",
    "By using standard names, important parameters can be identified unambiguously. See `PIVMETA.image_filter_kernel_size` in the example in contrast to the 180° image rotation."
   ]
  },
  {
   "cell_type": "markdown",
   "id": "da19c623-fd59-4936-b702-d94c601ebffb",
   "metadata": {},
   "source": [
    "### 1. Pre-Processing (Image processing)\n",
    "\n",
    "Methods:\n",
    "- image rotation by 180 deg"
   ]
  },
  {
   "cell_type": "code",
   "execution_count": 9,
   "id": "27665a5d-a23a-4f3b-b85f-6965d92ee703",
   "metadata": {},
   "outputs": [],
   "source": [
    "from ontolutils import PIVMETA"
   ]
  },
  {
   "cell_type": "code",
   "execution_count": 10,
   "id": "8bcde2fb-ddf5-4520-a151-a71bd4f184f5",
   "metadata": {},
   "outputs": [
    {
     "data": {
      "text/html": [
       "PivPreProcessing(realizesMethod=[Method(description=Rotates the input image by 180 deg, hasParameter=NumericalVariable(hasNumericalValue=180, hasUnit=deg, name=rotation, kindOfQuantity=https://qudt.org/vocab/unit/DEG)), Method(description=Applies a median filter to the image, hasParameter=NumericalVariable(hasNumericalValue=3, hasStandardName=https://matthiasprobst.github.io/pivmeta#image_filter_kernel_size))])"
      ],
      "text/plain": [
       "PivPreProcessing(realizesMethod=[Method(description=Rotates the input image by 180 deg, hasParameter=NumericalVariable(hasNumericalValue=180, hasUnit=deg, name=rotation, kindOfQuantity=https://qudt.org/vocab/unit/DEG)), Method(description=Applies a median filter to the image, hasParameter=NumericalVariable(hasNumericalValue=3, hasStandardName=https://matthiasprobst.github.io/pivmeta#image_filter_kernel_size))], name=Image pre processing)"
      ]
     },
     "execution_count": 10,
     "metadata": {},
     "output_type": "execute_result"
    }
   ],
   "source": [
    "pre = pivmeta.PivPreProcessing(\n",
    "    name='Image pre processing',\n",
    "    realizesMethod=[\n",
    "        m4i.Method(\n",
    "            description='Rotates the input image by 180 deg',\n",
    "            hasParameter=m4i.NumericalVariable(\n",
    "                name='rotation',\n",
    "                hasNumericalValue=180,\n",
    "                hasUnit='deg',\n",
    "                kindOfQuantity='https://qudt.org/vocab/unit/DEG'\n",
    "            )\n",
    "        ),\n",
    "        # Dont define all the classes for filters and outlier detection because everybody may define it differently.\n",
    "        # common parameters can be specified \"on demand\" by standard names like so: \n",
    "        m4i.Method(\n",
    "            description='Applies a median filter to the image',\n",
    "            hasParameter=pivmeta.NumericalVariable(\n",
    "                hasStandardName=PIVMETA.image_filter_kernel_size,\n",
    "                hasNumericalValue=3,\n",
    "            )\n",
    "        )\n",
    "    ]\n",
    ")\n",
    "pre"
   ]
  },
  {
   "cell_type": "markdown",
   "id": "473b212f-f571-427e-92f1-b301961b75d1",
   "metadata": {},
   "source": [
    "## 2. PIV evaluation\n",
    "\n",
    "The PIV evaluation is a `m4i:ProcessingStep`. It realizes the methods\n",
    "- `pivemta:CorrelationMethod` (e.g. FFT, ... ),\n",
    "- `pivemta:InterrogationMethod` (e.g. `pivemta:Multigrid`, ...) and\n",
    "- `pivemta:PeakSearchMethod`.\n",
    "\n",
    "The outlier detection (validation) is a sub-processing step (`pivemta:PivValidation`), because it can realize multiple methods. Most popular ones are described by classes:\n",
    "- `pivemta:DynMean`.\n",
    "\n",
    "Here, a multigrid evaluation is performed using standard FFT."
   ]
  },
  {
   "cell_type": "markdown",
   "id": "df6461be-e23c-4688-8f46-e9c3d3786882",
   "metadata": {},
   "source": [
    "### 2.1 Correlation algorithm\n",
    "\n",
    "The correlation algorithm is a subclass of `m4i:Method`. At least a name and description should be provided (here, taken from the documentation). We could also provide parameters."
   ]
  },
  {
   "cell_type": "code",
   "execution_count": 11,
   "id": "7447a632-4fa7-41e9-95d1-be5386a5bccc",
   "metadata": {},
   "outputs": [
    {
     "data": {
      "text/html": [
       "CorrelationAlgorithm(description=The default mode of cross-correlation using FFTs to speed the computation. In principle the sum of pixel-wise multiplication of intensities is computed for each correlation offset (For implementation details please refer to Raffel et al. 2007).)"
      ],
      "text/plain": [
       "CorrelationAlgorithm(description=The default mode of cross-correlation using FFTs to speed the computation. In principle the sum of pixel-wise multiplication of intensities is computed for each correlation offset (For implementation details please refer to Raffel et al. 2007)., name=Standard (FFT) Correlation)"
      ]
     },
     "execution_count": 11,
     "metadata": {},
     "output_type": "execute_result"
    }
   ],
   "source": [
    "calgo = pivmeta.CorrelationAlgorithm(\n",
    "    name='Standard (FFT) Correlation',\n",
    "    description='The default mode of cross-correlation using FFTs to speed the computation. ' \n",
    "    'In principle the sum of pixel-wise multiplication of intensities is computed for each ' \n",
    "    'correlation offset (For implementation details please refer to Raffel et al. 2007).'\n",
    ")\n",
    "calgo"
   ]
  },
  {
   "cell_type": "markdown",
   "id": "eb1f5c6b-d7ce-4502-b997-cc79e719d97f",
   "metadata": {},
   "source": [
    "### 2.2 Interrogation method\n",
    "\n",
    "In this example, a *Multi-Grid* method was used starting from a window with size 64 px down to 16 px in 3 steps"
   ]
  },
  {
   "cell_type": "code",
   "execution_count": 12,
   "id": "6045c0bd-448f-4285-ac9a-579b018cf734",
   "metadata": {},
   "outputs": [
    {
     "data": {
      "text/html": [
       "NumericalVariable(hasNumericalValue=64, hasStandardName=https://matthiasprobst.github.io/pivmeta#x_initial_interrogation_window_size)"
      ],
      "text/plain": [
       "NumericalVariable(hasNumericalValue=64, hasStandardName=https://matthiasprobst.github.io/pivmeta#x_initial_interrogation_window_size)"
      ]
     },
     "execution_count": 12,
     "metadata": {},
     "output_type": "execute_result"
    }
   ],
   "source": [
    "v = pivmeta.NumericalVariable(\n",
    "            hasStandardName=PIVMETA.x_initial_interrogation_window_size,\n",
    "            hasNumericalValue=64,\n",
    "        )\n",
    "v"
   ]
  },
  {
   "cell_type": "code",
   "execution_count": 13,
   "id": "6eb9d495-a9b6-4c63-9e94-62680abb2620",
   "metadata": {},
   "outputs": [],
   "source": [
    "#print(v.dump_jsonld())"
   ]
  },
  {
   "cell_type": "code",
   "execution_count": 14,
   "id": "cf03a99e-133b-4ced-aab5-599eb3ef1472",
   "metadata": {},
   "outputs": [
    {
     "data": {
      "text/html": [
       "NumericalVariable(hasVariableDescription=Number of multigrid passes, hasNumericalValue=3)"
      ],
      "text/plain": [
       "NumericalVariable(hasVariableDescription=Number of multigrid passes, hasNumericalValue=3)"
      ]
     },
     "execution_count": 14,
     "metadata": {},
     "output_type": "execute_result"
    }
   ],
   "source": [
    "int_meth = m4i.Method(\n",
    "    name='Multigrid interrogation method',\n",
    "    description='Run a multigrid PIV algorithm on all images',\n",
    "    hasParameter=[\n",
    "        pivmeta.NumericalVariable(\n",
    "            hasStandardName=PIVMETA.x_initial_interrogation_window_size,\n",
    "            hasNumericalValue=64,\n",
    "        ),\n",
    "        pivmeta.NumericalVariable(\n",
    "            hasStandardName=PIVMETA.y_initial_interrogation_window_size,\n",
    "            hasNumericalValue=64,\n",
    "        ),\n",
    "        pivmeta.NumericalVariable(\n",
    "            hasStandardName=PIVMETA.x_final_interrogation_window_size,\n",
    "            hasNumericalValue=16,\n",
    "        ),\n",
    "        pivmeta.NumericalVariable(\n",
    "            hasStandardName=PIVMETA.y_final_interrogation_window_size,\n",
    "            hasNumericalValue=16,\n",
    "        ),\n",
    "        pivmeta.NumericalVariable(\n",
    "            hasStandardName=PIVMETA.x_final_interrogation_window_overlap_size,\n",
    "            hasNumericalValue=8,\n",
    "        ),\n",
    "        pivmeta.NumericalVariable(\n",
    "            hasStandardName=PIVMETA.y_final_interrogation_window_overlap_size,\n",
    "            hasNumericalValue=8,\n",
    "        ),\n",
    "        pivmeta.NumericalVariable(\n",
    "            # hasStandardName=PIVMETA.number_of_multigrid_passes,\n",
    "            hasVariableDescription='Number of multigrid passes',\n",
    "            hasNumericalValue=3,\n",
    "        )\n",
    "    ]\n",
    ")\n",
    "int_meth.hasParameter[-1]"
   ]
  },
  {
   "cell_type": "markdown",
   "id": "fce1e717-0e02-4f4a-bbb2-af411dc36db8",
   "metadata": {},
   "source": [
    "### 2.3 Outlier detection\n",
    "\n",
    "We use the following two methods for outlier detection:\n",
    "- normalized median test threshold: 3.0 (see DOI=https://doi.org/10.1007/s00348-005-0016-6)\n",
    "- dynamic mean test: mean=2.0, var=1.0"
   ]
  },
  {
   "cell_type": "code",
   "execution_count": 15,
   "id": "739aa70a-7dc0-4317-a814-f3c14b8e8727",
   "metadata": {},
   "outputs": [],
   "source": [
    "median_test = pivmeta.OutlierDetectionMethod(\n",
    "    name='normalized median test',\n",
    "    hasParameter=m4i.NumericalVariable(\n",
    "        label='threshold',\n",
    "        hasNumericalValue=3.0\n",
    "    )\n",
    ")"
   ]
  },
  {
   "cell_type": "code",
   "execution_count": 16,
   "id": "5048b457-c0c7-4f01-a168-0805de557080",
   "metadata": {},
   "outputs": [],
   "source": [
    "dyn_mean = pivmeta.OutlierDetectionMethod(\n",
    "    name='dynamic mean test',\n",
    "    hasParameter=[\n",
    "        m4i.NumericalVariable(\n",
    "            label='mean',\n",
    "            hasNumericalValue=2.0\n",
    "        ),\n",
    "        m4i.NumericalVariable(\n",
    "            label='var',\n",
    "            hasNumericalValue=1.0\n",
    "        )\n",
    "    ]\n",
    ")"
   ]
  },
  {
   "cell_type": "code",
   "execution_count": 17,
   "id": "f1acbf4e-ee47-4d81-976e-990ba8af789c",
   "metadata": {},
   "outputs": [
    {
     "data": {
      "text/html": [
       "PivEvaluation(label=piv evaluation, realizesMethod=[CorrelationAlgorithm(description=The default mode of cross-correlation using FFTs to speed the computation. In principle the sum of pixel-wise multiplication of intensities is computed for each correlation offset (For implementation details please refer to Raffel et al. 2007)., name=Standard (FFT) Correlation), Method(description=Run a multigrid PIV algorithm on all images, hasParameter=[NumericalVariable(hasNumericalValue=64, hasStandardName=https://matthiasprobst.github.io/pivmeta#x_initial_interrogation_window_size), NumericalVariable(hasNumericalValue=64, hasStandardName=https://matthiasprobst.github.io/pivmeta#y_initial_interrogation_window_size), NumericalVariable(hasNumericalValue=16, hasStandardName=https://matthiasprobst.github.io/pivmeta#x_final_interrogation_window_size), NumericalVariable(hasNumericalValue=16, hasStandardName=https://matthiasprobst.github.io/pivmeta#y_final_interrogation_window_size), NumericalVariable(hasNumericalValue=8, hasStandardName=https://matthiasprobst.github.io/pivmeta#x_final_interrogation_window_overlap_size), NumericalVariable(hasNumericalValue=8, hasStandardName=https://matthiasprobst.github.io/pivmeta#y_final_interrogation_window_overlap_size), NumericalVariable(hasVariableDescription=Number of multigrid passes, hasNumericalValue=3)], name=Multigrid interrogation method), OutlierDetectionMethod(hasParameter=NumericalVariable(label=threshold, hasNumericalValue=3.0), name=normalized median test), OutlierDetectionMethod(hasParameter=[NumericalVariable(label=mean, hasNumericalValue=2.0), NumericalVariable(label=var, hasNumericalValue=1.0)], name=dynamic mean test)])"
      ],
      "text/plain": [
       "PivEvaluation(label=piv evaluation, realizesMethod=[CorrelationAlgorithm(description=The default mode of cross-correlation using FFTs to speed the computation. In principle the sum of pixel-wise multiplication of intensities is computed for each correlation offset (For implementation details please refer to Raffel et al. 2007)., name=Standard (FFT) Correlation), Method(description=Run a multigrid PIV algorithm on all images, hasParameter=[NumericalVariable(hasNumericalValue=64, hasStandardName=https://matthiasprobst.github.io/pivmeta#x_initial_interrogation_window_size), NumericalVariable(hasNumericalValue=64, hasStandardName=https://matthiasprobst.github.io/pivmeta#y_initial_interrogation_window_size), NumericalVariable(hasNumericalValue=16, hasStandardName=https://matthiasprobst.github.io/pivmeta#x_final_interrogation_window_size), NumericalVariable(hasNumericalValue=16, hasStandardName=https://matthiasprobst.github.io/pivmeta#y_final_interrogation_window_size), NumericalVariable(hasNumericalValue=8, hasStandardName=https://matthiasprobst.github.io/pivmeta#x_final_interrogation_window_overlap_size), NumericalVariable(hasNumericalValue=8, hasStandardName=https://matthiasprobst.github.io/pivmeta#y_final_interrogation_window_overlap_size), NumericalVariable(hasVariableDescription=Number of multigrid passes, hasNumericalValue=3)], name=Multigrid interrogation method), OutlierDetectionMethod(hasParameter=NumericalVariable(label=threshold, hasNumericalValue=3.0), name=normalized median test), OutlierDetectionMethod(hasParameter=[NumericalVariable(label=mean, hasNumericalValue=2.0), NumericalVariable(label=var, hasNumericalValue=1.0)], name=dynamic mean test)])"
      ]
     },
     "execution_count": 17,
     "metadata": {},
     "output_type": "execute_result"
    }
   ],
   "source": [
    "proc = pivmeta.PivEvaluation(\n",
    "    label='piv evaluation',\n",
    "    realizesMethod=[\n",
    "        calgo,\n",
    "        int_meth,\n",
    "        median_test,\n",
    "        dyn_mean\n",
    "    ]\n",
    ")\n",
    "proc"
   ]
  },
  {
   "cell_type": "code",
   "execution_count": 18,
   "id": "f708a8ea-8e34-40a1-8788-e36d282b52f6",
   "metadata": {},
   "outputs": [],
   "source": [
    "data_smoothing = m4i.Method(\n",
    "    name='Low-pass filtering',\n",
    "    description='applies a low-pass filtering on the data using a Gaussian weighted kernel of specified width to reduce spurious noise.',\n",
    "    hasParameter=m4i.NumericalVariable(label='kernel', hasNumericalValue=2.0)\n",
    ")"
   ]
  },
  {
   "cell_type": "code",
   "execution_count": 19,
   "id": "c0aa9014-102f-4dba-9977-3a310ac1afd1",
   "metadata": {},
   "outputs": [
    {
     "data": {
      "text/plain": [
       "'{\\n    \"@context\": {\\n        \"owl\": \"http://www.w3.org/2002/07/owl#\",\\n        \"rdfs\": \"http://www.w3.org/2000/01/rdf-schema#\",\\n        \"local\": \"http://example.org/\",\\n        \"m4i\": \"http://w3id.org/nfdi4ing/metadata4ing#\",\\n        \"schema\": \"https://schema.org/\",\\n        \"obo\": \"http://purl.obolibrary.org/obo/\",\\n        \"PivProcessingStep\": \"https://matthiasprobst.github.io/pivmeta\",\\n        \"PivPostProcessing\": \"https://matthiasprobst.github.io/pivmeta\"\\n    },\\n    \"@type\": \"https://matthiasprobst.github.io/pivmeta#PivProcessingStep\",\\n    \"rdfs:label\": \"Post processing\",\\n    \"m4i:realizesMethod\": {\\n        \"@type\": \"m4i:Method\",\\n        \"schema:description\": \"applies a low-pass filtering on the data using a Gaussian weighted kernel of specified width to reduce spurious noise.\",\\n        \"m4i:hasParameter\": {\\n            \"@type\": \"m4i:NumericalVariable\",\\n            \"rdfs:label\": \"kernel\",\\n            \"m4i:hasNumericalValue\": \"2.0\",\\n            \"@id\": \"local:041815ae-5df0-4f66-a3d0-3a94e5877317\"\\n        },\\n        \"name\": \"Low-pass filtering\",\\n        \"@id\": \"local:1fb2348c-2189-4765-807f-6e0fb936933d\"\\n    },\\n    \"@id\": \"local:b42cd3ae-adc4-43a8-923f-c557c1c84f7f\"\\n}'"
      ]
     },
     "execution_count": 19,
     "metadata": {},
     "output_type": "execute_result"
    }
   ],
   "source": [
    "post = pivmeta.PivPostProcessing(\n",
    "    label='Post processing',\n",
    "    realizesMethod=data_smoothing\n",
    ")\n",
    "post.model_dump_jsonld()         "
   ]
  },
  {
   "cell_type": "markdown",
   "id": "f1809a68-1074-48e5-b047-85cf6f62a147",
   "metadata": {},
   "source": [
    "## 3. Creating the full Meta document (connect information)\n",
    "\n",
    "We created three processing steps:\n",
    "1. pre (takes raw images)\n",
    "2. proc\n",
    "3. post (outputs result data)\n"
   ]
  },
  {
   "cell_type": "code",
   "execution_count": 20,
   "id": "b4e4230c-aff3-4adb-bba0-24b33fad657c",
   "metadata": {},
   "outputs": [],
   "source": [
    "post.hasOutput = ds"
   ]
  },
  {
   "cell_type": "markdown",
   "id": "adc7dc2e-06f6-4500-9066-fa9ebc390429",
   "metadata": {},
   "source": [
    "## 4. dump piv run to JSON-LD"
   ]
  },
  {
   "cell_type": "code",
   "execution_count": 21,
   "id": "355ccc0f-79f9-4068-9aef-3b72aadf9dad",
   "metadata": {},
   "outputs": [],
   "source": [
    "piv = m4i.ProcessingStep(\n",
    "    label='PIV Run',\n",
    "    startsWith=pre,\n",
    "    endsWith=post\n",
    ")\n",
    "# proc.part_of = piv\n",
    "pre.precedes = proc\n",
    "proc.precedes = post\n",
    "\n",
    "# all processing steps were employed by software pivview:\n",
    "pre.has_employed_tool = piv_software\n",
    "proc.has_employed_tool = piv_software\n",
    "post.has_employed_tool = piv_software"
   ]
  },
  {
   "cell_type": "code",
   "execution_count": 25,
   "id": "7fd17b7e-68fb-4b75-8f0d-16b63bbe39ab",
   "metadata": {},
   "outputs": [
    {
     "name": "stdout",
     "output_type": "stream",
     "text": [
      "{\n",
      "    \"@context\": {\n",
      "        \"owl\": \"http://www.w3.org/2002/07/owl#\",\n",
      "        \"rdfs\": \"http://www.w3.org/2000/01/rdf-schema#\",\n",
      "        \"local\": \"http://example.org/\",\n",
      "        \"m4i\": \"http://w3id.org/nfdi4ing/metadata4ing#\",\n",
      "        \"schema\": \"https://schema.org/\",\n",
      "        \"obo\": \"http://purl.obolibrary.org/obo/\",\n",
      "        \"PivProcessingStep\": \"https://matthiasprobst.github.io/pivmeta\",\n",
      "        \"PivPreProcessing\": \"https://matthiasprobst.github.io/pivmeta\"\n",
      "    },\n",
      "    \"@type\": \"https://matthiasprobst.github.io/pivmeta#PivPostProcessing\",\n",
      "    \"m4i:realizesMethod\": [\n",
      "        {\n",
      "            \"@type\": \"m4i:Method\",\n",
      "            \"schema:description\": \"Rotates the input image by 180 deg\",\n",
      "            \"m4i:hasParameter\": {\n",
      "                \"@type\": \"m4i:NumericalVariable\",\n",
      "                \"m4i:hasNumericalValue\": \"180\",\n",
      "                \"m4i:hasUnit\": \"deg\",\n",
      "                \"name\": \"rotation\",\n",
      "                \"kindOfQuantity\": \"https://qudt.org/vocab/unit/DEG\",\n",
      "                \"@id\": \"local:c46010f0-5777-4a56-9eb3-4f24ce7e24bb\"\n",
      "            },\n",
      "            \"@id\": \"local:0604954a-955d-4104-8202-8e8596ede1d6\"\n",
      "        },\n",
      "        {\n",
      "            \"@type\": \"m4i:Method\",\n",
      "            \"schema:description\": \"Applies a median filter to the image\",\n",
      "            \"m4i:hasParameter\": {\n",
      "                \"@type\": \"m4i:NumericalVariable\",\n",
      "                \"m4i:hasNumericalValue\": \"3\",\n",
      "                \"pivmeta:hasStandardName\": \"https://matthiasprobst.github.io/pivmeta#image_filter_kernel_size\",\n",
      "                \"@id\": \"local:4cec1fa4-81e2-4480-8d9a-cb47a781ac11\"\n",
      "            },\n",
      "            \"@id\": \"local:814a50b5-8f03-4a31-8da8-0707346fe87e\"\n",
      "        }\n",
      "    ],\n",
      "    \"m4i:precedes\": {\n",
      "        \"@type\": \"https://matthiasprobst.github.io/pivmeta#PIVEvaluation\",\n",
      "        \"rdfs:label\": \"piv evaluation\",\n",
      "        \"m4i:realizesMethod\": [\n",
      "            {\n",
      "                \"@type\": \"pivmeta:CorrelationAlgorithm\",\n",
      "                \"schema:description\": \"The default mode of cross-correlation using FFTs to speed the computation. In principle the sum of pixel-wise multiplication of intensities is computed for each correlation offset (For implementation details please refer to Raffel et al. 2007).\",\n",
      "                \"name\": \"Standard (FFT) Correlation\",\n",
      "                \"@id\": \"local:ec37d4a0-0a16-4d21-a29c-f3005396ccdd\"\n",
      "            },\n",
      "            {\n",
      "                \"@type\": \"m4i:Method\",\n",
      "                \"schema:description\": \"Run a multigrid PIV algorithm on all images\",\n",
      "                \"m4i:hasParameter\": [\n",
      "                    {\n",
      "                        \"@type\": \"m4i:NumericalVariable\",\n",
      "                        \"m4i:hasNumericalValue\": \"64\",\n",
      "                        \"pivmeta:hasStandardName\": \"https://matthiasprobst.github.io/pivmeta#x_initial_interrogation_window_size\",\n",
      "                        \"@id\": \"local:274407fe-f483-44aa-9c2a-ae43c10d2a7b\"\n",
      "                    },\n",
      "                    {\n",
      "                        \"@type\": \"m4i:NumericalVariable\",\n",
      "                        \"m4i:hasNumericalValue\": \"64\",\n",
      "                        \"pivmeta:hasStandardName\": \"https://matthiasprobst.github.io/pivmeta#y_initial_interrogation_window_size\",\n",
      "                        \"@id\": \"local:1121a206-5316-440f-b3eb-4806af6f17b4\"\n",
      "                    },\n",
      "                    {\n",
      "                        \"@type\": \"m4i:NumericalVariable\",\n",
      "                        \"m4i:hasNumericalValue\": \"16\",\n",
      "                        \"pivmeta:hasStandardName\": \"https://matthiasprobst.github.io/pivmeta#x_final_interrogation_window_size\",\n",
      "                        \"@id\": \"local:719073a4-0d69-4bd0-ab5b-a340f28eed4d\"\n",
      "                    },\n",
      "                    {\n",
      "                        \"@type\": \"m4i:NumericalVariable\",\n",
      "                        \"m4i:hasNumericalValue\": \"16\",\n",
      "                        \"pivmeta:hasStandardName\": \"https://matthiasprobst.github.io/pivmeta#y_final_interrogation_window_size\",\n",
      "                        \"@id\": \"local:c3e9636b-bc6b-492e-b75e-ff215b0433a7\"\n",
      "                    },\n",
      "                    {\n",
      "                        \"@type\": \"m4i:NumericalVariable\",\n",
      "                        \"m4i:hasNumericalValue\": \"8\",\n",
      "                        \"pivmeta:hasStandardName\": \"https://matthiasprobst.github.io/pivmeta#x_final_interrogation_window_overlap_size\",\n",
      "                        \"@id\": \"local:a0a7cedc-6b8d-43a5-80ef-7ca33ea32ec7\"\n",
      "                    },\n",
      "                    {\n",
      "                        \"@type\": \"m4i:NumericalVariable\",\n",
      "                        \"m4i:hasNumericalValue\": \"8\",\n",
      "                        \"pivmeta:hasStandardName\": \"https://matthiasprobst.github.io/pivmeta#y_final_interrogation_window_overlap_size\",\n",
      "                        \"@id\": \"local:b4948969-6731-4ac8-87a9-24f789273227\"\n",
      "                    },\n",
      "                    {\n",
      "                        \"@type\": \"m4i:NumericalVariable\",\n",
      "                        \"m4i:hasVariableDescription\": \"Number of multigrid passes\",\n",
      "                        \"m4i:hasNumericalValue\": \"3\",\n",
      "                        \"@id\": \"local:361408e3-67a3-4a67-8de5-584fdd28eddd\"\n",
      "                    }\n",
      "                ],\n",
      "                \"name\": \"Multigrid interrogation method\",\n",
      "                \"@id\": \"local:80f764df-ed26-4561-85e1-122bb0807abb\"\n",
      "            },\n",
      "            {\n",
      "                \"@type\": \"pivmeta:OutlierDetectionMethod\",\n",
      "                \"m4i:hasParameter\": {\n",
      "                    \"@type\": \"m4i:NumericalVariable\",\n",
      "                    \"rdfs:label\": \"threshold\",\n",
      "                    \"m4i:hasNumericalValue\": \"3.0\",\n",
      "                    \"@id\": \"local:2b5a9fde-d1fa-4590-9291-d6ffcb957118\"\n",
      "                },\n",
      "                \"name\": \"normalized median test\",\n",
      "                \"@id\": \"local:5076764f-ce10-4604-a4f5-71247b367635\"\n",
      "            },\n",
      "            {\n",
      "                \"@type\": \"pivmeta:OutlierDetectionMethod\",\n",
      "                \"m4i:hasParameter\": [\n",
      "                    {\n",
      "                        \"@type\": \"m4i:NumericalVariable\",\n",
      "                        \"rdfs:label\": \"mean\",\n",
      "                        \"m4i:hasNumericalValue\": \"2.0\",\n",
      "                        \"@id\": \"local:acbaf6ae-fc5f-4cb0-a918-3b2a6a02d96b\"\n",
      "                    },\n",
      "                    {\n",
      "                        \"@type\": \"m4i:NumericalVariable\",\n",
      "                        \"rdfs:label\": \"var\",\n",
      "                        \"m4i:hasNumericalValue\": \"1.0\",\n",
      "                        \"@id\": \"local:2c504e5c-4e90-4036-b25c-b4273ce8d1ff\"\n",
      "                    }\n",
      "                ],\n",
      "                \"name\": \"dynamic mean test\",\n",
      "                \"@id\": \"local:8c55af6b-1cb3-465d-aa62-873550edd7ff\"\n",
      "            }\n",
      "        ],\n",
      "        \"m4i:precedes\": {\n",
      "            \"@type\": \"https://matthiasprobst.github.io/pivmeta#PivProcessingStep\",\n",
      "            \"rdfs:label\": \"Post processing\",\n",
      "            \"m4i:realizesMethod\": {\n",
      "                \"@type\": \"m4i:Method\",\n",
      "                \"schema:description\": \"applies a low-pass filtering on the data using a Gaussian weighted kernel of specified width to reduce spurious noise.\",\n",
      "                \"m4i:hasParameter\": {\n",
      "                    \"@type\": \"m4i:NumericalVariable\",\n",
      "                    \"rdfs:label\": \"kernel\",\n",
      "                    \"m4i:hasNumericalValue\": \"2.0\",\n",
      "                    \"@id\": \"local:af2bdd1c-119b-421d-b6e8-c48c578ff253\"\n",
      "                },\n",
      "                \"name\": \"Low-pass filtering\",\n",
      "                \"@id\": \"local:a53ce1bf-0c59-4569-b546-097179938445\"\n",
      "            },\n",
      "            \"m4i:hasOutput\": {\n",
      "                \"@type\": \"dcat:Dataset\",\n",
      "                \"dcterms:title\": \"ILA Vortex Pair\",\n",
      "                \"dcat:distribution\": [\n",
      "                    {\n",
      "                        \"@type\": \"pivmeta:PivResultDistribution\",\n",
      "                        \"dcterms:title\": \"Result File\",\n",
      "                        \"dcat:downloadURL\": \"file:///vp1a.dat\",\n",
      "                        \"@id\": \"local:a8dd04da-1a74-4acf-9913-96455780c8bf\"\n",
      "                    },\n",
      "                    {\n",
      "                        \"@type\": \"pivmeta:PivImageDistribution\",\n",
      "                        \"dcterms:title\": \"ILA Vortex Pair Images\",\n",
      "                        \"download_URL\": \"https://www.pivtec.com/download/samples/pivimg1.zip\",\n",
      "                        \"piv_image_type\": \"PivImageType.ExperimentalImage\",\n",
      "                        \"@id\": \"local:cd85b414-39ad-4e01-b54f-c907fc1c022f\"\n",
      "                    }\n",
      "                ],\n",
      "                \"@id\": \"local:13ae767e-8b54-4712-8e5c-694d0b2bd7fd\"\n",
      "            },\n",
      "            \"has_employed_tool\": {\n",
      "                \"@type\": \"pivmeta:PIVSoftware\",\n",
      "                \"schema:author\": {\n",
      "                    \"@type\": \"prov:Organisation\",\n",
      "                    \"foaf:mbox\": \"info@pivtec.com\",\n",
      "                    \"foaf:name\": \"PIVTEC GmbH\",\n",
      "                    \"schema:url\": \"https://www.pivtec.com/\",\n",
      "                    \"@id\": \"local:c38d5a39-5523-4bcd-89ca-cc1527980d9e\"\n",
      "                },\n",
      "                \"sd:hasDocumentation\": \"https://www.pivtec.com/download/docs/PIVview_v36_Manual.pdf\",\n",
      "                \"@id\": \"local:210f2688-5b3c-4ca0-abae-09b44ab4b510\"\n",
      "            },\n",
      "            \"@id\": \"local:d16fc46e-e721-498b-a87a-badebcef2500\"\n",
      "        },\n",
      "        \"has_employed_tool\": {\n",
      "            \"@type\": \"pivmeta:PIVSoftware\",\n",
      "            \"schema:author\": {\n",
      "                \"@type\": \"prov:Organisation\",\n",
      "                \"foaf:mbox\": \"info@pivtec.com\",\n",
      "                \"foaf:name\": \"PIVTEC GmbH\",\n",
      "                \"schema:url\": \"https://www.pivtec.com/\",\n",
      "                \"@id\": \"local:a5fb9e51-b3ae-47f3-b4c9-f678dc80ac13\"\n",
      "            },\n",
      "            \"sd:hasDocumentation\": \"https://www.pivtec.com/download/docs/PIVview_v36_Manual.pdf\",\n",
      "            \"@id\": \"local:67b5ef29-b752-4df5-8b7c-f055208e5597\"\n",
      "        },\n",
      "        \"@id\": \"local:504fe694-ad9b-41ec-9edd-27bb34e70285\"\n",
      "    },\n",
      "    \"name\": \"Image pre processing\",\n",
      "    \"has_employed_tool\": {\n",
      "        \"@type\": \"pivmeta:PIVSoftware\",\n",
      "        \"schema:author\": {\n",
      "            \"@type\": \"prov:Organisation\",\n",
      "            \"foaf:mbox\": \"info@pivtec.com\",\n",
      "            \"foaf:name\": \"PIVTEC GmbH\",\n",
      "            \"schema:url\": \"https://www.pivtec.com/\",\n",
      "            \"@id\": \"local:18310ec7-8898-413a-b26d-7485881b3bc1\"\n",
      "        },\n",
      "        \"sd:hasDocumentation\": \"https://www.pivtec.com/download/docs/PIVview_v36_Manual.pdf\",\n",
      "        \"@id\": \"local:be07a5d0-796a-4de9-b0e3-2eb9d9462ed4\"\n",
      "    },\n",
      "    \"@id\": \"local:1c342e73-c745-400f-b005-7fd0c707225f\"\n",
      "}\n"
     ]
    }
   ],
   "source": [
    "print(pre.model_dump_jsonld())"
   ]
  },
  {
   "cell_type": "code",
   "execution_count": 23,
   "id": "0cbb3eae-3c90-489f-8311-fa159e3e488c",
   "metadata": {},
   "outputs": [],
   "source": [
    "with open('piv_process.json', 'w') as f:\n",
    "    f.write(proc.model_dump_jsonld())"
   ]
  },
  {
   "cell_type": "code",
   "execution_count": 27,
   "id": "73935d8b-9949-4bf9-b56d-c71940ba9bec",
   "metadata": {},
   "outputs": [
    {
     "name": "stdout",
     "output_type": "stream",
     "text": [
      "{\n",
      "    \"@context\": {\n",
      "        \"owl\": \"http://www.w3.org/2002/07/owl#\",\n",
      "        \"rdfs\": \"http://www.w3.org/2000/01/rdf-schema#\",\n",
      "        \"local\": \"http://example.org/\",\n",
      "        \"m4i\": \"http://w3id.org/nfdi4ing/metadata4ing#\",\n",
      "        \"schema\": \"https://schema.org/\",\n",
      "        \"obo\": \"http://purl.obolibrary.org/obo/\",\n",
      "        \"@import\": \"https://raw.githubusercontent.com/matthiasprobst/pivmeta/main/pivmeta_context.jsonld\"\n",
      "    },\n",
      "    \"@type\": \"m4i:ProcessingStep\",\n",
      "    \"rdfs:label\": \"PIV Run\",\n",
      "    \"startsWith\": {\n",
      "        \"@type\": \"https://matthiasprobst.github.io/pivmeta#PivPostProcessing\",\n",
      "        \"m4i:realizesMethod\": [\n",
      "            {\n",
      "                \"@type\": \"m4i:Method\",\n",
      "                \"schema:description\": \"Rotates the input image by 180 deg\",\n",
      "                \"m4i:hasParameter\": {\n",
      "                    \"@type\": \"m4i:NumericalVariable\",\n",
      "                    \"m4i:hasNumericalValue\": \"180\",\n",
      "                    \"m4i:hasUnit\": \"deg\",\n",
      "                    \"name\": \"rotation\",\n",
      "                    \"kindOfQuantity\": \"https://qudt.org/vocab/unit/DEG\",\n",
      "                    \"@id\": \"local:5af59ec6-575c-4856-a2fd-22b83283df2a\"\n",
      "                },\n",
      "                \"@id\": \"local:cbb02002-aa45-4aa4-b853-ad9b4f8cb60b\"\n",
      "            },\n",
      "            {\n",
      "                \"@type\": \"m4i:Method\",\n",
      "                \"schema:description\": \"Applies a median filter to the image\",\n",
      "                \"m4i:hasParameter\": {\n",
      "                    \"@type\": \"m4i:NumericalVariable\",\n",
      "                    \"m4i:hasNumericalValue\": \"3\",\n",
      "                    \"pivmeta:hasStandardName\": \"https://matthiasprobst.github.io/pivmeta#image_filter_kernel_size\",\n",
      "                    \"@id\": \"local:8ce78ff0-98ef-4d2d-a12f-12fa9ca0df53\"\n",
      "                },\n",
      "                \"@id\": \"local:5acf692f-3e18-4939-b4f2-58d674b84c68\"\n",
      "            }\n",
      "        ],\n",
      "        \"m4i:precedes\": {\n",
      "            \"@type\": \"https://matthiasprobst.github.io/pivmeta#PIVEvaluation\",\n",
      "            \"rdfs:label\": \"piv evaluation\",\n",
      "            \"m4i:realizesMethod\": [\n",
      "                {\n",
      "                    \"@type\": \"pivmeta:CorrelationAlgorithm\",\n",
      "                    \"schema:description\": \"The default mode of cross-correlation using FFTs to speed the computation. In principle the sum of pixel-wise multiplication of intensities is computed for each correlation offset (For implementation details please refer to Raffel et al. 2007).\",\n",
      "                    \"name\": \"Standard (FFT) Correlation\",\n",
      "                    \"@id\": \"local:10242631-1c67-4495-bd0e-430558c5e16d\"\n",
      "                },\n",
      "                {\n",
      "                    \"@type\": \"m4i:Method\",\n",
      "                    \"schema:description\": \"Run a multigrid PIV algorithm on all images\",\n",
      "                    \"m4i:hasParameter\": [\n",
      "                        {\n",
      "                            \"@type\": \"m4i:NumericalVariable\",\n",
      "                            \"m4i:hasNumericalValue\": \"64\",\n",
      "                            \"pivmeta:hasStandardName\": \"https://matthiasprobst.github.io/pivmeta#x_initial_interrogation_window_size\",\n",
      "                            \"@id\": \"local:619d2c1c-62d5-4068-9919-ac86d7afc5b8\"\n",
      "                        },\n",
      "                        {\n",
      "                            \"@type\": \"m4i:NumericalVariable\",\n",
      "                            \"m4i:hasNumericalValue\": \"64\",\n",
      "                            \"pivmeta:hasStandardName\": \"https://matthiasprobst.github.io/pivmeta#y_initial_interrogation_window_size\",\n",
      "                            \"@id\": \"local:94c7f64e-e879-43d5-8a96-594fa02f5fc8\"\n",
      "                        },\n",
      "                        {\n",
      "                            \"@type\": \"m4i:NumericalVariable\",\n",
      "                            \"m4i:hasNumericalValue\": \"16\",\n",
      "                            \"pivmeta:hasStandardName\": \"https://matthiasprobst.github.io/pivmeta#x_final_interrogation_window_size\",\n",
      "                            \"@id\": \"local:76f91176-e50b-44ac-8ae2-5bd47d4c0324\"\n",
      "                        },\n",
      "                        {\n",
      "                            \"@type\": \"m4i:NumericalVariable\",\n",
      "                            \"m4i:hasNumericalValue\": \"16\",\n",
      "                            \"pivmeta:hasStandardName\": \"https://matthiasprobst.github.io/pivmeta#y_final_interrogation_window_size\",\n",
      "                            \"@id\": \"local:1bb67581-47df-4d78-8f8c-ebd88018c8e6\"\n",
      "                        },\n",
      "                        {\n",
      "                            \"@type\": \"m4i:NumericalVariable\",\n",
      "                            \"m4i:hasNumericalValue\": \"8\",\n",
      "                            \"pivmeta:hasStandardName\": \"https://matthiasprobst.github.io/pivmeta#x_final_interrogation_window_overlap_size\",\n",
      "                            \"@id\": \"local:452fc086-ff86-4a9a-9f92-517207b40084\"\n",
      "                        },\n",
      "                        {\n",
      "                            \"@type\": \"m4i:NumericalVariable\",\n",
      "                            \"m4i:hasNumericalValue\": \"8\",\n",
      "                            \"pivmeta:hasStandardName\": \"https://matthiasprobst.github.io/pivmeta#y_final_interrogation_window_overlap_size\",\n",
      "                            \"@id\": \"local:62fa5355-9338-44f7-8862-55d037e4fcb5\"\n",
      "                        },\n",
      "                        {\n",
      "                            \"@type\": \"m4i:NumericalVariable\",\n",
      "                            \"m4i:hasVariableDescription\": \"Number of multigrid passes\",\n",
      "                            \"m4i:hasNumericalValue\": \"3\",\n",
      "                            \"@id\": \"local:b37c9d68-1346-4a52-87fc-28af2695d743\"\n",
      "                        }\n",
      "                    ],\n",
      "                    \"name\": \"Multigrid interrogation method\",\n",
      "                    \"@id\": \"local:797f1971-fd32-414b-8a67-3a59942888d7\"\n",
      "                },\n",
      "                {\n",
      "                    \"@type\": \"pivmeta:OutlierDetectionMethod\",\n",
      "                    \"m4i:hasParameter\": {\n",
      "                        \"@type\": \"m4i:NumericalVariable\",\n",
      "                        \"rdfs:label\": \"threshold\",\n",
      "                        \"m4i:hasNumericalValue\": \"3.0\",\n",
      "                        \"@id\": \"local:dbc1cda7-15a9-4db7-a22a-8c7111fbf226\"\n",
      "                    },\n",
      "                    \"name\": \"normalized median test\",\n",
      "                    \"@id\": \"local:02bfef0a-3d1d-44c1-a342-e3f564cc64d4\"\n",
      "                },\n",
      "                {\n",
      "                    \"@type\": \"pivmeta:OutlierDetectionMethod\",\n",
      "                    \"m4i:hasParameter\": [\n",
      "                        {\n",
      "                            \"@type\": \"m4i:NumericalVariable\",\n",
      "                            \"rdfs:label\": \"mean\",\n",
      "                            \"m4i:hasNumericalValue\": \"2.0\",\n",
      "                            \"@id\": \"local:a19c5120-e6cf-4521-9342-d2b67cb3d8ca\"\n",
      "                        },\n",
      "                        {\n",
      "                            \"@type\": \"m4i:NumericalVariable\",\n",
      "                            \"rdfs:label\": \"var\",\n",
      "                            \"m4i:hasNumericalValue\": \"1.0\",\n",
      "                            \"@id\": \"local:0f040c3c-9a73-497d-a324-9b39a913af0a\"\n",
      "                        }\n",
      "                    ],\n",
      "                    \"name\": \"dynamic mean test\",\n",
      "                    \"@id\": \"local:bf08ebf3-ea0b-4674-a089-5fff92f8ff70\"\n",
      "                }\n",
      "            ],\n",
      "            \"m4i:precedes\": {\n",
      "                \"@type\": \"https://matthiasprobst.github.io/pivmeta#PivProcessingStep\",\n",
      "                \"rdfs:label\": \"Post processing\",\n",
      "                \"m4i:realizesMethod\": {\n",
      "                    \"@type\": \"m4i:Method\",\n",
      "                    \"schema:description\": \"applies a low-pass filtering on the data using a Gaussian weighted kernel of specified width to reduce spurious noise.\",\n",
      "                    \"m4i:hasParameter\": {\n",
      "                        \"@type\": \"m4i:NumericalVariable\",\n",
      "                        \"rdfs:label\": \"kernel\",\n",
      "                        \"m4i:hasNumericalValue\": \"2.0\",\n",
      "                        \"@id\": \"local:278177b7-768c-4840-a3a4-9bea8a9f7d6e\"\n",
      "                    },\n",
      "                    \"name\": \"Low-pass filtering\",\n",
      "                    \"@id\": \"local:f9e8e175-6bf8-4948-8af8-dc658fb8dbe4\"\n",
      "                },\n",
      "                \"m4i:hasOutput\": {\n",
      "                    \"@type\": \"dcat:Dataset\",\n",
      "                    \"dcterms:title\": \"ILA Vortex Pair\",\n",
      "                    \"dcat:distribution\": [\n",
      "                        {\n",
      "                            \"@type\": \"pivmeta:PivResultDistribution\",\n",
      "                            \"dcterms:title\": \"Result File\",\n",
      "                            \"dcat:downloadURL\": \"file:///vp1a.dat\",\n",
      "                            \"@id\": \"local:07df55b4-2ad0-4e3c-9ea3-f8c8674449fc\"\n",
      "                        },\n",
      "                        {\n",
      "                            \"@type\": \"pivmeta:PivImageDistribution\",\n",
      "                            \"dcterms:title\": \"ILA Vortex Pair Images\",\n",
      "                            \"download_URL\": \"https://www.pivtec.com/download/samples/pivimg1.zip\",\n",
      "                            \"piv_image_type\": \"PivImageType.ExperimentalImage\",\n",
      "                            \"@id\": \"local:d47362fc-0161-4f1f-b2ef-c837f6e8e6c3\"\n",
      "                        }\n",
      "                    ],\n",
      "                    \"@id\": \"local:af10468d-df28-49ed-8339-bbe4702a0214\"\n",
      "                },\n",
      "                \"has_employed_tool\": {\n",
      "                    \"@type\": \"pivmeta:PIVSoftware\",\n",
      "                    \"schema:author\": {\n",
      "                        \"@type\": \"prov:Organisation\",\n",
      "                        \"foaf:mbox\": \"info@pivtec.com\",\n",
      "                        \"foaf:name\": \"PIVTEC GmbH\",\n",
      "                        \"schema:url\": \"https://www.pivtec.com/\",\n",
      "                        \"@id\": \"local:1f0f8067-e4f5-40de-9ca0-2c22724402d2\"\n",
      "                    },\n",
      "                    \"sd:hasDocumentation\": \"https://www.pivtec.com/download/docs/PIVview_v36_Manual.pdf\",\n",
      "                    \"@id\": \"local:a5b83fbc-c3b0-4aa2-8220-e5ceb3550d65\"\n",
      "                },\n",
      "                \"@id\": \"local:d64d25bb-74f2-42b3-b0d9-cd41aa82e42c\"\n",
      "            },\n",
      "            \"has_employed_tool\": {\n",
      "                \"@type\": \"pivmeta:PIVSoftware\",\n",
      "                \"schema:author\": {\n",
      "                    \"@type\": \"prov:Organisation\",\n",
      "                    \"foaf:mbox\": \"info@pivtec.com\",\n",
      "                    \"foaf:name\": \"PIVTEC GmbH\",\n",
      "                    \"schema:url\": \"https://www.pivtec.com/\",\n",
      "                    \"@id\": \"local:67ec6f88-10dc-4b4d-a976-41bfe82d89b4\"\n",
      "                },\n",
      "                \"sd:hasDocumentation\": \"https://www.pivtec.com/download/docs/PIVview_v36_Manual.pdf\",\n",
      "                \"@id\": \"local:1e7222bf-4cc5-48f9-b6bd-cb3ceaf8581c\"\n",
      "            },\n",
      "            \"@id\": \"local:cdb1104f-7e5f-4307-b758-bec816d9fe89\"\n",
      "        },\n",
      "        \"name\": \"Image pre processing\",\n",
      "        \"has_employed_tool\": {\n",
      "            \"@type\": \"pivmeta:PIVSoftware\",\n",
      "            \"schema:author\": {\n",
      "                \"@type\": \"prov:Organisation\",\n",
      "                \"foaf:mbox\": \"info@pivtec.com\",\n",
      "                \"foaf:name\": \"PIVTEC GmbH\",\n",
      "                \"schema:url\": \"https://www.pivtec.com/\",\n",
      "                \"@id\": \"local:82ab0ff5-ab84-44c4-b508-dcaeafaf4986\"\n",
      "            },\n",
      "            \"sd:hasDocumentation\": \"https://www.pivtec.com/download/docs/PIVview_v36_Manual.pdf\",\n",
      "            \"@id\": \"local:50d25e36-9ef2-427f-888e-97854a0e10f4\"\n",
      "        },\n",
      "        \"@id\": \"local:8ae42722-2b60-4d25-a628-cad28bbbeb1f\"\n",
      "    },\n",
      "    \"endsWith\": {\n",
      "        \"@type\": \"https://matthiasprobst.github.io/pivmeta#PivProcessingStep\",\n",
      "        \"rdfs:label\": \"Post processing\",\n",
      "        \"m4i:realizesMethod\": {\n",
      "            \"@type\": \"m4i:Method\",\n",
      "            \"schema:description\": \"applies a low-pass filtering on the data using a Gaussian weighted kernel of specified width to reduce spurious noise.\",\n",
      "            \"m4i:hasParameter\": {\n",
      "                \"@type\": \"m4i:NumericalVariable\",\n",
      "                \"rdfs:label\": \"kernel\",\n",
      "                \"m4i:hasNumericalValue\": \"2.0\",\n",
      "                \"@id\": \"local:90adb652-0868-4a85-9a84-3dae8889e637\"\n",
      "            },\n",
      "            \"name\": \"Low-pass filtering\",\n",
      "            \"@id\": \"local:f521f5b6-abde-4885-b7db-9978f20beb5c\"\n",
      "        },\n",
      "        \"m4i:hasOutput\": {\n",
      "            \"@type\": \"dcat:Dataset\",\n",
      "            \"dcterms:title\": \"ILA Vortex Pair\",\n",
      "            \"dcat:distribution\": [\n",
      "                {\n",
      "                    \"@type\": \"pivmeta:PivResultDistribution\",\n",
      "                    \"dcterms:title\": \"Result File\",\n",
      "                    \"dcat:downloadURL\": \"file:///vp1a.dat\",\n",
      "                    \"@id\": \"local:a74bb43e-3817-40f5-aa43-90d895e74361\"\n",
      "                },\n",
      "                {\n",
      "                    \"@type\": \"pivmeta:PivImageDistribution\",\n",
      "                    \"dcterms:title\": \"ILA Vortex Pair Images\",\n",
      "                    \"download_URL\": \"https://www.pivtec.com/download/samples/pivimg1.zip\",\n",
      "                    \"piv_image_type\": \"PivImageType.ExperimentalImage\",\n",
      "                    \"@id\": \"local:f168b7d6-cc6c-4d79-84e1-6c5c0ae58e3e\"\n",
      "                }\n",
      "            ],\n",
      "            \"@id\": \"local:81ae15bc-679d-4305-b998-765b391d5001\"\n",
      "        },\n",
      "        \"has_employed_tool\": {\n",
      "            \"@type\": \"pivmeta:PIVSoftware\",\n",
      "            \"schema:author\": {\n",
      "                \"@type\": \"prov:Organisation\",\n",
      "                \"foaf:mbox\": \"info@pivtec.com\",\n",
      "                \"foaf:name\": \"PIVTEC GmbH\",\n",
      "                \"schema:url\": \"https://www.pivtec.com/\",\n",
      "                \"@id\": \"local:eed88bde-1ff9-4de1-9754-2c2da284a8ed\"\n",
      "            },\n",
      "            \"sd:hasDocumentation\": \"https://www.pivtec.com/download/docs/PIVview_v36_Manual.pdf\",\n",
      "            \"@id\": \"local:b230b960-a4e2-4a3f-a73b-0b5cb1cd4791\"\n",
      "        },\n",
      "        \"@id\": \"local:c199b034-3ddc-4a08-9a30-c76397d08299\"\n",
      "    },\n",
      "    \"@id\": \"local:b34d322d-df56-4617-8c4d-6128165343e5\"\n",
      "}\n"
     ]
    }
   ],
   "source": [
    "print(piv.model_dump_jsonld(context={\"@import\": \"https://raw.githubusercontent.com/matthiasprobst/pivmeta/main/pivmeta_context.jsonld\"}))"
   ]
  }
 ],
 "metadata": {
  "kernelspec": {
   "display_name": "Python 3 (ipykernel)",
   "language": "python",
   "name": "python3"
  },
  "language_info": {
   "codemirror_mode": {
    "name": "ipython",
    "version": 3
   },
   "file_extension": ".py",
   "mimetype": "text/x-python",
   "name": "python",
   "nbconvert_exporter": "python",
   "pygments_lexer": "ipython3",
   "version": "3.8.18"
  }
 },
 "nbformat": 4,
 "nbformat_minor": 5
}
