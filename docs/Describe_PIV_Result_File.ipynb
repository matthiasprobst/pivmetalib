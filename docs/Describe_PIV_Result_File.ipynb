{
 "cells": [
  {
   "cell_type": "markdown",
   "id": "d9e14431-c577-4f76-9e5c-556b3cf9a4a5",
   "metadata": {},
   "source": [
    "# Describe a PIV Result File\n",
    "\n",
    "In this example, we want to describe the result file of the ILA Vortex pair (source: https://www.pivtec.com/download/samples/VortexPairSeq.zip)\n",
    "\n",
    "Where to start? Let's first evaluate what we have:\n",
    "\n",
    "General context:\n",
    "- The general concept of a dataset is described by `dcat:Dataset`\n",
    "- The file is described by `pivmeta:PIVResultDistribution` and is part of the `dcat:Dataset`\n",
    "\n",
    "Specific information:<br>\n",
    "Of greater interest is the PIV process including the PIV parameters leading to the dataset. A `dcat:Dataset` is the output of the PIV process. For this, we can use [`m4i:output of`](http://purl.obolibrary.org/obo/RO_0002353)."
   ]
  },
  {
   "cell_type": "markdown",
   "id": "ccbf4866-6c3d-472c-a1f6-4d5c785ddc46",
   "metadata": {},
   "source": [
    "## Preparation and Imports"
   ]
  },
  {
   "cell_type": "code",
   "execution_count": 1,
   "id": "ab72c7ec-9b38-4533-ac56-affd899fec3a",
   "metadata": {},
   "outputs": [],
   "source": [
    "from pivmetalib import pivmeta, dcat, m4i, schema, sd, prov\n",
    "from pivmetalib.namespace import PIVMETA\n",
    "\n",
    "from ssnolib import StandardNameTable"
   ]
  },
  {
   "cell_type": "markdown",
   "id": "8167bfc5-8d2b-40d0-899e-a5b5569b58a8",
   "metadata": {},
   "source": [
    "We will describe variables using standard names. For this we, decide to use [this Standard Name table](https://zenodo.org/records/14175299)"
   ]
  },
  {
   "cell_type": "code",
   "execution_count": 2,
   "id": "649cb5e8-1bd4-4eff-9f82-3712a9456f88",
   "metadata": {},
   "outputs": [],
   "source": [
    "snt = StandardNameTable.download(url=\"https://zenodo.org/records/14175299/files/Standard_Name_Table_for_Particle_Image_Velociemtry_data.jsonld?download=1\", fmt=\"jsonld\")\n",
    "standard_names = snt.get_standard_names_as_frozen_dataclass()"
   ]
  },
  {
   "cell_type": "code",
   "execution_count": 3,
   "id": "e8c7d349-1914-496d-8822-b07d4bccfa08",
   "metadata": {},
   "outputs": [],
   "source": [
    "result_dist = pivmeta.PIVResultDistribution(\n",
    "    title='Result File',\n",
    "    downloadURL='file:///vp1a.dat'\n",
    ")\n",
    "# the \"downloaded\" file must exist:\n",
    "assert result_dist.download().exists()"
   ]
  },
  {
   "cell_type": "code",
   "execution_count": 4,
   "id": "84695ded-4cca-477e-960d-8caff46bc2fa",
   "metadata": {},
   "outputs": [
    {
     "data": {
      "text/html": [
       "PIVImageDistribution(https://www.pivtec.com/download/samples/pivimg1.zip)"
      ],
      "text/plain": [
       "PIVImageDistribution(id=_:N29b71c4820ed4f9595d0e7c59b9e6601, title=ILA Vortex Pair Images, download_URL=https://www.pivtec.com/download/samples/pivimg1.zip, piv_image_type=https://matthiasprobst.github.io/pivmeta#ExperimentalImage)"
      ]
     },
     "execution_count": 4,
     "metadata": {},
     "output_type": "execute_result"
    }
   ],
   "source": [
    "piv_image_dist = pivmeta.PIVImageDistribution(\n",
    "    title='ILA Vortex Pair Images',\n",
    "    download_URL='https://www.pivtec.com/download/samples/pivimg1.zip',\n",
    "    piv_image_type=PIVMETA.ExperimentalImage\n",
    ")\n",
    "piv_image_dist"
   ]
  },
  {
   "cell_type": "code",
   "execution_count": 5,
   "id": "6f9ea047-6108-4395-9f71-81ff5a0442fb",
   "metadata": {},
   "outputs": [
    {
     "data": {
      "text/html": [
       "Dataset(id=_:N271665700cb2492aa2be20245e56a178, title=ILA Vortex Pair, distribution=[PIVResultDistribution(id=_:Ndff5ba8a54994c959c89e52bfeba6f3f, title=Result File, download_URL=file:///vp1a.dat), PIVImageDistribution(id=_:N29b71c4820ed4f9595d0e7c59b9e6601, title=ILA Vortex Pair Images, download_URL=https://www.pivtec.com/download/samples/pivimg1.zip, piv_image_type=https://matthiasprobst.github.io/pivmeta#ExperimentalImage)])"
      ],
      "text/plain": [
       "Dataset(id=_:N271665700cb2492aa2be20245e56a178, title=ILA Vortex Pair, distribution=[PIVResultDistribution(id=_:Ndff5ba8a54994c959c89e52bfeba6f3f, title=Result File, download_URL=file:///vp1a.dat), PIVImageDistribution(id=_:N29b71c4820ed4f9595d0e7c59b9e6601, title=ILA Vortex Pair Images, download_URL=https://www.pivtec.com/download/samples/pivimg1.zip, piv_image_type=https://matthiasprobst.github.io/pivmeta#ExperimentalImage)])"
      ]
     },
     "execution_count": 5,
     "metadata": {},
     "output_type": "execute_result"
    }
   ],
   "source": [
    "ds = dcat.Dataset(\n",
    "    title='ILA Vortex Pair',\n",
    "    distribution=[result_dist, piv_image_dist]\n",
    ")\n",
    "ds"
   ]
  },
  {
   "cell_type": "markdown",
   "id": "0f2f7895-5f01-45fd-95cb-cef9fa67851a",
   "metadata": {},
   "source": [
    "Before defining the PIV processing steps, we need to describe the software used:"
   ]
  },
  {
   "cell_type": "code",
   "execution_count": 6,
   "id": "481978f4-a49c-479c-b40e-abd5de377e72",
   "metadata": {},
   "outputs": [],
   "source": [
    "piv_software = pivmeta.PIVSoftware(\n",
    "    author=prov.Organization(\n",
    "        name='PIVTEC GmbH',\n",
    "        mbox='info@pivtec.com',\n",
    "        url='https://www.pivtec.com/'\n",
    "    ),\n",
    "    has_documentation='https://www.pivtec.com/download/docs/PIVview_v36_Manual.pdf',\n",
    ")"
   ]
  },
  {
   "cell_type": "code",
   "execution_count": 7,
   "id": "2f059f4b-154e-4f5d-ad66-409f7fb4f9db",
   "metadata": {},
   "outputs": [],
   "source": [
    "# import h5py\n",
    "# from typing import Dict\n",
    "\n",
    "\n",
    "# import h5rdmtoolbox as h5tbx\n",
    "# h5tbx.set_config(natural_naming=False)\n",
    "\n",
    "# with h5tbx.File() as h5:\n",
    "#     piv_software.dump_hdf(h5)\n",
    "#     h5.dump()\n",
    "#\n",
    "# print(piv_software.dump_jsonld())"
   ]
  },
  {
   "cell_type": "markdown",
   "id": "faac78e5-65fe-44f4-8950-9d4c6f2dd46c",
   "metadata": {},
   "source": [
    "## Processing steps\n",
    "\n",
    "A `PIVProcessingStep` class is provided in order to distinguish the processing step from others. Some methods are provided as classes but without specific properties. This is done to provide flexibility, as all methods can be standardized. However, by introducing **standard names**, the authors may narrow their parameter definitions either by using global standard names (with an IRI) or within their project.\n",
    "\n",
    "*TODO: Put here an image illustrating the possibilities*\n",
    "\n",
    "By using standard names, important parameters can be identified unambiguously. See `PIVMETA.image_filter_kernel_size` in the example in contrast to the 180° image rotation."
   ]
  },
  {
   "cell_type": "markdown",
   "id": "da19c623-fd59-4936-b702-d94c601ebffb",
   "metadata": {},
   "source": [
    "### 1. Pre-Processing (Image processing)\n",
    "\n",
    "Methods:\n",
    "- image rotation by 180 deg"
   ]
  },
  {
   "cell_type": "code",
   "execution_count": 8,
   "id": "27665a5d-a23a-4f3b-b85f-6965d92ee703",
   "metadata": {},
   "outputs": [],
   "source": [
    "from pivmetalib import PIVMETA"
   ]
  },
  {
   "cell_type": "code",
   "execution_count": 9,
   "id": "8bcde2fb-ddf5-4520-a151-a71bd4f184f5",
   "metadata": {},
   "outputs": [
    {
     "data": {
      "text/html": [
       "PIVPreProcessing(id=_:N32a709df8a494ea8bf6a355acd7793e2, realizes_method=[Method(id=_:Na2cb19f42f2e4fd6a90529ce055328e8, description=Rotates the input image by 180 deg, parameter=NumericalVariable(id=_:Nf8cf19c8f163478da4103bf2d68243f2, hasNumericalValue=180, hasUnit=http://qudt.org/vocab/unit/DEG, hasKindOfQuantity=https://qudt.org/vocab/unit/DEG, name=rotation)), Method(id=_:N452ea88649b14fa49a7e69f7341f6fc6, description=Applies a median filter to the image, hasParameter=NumericalVariable(id=_:Ne692b2144c9847b2a93cda45c5fc2511, hasNumericalValue=3, hasStandardName=image_filter_kernel_size))], name=Image pre processing)"
      ],
      "text/plain": [
       "PIVPreProcessing(id=_:N32a709df8a494ea8bf6a355acd7793e2, realizes_method=[Method(id=_:Na2cb19f42f2e4fd6a90529ce055328e8, description=Rotates the input image by 180 deg, parameter=NumericalVariable(id=_:Nf8cf19c8f163478da4103bf2d68243f2, hasNumericalValue=180, hasUnit=http://qudt.org/vocab/unit/DEG, hasKindOfQuantity=https://qudt.org/vocab/unit/DEG, name=rotation)), Method(id=_:N452ea88649b14fa49a7e69f7341f6fc6, description=Applies a median filter to the image, hasParameter=NumericalVariable(id=_:Ne692b2144c9847b2a93cda45c5fc2511, hasNumericalValue=3, hasStandardName=image_filter_kernel_size))], name=Image pre processing)"
      ]
     },
     "execution_count": 9,
     "metadata": {},
     "output_type": "execute_result"
    }
   ],
   "source": [
    "pre = pivmeta.PIVPreProcessing(\n",
    "    name='Image pre processing',\n",
    "    realizesMethod=[\n",
    "        m4i.Method(\n",
    "            description='Rotates the input image by 180 deg',\n",
    "            parameter=m4i.NumericalVariable(\n",
    "                name='rotation',\n",
    "                value=180,\n",
    "                unit='deg',\n",
    "                quantity_kind='https://qudt.org/vocab/unit/DEG'\n",
    "            )\n",
    "        ),\n",
    "        # Dont define all the classes for filters and outlier detection because everybody may define it differently.\n",
    "        # common parameters can be specified \"on demand\" by standard names like so: \n",
    "        m4i.Method(\n",
    "            description='Applies a median filter to the image',\n",
    "            hasParameter=pivmeta.NumericalVariable(\n",
    "                standard_name=standard_names.image_filter_kernel_size,\n",
    "                value=3,\n",
    "            )\n",
    "        )\n",
    "    ]\n",
    ")\n",
    "pre"
   ]
  },
  {
   "cell_type": "markdown",
   "id": "473b212f-f571-427e-92f1-b301961b75d1",
   "metadata": {},
   "source": [
    "## 2. PIV evaluation\n",
    "\n",
    "The PIV evaluation is a `m4i:ProcessingStep`. It realizes the methods\n",
    "- `pivemta:CorrelationMethod` (e.g. FFT, ... ),\n",
    "- `pivemta:InterrogationMethod` (e.g. `pivemta:Multigrid`, ...) and\n",
    "- `pivemta:PeakSearchMethod`.\n",
    "\n",
    "The outlier detection (validation) is a sub-processing step (`pivemta:PIVValidation`), because it can realize multiple methods. Most popular ones are described by classes:\n",
    "- `pivemta:DynMean`.\n",
    "\n",
    "Here, a multigrid evaluation is performed using standard FFT."
   ]
  },
  {
   "cell_type": "markdown",
   "id": "df6461be-e23c-4688-8f46-e9c3d3786882",
   "metadata": {},
   "source": [
    "### 2.1 Correlation algorithm\n",
    "\n",
    "The correlation algorithm is a subclass of `m4i:Method`. At least a name and description should be provided (here, taken from the documentation). We could also provide parameters."
   ]
  },
  {
   "cell_type": "code",
   "execution_count": 10,
   "id": "7447a632-4fa7-41e9-95d1-be5386a5bccc",
   "metadata": {},
   "outputs": [
    {
     "name": "stdout",
     "output_type": "stream",
     "text": [
      "{\n",
      "    \"@context\": {\n",
      "        \"owl\": \"http://www.w3.org/2002/07/owl#\",\n",
      "        \"rdfs\": \"http://www.w3.org/2000/01/rdf-schema#\",\n",
      "        \"m4i\": \"http://w3id.org/nfdi4ing/metadata4ing#\",\n",
      "        \"schema\": \"https://schema.org/\",\n",
      "        \"pivmeta\": \"https://matthiasprobst.github.io/pivmeta#\"\n",
      "    },\n",
      "    \"@type\": \"pivmeta:CorrelationMethod\",\n",
      "    \"schema:description\": \"The default mode of cross-correlation using FFTs to speed the computation. In principle the sum of pixel-wise multiplication of intensities is computed for each correlation offset (For implementation details please refer to Raffel et al. 2007).\",\n",
      "    \"pivmeta:windowWeightingFunction\": \"https://matthiasprobst.github.io/pivmeta#SquareWindow\",\n",
      "    \"name\": \"Standard (FFT) Correlation\",\n",
      "    \"@id\": \"_:Nc5422f210cdf43cfb7637177240a0f40\"\n",
      "}\n"
     ]
    }
   ],
   "source": [
    "calgo = pivmeta.CorrelationMethod(\n",
    "    name='Standard (FFT) Correlation',\n",
    "    windowWeightingFunction=PIVMETA.SquareWindow,\n",
    "    description='The default mode of cross-correlation using FFTs to speed the computation. ' \n",
    "    'In principle the sum of pixel-wise multiplication of intensities is computed for each ' \n",
    "    'correlation offset (For implementation details please refer to Raffel et al. 2007).'\n",
    ")\n",
    "print(calgo.model_dump_jsonld())"
   ]
  },
  {
   "cell_type": "markdown",
   "id": "eb1f5c6b-d7ce-4502-b997-cc79e719d97f",
   "metadata": {},
   "source": [
    "### 2.2 Interrogation method\n",
    "\n",
    "In this example, a *Multi-Grid* method was used starting from a window with size 64 px down to 16 px in 3 steps"
   ]
  },
  {
   "cell_type": "code",
   "execution_count": 11,
   "id": "6045c0bd-448f-4285-ac9a-579b018cf734",
   "metadata": {},
   "outputs": [
    {
     "name": "stdout",
     "output_type": "stream",
     "text": [
      "{\n",
      "    \"@context\": {\n",
      "        \"owl\": \"http://www.w3.org/2002/07/owl#\",\n",
      "        \"rdfs\": \"http://www.w3.org/2000/01/rdf-schema#\",\n",
      "        \"m4i\": \"http://w3id.org/nfdi4ing/metadata4ing#\",\n",
      "        \"ssno\": \"https://matthiasprobst.github.io/ssno#\",\n",
      "        \"pivmeta\": \"https://matthiasprobst.github.io/pivmeta#\",\n",
      "        \"skos\": \"http://www.w3.org/2004/02/skos/core#\",\n",
      "        \"dcat\": \"http://www.w3.org/ns/dcat#\"\n",
      "    },\n",
      "    \"@type\": \"m4i:NumericalVariable\",\n",
      "    \"m4i:hasNumericalValue\": 64,\n",
      "    \"pivmeta:hasStandardName\": {\n",
      "        \"@type\": \"ssno:StandardName\",\n",
      "        \"ssno:standardName\": \"x_initial_interrogation_window_size\",\n",
      "        \"ssno:unit\": \"http://qudt.org/vocab/unit/PIXEL\",\n",
      "        \"ssno:description\": \"Width of a initial PIV interrogation window (in case of a multi-grid PIV algorithm).\",\n",
      "        \"@id\": \"https://doi.org/10.5281/zenodo.14175299/N89d0dcc535b64f2f98ada4fc152f4586\"\n",
      "    },\n",
      "    \"@id\": \"_:Nb87a362d008d42989cce94ecf763dca4\"\n",
      "}\n"
     ]
    }
   ],
   "source": [
    "v = pivmeta.NumericalVariable(\n",
    "            standard_name=standard_names.x_initial_interrogation_window_size,\n",
    "            value=64,\n",
    "        )\n",
    "print(v.model_dump_jsonld(resolve_keys=False))"
   ]
  },
  {
   "cell_type": "code",
   "execution_count": 12,
   "id": "6eb9d495-a9b6-4c63-9e94-62680abb2620",
   "metadata": {},
   "outputs": [],
   "source": [
    "#print(v.dump_jsonld())"
   ]
  },
  {
   "cell_type": "code",
   "execution_count": 13,
   "id": "cf03a99e-133b-4ced-aab5-599eb3ef1472",
   "metadata": {},
   "outputs": [
    {
     "data": {
      "text/html": [
       "NumericalVariable(id=_:N38a28dc3d9d94f36ad57aa99d2a579c6, description=Number of multigrid passes, hasNumericalValue=3)"
      ],
      "text/plain": [
       "NumericalVariable(id=_:N38a28dc3d9d94f36ad57aa99d2a579c6, description=Number of multigrid passes, hasNumericalValue=3)"
      ]
     },
     "execution_count": 13,
     "metadata": {},
     "output_type": "execute_result"
    }
   ],
   "source": [
    "int_meth = m4i.Method(\n",
    "    name='Multigrid interrogation method',\n",
    "    description='Run a multigrid PIV algorithm on all images',\n",
    "    hasParameter=[\n",
    "        pivmeta.NumericalVariable(\n",
    "            standard_name=standard_names.x_initial_interrogation_window_size,\n",
    "            value=64,\n",
    "        ),\n",
    "        pivmeta.NumericalVariable(\n",
    "            standard_name=standard_names.y_initial_interrogation_window_size,\n",
    "            value=64,\n",
    "        ),\n",
    "        pivmeta.NumericalVariable(\n",
    "            standard_name=standard_names.x_final_interrogation_window_size,\n",
    "            value=16,\n",
    "        ),\n",
    "        pivmeta.NumericalVariable(\n",
    "            standard_name=standard_names.y_final_interrogation_window_size,\n",
    "            value=16,\n",
    "        ),\n",
    "        pivmeta.NumericalVariable(\n",
    "            standard_name=standard_names.x_final_interrogation_window_overlap_size,\n",
    "            value=8,\n",
    "        ),\n",
    "        pivmeta.NumericalVariable(\n",
    "            standard_name=standard_names.y_final_interrogation_window_overlap_size,\n",
    "            value=8,\n",
    "        ),\n",
    "        pivmeta.NumericalVariable(\n",
    "            # hasStandardName=PIVMETA.number_of_multigrid_passes,\n",
    "            description='Number of multigrid passes',\n",
    "            value=3,\n",
    "        )\n",
    "    ]\n",
    ")\n",
    "int_meth.hasParameter[-1]"
   ]
  },
  {
   "cell_type": "markdown",
   "id": "fce1e717-0e02-4f4a-bbb2-af411dc36db8",
   "metadata": {},
   "source": [
    "### 2.3 Outlier detection\n",
    "\n",
    "We use the following two methods for outlier detection:\n",
    "- normalized median test threshold: 3.0 (see DOI=https://doi.org/10.1007/s00348-005-0016-6)\n",
    "- dynamic mean test: mean=2.0, var=1.0"
   ]
  },
  {
   "cell_type": "code",
   "execution_count": 14,
   "id": "739aa70a-7dc0-4317-a814-f3c14b8e8727",
   "metadata": {},
   "outputs": [],
   "source": [
    "median_test = pivmeta.OutlierDetectionMethod(\n",
    "    name='normalized median test',\n",
    "    hasParameter=m4i.NumericalVariable(\n",
    "        label='threshold',\n",
    "        value=3.0\n",
    "    )\n",
    ")"
   ]
  },
  {
   "cell_type": "code",
   "execution_count": 15,
   "id": "5048b457-c0c7-4f01-a168-0805de557080",
   "metadata": {},
   "outputs": [],
   "source": [
    "dyn_mean = pivmeta.OutlierDetectionMethod(\n",
    "    name='dynamic mean test',\n",
    "    hasParameter=[\n",
    "        m4i.NumericalVariable(\n",
    "            label='mean',\n",
    "            value=2.0\n",
    "        ),\n",
    "        m4i.NumericalVariable(\n",
    "            label='var',\n",
    "            value=1.0\n",
    "        )\n",
    "    ]\n",
    ")"
   ]
  },
  {
   "cell_type": "code",
   "execution_count": 16,
   "id": "f1acbf4e-ee47-4d81-976e-990ba8af789c",
   "metadata": {},
   "outputs": [
    {
     "data": {
      "text/html": [
       "PIVEvaluation(id=_:N52794fb4b0ae4be6b81ec2548057f57e, label=piv evaluation, realizes_method=[CorrelationMethod(id=_:Nc5422f210cdf43cfb7637177240a0f40, description=The default mode of cross-correlation using FFTs to speed the computation. In principle the sum of pixel-wise multiplication of intensities is computed for each correlation offset (For implementation details please refer to Raffel et al. 2007)., windowWeightingFunction=https://matthiasprobst.github.io/pivmeta#SquareWindow, name=Standard (FFT) Correlation), Method(id=_:Ne05a4b14d01a496f83f0666f9234d963, description=Run a multigrid PIV algorithm on all images, name=Multigrid interrogation method, hasParameter=[NumericalVariable(id=_:Nbdf2465bff464c69aac1e7f3df8ce748, hasNumericalValue=64, hasStandardName=x_initial_interrogation_window_size), NumericalVariable(id=_:N6d5a2a7f99724b4d9caf89be55621601, hasNumericalValue=64, hasStandardName=y_initial_interrogation_window_size), NumericalVariable(id=_:N4bef225d50584c2495b5b93a8e1f02f5, hasNumericalValue=16, hasStandardName=x_final_interrogation_window_size), NumericalVariable(id=_:N4bbf06cab8b140038d9d4d3fb98052a6, hasNumericalValue=16, hasStandardName=y_final_interrogation_window_size), NumericalVariable(id=_:Na2973b9b366e4d9c9c964bec666f47cd, hasNumericalValue=8, hasStandardName=x_final_interrogation_window_overlap_size), NumericalVariable(id=_:Nacd97eab300246d3bacd06478c1ca23b, hasNumericalValue=8, hasStandardName=y_final_interrogation_window_overlap_size), NumericalVariable(id=_:N38a28dc3d9d94f36ad57aa99d2a579c6, description=Number of multigrid passes, hasNumericalValue=3)]), OutlierDetectionMethod(id=_:N7fe9d2de7fc843ceaa88c8934e3fed68, name=normalized median test, hasParameter=NumericalVariable(id=_:N34a8a6bfbc0b4d9091720b6a19f6a259, label=threshold, hasNumericalValue=3.0)), OutlierDetectionMethod(id=_:N9c0574b620ad43d2b426dc136bdd6f95, name=dynamic mean test, hasParameter=[NumericalVariable(id=_:Ncb90bc91512941e5a060245434f88af8, label=mean, hasNumericalValue=2.0), NumericalVariable(id=_:Ndd98d6e8fa344d37b25fc4661376c5cb, label=var, hasNumericalValue=1.0)])])"
      ],
      "text/plain": [
       "PIVEvaluation(id=_:N52794fb4b0ae4be6b81ec2548057f57e, label=piv evaluation, realizes_method=[CorrelationMethod(id=_:Nc5422f210cdf43cfb7637177240a0f40, description=The default mode of cross-correlation using FFTs to speed the computation. In principle the sum of pixel-wise multiplication of intensities is computed for each correlation offset (For implementation details please refer to Raffel et al. 2007)., windowWeightingFunction=https://matthiasprobst.github.io/pivmeta#SquareWindow, name=Standard (FFT) Correlation), Method(id=_:Ne05a4b14d01a496f83f0666f9234d963, description=Run a multigrid PIV algorithm on all images, name=Multigrid interrogation method, hasParameter=[NumericalVariable(id=_:Nbdf2465bff464c69aac1e7f3df8ce748, hasNumericalValue=64, hasStandardName=x_initial_interrogation_window_size), NumericalVariable(id=_:N6d5a2a7f99724b4d9caf89be55621601, hasNumericalValue=64, hasStandardName=y_initial_interrogation_window_size), NumericalVariable(id=_:N4bef225d50584c2495b5b93a8e1f02f5, hasNumericalValue=16, hasStandardName=x_final_interrogation_window_size), NumericalVariable(id=_:N4bbf06cab8b140038d9d4d3fb98052a6, hasNumericalValue=16, hasStandardName=y_final_interrogation_window_size), NumericalVariable(id=_:Na2973b9b366e4d9c9c964bec666f47cd, hasNumericalValue=8, hasStandardName=x_final_interrogation_window_overlap_size), NumericalVariable(id=_:Nacd97eab300246d3bacd06478c1ca23b, hasNumericalValue=8, hasStandardName=y_final_interrogation_window_overlap_size), NumericalVariable(id=_:N38a28dc3d9d94f36ad57aa99d2a579c6, description=Number of multigrid passes, hasNumericalValue=3)]), OutlierDetectionMethod(id=_:N7fe9d2de7fc843ceaa88c8934e3fed68, name=normalized median test, hasParameter=NumericalVariable(id=_:N34a8a6bfbc0b4d9091720b6a19f6a259, label=threshold, hasNumericalValue=3.0)), OutlierDetectionMethod(id=_:N9c0574b620ad43d2b426dc136bdd6f95, name=dynamic mean test, hasParameter=[NumericalVariable(id=_:Ncb90bc91512941e5a060245434f88af8, label=mean, hasNumericalValue=2.0), NumericalVariable(id=_:Ndd98d6e8fa344d37b25fc4661376c5cb, label=var, hasNumericalValue=1.0)])])"
      ]
     },
     "execution_count": 16,
     "metadata": {},
     "output_type": "execute_result"
    }
   ],
   "source": [
    "proc = pivmeta.PIVEvaluation(\n",
    "    label='piv evaluation',\n",
    "    realizesMethod=[\n",
    "        calgo,\n",
    "        int_meth,\n",
    "        median_test,\n",
    "        dyn_mean\n",
    "    ]\n",
    ")\n",
    "proc"
   ]
  },
  {
   "cell_type": "code",
   "execution_count": 17,
   "id": "f708a8ea-8e34-40a1-8788-e36d282b52f6",
   "metadata": {},
   "outputs": [],
   "source": [
    "data_smoothing = m4i.Method(\n",
    "    name='Low-pass filtering',\n",
    "    description='applies a low-pass filtering on the data using a Gaussian weighted kernel of specified width to reduce spurious noise.',\n",
    "    parameter=m4i.NumericalVariable(label='kernel', value=2.0)\n",
    ")"
   ]
  },
  {
   "cell_type": "code",
   "execution_count": 18,
   "id": "c0aa9014-102f-4dba-9977-3a310ac1afd1",
   "metadata": {},
   "outputs": [
    {
     "data": {
      "text/plain": [
       "'{\\n    \"@context\": {\\n        \"owl\": \"http://www.w3.org/2002/07/owl#\",\\n        \"rdfs\": \"http://www.w3.org/2000/01/rdf-schema#\",\\n        \"m4i\": \"http://w3id.org/nfdi4ing/metadata4ing#\",\\n        \"schema\": \"https://schema.org/\",\\n        \"obo\": \"http://purl.obolibrary.org/obo/\",\\n        \"pivmeta\": \"https://matthiasprobst.github.io/pivmeta#\"\\n    },\\n    \"@type\": \"pivmeta:PIVProcessingStep\",\\n    \"rdfs:label\": \"Post processing\",\\n    \"m4i:realizesMethod\": {\\n        \"@type\": \"m4i:Method\",\\n        \"schema:description\": \"applies a low-pass filtering on the data using a Gaussian weighted kernel of specified width to reduce spurious noise.\",\\n        \"m4i:hasParameter\": {\\n            \"@type\": \"m4i:NumericalVariable\",\\n            \"rdfs:label\": \"kernel\",\\n            \"m4i:hasNumericalValue\": 2.0,\\n            \"@id\": \"_:Nac7df88b1dc441f6b2e96dfb83ac2868\"\\n        },\\n        \"name\": \"Low-pass filtering\",\\n        \"@id\": \"_:Na9da580c2f334d37bcac0c3dffa549f8\"\\n    },\\n    \"@id\": \"_:Ndf1ca4a7bab54d42a8133f5c58b60258\"\\n}'"
      ]
     },
     "execution_count": 18,
     "metadata": {},
     "output_type": "execute_result"
    }
   ],
   "source": [
    "post = pivmeta.PIVPostProcessing(\n",
    "    label='Post processing',\n",
    "    realizesMethod=data_smoothing\n",
    ")\n",
    "post.model_dump_jsonld()         "
   ]
  },
  {
   "cell_type": "markdown",
   "id": "f1809a68-1074-48e5-b047-85cf6f62a147",
   "metadata": {},
   "source": [
    "## 3. Creating the full Meta document (connect information)\n",
    "\n",
    "We created three processing steps:\n",
    "1. pre (takes raw images)\n",
    "2. proc\n",
    "3. post (outputs result data)\n"
   ]
  },
  {
   "cell_type": "code",
   "execution_count": 19,
   "id": "b4e4230c-aff3-4adb-bba0-24b33fad657c",
   "metadata": {},
   "outputs": [],
   "source": [
    "post.hasOutput = ds"
   ]
  },
  {
   "cell_type": "markdown",
   "id": "adc7dc2e-06f6-4500-9066-fa9ebc390429",
   "metadata": {},
   "source": [
    "## 4. dump PIV run to JSON-LD"
   ]
  },
  {
   "cell_type": "code",
   "execution_count": 20,
   "id": "355ccc0f-79f9-4068-9aef-3b72aadf9dad",
   "metadata": {},
   "outputs": [],
   "source": [
    "piv = m4i.ProcessingStep(\n",
    "    label='PIV Run',\n",
    "    startsWith=pre,\n",
    "    endsWith=post\n",
    ")\n",
    "# proc.part_of = piv\n",
    "pre.precedes = proc\n",
    "proc.precedes = post\n",
    "\n",
    "# all processing steps were employed by software pivview:\n",
    "pre.has_employed_tool = piv_software\n",
    "proc.has_employed_tool = piv_software\n",
    "post.has_employed_tool = piv_software"
   ]
  },
  {
   "cell_type": "code",
   "execution_count": 21,
   "id": "7fd17b7e-68fb-4b75-8f0d-16b63bbe39ab",
   "metadata": {},
   "outputs": [
    {
     "name": "stdout",
     "output_type": "stream",
     "text": [
      "{\n",
      "    \"@context\": {\n",
      "        \"owl\": \"http://www.w3.org/2002/07/owl#\",\n",
      "        \"rdfs\": \"http://www.w3.org/2000/01/rdf-schema#\",\n",
      "        \"m4i\": \"http://w3id.org/nfdi4ing/metadata4ing#\",\n",
      "        \"schema\": \"https://schema.org/\",\n",
      "        \"obo\": \"http://purl.obolibrary.org/obo/\",\n",
      "        \"pivmeta\": \"https://matthiasprobst.github.io/pivmeta#\",\n",
      "        \"ssno\": \"https://matthiasprobst.github.io/ssno#\",\n",
      "        \"skos\": \"http://www.w3.org/2004/02/skos/core#\",\n",
      "        \"dcat\": \"http://www.w3.org/ns/dcat#\",\n",
      "        \"dcterms\": \"http://purl.org/dc/terms/\",\n",
      "        \"prov\": \"http://www.w3.org/ns/prov#\"\n",
      "    },\n",
      "    \"@type\": \"pivmeta:PIVPostProcessing\",\n",
      "    \"m4i:realizesMethod\": [\n",
      "        {\n",
      "            \"@type\": \"m4i:Method\",\n",
      "            \"schema:description\": \"Rotates the input image by 180 deg\",\n",
      "            \"m4i:hasParameter\": {\n",
      "                \"@type\": \"m4i:NumericalVariable\",\n",
      "                \"m4i:hasNumericalValue\": 180,\n",
      "                \"m4i:hasUnit\": \"http://qudt.org/vocab/unit/DEG\",\n",
      "                \"m4i:hasKindOfQuantity\": \"https://qudt.org/vocab/unit/DEG\",\n",
      "                \"name\": \"rotation\",\n",
      "                \"@id\": \"_:Nf8cf19c8f163478da4103bf2d68243f2\"\n",
      "            },\n",
      "            \"@id\": \"_:Na2cb19f42f2e4fd6a90529ce055328e8\"\n",
      "        },\n",
      "        {\n",
      "            \"@type\": \"m4i:Method\",\n",
      "            \"schema:description\": \"Applies a median filter to the image\",\n",
      "            \"hasParameter\": {\n",
      "                \"@type\": \"m4i:NumericalVariable\",\n",
      "                \"m4i:hasNumericalValue\": 3,\n",
      "                \"pivmeta:hasStandardName\": {\n",
      "                    \"@type\": \"ssno:StandardName\",\n",
      "                    \"ssno:standardName\": \"image_filter_kernel_size\",\n",
      "                    \"ssno:unit\": \"http://qudt.org/vocab/unit/UNITLESS\",\n",
      "                    \"ssno:description\": \"The size of the image filter kernel.\",\n",
      "                    \"@id\": \"https://doi.org/10.5281/zenodo.14175299/Nba0edcc7c5764c469243d4454e4c40b4\"\n",
      "                },\n",
      "                \"@id\": \"_:Ne692b2144c9847b2a93cda45c5fc2511\"\n",
      "            },\n",
      "            \"@id\": \"_:N452ea88649b14fa49a7e69f7341f6fc6\"\n",
      "        }\n",
      "    ],\n",
      "    \"m4i:precedes\": {\n",
      "        \"@type\": \"pivmeta:PIVEvaluation\",\n",
      "        \"rdfs:label\": \"piv evaluation\",\n",
      "        \"m4i:realizesMethod\": [\n",
      "            {\n",
      "                \"@type\": \"pivmeta:CorrelationMethod\",\n",
      "                \"schema:description\": \"The default mode of cross-correlation using FFTs to speed the computation. In principle the sum of pixel-wise multiplication of intensities is computed for each correlation offset (For implementation details please refer to Raffel et al. 2007).\",\n",
      "                \"pivmeta:windowWeightingFunction\": \"https://matthiasprobst.github.io/pivmeta#SquareWindow\",\n",
      "                \"name\": \"Standard (FFT) Correlation\",\n",
      "                \"@id\": \"_:Nc5422f210cdf43cfb7637177240a0f40\"\n",
      "            },\n",
      "            {\n",
      "                \"@type\": \"m4i:Method\",\n",
      "                \"schema:description\": \"Run a multigrid PIV algorithm on all images\",\n",
      "                \"name\": \"Multigrid interrogation method\",\n",
      "                \"hasParameter\": [\n",
      "                    {\n",
      "                        \"@type\": \"m4i:NumericalVariable\",\n",
      "                        \"m4i:hasNumericalValue\": 64,\n",
      "                        \"pivmeta:hasStandardName\": {\n",
      "                            \"@type\": \"ssno:StandardName\",\n",
      "                            \"ssno:standardName\": \"x_initial_interrogation_window_size\",\n",
      "                            \"ssno:unit\": \"http://qudt.org/vocab/unit/PIXEL\",\n",
      "                            \"ssno:description\": \"Width of a initial PIV interrogation window (in case of a multi-grid PIV algorithm).\",\n",
      "                            \"@id\": \"https://doi.org/10.5281/zenodo.14175299/N89d0dcc535b64f2f98ada4fc152f4586\"\n",
      "                        },\n",
      "                        \"@id\": \"_:Nbdf2465bff464c69aac1e7f3df8ce748\"\n",
      "                    },\n",
      "                    {\n",
      "                        \"@type\": \"m4i:NumericalVariable\",\n",
      "                        \"m4i:hasNumericalValue\": 64,\n",
      "                        \"pivmeta:hasStandardName\": {\n",
      "                            \"@type\": \"ssno:StandardName\",\n",
      "                            \"ssno:standardName\": \"y_initial_interrogation_window_size\",\n",
      "                            \"ssno:unit\": \"http://qudt.org/vocab/unit/PIXEL\",\n",
      "                            \"ssno:description\": \"Height of the initial PIV interrogation window (in case of a multi-grid PIV algorithm).\",\n",
      "                            \"@id\": \"https://doi.org/10.5281/zenodo.14175299/Nd2bfd29639184d20887297da70a60a3a\"\n",
      "                        },\n",
      "                        \"@id\": \"_:N6d5a2a7f99724b4d9caf89be55621601\"\n",
      "                    },\n",
      "                    {\n",
      "                        \"@type\": \"m4i:NumericalVariable\",\n",
      "                        \"m4i:hasNumericalValue\": 16,\n",
      "                        \"pivmeta:hasStandardName\": {\n",
      "                            \"@type\": \"ssno:StandardName\",\n",
      "                            \"ssno:standardName\": \"x_final_interrogation_window_size\",\n",
      "                            \"ssno:unit\": \"http://qudt.org/vocab/unit/PIXEL\",\n",
      "                            \"ssno:description\": \"Width of a final PIV interrogation window.\",\n",
      "                            \"@id\": \"https://doi.org/10.5281/zenodo.14175299/Nf50a1ad34a3f4c5590d8c780dfd88b97\"\n",
      "                        },\n",
      "                        \"@id\": \"_:N4bef225d50584c2495b5b93a8e1f02f5\"\n",
      "                    },\n",
      "                    {\n",
      "                        \"@type\": \"m4i:NumericalVariable\",\n",
      "                        \"m4i:hasNumericalValue\": 16,\n",
      "                        \"pivmeta:hasStandardName\": {\n",
      "                            \"@type\": \"ssno:StandardName\",\n",
      "                            \"ssno:standardName\": \"y_final_interrogation_window_size\",\n",
      "                            \"ssno:unit\": \"http://qudt.org/vocab/unit/PIXEL\",\n",
      "                            \"ssno:description\": \"The height of the final PIV interrogation window.\",\n",
      "                            \"@id\": \"https://doi.org/10.5281/zenodo.14175299/N95a213b173df4e64a0aa28c00d32be56\"\n",
      "                        },\n",
      "                        \"@id\": \"_:N4bbf06cab8b140038d9d4d3fb98052a6\"\n",
      "                    },\n",
      "                    {\n",
      "                        \"@type\": \"m4i:NumericalVariable\",\n",
      "                        \"m4i:hasNumericalValue\": 8,\n",
      "                        \"pivmeta:hasStandardName\": {\n",
      "                            \"@type\": \"ssno:StandardName\",\n",
      "                            \"ssno:standardName\": \"x_final_interrogation_window_overlap_size\",\n",
      "                            \"ssno:unit\": \"http://qudt.org/vocab/unit/PIXEL\",\n",
      "                            \"ssno:description\": \"Width of a final PIV interrogation window overlap.\",\n",
      "                            \"@id\": \"https://doi.org/10.5281/zenodo.14175299/N43df9526909d481fa985d245183d8cb1\"\n",
      "                        },\n",
      "                        \"@id\": \"_:Na2973b9b366e4d9c9c964bec666f47cd\"\n",
      "                    },\n",
      "                    {\n",
      "                        \"@type\": \"m4i:NumericalVariable\",\n",
      "                        \"m4i:hasNumericalValue\": 8,\n",
      "                        \"pivmeta:hasStandardName\": {\n",
      "                            \"@type\": \"ssno:StandardName\",\n",
      "                            \"ssno:standardName\": \"y_final_interrogation_window_overlap_size\",\n",
      "                            \"ssno:unit\": \"http://qudt.org/vocab/unit/PIXEL\",\n",
      "                            \"ssno:description\": \"The height of a final PIV interrogation window overlap.\",\n",
      "                            \"@id\": \"https://doi.org/10.5281/zenodo.14175299/N6a1e47e80bf047b9a692858d66384e40\"\n",
      "                        },\n",
      "                        \"@id\": \"_:Nacd97eab300246d3bacd06478c1ca23b\"\n",
      "                    },\n",
      "                    {\n",
      "                        \"@type\": \"m4i:NumericalVariable\",\n",
      "                        \"m4i:hasVariableDescription\": \"Number of multigrid passes\",\n",
      "                        \"m4i:hasNumericalValue\": 3,\n",
      "                        \"@id\": \"_:N38a28dc3d9d94f36ad57aa99d2a579c6\"\n",
      "                    }\n",
      "                ],\n",
      "                \"@id\": \"_:Ne05a4b14d01a496f83f0666f9234d963\"\n",
      "            },\n",
      "            {\n",
      "                \"@type\": \"pivmeta:OutlierDetectionMethod\",\n",
      "                \"name\": \"normalized median test\",\n",
      "                \"hasParameter\": {\n",
      "                    \"@type\": \"m4i:NumericalVariable\",\n",
      "                    \"rdfs:label\": \"threshold\",\n",
      "                    \"m4i:hasNumericalValue\": 3.0,\n",
      "                    \"@id\": \"_:N34a8a6bfbc0b4d9091720b6a19f6a259\"\n",
      "                },\n",
      "                \"@id\": \"_:N7fe9d2de7fc843ceaa88c8934e3fed68\"\n",
      "            },\n",
      "            {\n",
      "                \"@type\": \"pivmeta:OutlierDetectionMethod\",\n",
      "                \"name\": \"dynamic mean test\",\n",
      "                \"hasParameter\": [\n",
      "                    {\n",
      "                        \"@type\": \"m4i:NumericalVariable\",\n",
      "                        \"rdfs:label\": \"mean\",\n",
      "                        \"m4i:hasNumericalValue\": 2.0,\n",
      "                        \"@id\": \"_:Ncb90bc91512941e5a060245434f88af8\"\n",
      "                    },\n",
      "                    {\n",
      "                        \"@type\": \"m4i:NumericalVariable\",\n",
      "                        \"rdfs:label\": \"var\",\n",
      "                        \"m4i:hasNumericalValue\": 1.0,\n",
      "                        \"@id\": \"_:Ndd98d6e8fa344d37b25fc4661376c5cb\"\n",
      "                    }\n",
      "                ],\n",
      "                \"@id\": \"_:N9c0574b620ad43d2b426dc136bdd6f95\"\n",
      "            }\n",
      "        ],\n",
      "        \"m4i:precedes\": {\n",
      "            \"@type\": \"pivmeta:PIVProcessingStep\",\n",
      "            \"rdfs:label\": \"Post processing\",\n",
      "            \"m4i:realizesMethod\": {\n",
      "                \"@type\": \"m4i:Method\",\n",
      "                \"schema:description\": \"applies a low-pass filtering on the data using a Gaussian weighted kernel of specified width to reduce spurious noise.\",\n",
      "                \"m4i:hasParameter\": {\n",
      "                    \"@type\": \"m4i:NumericalVariable\",\n",
      "                    \"rdfs:label\": \"kernel\",\n",
      "                    \"m4i:hasNumericalValue\": 2.0,\n",
      "                    \"@id\": \"_:Nac7df88b1dc441f6b2e96dfb83ac2868\"\n",
      "                },\n",
      "                \"name\": \"Low-pass filtering\",\n",
      "                \"@id\": \"_:Na9da580c2f334d37bcac0c3dffa549f8\"\n",
      "            },\n",
      "            \"m4i:hasOutput\": {\n",
      "                \"@type\": \"dcat:Dataset\",\n",
      "                \"dcterms:title\": \"ILA Vortex Pair\",\n",
      "                \"dcat:distribution\": [\n",
      "                    {\n",
      "                        \"@type\": \"pivmeta:PIVResultDistribution\",\n",
      "                        \"dcterms:title\": \"Result File\",\n",
      "                        \"dcat:downloadURL\": \"file:///vp1a.dat\",\n",
      "                        \"@id\": \"_:Ndff5ba8a54994c959c89e52bfeba6f3f\"\n",
      "                    },\n",
      "                    {\n",
      "                        \"@type\": \"pivmeta:PIVImageDistribution\",\n",
      "                        \"dcterms:title\": \"ILA Vortex Pair Images\",\n",
      "                        \"dcat:downloadURL\": \"https://www.pivtec.com/download/samples/pivimg1.zip\",\n",
      "                        \"pivmeta:pivImageType\": \"https://matthiasprobst.github.io/pivmeta#ExperimentalImage\",\n",
      "                        \"@id\": \"_:N29b71c4820ed4f9595d0e7c59b9e6601\"\n",
      "                    }\n",
      "                ],\n",
      "                \"@id\": \"_:N271665700cb2492aa2be20245e56a178\"\n",
      "            },\n",
      "            \"@id\": \"_:Ndf1ca4a7bab54d42a8133f5c58b60258\"\n",
      "        },\n",
      "        \"@id\": \"_:N52794fb4b0ae4be6b81ec2548057f57e\"\n",
      "    },\n",
      "    \"name\": \"Image pre processing\",\n",
      "    \"@id\": \"_:N32a709df8a494ea8bf6a355acd7793e2\"\n",
      "}\n"
     ]
    }
   ],
   "source": [
    "print(pre.model_dump_jsonld())"
   ]
  },
  {
   "cell_type": "code",
   "execution_count": 22,
   "id": "0cbb3eae-3c90-489f-8311-fa159e3e488c",
   "metadata": {},
   "outputs": [],
   "source": [
    "with open('piv_process.json', 'w') as f:\n",
    "    f.write(proc.model_dump_jsonld())"
   ]
  },
  {
   "cell_type": "code",
   "execution_count": 23,
   "id": "73935d8b-9949-4bf9-b56d-c71940ba9bec",
   "metadata": {},
   "outputs": [
    {
     "name": "stdout",
     "output_type": "stream",
     "text": [
      "{\n",
      "    \"@context\": {\n",
      "        \"owl\": \"http://www.w3.org/2002/07/owl#\",\n",
      "        \"rdfs\": \"http://www.w3.org/2000/01/rdf-schema#\",\n",
      "        \"m4i\": \"http://w3id.org/nfdi4ing/metadata4ing#\",\n",
      "        \"schema\": \"https://schema.org/\",\n",
      "        \"obo\": \"http://purl.obolibrary.org/obo/\",\n",
      "        \"pivmeta\": \"https://matthiasprobst.github.io/pivmeta#\",\n",
      "        \"ssno\": \"https://matthiasprobst.github.io/ssno#\",\n",
      "        \"skos\": \"http://www.w3.org/2004/02/skos/core#\",\n",
      "        \"dcat\": \"http://www.w3.org/ns/dcat#\",\n",
      "        \"dcterms\": \"http://purl.org/dc/terms/\",\n",
      "        \"prov\": \"http://www.w3.org/ns/prov#\"\n",
      "    },\n",
      "    \"@type\": \"m4i:ProcessingStep\",\n",
      "    \"rdfs:label\": \"PIV Run\",\n",
      "    \"startsWith\": {\n",
      "        \"@type\": \"pivmeta:PIVPostProcessing\",\n",
      "        \"m4i:realizesMethod\": [\n",
      "            {\n",
      "                \"@type\": \"m4i:Method\",\n",
      "                \"schema:description\": \"Rotates the input image by 180 deg\",\n",
      "                \"m4i:hasParameter\": {\n",
      "                    \"@type\": \"m4i:NumericalVariable\",\n",
      "                    \"m4i:hasNumericalValue\": 180,\n",
      "                    \"m4i:hasUnit\": \"http://qudt.org/vocab/unit/DEG\",\n",
      "                    \"m4i:hasKindOfQuantity\": \"https://qudt.org/vocab/unit/DEG\",\n",
      "                    \"name\": \"rotation\",\n",
      "                    \"@id\": \"_:Nf8cf19c8f163478da4103bf2d68243f2\"\n",
      "                },\n",
      "                \"@id\": \"_:Na2cb19f42f2e4fd6a90529ce055328e8\"\n",
      "            },\n",
      "            {\n",
      "                \"@type\": \"m4i:Method\",\n",
      "                \"schema:description\": \"Applies a median filter to the image\",\n",
      "                \"hasParameter\": {\n",
      "                    \"@type\": \"m4i:NumericalVariable\",\n",
      "                    \"m4i:hasNumericalValue\": 3,\n",
      "                    \"pivmeta:hasStandardName\": {\n",
      "                        \"@type\": \"ssno:StandardName\",\n",
      "                        \"ssno:standardName\": \"image_filter_kernel_size\",\n",
      "                        \"ssno:unit\": \"http://qudt.org/vocab/unit/UNITLESS\",\n",
      "                        \"ssno:description\": \"The size of the image filter kernel.\",\n",
      "                        \"@id\": \"https://doi.org/10.5281/zenodo.14175299/Nba0edcc7c5764c469243d4454e4c40b4\"\n",
      "                    },\n",
      "                    \"@id\": \"_:Ne692b2144c9847b2a93cda45c5fc2511\"\n",
      "                },\n",
      "                \"@id\": \"_:N452ea88649b14fa49a7e69f7341f6fc6\"\n",
      "            }\n",
      "        ],\n",
      "        \"m4i:precedes\": {\n",
      "            \"@type\": \"pivmeta:PIVEvaluation\",\n",
      "            \"rdfs:label\": \"piv evaluation\",\n",
      "            \"m4i:realizesMethod\": [\n",
      "                {\n",
      "                    \"@type\": \"pivmeta:CorrelationMethod\",\n",
      "                    \"schema:description\": \"The default mode of cross-correlation using FFTs to speed the computation. In principle the sum of pixel-wise multiplication of intensities is computed for each correlation offset (For implementation details please refer to Raffel et al. 2007).\",\n",
      "                    \"pivmeta:windowWeightingFunction\": \"https://matthiasprobst.github.io/pivmeta#SquareWindow\",\n",
      "                    \"name\": \"Standard (FFT) Correlation\",\n",
      "                    \"@id\": \"_:Nc5422f210cdf43cfb7637177240a0f40\"\n",
      "                },\n",
      "                {\n",
      "                    \"@type\": \"m4i:Method\",\n",
      "                    \"schema:description\": \"Run a multigrid PIV algorithm on all images\",\n",
      "                    \"name\": \"Multigrid interrogation method\",\n",
      "                    \"hasParameter\": [\n",
      "                        {\n",
      "                            \"@type\": \"m4i:NumericalVariable\",\n",
      "                            \"m4i:hasNumericalValue\": 64,\n",
      "                            \"pivmeta:hasStandardName\": {\n",
      "                                \"@type\": \"ssno:StandardName\",\n",
      "                                \"ssno:standardName\": \"x_initial_interrogation_window_size\",\n",
      "                                \"ssno:unit\": \"http://qudt.org/vocab/unit/PIXEL\",\n",
      "                                \"ssno:description\": \"Width of a initial PIV interrogation window (in case of a multi-grid PIV algorithm).\",\n",
      "                                \"@id\": \"https://doi.org/10.5281/zenodo.14175299/N89d0dcc535b64f2f98ada4fc152f4586\"\n",
      "                            },\n",
      "                            \"@id\": \"_:Nbdf2465bff464c69aac1e7f3df8ce748\"\n",
      "                        },\n",
      "                        {\n",
      "                            \"@type\": \"m4i:NumericalVariable\",\n",
      "                            \"m4i:hasNumericalValue\": 64,\n",
      "                            \"pivmeta:hasStandardName\": {\n",
      "                                \"@type\": \"ssno:StandardName\",\n",
      "                                \"ssno:standardName\": \"y_initial_interrogation_window_size\",\n",
      "                                \"ssno:unit\": \"http://qudt.org/vocab/unit/PIXEL\",\n",
      "                                \"ssno:description\": \"Height of the initial PIV interrogation window (in case of a multi-grid PIV algorithm).\",\n",
      "                                \"@id\": \"https://doi.org/10.5281/zenodo.14175299/Nd2bfd29639184d20887297da70a60a3a\"\n",
      "                            },\n",
      "                            \"@id\": \"_:N6d5a2a7f99724b4d9caf89be55621601\"\n",
      "                        },\n",
      "                        {\n",
      "                            \"@type\": \"m4i:NumericalVariable\",\n",
      "                            \"m4i:hasNumericalValue\": 16,\n",
      "                            \"pivmeta:hasStandardName\": {\n",
      "                                \"@type\": \"ssno:StandardName\",\n",
      "                                \"ssno:standardName\": \"x_final_interrogation_window_size\",\n",
      "                                \"ssno:unit\": \"http://qudt.org/vocab/unit/PIXEL\",\n",
      "                                \"ssno:description\": \"Width of a final PIV interrogation window.\",\n",
      "                                \"@id\": \"https://doi.org/10.5281/zenodo.14175299/Nf50a1ad34a3f4c5590d8c780dfd88b97\"\n",
      "                            },\n",
      "                            \"@id\": \"_:N4bef225d50584c2495b5b93a8e1f02f5\"\n",
      "                        },\n",
      "                        {\n",
      "                            \"@type\": \"m4i:NumericalVariable\",\n",
      "                            \"m4i:hasNumericalValue\": 16,\n",
      "                            \"pivmeta:hasStandardName\": {\n",
      "                                \"@type\": \"ssno:StandardName\",\n",
      "                                \"ssno:standardName\": \"y_final_interrogation_window_size\",\n",
      "                                \"ssno:unit\": \"http://qudt.org/vocab/unit/PIXEL\",\n",
      "                                \"ssno:description\": \"The height of the final PIV interrogation window.\",\n",
      "                                \"@id\": \"https://doi.org/10.5281/zenodo.14175299/N95a213b173df4e64a0aa28c00d32be56\"\n",
      "                            },\n",
      "                            \"@id\": \"_:N4bbf06cab8b140038d9d4d3fb98052a6\"\n",
      "                        },\n",
      "                        {\n",
      "                            \"@type\": \"m4i:NumericalVariable\",\n",
      "                            \"m4i:hasNumericalValue\": 8,\n",
      "                            \"pivmeta:hasStandardName\": {\n",
      "                                \"@type\": \"ssno:StandardName\",\n",
      "                                \"ssno:standardName\": \"x_final_interrogation_window_overlap_size\",\n",
      "                                \"ssno:unit\": \"http://qudt.org/vocab/unit/PIXEL\",\n",
      "                                \"ssno:description\": \"Width of a final PIV interrogation window overlap.\",\n",
      "                                \"@id\": \"https://doi.org/10.5281/zenodo.14175299/N43df9526909d481fa985d245183d8cb1\"\n",
      "                            },\n",
      "                            \"@id\": \"_:Na2973b9b366e4d9c9c964bec666f47cd\"\n",
      "                        },\n",
      "                        {\n",
      "                            \"@type\": \"m4i:NumericalVariable\",\n",
      "                            \"m4i:hasNumericalValue\": 8,\n",
      "                            \"pivmeta:hasStandardName\": {\n",
      "                                \"@type\": \"ssno:StandardName\",\n",
      "                                \"ssno:standardName\": \"y_final_interrogation_window_overlap_size\",\n",
      "                                \"ssno:unit\": \"http://qudt.org/vocab/unit/PIXEL\",\n",
      "                                \"ssno:description\": \"The height of a final PIV interrogation window overlap.\",\n",
      "                                \"@id\": \"https://doi.org/10.5281/zenodo.14175299/N6a1e47e80bf047b9a692858d66384e40\"\n",
      "                            },\n",
      "                            \"@id\": \"_:Nacd97eab300246d3bacd06478c1ca23b\"\n",
      "                        },\n",
      "                        {\n",
      "                            \"@type\": \"m4i:NumericalVariable\",\n",
      "                            \"m4i:hasVariableDescription\": \"Number of multigrid passes\",\n",
      "                            \"m4i:hasNumericalValue\": 3,\n",
      "                            \"@id\": \"_:N38a28dc3d9d94f36ad57aa99d2a579c6\"\n",
      "                        }\n",
      "                    ],\n",
      "                    \"@id\": \"_:Ne05a4b14d01a496f83f0666f9234d963\"\n",
      "                },\n",
      "                {\n",
      "                    \"@type\": \"pivmeta:OutlierDetectionMethod\",\n",
      "                    \"name\": \"normalized median test\",\n",
      "                    \"hasParameter\": {\n",
      "                        \"@type\": \"m4i:NumericalVariable\",\n",
      "                        \"rdfs:label\": \"threshold\",\n",
      "                        \"m4i:hasNumericalValue\": 3.0,\n",
      "                        \"@id\": \"_:N34a8a6bfbc0b4d9091720b6a19f6a259\"\n",
      "                    },\n",
      "                    \"@id\": \"_:N7fe9d2de7fc843ceaa88c8934e3fed68\"\n",
      "                },\n",
      "                {\n",
      "                    \"@type\": \"pivmeta:OutlierDetectionMethod\",\n",
      "                    \"name\": \"dynamic mean test\",\n",
      "                    \"hasParameter\": [\n",
      "                        {\n",
      "                            \"@type\": \"m4i:NumericalVariable\",\n",
      "                            \"rdfs:label\": \"mean\",\n",
      "                            \"m4i:hasNumericalValue\": 2.0,\n",
      "                            \"@id\": \"_:Ncb90bc91512941e5a060245434f88af8\"\n",
      "                        },\n",
      "                        {\n",
      "                            \"@type\": \"m4i:NumericalVariable\",\n",
      "                            \"rdfs:label\": \"var\",\n",
      "                            \"m4i:hasNumericalValue\": 1.0,\n",
      "                            \"@id\": \"_:Ndd98d6e8fa344d37b25fc4661376c5cb\"\n",
      "                        }\n",
      "                    ],\n",
      "                    \"@id\": \"_:N9c0574b620ad43d2b426dc136bdd6f95\"\n",
      "                }\n",
      "            ],\n",
      "            \"m4i:precedes\": {\n",
      "                \"@type\": \"pivmeta:PIVProcessingStep\",\n",
      "                \"rdfs:label\": \"Post processing\",\n",
      "                \"m4i:realizesMethod\": {\n",
      "                    \"@type\": \"m4i:Method\",\n",
      "                    \"schema:description\": \"applies a low-pass filtering on the data using a Gaussian weighted kernel of specified width to reduce spurious noise.\",\n",
      "                    \"m4i:hasParameter\": {\n",
      "                        \"@type\": \"m4i:NumericalVariable\",\n",
      "                        \"rdfs:label\": \"kernel\",\n",
      "                        \"m4i:hasNumericalValue\": 2.0,\n",
      "                        \"@id\": \"_:Nac7df88b1dc441f6b2e96dfb83ac2868\"\n",
      "                    },\n",
      "                    \"name\": \"Low-pass filtering\",\n",
      "                    \"@id\": \"_:Na9da580c2f334d37bcac0c3dffa549f8\"\n",
      "                },\n",
      "                \"m4i:hasOutput\": {\n",
      "                    \"@type\": \"dcat:Dataset\",\n",
      "                    \"dcterms:title\": \"ILA Vortex Pair\",\n",
      "                    \"dcat:distribution\": [\n",
      "                        {\n",
      "                            \"@type\": \"pivmeta:PIVResultDistribution\",\n",
      "                            \"dcterms:title\": \"Result File\",\n",
      "                            \"dcat:downloadURL\": \"file:///vp1a.dat\",\n",
      "                            \"@id\": \"_:Ndff5ba8a54994c959c89e52bfeba6f3f\"\n",
      "                        },\n",
      "                        {\n",
      "                            \"@type\": \"pivmeta:PIVImageDistribution\",\n",
      "                            \"dcterms:title\": \"ILA Vortex Pair Images\",\n",
      "                            \"dcat:downloadURL\": \"https://www.pivtec.com/download/samples/pivimg1.zip\",\n",
      "                            \"pivmeta:pivImageType\": \"https://matthiasprobst.github.io/pivmeta#ExperimentalImage\",\n",
      "                            \"@id\": \"_:N29b71c4820ed4f9595d0e7c59b9e6601\"\n",
      "                        }\n",
      "                    ],\n",
      "                    \"@id\": \"_:N271665700cb2492aa2be20245e56a178\"\n",
      "                },\n",
      "                \"@id\": \"_:Ndf1ca4a7bab54d42a8133f5c58b60258\"\n",
      "            },\n",
      "            \"@id\": \"_:N52794fb4b0ae4be6b81ec2548057f57e\"\n",
      "        },\n",
      "        \"name\": \"Image pre processing\",\n",
      "        \"@id\": \"_:N32a709df8a494ea8bf6a355acd7793e2\"\n",
      "    },\n",
      "    \"endsWith\": {\n",
      "        \"@type\": \"pivmeta:PIVProcessingStep\",\n",
      "        \"rdfs:label\": \"Post processing\",\n",
      "        \"m4i:realizesMethod\": {\n",
      "            \"@type\": \"m4i:Method\",\n",
      "            \"schema:description\": \"applies a low-pass filtering on the data using a Gaussian weighted kernel of specified width to reduce spurious noise.\",\n",
      "            \"m4i:hasParameter\": {\n",
      "                \"@type\": \"m4i:NumericalVariable\",\n",
      "                \"rdfs:label\": \"kernel\",\n",
      "                \"m4i:hasNumericalValue\": 2.0,\n",
      "                \"@id\": \"_:Nac7df88b1dc441f6b2e96dfb83ac2868\"\n",
      "            },\n",
      "            \"name\": \"Low-pass filtering\",\n",
      "            \"@id\": \"_:Na9da580c2f334d37bcac0c3dffa549f8\"\n",
      "        },\n",
      "        \"m4i:hasOutput\": {\n",
      "            \"@type\": \"dcat:Dataset\",\n",
      "            \"dcterms:title\": \"ILA Vortex Pair\",\n",
      "            \"dcat:distribution\": [\n",
      "                {\n",
      "                    \"@type\": \"pivmeta:PIVResultDistribution\",\n",
      "                    \"dcterms:title\": \"Result File\",\n",
      "                    \"dcat:downloadURL\": \"file:///vp1a.dat\",\n",
      "                    \"@id\": \"_:Ndff5ba8a54994c959c89e52bfeba6f3f\"\n",
      "                },\n",
      "                {\n",
      "                    \"@type\": \"pivmeta:PIVImageDistribution\",\n",
      "                    \"dcterms:title\": \"ILA Vortex Pair Images\",\n",
      "                    \"dcat:downloadURL\": \"https://www.pivtec.com/download/samples/pivimg1.zip\",\n",
      "                    \"pivmeta:pivImageType\": \"https://matthiasprobst.github.io/pivmeta#ExperimentalImage\",\n",
      "                    \"@id\": \"_:N29b71c4820ed4f9595d0e7c59b9e6601\"\n",
      "                }\n",
      "            ],\n",
      "            \"@id\": \"_:N271665700cb2492aa2be20245e56a178\"\n",
      "        },\n",
      "        \"@id\": \"_:Ndf1ca4a7bab54d42a8133f5c58b60258\"\n",
      "    },\n",
      "    \"@id\": \"_:N8aefae20bf73461687ad0832a77c0fd7\"\n",
      "}\n"
     ]
    }
   ],
   "source": [
    "print(piv.model_dump_jsonld())"
   ]
  },
  {
   "cell_type": "code",
   "execution_count": null,
   "id": "1bd43d3e-4d8f-48f7-a7ba-fce7ec20d804",
   "metadata": {},
   "outputs": [],
   "source": []
  },
  {
   "cell_type": "code",
   "execution_count": null,
   "id": "fdbface7-7494-4d28-a940-c6a099305a69",
   "metadata": {},
   "outputs": [],
   "source": []
  }
 ],
 "metadata": {
  "kernelspec": {
   "display_name": "Python 3 (ipykernel)",
   "language": "python",
   "name": "python3"
  },
  "language_info": {
   "codemirror_mode": {
    "name": "ipython",
    "version": 3
   },
   "file_extension": ".py",
   "mimetype": "text/x-python",
   "name": "python",
   "nbconvert_exporter": "python",
   "pygments_lexer": "ipython3",
   "version": "3.8.20"
  }
 },
 "nbformat": 4,
 "nbformat_minor": 5
}
