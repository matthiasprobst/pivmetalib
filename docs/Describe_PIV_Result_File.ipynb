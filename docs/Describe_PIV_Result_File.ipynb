{
 "cells": [
  {
   "cell_type": "markdown",
   "id": "d9e14431-c577-4f76-9e5c-556b3cf9a4a5",
   "metadata": {},
   "source": [
    "# Describe a PIV Result File\n",
    "\n",
    "In this example, we want to describe the result file of the ILA Vortex pair (source: https://www.pivtec.com/download/samples/VortexPairSeq.zip)\n",
    "\n",
    "Where to start? Let's first evaluate what we have:\n",
    "\n",
    "General context:\n",
    "- The general concept of a dataset is described by `dcat:Dataset`\n",
    "- The file is described by `pivmeta:PivResultDistribution` and is part of the `dcat:Dataset`\n",
    "\n",
    "Specific information:<br>\n",
    "Of greater interest is the PIV process icluding the PIV parameters leading to the dataset. A `dcat:Dataset` is the output of the PIV process. For this, we can use [`m4i:output of`](http://purl.obolibrary.org/obo/RO_0002353):"
   ]
  },
  {
   "cell_type": "code",
   "execution_count": 1,
   "id": "ab72c7ec-9b38-4533-ac56-affd899fec3a",
   "metadata": {},
   "outputs": [],
   "source": [
    "from pivmetalib import pivmeta, dcat, m4i, schema, sd, prov"
   ]
  },
  {
   "cell_type": "code",
   "execution_count": 2,
   "id": "e8c7d349-1914-496d-8822-b07d4bccfa08",
   "metadata": {},
   "outputs": [],
   "source": [
    "dist = pivmeta.PivResultDistribution(\n",
    "    title='Result File',\n",
    "    download_URL='file:///vp1a.dat'\n",
    ")\n",
    "# the \"downloaded\" file must exist:\n",
    "assert dist.download().exists()"
   ]
  },
  {
   "cell_type": "code",
   "execution_count": 3,
   "id": "6f9ea047-6108-4395-9f71-81ff5a0442fb",
   "metadata": {},
   "outputs": [],
   "source": [
    "ds = dcat.Dataset(\n",
    "    title='ILA Vortex Pair',\n",
    "    distribution=dist\n",
    ")"
   ]
  },
  {
   "cell_type": "markdown",
   "id": "0f2f7895-5f01-45fd-95cb-cef9fa67851a",
   "metadata": {},
   "source": [
    "Before defining the PIV processing steps, we need to describe the software used:"
   ]
  },
  {
   "cell_type": "code",
   "execution_count": 4,
   "id": "481978f4-a49c-479c-b40e-abd5de377e72",
   "metadata": {},
   "outputs": [
    {
     "data": {
      "text/html": [
       "PIVSoftware(author=name='PIVTEC GmbH' mbox='info@pivtec.com', has_documentation=https://www.pivtec.com/download/docs/PIVview_v36_Manual.pdf)"
      ],
      "text/plain": [
       "PIVSoftware(author=name='PIVTEC GmbH' mbox='info@pivtec.com', has_documentation=https://www.pivtec.com/download/docs/PIVview_v36_Manual.pdf)"
      ]
     },
     "execution_count": 4,
     "metadata": {},
     "output_type": "execute_result"
    }
   ],
   "source": [
    "pivtec = pivmeta.PIVSoftware(\n",
    "    author=prov.Organization(\n",
    "        name='PIVTEC GmbH',\n",
    "        mbox='info@pivtec.com',\n",
    "        url='https://www.pivtec.com/'\n",
    "    ),\n",
    "    has_documentation='https://www.pivtec.com/download/docs/PIVview_v36_Manual.pdf',\n",
    ")\n",
    "pivtec"
   ]
  },
  {
   "cell_type": "markdown",
   "id": "faac78e5-65fe-44f4-8950-9d4c6f2dd46c",
   "metadata": {},
   "source": [
    "## Processing steps\n",
    "\n",
    "A `PivProcessingStep` class is provided in order to distinguish the processing step from others. Some methods are provided as classes but without specific properties. This is done to provide flexibility, as all methods can be standardized. However, by introducing **standard names**, the authors may narrow their parameter definitions either by using global standard names (with an IRI) or within their project.\n",
    "\n",
    "*TODO: Put here an image illustrating the possibilities*\n",
    "\n",
    "By using standard names, important parameters can be identified unambiguously. See `PIVMETA.image_filter_kernel_size` in the example in contrast to the 180° image rotation."
   ]
  },
  {
   "cell_type": "markdown",
   "id": "da19c623-fd59-4936-b702-d94c601ebffb",
   "metadata": {},
   "source": [
    "### 1. Pre-Processing (Image processing)\n",
    "\n",
    "Methods:\n",
    "- image rotation by 180 deg"
   ]
  },
  {
   "cell_type": "code",
   "execution_count": 5,
   "id": "27665a5d-a23a-4f3b-b85f-6965d92ee703",
   "metadata": {},
   "outputs": [],
   "source": [
    "from pivmetalib.namespace import PIVMETA  # Or define a standard name table here..."
   ]
  },
  {
   "cell_type": "code",
   "execution_count": 6,
   "id": "8bcde2fb-ddf5-4520-a151-a71bd4f184f5",
   "metadata": {},
   "outputs": [
    {
     "name": "stderr",
     "output_type": "stream",
     "text": [
      "C:\\Users\\da4323\\AppData\\Local\\Temp\\ipykernel_25704\\1630200954.py:18: UserWarning: Code: image_filter_kernel_size is not defined in namespace PIVMETA\n",
      "  standard_name=PIVMETA.image_filter_kernel_size,\n"
     ]
    },
    {
     "data": {
      "text/html": [
       "ImageManipulation(name=Image pre processing, realizes_method=[ImageRotation(description=Rotates the input image by 180 deg, has_parameter=name='rotation' value=180 description=None has_unit='deg' has_kind_of_quantity=None has_symbol=None), ImageFilter(description=Applies a median filter to the image, has_parameter=name=None value=3 description=None has_unit=None has_kind_of_quantity=None has_symbol=None standard_name=Url('https://matthiasprobst.github.io/pivmeta#image_filter_kernel_size'))])"
      ],
      "text/plain": [
       "ImageManipulation(name=Image pre processing, realizes_method=[ImageRotation(description=Rotates the input image by 180 deg, has_parameter=name='rotation' value=180 description=None has_unit='deg' has_kind_of_quantity=None has_symbol=None), ImageFilter(description=Applies a median filter to the image, has_parameter=name=None value=3 description=None has_unit=None has_kind_of_quantity=None has_symbol=None standard_name=Url('https://matthiasprobst.github.io/pivmeta#image_filter_kernel_size'))])"
      ]
     },
     "execution_count": 6,
     "metadata": {},
     "output_type": "execute_result"
    }
   ],
   "source": [
    "pre = pivmeta.ImageManipulation(\n",
    "    name='Image pre processing',\n",
    "    realizes_method=[\n",
    "        pivmeta.ImageRotation(\n",
    "            description='Rotates the input image by 180 deg',\n",
    "            has_parameter=m4i.Variable(\n",
    "                name='rotation',\n",
    "                value=180,\n",
    "                has_unit='deg',\n",
    "                kind_of_quantity='https://qudt.org/vocab/unit/DEG'\n",
    "            )\n",
    "        ),\n",
    "        # Dont define all the classes for filters and outlier detection because everybody may define it differently.\n",
    "        # common parameters can be specified \"on demand\" by standard names like so: \n",
    "        pivmeta.ImageFilter(\n",
    "            description='Applies a median filter to the image',\n",
    "            has_parameter=pivmeta.Variable(\n",
    "                standard_name=PIVMETA.image_filter_kernel_size,\n",
    "                value=3,\n",
    "            )\n",
    "        )\n",
    "    ]\n",
    ")\n",
    "pre"
   ]
  },
  {
   "cell_type": "markdown",
   "id": "473b212f-f571-427e-92f1-b301961b75d1",
   "metadata": {},
   "source": [
    "## 2. PIV evaluation\n",
    "\n",
    "In this step, the PIV algorithm is executed. The evaluation step is characterized by\n",
    "- the correlation algorithm (e.g. FFT or ...)\n",
    "- The interrogation method (e.g. multi-pass or multi-grid)\n",
    "\n",
    "Here, a multigrid evaluation is performed using standard FFT."
   ]
  },
  {
   "cell_type": "markdown",
   "id": "df6461be-e23c-4688-8f46-e9c3d3786882",
   "metadata": {},
   "source": [
    "### 2.1 Correlation algorithm\n",
    "\n",
    "The correlation algorithm is a subclass of `m4i:Method`. At least a name and description should be provided (here, taken from the documentation). We could also provide parameters."
   ]
  },
  {
   "cell_type": "code",
   "execution_count": 7,
   "id": "7447a632-4fa7-41e9-95d1-be5386a5bccc",
   "metadata": {},
   "outputs": [
    {
     "data": {
      "text/html": [
       "CorrelationAlgorithm(name=Standard (FFT) Correlation, description=The default mode of cross-correlation using FFTs to speed the computation. In principle the sum of pixel-wise multiplication of intensities is computed for each correlation offset (For implementation details please refer to Raffel et al. 2007).)"
      ],
      "text/plain": [
       "CorrelationAlgorithm(name=Standard (FFT) Correlation, description=The default mode of cross-correlation using FFTs to speed the computation. In principle the sum of pixel-wise multiplication of intensities is computed for each correlation offset (For implementation details please refer to Raffel et al. 2007).)"
      ]
     },
     "execution_count": 7,
     "metadata": {},
     "output_type": "execute_result"
    }
   ],
   "source": [
    "calgo = pivmeta.CorrelationAlgorithm(\n",
    "    name='Standard (FFT) Correlation',\n",
    "    description='The default mode of cross-correlation using FFTs to speed the computation. ' \n",
    "    'In principle the sum of pixel-wise multiplication of intensities is computed for each ' \n",
    "    'correlation offset (For implementation details please refer to Raffel et al. 2007).'\n",
    ")\n",
    "calgo"
   ]
  },
  {
   "cell_type": "markdown",
   "id": "eb1f5c6b-d7ce-4502-b997-cc79e719d97f",
   "metadata": {},
   "source": [
    "### 2.2 Interrogation method\n",
    "\n",
    "In this example, a *Multi-Grid* method was used starting from a window with size 64 px down to 16 px in 3 steps"
   ]
  },
  {
   "cell_type": "code",
   "execution_count": 8,
   "id": "cf03a99e-133b-4ced-aab5-599eb3ef1472",
   "metadata": {},
   "outputs": [
    {
     "name": "stderr",
     "output_type": "stream",
     "text": [
      "C:\\Users\\da4323\\AppData\\Local\\Temp\\ipykernel_25704\\178228079.py:7: UserWarning: Code: x_initial_interrogation_window_size is not defined in namespace PIVMETA\n",
      "  standard_name=PIVMETA.x_initial_interrogation_window_size,\n",
      "C:\\Users\\da4323\\AppData\\Local\\Temp\\ipykernel_25704\\178228079.py:11: UserWarning: Code: y_initial_interrogation_window_size is not defined in namespace PIVMETA\n",
      "  standard_name=PIVMETA.y_initial_interrogation_window_size,\n",
      "C:\\Users\\da4323\\AppData\\Local\\Temp\\ipykernel_25704\\178228079.py:31: UserWarning: Code: number_of_multigrid_passes is not defined in namespace PIVMETA\n",
      "  standard_name=PIVMETA.number_of_multigrid_passes,\n"
     ]
    },
    {
     "data": {
      "text/html": [
       "Multigrid(name=Multigrid interrogation method, description=Run a multigrid PIV algorithm on all images, has_parameter=[Variable(value=64), Variable(value=64), Variable(value=16), Variable(value=16), Variable(value=8), Variable(value=8), Variable(value=3)], correlation_algorithm=name='Standard (FFT) Correlation' description='The default mode of cross-correlation using FFTs to speed the computation. In principle the sum of pixel-wise multiplication of intensities is computed for each correlation offset (For implementation details please refer to Raffel et al. 2007).' has_parameter=None)"
      ],
      "text/plain": [
       "Multigrid(name=Multigrid interrogation method, description=Run a multigrid PIV algorithm on all images, has_parameter=[Variable(value=64), Variable(value=64), Variable(value=16), Variable(value=16), Variable(value=8), Variable(value=8), Variable(value=3)], correlation_algorithm=name='Standard (FFT) Correlation' description='The default mode of cross-correlation using FFTs to speed the computation. In principle the sum of pixel-wise multiplication of intensities is computed for each correlation offset (For implementation details please refer to Raffel et al. 2007).' has_parameter=None)"
      ]
     },
     "execution_count": 8,
     "metadata": {},
     "output_type": "execute_result"
    }
   ],
   "source": [
    "int_meth = pivmeta.InterrogationMethod.Multigrid(\n",
    "    name='Multigrid interrogation method',\n",
    "    description='Run a multigrid PIV algorithm on all images',\n",
    "    correlation_algorithm=calgo,\n",
    "    has_parameter=[\n",
    "        m4i.Variable(\n",
    "            standard_name=PIVMETA.x_initial_interrogation_window_size,\n",
    "            value=64,\n",
    "        ),\n",
    "        m4i.Variable(\n",
    "            standard_name=PIVMETA.y_initial_interrogation_window_size,\n",
    "            value=64,\n",
    "        ),\n",
    "        m4i.Variable(\n",
    "            standard_name=PIVMETA.x_final_interrogation_window_size,\n",
    "            value=16,\n",
    "        ),\n",
    "        m4i.Variable(\n",
    "            standard_name=PIVMETA.y_final_interrogation_window_size,\n",
    "            value=16,\n",
    "        ),\n",
    "        m4i.Variable(\n",
    "            standard_name=PIVMETA.x_final_interrogation_window_overlap_size,\n",
    "            value=8,\n",
    "        ),\n",
    "        m4i.Variable(\n",
    "            standard_name=PIVMETA.y_final_interrogation_window_overlap_size,\n",
    "            value=8,\n",
    "        ),\n",
    "        m4i.Variable(\n",
    "            standard_name=PIVMETA.number_of_multigrid_passes,\n",
    "            value=3,\n",
    "        )\n",
    "    ]\n",
    ")\n",
    "int_meth"
   ]
  },
  {
   "cell_type": "markdown",
   "id": "fce1e717-0e02-4f4a-bbb2-af411dc36db8",
   "metadata": {},
   "source": [
    "### 2.3 Outlier detection\n",
    "\n",
    "We use the following two methods for outlier detection:\n",
    "- normalized median test threshold: 3.0 (see DOI=https://doi.org/10.1007/s00348-005-0016-6)\n",
    "- dynamic mean test: mean=2.0, var=1.0"
   ]
  },
  {
   "cell_type": "code",
   "execution_count": 9,
   "id": "739aa70a-7dc0-4317-a814-f3c14b8e8727",
   "metadata": {},
   "outputs": [],
   "source": [
    "median_test = m4i.Method(\n",
    "    name='normalized median test',\n",
    "    has_parameter=m4i.Variable(\n",
    "        name='threshold',\n",
    "        value=3.0\n",
    "    )\n",
    ")"
   ]
  },
  {
   "cell_type": "code",
   "execution_count": 10,
   "id": "5048b457-c0c7-4f01-a168-0805de557080",
   "metadata": {},
   "outputs": [],
   "source": [
    "dyn_mean = m4i.Method(\n",
    "    name='dynmaic mean test',\n",
    "    has_parameter=[\n",
    "        m4i.Variable(\n",
    "            name='mean',\n",
    "            value=2.0\n",
    "        ),\n",
    "        m4i.Variable(\n",
    "            name='var',\n",
    "            value=1.0\n",
    "        )\n",
    "    ]\n",
    ")"
   ]
  },
  {
   "cell_type": "code",
   "execution_count": 11,
   "id": "f1acbf4e-ee47-4d81-976e-990ba8af789c",
   "metadata": {},
   "outputs": [
    {
     "data": {
      "text/html": [
       "PivProcessingStep(name=piv evaluation, realizes_method=[Multigrid(name=Multigrid interrogation method, description=Run a multigrid PIV algorithm on all images, has_parameter=[Variable(value=64), Variable(value=64), Variable(value=16), Variable(value=16), Variable(value=8), Variable(value=8), Variable(value=3)], correlation_algorithm=name='Standard (FFT) Correlation' description='The default mode of cross-correlation using FFTs to speed the computation. In principle the sum of pixel-wise multiplication of intensities is computed for each correlation offset (For implementation details please refer to Raffel et al. 2007).' has_parameter=None), Method(name=normalized median test, has_parameter=name='threshold' value=3.0 description=None has_unit=None has_kind_of_quantity=None has_symbol=None), Method(name=dynmaic mean test, has_parameter=[Variable(name=mean, value=2.0), Variable(name=var, value=1.0)])])"
      ],
      "text/plain": [
       "PivProcessingStep(name=piv evaluation, realizes_method=[Multigrid(name=Multigrid interrogation method, description=Run a multigrid PIV algorithm on all images, has_parameter=[Variable(value=64), Variable(value=64), Variable(value=16), Variable(value=16), Variable(value=8), Variable(value=8), Variable(value=3)], correlation_algorithm=name='Standard (FFT) Correlation' description='The default mode of cross-correlation using FFTs to speed the computation. In principle the sum of pixel-wise multiplication of intensities is computed for each correlation offset (For implementation details please refer to Raffel et al. 2007).' has_parameter=None), Method(name=normalized median test, has_parameter=name='threshold' value=3.0 description=None has_unit=None has_kind_of_quantity=None has_symbol=None), Method(name=dynmaic mean test, has_parameter=[Variable(name=mean, value=2.0), Variable(name=var, value=1.0)])])"
      ]
     },
     "execution_count": 11,
     "metadata": {},
     "output_type": "execute_result"
    }
   ],
   "source": [
    "proc = pivmeta.PivProcessingStep(\n",
    "    name='piv evaluation',\n",
    "    realizes_method=[\n",
    "        int_meth,\n",
    "        median_test,\n",
    "        dyn_mean\n",
    "    ]\n",
    ")\n",
    "proc"
   ]
  },
  {
   "cell_type": "code",
   "execution_count": 12,
   "id": "f708a8ea-8e34-40a1-8788-e36d282b52f6",
   "metadata": {},
   "outputs": [],
   "source": [
    "data_smoothing = m4i.Method(\n",
    "    name='Low-pass filtering',\n",
    "    description='applies a low-pass filtering on the data using a Gaussian weighted kernel of specified width to reduce spurious noise.',\n",
    "    has_parameter=m4i.Variable(name='kernel', value=2.0)\n",
    ")"
   ]
  },
  {
   "cell_type": "code",
   "execution_count": 13,
   "id": "c0aa9014-102f-4dba-9977-3a310ac1afd1",
   "metadata": {},
   "outputs": [
    {
     "ename": "AttributeError",
     "evalue": "module 'pivmetalib.pivmeta' has no attribute 'PostProcessingStep'",
     "output_type": "error",
     "traceback": [
      "\u001b[1;31m---------------------------------------------------------------------------\u001b[0m",
      "\u001b[1;31mAttributeError\u001b[0m                            Traceback (most recent call last)",
      "Cell \u001b[1;32mIn[13], line 1\u001b[0m\n\u001b[1;32m----> 1\u001b[0m post \u001b[38;5;241m=\u001b[39m \u001b[43mpivmeta\u001b[49m\u001b[38;5;241;43m.\u001b[39;49m\u001b[43mPostProcessingStep\u001b[49m(\n\u001b[0;32m      2\u001b[0m     name\u001b[38;5;241m=\u001b[39m\u001b[38;5;124m'\u001b[39m\u001b[38;5;124mPost processing\u001b[39m\u001b[38;5;124m'\u001b[39m,\n\u001b[0;32m      3\u001b[0m     realizes_method\u001b[38;5;241m=\u001b[39mdata_smoothing\n\u001b[0;32m      4\u001b[0m )\n",
      "\u001b[1;31mAttributeError\u001b[0m: module 'pivmetalib.pivmeta' has no attribute 'PostProcessingStep'"
     ]
    }
   ],
   "source": [
    "post = pivmeta.PostProcessingStep(\n",
    "    name='Post processing',\n",
    "    realizes_method=data_smoothing\n",
    ")\n",
    "            "
   ]
  },
  {
   "cell_type": "markdown",
   "id": "f1809a68-1074-48e5-b047-85cf6f62a147",
   "metadata": {},
   "source": [
    "## 3. Creating the full Meta document (connect information)\n",
    "\n",
    "We created three processing steps:\n",
    "1. pre (takes raw images)\n",
    "2. proc\n",
    "3. post (outputs result data)\n"
   ]
  },
  {
   "cell_type": "code",
   "execution_count": null,
   "id": "b4e4230c-aff3-4adb-bba0-24b33fad657c",
   "metadata": {},
   "outputs": [],
   "source": [
    "post.has_output = ds"
   ]
  },
  {
   "cell_type": "markdown",
   "id": "adc7dc2e-06f6-4500-9066-fa9ebc390429",
   "metadata": {},
   "source": [
    "## 4. dump piv run to JSON-LD"
   ]
  },
  {
   "cell_type": "code",
   "execution_count": null,
   "id": "355ccc0f-79f9-4068-9aef-3b72aadf9dad",
   "metadata": {},
   "outputs": [],
   "source": [
    "piv = m4i.ProcessingStep(\n",
    "    name='PIV Run',\n",
    "    starts_with=pre,\n",
    "    ends_with=post\n",
    ")\n",
    "# proc.part_of = piv\n",
    "pre.precedes = proc\n",
    "proc.precedes = post\n",
    "\n",
    "# all processing steps were employed by software pivview:\n",
    "pre.has_employed_tool = pivtec\n",
    "proc.has_employed_tool = pivtec\n",
    "post.has_employed_tool = pivtec"
   ]
  },
  {
   "cell_type": "code",
   "execution_count": null,
   "id": "0cbb3eae-3c90-489f-8311-fa159e3e488c",
   "metadata": {},
   "outputs": [],
   "source": [
    "with open('piv_process.json', 'w') as f:\n",
    "    f.write(proc.dump_jsonld())"
   ]
  },
  {
   "cell_type": "code",
   "execution_count": null,
   "id": "8c278c4a-87dc-4c2b-b264-76a47918abb9",
   "metadata": {},
   "outputs": [],
   "source": [
    "from pivmetalib.jsonld import dump_jsonld"
   ]
  },
  {
   "cell_type": "code",
   "execution_count": null,
   "id": "07b8666b-7f4c-47a2-9ab5-206d167de1b7",
   "metadata": {
    "scrolled": true
   },
   "outputs": [],
   "source": [
    "print(dump_jsonld([pre, proc]))"
   ]
  },
  {
   "cell_type": "markdown",
   "id": "da25733d-4758-410b-91e1-19d9fc6ec7b8",
   "metadata": {},
   "source": [
    "# Query JSON-LD file\n",
    "\n",
    "t.b.d"
   ]
  },
  {
   "cell_type": "code",
   "execution_count": null,
   "id": "bddb2f4c-0527-48de-a581-7baf1ea2cc53",
   "metadata": {},
   "outputs": [],
   "source": []
  }
 ],
 "metadata": {
  "kernelspec": {
   "display_name": "Python 3 (ipykernel)",
   "language": "python",
   "name": "python3"
  },
  "language_info": {
   "codemirror_mode": {
    "name": "ipython",
    "version": 3
   },
   "file_extension": ".py",
   "mimetype": "text/x-python",
   "name": "python",
   "nbconvert_exporter": "python",
   "pygments_lexer": "ipython3",
   "version": "3.8.18"
  }
 },
 "nbformat": 4,
 "nbformat_minor": 5
}
