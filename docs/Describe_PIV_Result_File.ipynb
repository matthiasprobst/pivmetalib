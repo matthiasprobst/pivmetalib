{
 "cells": [
  {
   "cell_type": "markdown",
   "id": "d9e14431-c577-4f76-9e5c-556b3cf9a4a5",
   "metadata": {},
   "source": [
    "# Describe a PIV Result File\n",
    "\n",
    "In this example, we want to describe the result file of the ILA Vortex pair (source: https://www.pivtec.com/download/samples/VortexPairSeq.zip)\n",
    "\n",
    "Where to start? Let's first evaluate what we have:\n",
    "\n",
    "General context:\n",
    "- The general concept of a dataset is described by `dcat:Dataset`\n",
    "- The file is described by `pivmeta:PivResultDistribution` and is part of the `dcat:Dataset`\n",
    "\n",
    "Specific information:<br>\n",
    "Of greater interest is the PIV process including the PIV parameters leading to the dataset. A `dcat:Dataset` is the output of the PIV process. For this, we can use [`m4i:output of`](http://purl.obolibrary.org/obo/RO_0002353):"
   ]
  },
  {
   "cell_type": "code",
   "execution_count": 1,
   "id": "ab72c7ec-9b38-4533-ac56-affd899fec3a",
   "metadata": {},
   "outputs": [],
   "source": [
    "from pivmetalib import pivmeta, dcat, m4i, schema, sd, prov"
   ]
  },
  {
   "cell_type": "code",
   "execution_count": 2,
   "id": "e8c7d349-1914-496d-8822-b07d4bccfa08",
   "metadata": {},
   "outputs": [],
   "source": [
    "result_dist = pivmeta.PivResultDistribution(\n",
    "    title='Result File',\n",
    "    downloadURL='file:///vp1a.dat'\n",
    ")\n",
    "# the \"downloaded\" file must exist:\n",
    "assert result_dist.download().exists()"
   ]
  },
  {
   "cell_type": "code",
   "execution_count": 3,
   "id": "2dedd781-049c-45fa-97da-e1c6bf9e089e",
   "metadata": {},
   "outputs": [
    {
     "data": {
      "text/plain": [
       "Url('file:///vp1a.dat')"
      ]
     },
     "execution_count": 3,
     "metadata": {},
     "output_type": "execute_result"
    }
   ],
   "source": [
    "result_dist.downloadURL"
   ]
  },
  {
   "cell_type": "code",
   "execution_count": 4,
   "id": "9c46182e-d70e-4e31-ab68-01449aeeddf7",
   "metadata": {},
   "outputs": [
    {
     "data": {
      "text/plain": [
       "<PivImageType.ExperimentalImage: rdflib.term.URIRef('https://matthiasprobst.github.io/pivmeta#ExperimentalImage')>"
      ]
     },
     "execution_count": 4,
     "metadata": {},
     "output_type": "execute_result"
    }
   ],
   "source": [
    "pivmeta.PivImageType.ExperimentalImage"
   ]
  },
  {
   "cell_type": "code",
   "execution_count": 5,
   "id": "84695ded-4cca-477e-960d-8caff46bc2fa",
   "metadata": {},
   "outputs": [
    {
     "data": {
      "text/html": [
       "PivImageDistribution(title=ILA Vortex Pair Images)"
      ],
      "text/plain": [
       "PivImageDistribution(title=ILA Vortex Pair Images, download_URL=https://www.pivtec.com/download/samples/pivimg1.zip, piv_image_type=PivImageType.ExperimentalImage)"
      ]
     },
     "execution_count": 5,
     "metadata": {},
     "output_type": "execute_result"
    }
   ],
   "source": [
    "piv_image_dist = pivmeta.PivImageDistribution(\n",
    "    title='ILA Vortex Pair Images',\n",
    "    download_URL='https://www.pivtec.com/download/samples/pivimg1.zip',\n",
    "    piv_image_type=pivmeta.PivImageType.ExperimentalImage\n",
    ")\n",
    "piv_image_dist"
   ]
  },
  {
   "cell_type": "code",
   "execution_count": 6,
   "id": "6f9ea047-6108-4395-9f71-81ff5a0442fb",
   "metadata": {},
   "outputs": [
    {
     "data": {
      "text/html": [
       "Dataset(title=ILA Vortex Pair, distribution=[PivResultDistribution(title=Result File, downloadURL=file:///vp1a.dat), PivImageDistribution(title=ILA Vortex Pair Images, download_URL=https://www.pivtec.com/download/samples/pivimg1.zip, piv_image_type=PivImageType.ExperimentalImage)])"
      ],
      "text/plain": [
       "Dataset(title=ILA Vortex Pair, distribution=[PivResultDistribution(title=Result File, downloadURL=file:///vp1a.dat), PivImageDistribution(title=ILA Vortex Pair Images, download_URL=https://www.pivtec.com/download/samples/pivimg1.zip, piv_image_type=PivImageType.ExperimentalImage)])"
      ]
     },
     "execution_count": 6,
     "metadata": {},
     "output_type": "execute_result"
    }
   ],
   "source": [
    "ds = dcat.Dataset(\n",
    "    title='ILA Vortex Pair',\n",
    "    distribution=[result_dist, piv_image_dist]\n",
    ")\n",
    "ds"
   ]
  },
  {
   "cell_type": "markdown",
   "id": "0f2f7895-5f01-45fd-95cb-cef9fa67851a",
   "metadata": {},
   "source": [
    "Before defining the PIV processing steps, we need to describe the software used:"
   ]
  },
  {
   "cell_type": "code",
   "execution_count": 7,
   "id": "481978f4-a49c-479c-b40e-abd5de377e72",
   "metadata": {},
   "outputs": [],
   "source": [
    "piv_software = pivmeta.PIVSoftware(\n",
    "    author=prov.Organization(\n",
    "        name='PIVTEC GmbH',\n",
    "        mbox='info@pivtec.com',\n",
    "        url='https://www.pivtec.com/'\n",
    "    ),\n",
    "    has_documentation='https://www.pivtec.com/download/docs/PIVview_v36_Manual.pdf',\n",
    ")"
   ]
  },
  {
   "cell_type": "code",
   "execution_count": 8,
   "id": "2f059f4b-154e-4f5d-ad66-409f7fb4f9db",
   "metadata": {},
   "outputs": [],
   "source": [
    "# import h5py\n",
    "# from typing import Dict\n",
    "\n",
    "\n",
    "# import h5rdmtoolbox as h5tbx\n",
    "# h5tbx.set_config(natural_naming=False)\n",
    "\n",
    "# with h5tbx.File() as h5:\n",
    "#     piv_software.dump_hdf(h5)\n",
    "#     h5.dump()\n",
    "#\n",
    "# print(piv_software.dump_jsonld())"
   ]
  },
  {
   "cell_type": "markdown",
   "id": "faac78e5-65fe-44f4-8950-9d4c6f2dd46c",
   "metadata": {},
   "source": [
    "## Processing steps\n",
    "\n",
    "A `PivProcessingStep` class is provided in order to distinguish the processing step from others. Some methods are provided as classes but without specific properties. This is done to provide flexibility, as all methods can be standardized. However, by introducing **standard names**, the authors may narrow their parameter definitions either by using global standard names (with an IRI) or within their project.\n",
    "\n",
    "*TODO: Put here an image illustrating the possibilities*\n",
    "\n",
    "By using standard names, important parameters can be identified unambiguously. See `PIVMETA.image_filter_kernel_size` in the example in contrast to the 180° image rotation."
   ]
  },
  {
   "cell_type": "markdown",
   "id": "da19c623-fd59-4936-b702-d94c601ebffb",
   "metadata": {},
   "source": [
    "### 1. Pre-Processing (Image processing)\n",
    "\n",
    "Methods:\n",
    "- image rotation by 180 deg"
   ]
  },
  {
   "cell_type": "code",
   "execution_count": 9,
   "id": "27665a5d-a23a-4f3b-b85f-6965d92ee703",
   "metadata": {},
   "outputs": [],
   "source": [
    "from ontolutils import PIVMETA"
   ]
  },
  {
   "cell_type": "code",
   "execution_count": 10,
   "id": "8bcde2fb-ddf5-4520-a151-a71bd4f184f5",
   "metadata": {},
   "outputs": [
    {
     "data": {
      "text/html": [
       "PivPreProcessing(realizesMethod=[Method(description=Rotates the input image by 180 deg, parameter=NumericalVariable(value=180, unit=deg, quantity_kind=https://qudt.org/vocab/unit/DEG, name=rotation)), Method(description=Applies a median filter to the image, hasParameter=NumericalVariable(value=3, standard_name=https://matthiasprobst.github.io/pivmeta#image_filter_kernel_size))])"
      ],
      "text/plain": [
       "PivPreProcessing(realizesMethod=[Method(description=Rotates the input image by 180 deg, parameter=NumericalVariable(value=180, unit=deg, quantity_kind=https://qudt.org/vocab/unit/DEG, name=rotation)), Method(description=Applies a median filter to the image, hasParameter=NumericalVariable(value=3, standard_name=https://matthiasprobst.github.io/pivmeta#image_filter_kernel_size))], name=Image pre processing)"
      ]
     },
     "execution_count": 10,
     "metadata": {},
     "output_type": "execute_result"
    }
   ],
   "source": [
    "pre = pivmeta.PivPreProcessing(\n",
    "    name='Image pre processing',\n",
    "    realizesMethod=[\n",
    "        m4i.Method(\n",
    "            description='Rotates the input image by 180 deg',\n",
    "            parameter=m4i.NumericalVariable(\n",
    "                name='rotation',\n",
    "                value=180,\n",
    "                unit='deg',\n",
    "                quantity_kind='https://qudt.org/vocab/unit/DEG'\n",
    "            )\n",
    "        ),\n",
    "        # Dont define all the classes for filters and outlier detection because everybody may define it differently.\n",
    "        # common parameters can be specified \"on demand\" by standard names like so: \n",
    "        m4i.Method(\n",
    "            description='Applies a median filter to the image',\n",
    "            hasParameter=pivmeta.NumericalVariable(\n",
    "                standard_name=PIVMETA.image_filter_kernel_size,\n",
    "                value=3,\n",
    "            )\n",
    "        )\n",
    "    ]\n",
    ")\n",
    "pre"
   ]
  },
  {
   "cell_type": "markdown",
   "id": "473b212f-f571-427e-92f1-b301961b75d1",
   "metadata": {},
   "source": [
    "## 2. PIV evaluation\n",
    "\n",
    "The PIV evaluation is a `m4i:ProcessingStep`. It realizes the methods\n",
    "- `pivemta:CorrelationMethod` (e.g. FFT, ... ),\n",
    "- `pivemta:InterrogationMethod` (e.g. `pivemta:Multigrid`, ...) and\n",
    "- `pivemta:PeakSearchMethod`.\n",
    "\n",
    "The outlier detection (validation) is a sub-processing step (`pivemta:PivValidation`), because it can realize multiple methods. Most popular ones are described by classes:\n",
    "- `pivemta:DynMean`.\n",
    "\n",
    "Here, a multigrid evaluation is performed using standard FFT."
   ]
  },
  {
   "cell_type": "markdown",
   "id": "df6461be-e23c-4688-8f46-e9c3d3786882",
   "metadata": {},
   "source": [
    "### 2.1 Correlation algorithm\n",
    "\n",
    "The correlation algorithm is a subclass of `m4i:Method`. At least a name and description should be provided (here, taken from the documentation). We could also provide parameters."
   ]
  },
  {
   "cell_type": "code",
   "execution_count": 11,
   "id": "7447a632-4fa7-41e9-95d1-be5386a5bccc",
   "metadata": {},
   "outputs": [
    {
     "name": "stdout",
     "output_type": "stream",
     "text": [
      "{\n",
      "    \"@context\": {\n",
      "        \"owl\": \"http://www.w3.org/2002/07/owl#\",\n",
      "        \"rdfs\": \"http://www.w3.org/2000/01/rdf-schema#\",\n",
      "        \"m4i\": \"http://w3id.org/nfdi4ing/metadata4ing#\",\n",
      "        \"schema\": \"https://schema.org/\",\n",
      "        \"pivmeta\": \"https://matthiasprobst.github.io/pivmeta#\"\n",
      "    },\n",
      "    \"@type\": \"pivmeta:CorrelationMethod\",\n",
      "    \"schema:description\": \"The default mode of cross-correlation using FFTs to speed the computation. In principle the sum of pixel-wise multiplication of intensities is computed for each correlation offset (For implementation details please refer to Raffel et al. 2007).\",\n",
      "    \"pivmeta:windowWeightingFunction\": \"https://matthiasprobst.github.io/pivmeta#SquareWindowWeightingFunction\",\n",
      "    \"name\": \"Standard (FFT) Correlation\",\n",
      "    \"@id\": \"N68b6496319304d58b41b8fe9953a2343\"\n",
      "}\n"
     ]
    }
   ],
   "source": [
    "calgo = pivmeta.CorrelationMethod(\n",
    "    name='Standard (FFT) Correlation',\n",
    "    windowWeightingFunction='square',\n",
    "    description='The default mode of cross-correlation using FFTs to speed the computation. ' \n",
    "    'In principle the sum of pixel-wise multiplication of intensities is computed for each ' \n",
    "    'correlation offset (For implementation details please refer to Raffel et al. 2007).'\n",
    ")\n",
    "print(calgo.model_dump_jsonld())"
   ]
  },
  {
   "cell_type": "markdown",
   "id": "eb1f5c6b-d7ce-4502-b997-cc79e719d97f",
   "metadata": {},
   "source": [
    "### 2.2 Interrogation method\n",
    "\n",
    "In this example, a *Multi-Grid* method was used starting from a window with size 64 px down to 16 px in 3 steps"
   ]
  },
  {
   "cell_type": "code",
   "execution_count": 12,
   "id": "6045c0bd-448f-4285-ac9a-579b018cf734",
   "metadata": {},
   "outputs": [
    {
     "name": "stdout",
     "output_type": "stream",
     "text": [
      "{\n",
      "    \"@context\": {\n",
      "        \"owl\": \"http://www.w3.org/2002/07/owl#\",\n",
      "        \"rdfs\": \"http://www.w3.org/2000/01/rdf-schema#\",\n",
      "        \"m4i\": \"http://w3id.org/nfdi4ing/metadata4ing#\",\n",
      "        \"ssno\": \"https://matthiasprobst.github.io/ssno#\",\n",
      "        \"pivmeta\": \"https://matthiasprobst.github.io/pivmeta#\",\n",
      "        \"value\": \"http://w3id.org/nfdi4ing/metadata4ing#hasNumericalValue\",\n",
      "        \"standard_name\": \"https://matthiasprobst.github.io/pivmeta#hasStandardName\"\n",
      "    },\n",
      "    \"@type\": \"m4i:NumericalVariable\",\n",
      "    \"value\": 64,\n",
      "    \"standard_name\": \"https://matthiasprobst.github.io/pivmeta#x_initial_interrogation_window_size\",\n",
      "    \"@id\": \"Nd09e1aae6223414f9330045a20af93d4\"\n",
      "}\n"
     ]
    }
   ],
   "source": [
    "v = pivmeta.NumericalVariable(\n",
    "            standard_name=PIVMETA.x_initial_interrogation_window_size,\n",
    "            value=64,\n",
    "        )\n",
    "print(v.model_dump_jsonld(resolve_keys=False))"
   ]
  },
  {
   "cell_type": "code",
   "execution_count": 13,
   "id": "6eb9d495-a9b6-4c63-9e94-62680abb2620",
   "metadata": {},
   "outputs": [],
   "source": [
    "#print(v.dump_jsonld())"
   ]
  },
  {
   "cell_type": "code",
   "execution_count": 14,
   "id": "cf03a99e-133b-4ced-aab5-599eb3ef1472",
   "metadata": {},
   "outputs": [
    {
     "data": {
      "text/html": [
       "NumericalVariable(value=3)"
      ],
      "text/plain": [
       "NumericalVariable(value=3, description=Number of multigrid passes)"
      ]
     },
     "execution_count": 14,
     "metadata": {},
     "output_type": "execute_result"
    }
   ],
   "source": [
    "int_meth = m4i.Method(\n",
    "    name='Multigrid interrogation method',\n",
    "    description='Run a multigrid PIV algorithm on all images',\n",
    "    hasParameter=[\n",
    "        pivmeta.NumericalVariable(\n",
    "            standard_name=PIVMETA.x_initial_interrogation_window_size,\n",
    "            value=64,\n",
    "        ),\n",
    "        pivmeta.NumericalVariable(\n",
    "            standard_name=PIVMETA.y_initial_interrogation_window_size,\n",
    "            value=64,\n",
    "        ),\n",
    "        pivmeta.NumericalVariable(\n",
    "            standard_name=PIVMETA.x_final_interrogation_window_size,\n",
    "            value=16,\n",
    "        ),\n",
    "        pivmeta.NumericalVariable(\n",
    "            standard_name=PIVMETA.y_final_interrogation_window_size,\n",
    "            value=16,\n",
    "        ),\n",
    "        pivmeta.NumericalVariable(\n",
    "            standard_name=PIVMETA.x_final_interrogation_window_overlap_size,\n",
    "            value=8,\n",
    "        ),\n",
    "        pivmeta.NumericalVariable(\n",
    "            standard_name=PIVMETA.y_final_interrogation_window_overlap_size,\n",
    "            value=8,\n",
    "        ),\n",
    "        pivmeta.NumericalVariable(\n",
    "            # hasStandardName=PIVMETA.number_of_multigrid_passes,\n",
    "            description='Number of multigrid passes',\n",
    "            value=3,\n",
    "        )\n",
    "    ]\n",
    ")\n",
    "int_meth.hasParameter[-1]"
   ]
  },
  {
   "cell_type": "markdown",
   "id": "fce1e717-0e02-4f4a-bbb2-af411dc36db8",
   "metadata": {},
   "source": [
    "### 2.3 Outlier detection\n",
    "\n",
    "We use the following two methods for outlier detection:\n",
    "- normalized median test threshold: 3.0 (see DOI=https://doi.org/10.1007/s00348-005-0016-6)\n",
    "- dynamic mean test: mean=2.0, var=1.0"
   ]
  },
  {
   "cell_type": "code",
   "execution_count": 15,
   "id": "739aa70a-7dc0-4317-a814-f3c14b8e8727",
   "metadata": {},
   "outputs": [],
   "source": [
    "median_test = pivmeta.OutlierDetectionMethod(\n",
    "    name='normalized median test',\n",
    "    hasParameter=m4i.NumericalVariable(\n",
    "        label='threshold',\n",
    "        value=3.0\n",
    "    )\n",
    ")"
   ]
  },
  {
   "cell_type": "code",
   "execution_count": 16,
   "id": "5048b457-c0c7-4f01-a168-0805de557080",
   "metadata": {},
   "outputs": [],
   "source": [
    "dyn_mean = pivmeta.OutlierDetectionMethod(\n",
    "    name='dynamic mean test',\n",
    "    hasParameter=[\n",
    "        m4i.NumericalVariable(\n",
    "            label='mean',\n",
    "            value=2.0\n",
    "        ),\n",
    "        m4i.NumericalVariable(\n",
    "            label='var',\n",
    "            value=1.0\n",
    "        )\n",
    "    ]\n",
    ")"
   ]
  },
  {
   "cell_type": "code",
   "execution_count": 17,
   "id": "f1acbf4e-ee47-4d81-976e-990ba8af789c",
   "metadata": {},
   "outputs": [
    {
     "data": {
      "text/html": [
       "PivEvaluation(label=piv evaluation, realizesMethod=[CorrelationMethod(description=The default mode of cross-correlation using FFTs to speed the computation. In principle the sum of pixel-wise multiplication of intensities is computed for each correlation offset (For implementation details please refer to Raffel et al. 2007)., windowWeightingFunction=https://matthiasprobst.github.io/pivmeta#SquareWindowWeightingFunction, name=Standard (FFT) Correlation), Method(description=Run a multigrid PIV algorithm on all images, name=Multigrid interrogation method, hasParameter=[NumericalVariable(value=64, standard_name=https://matthiasprobst.github.io/pivmeta#x_initial_interrogation_window_size), NumericalVariable(value=64, standard_name=https://matthiasprobst.github.io/pivmeta#y_initial_interrogation_window_size), NumericalVariable(value=16, standard_name=https://matthiasprobst.github.io/pivmeta#x_final_interrogation_window_size), NumericalVariable(value=16, standard_name=https://matthiasprobst.github.io/pivmeta#y_final_interrogation_window_size), NumericalVariable(value=8, standard_name=https://matthiasprobst.github.io/pivmeta#x_final_interrogation_window_overlap_size), NumericalVariable(value=8, standard_name=https://matthiasprobst.github.io/pivmeta#y_final_interrogation_window_overlap_size), NumericalVariable(value=3, description=Number of multigrid passes)]), OutlierDetectionMethod(, name=normalized median test, hasParameter=NumericalVariable(label=threshold, value=3.0)), OutlierDetectionMethod(, name=dynamic mean test, hasParameter=[NumericalVariable(label=mean, value=2.0), NumericalVariable(label=var, value=1.0)])])"
      ],
      "text/plain": [
       "PivEvaluation(label=piv evaluation, realizesMethod=[CorrelationMethod(description=The default mode of cross-correlation using FFTs to speed the computation. In principle the sum of pixel-wise multiplication of intensities is computed for each correlation offset (For implementation details please refer to Raffel et al. 2007)., windowWeightingFunction=https://matthiasprobst.github.io/pivmeta#SquareWindowWeightingFunction, name=Standard (FFT) Correlation), Method(description=Run a multigrid PIV algorithm on all images, name=Multigrid interrogation method, hasParameter=[NumericalVariable(value=64, standard_name=https://matthiasprobst.github.io/pivmeta#x_initial_interrogation_window_size), NumericalVariable(value=64, standard_name=https://matthiasprobst.github.io/pivmeta#y_initial_interrogation_window_size), NumericalVariable(value=16, standard_name=https://matthiasprobst.github.io/pivmeta#x_final_interrogation_window_size), NumericalVariable(value=16, standard_name=https://matthiasprobst.github.io/pivmeta#y_final_interrogation_window_size), NumericalVariable(value=8, standard_name=https://matthiasprobst.github.io/pivmeta#x_final_interrogation_window_overlap_size), NumericalVariable(value=8, standard_name=https://matthiasprobst.github.io/pivmeta#y_final_interrogation_window_overlap_size), NumericalVariable(value=3, description=Number of multigrid passes)]), OutlierDetectionMethod(, name=normalized median test, hasParameter=NumericalVariable(label=threshold, value=3.0)), OutlierDetectionMethod(, name=dynamic mean test, hasParameter=[NumericalVariable(label=mean, value=2.0), NumericalVariable(label=var, value=1.0)])])"
      ]
     },
     "execution_count": 17,
     "metadata": {},
     "output_type": "execute_result"
    }
   ],
   "source": [
    "proc = pivmeta.PivEvaluation(\n",
    "    label='piv evaluation',\n",
    "    realizesMethod=[\n",
    "        calgo,\n",
    "        int_meth,\n",
    "        median_test,\n",
    "        dyn_mean\n",
    "    ]\n",
    ")\n",
    "proc"
   ]
  },
  {
   "cell_type": "code",
   "execution_count": 18,
   "id": "f708a8ea-8e34-40a1-8788-e36d282b52f6",
   "metadata": {},
   "outputs": [],
   "source": [
    "data_smoothing = m4i.Method(\n",
    "    name='Low-pass filtering',\n",
    "    description='applies a low-pass filtering on the data using a Gaussian weighted kernel of specified width to reduce spurious noise.',\n",
    "    parameter=m4i.NumericalVariable(label='kernel', value=2.0)\n",
    ")"
   ]
  },
  {
   "cell_type": "code",
   "execution_count": 19,
   "id": "c0aa9014-102f-4dba-9977-3a310ac1afd1",
   "metadata": {},
   "outputs": [
    {
     "data": {
      "text/plain": [
       "'{\\n    \"@context\": {\\n        \"owl\": \"http://www.w3.org/2002/07/owl#\",\\n        \"rdfs\": \"http://www.w3.org/2000/01/rdf-schema#\",\\n        \"m4i\": \"http://w3id.org/nfdi4ing/metadata4ing#\",\\n        \"schema\": \"https://schema.org/\",\\n        \"obo\": \"http://purl.obolibrary.org/obo/\",\\n        \"pivmeta\": \"https://matthiasprobst.github.io/pivmeta#\"\\n    },\\n    \"@type\": \"pivmeta:PivProcessingStep\",\\n    \"rdfs:label\": \"Post processing\",\\n    \"m4i:realizesMethod\": {\\n        \"@type\": \"m4i:Method\",\\n        \"schema:description\": \"applies a low-pass filtering on the data using a Gaussian weighted kernel of specified width to reduce spurious noise.\",\\n        \"m4i:hasParameter\": {\\n            \"@type\": \"m4i:NumericalVariable\",\\n            \"rdfs:label\": \"kernel\",\\n            \"m4i:hasNumericalValue\": 2.0,\\n            \"@id\": \"N4eaea58a4a4542489e4f8d915b8e07a4\"\\n        },\\n        \"name\": \"Low-pass filtering\",\\n        \"@id\": \"Na065edb9a306478bbb64ddfedb76828c\"\\n    },\\n    \"@id\": \"N1dcaa17681a747a1adcf6985ae54a5fb\"\\n}'"
      ]
     },
     "execution_count": 19,
     "metadata": {},
     "output_type": "execute_result"
    }
   ],
   "source": [
    "post = pivmeta.PivPostProcessing(\n",
    "    label='Post processing',\n",
    "    realizesMethod=data_smoothing\n",
    ")\n",
    "post.model_dump_jsonld()         "
   ]
  },
  {
   "cell_type": "markdown",
   "id": "f1809a68-1074-48e5-b047-85cf6f62a147",
   "metadata": {},
   "source": [
    "## 3. Creating the full Meta document (connect information)\n",
    "\n",
    "We created three processing steps:\n",
    "1. pre (takes raw images)\n",
    "2. proc\n",
    "3. post (outputs result data)\n"
   ]
  },
  {
   "cell_type": "code",
   "execution_count": 20,
   "id": "b4e4230c-aff3-4adb-bba0-24b33fad657c",
   "metadata": {},
   "outputs": [],
   "source": [
    "post.hasOutput = ds"
   ]
  },
  {
   "cell_type": "markdown",
   "id": "adc7dc2e-06f6-4500-9066-fa9ebc390429",
   "metadata": {},
   "source": [
    "## 4. dump PIV run to JSON-LD"
   ]
  },
  {
   "cell_type": "code",
   "execution_count": 21,
   "id": "355ccc0f-79f9-4068-9aef-3b72aadf9dad",
   "metadata": {},
   "outputs": [],
   "source": [
    "piv = m4i.ProcessingStep(\n",
    "    label='PIV Run',\n",
    "    startsWith=pre,\n",
    "    endsWith=post\n",
    ")\n",
    "# proc.part_of = piv\n",
    "pre.precedes = proc\n",
    "proc.precedes = post\n",
    "\n",
    "# all processing steps were employed by software pivview:\n",
    "pre.has_employed_tool = piv_software\n",
    "proc.has_employed_tool = piv_software\n",
    "post.has_employed_tool = piv_software"
   ]
  },
  {
   "cell_type": "code",
   "execution_count": 22,
   "id": "7fd17b7e-68fb-4b75-8f0d-16b63bbe39ab",
   "metadata": {},
   "outputs": [
    {
     "name": "stdout",
     "output_type": "stream",
     "text": [
      "{\n",
      "    \"@context\": {\n",
      "        \"owl\": \"http://www.w3.org/2002/07/owl#\",\n",
      "        \"rdfs\": \"http://www.w3.org/2000/01/rdf-schema#\",\n",
      "        \"m4i\": \"http://w3id.org/nfdi4ing/metadata4ing#\",\n",
      "        \"schema\": \"https://schema.org/\",\n",
      "        \"obo\": \"http://purl.obolibrary.org/obo/\",\n",
      "        \"pivmeta\": \"https://matthiasprobst.github.io/pivmeta#\",\n",
      "        \"ssno\": \"https://matthiasprobst.github.io/ssno#\",\n",
      "        \"dcat\": \"http://www.w3.org/ns/dcat#\",\n",
      "        \"dcterms\": \"http://purl.org/dc/terms/\",\n",
      "        \"prov\": \"http://www.w3.org/ns/prov#\",\n",
      "        \"sd\": \"https://w3id.org/okn/o/sd#\",\n",
      "        \"foaf\": \"http://xmlns.com/foaf/0.1/\"\n",
      "    },\n",
      "    \"@type\": \"pivmeta:PivPostProcessing\",\n",
      "    \"m4i:realizesMethod\": [\n",
      "        {\n",
      "            \"@type\": \"m4i:Method\",\n",
      "            \"schema:description\": \"Rotates the input image by 180 deg\",\n",
      "            \"m4i:hasParameter\": {\n",
      "                \"@type\": \"m4i:NumericalVariable\",\n",
      "                \"m4i:hasNumericalValue\": 180,\n",
      "                \"m4i:hasUnit\": \"deg\",\n",
      "                \"m4i:hasKindOfQuantity\": \"https://qudt.org/vocab/unit/DEG\",\n",
      "                \"name\": \"rotation\",\n",
      "                \"@id\": \"Nf793cbf3351845e98bc7758291f0d74d\"\n",
      "            },\n",
      "            \"@id\": \"Nb92b57f6bc2b4059ae1686ea1b49a72e\"\n",
      "        },\n",
      "        {\n",
      "            \"@type\": \"m4i:Method\",\n",
      "            \"schema:description\": \"Applies a median filter to the image\",\n",
      "            \"hasParameter\": {\n",
      "                \"@type\": \"m4i:NumericalVariable\",\n",
      "                \"m4i:hasNumericalValue\": 3,\n",
      "                \"pivmeta:hasStandardName\": \"https://matthiasprobst.github.io/pivmeta#image_filter_kernel_size\",\n",
      "                \"@id\": \"N7d05a2f9a596487787d85bf71ebdd865\"\n",
      "            },\n",
      "            \"@id\": \"N81e4c7a7250b4756ad5772d40c2dfe6c\"\n",
      "        }\n",
      "    ],\n",
      "    \"m4i:precedes\": {\n",
      "        \"@type\": \"pivmeta:PIVEvaluation\",\n",
      "        \"rdfs:label\": \"piv evaluation\",\n",
      "        \"m4i:realizesMethod\": [\n",
      "            {\n",
      "                \"@type\": \"pivmeta:CorrelationMethod\",\n",
      "                \"schema:description\": \"The default mode of cross-correlation using FFTs to speed the computation. In principle the sum of pixel-wise multiplication of intensities is computed for each correlation offset (For implementation details please refer to Raffel et al. 2007).\",\n",
      "                \"pivmeta:windowWeightingFunction\": \"https://matthiasprobst.github.io/pivmeta#SquareWindowWeightingFunction\",\n",
      "                \"name\": \"Standard (FFT) Correlation\",\n",
      "                \"@id\": \"Nfb7488e7758e48adb5d4aff69cde4654\"\n",
      "            },\n",
      "            {\n",
      "                \"@type\": \"m4i:Method\",\n",
      "                \"schema:description\": \"Run a multigrid PIV algorithm on all images\",\n",
      "                \"name\": \"Multigrid interrogation method\",\n",
      "                \"hasParameter\": [\n",
      "                    {\n",
      "                        \"@type\": \"m4i:NumericalVariable\",\n",
      "                        \"m4i:hasNumericalValue\": 64,\n",
      "                        \"pivmeta:hasStandardName\": \"https://matthiasprobst.github.io/pivmeta#x_initial_interrogation_window_size\",\n",
      "                        \"@id\": \"N7345f3ae8af34a5fb1ec9bd8a096ebef\"\n",
      "                    },\n",
      "                    {\n",
      "                        \"@type\": \"m4i:NumericalVariable\",\n",
      "                        \"m4i:hasNumericalValue\": 64,\n",
      "                        \"pivmeta:hasStandardName\": \"https://matthiasprobst.github.io/pivmeta#y_initial_interrogation_window_size\",\n",
      "                        \"@id\": \"N3fd43214905e4efc83c59bd69b8206d2\"\n",
      "                    },\n",
      "                    {\n",
      "                        \"@type\": \"m4i:NumericalVariable\",\n",
      "                        \"m4i:hasNumericalValue\": 16,\n",
      "                        \"pivmeta:hasStandardName\": \"https://matthiasprobst.github.io/pivmeta#x_final_interrogation_window_size\",\n",
      "                        \"@id\": \"N799e2888fe344da397a1f2d0fc5e32fa\"\n",
      "                    },\n",
      "                    {\n",
      "                        \"@type\": \"m4i:NumericalVariable\",\n",
      "                        \"m4i:hasNumericalValue\": 16,\n",
      "                        \"pivmeta:hasStandardName\": \"https://matthiasprobst.github.io/pivmeta#y_final_interrogation_window_size\",\n",
      "                        \"@id\": \"N7d09965659104ffab5563540232caad0\"\n",
      "                    },\n",
      "                    {\n",
      "                        \"@type\": \"m4i:NumericalVariable\",\n",
      "                        \"m4i:hasNumericalValue\": 8,\n",
      "                        \"pivmeta:hasStandardName\": \"https://matthiasprobst.github.io/pivmeta#x_final_interrogation_window_overlap_size\",\n",
      "                        \"@id\": \"Nbfa89c8470574452ad1c2504f2f41058\"\n",
      "                    },\n",
      "                    {\n",
      "                        \"@type\": \"m4i:NumericalVariable\",\n",
      "                        \"m4i:hasNumericalValue\": 8,\n",
      "                        \"pivmeta:hasStandardName\": \"https://matthiasprobst.github.io/pivmeta#y_final_interrogation_window_overlap_size\",\n",
      "                        \"@id\": \"N33ce8976ce06439a95fc1628cff7f719\"\n",
      "                    },\n",
      "                    {\n",
      "                        \"@type\": \"m4i:NumericalVariable\",\n",
      "                        \"m4i:hasNumericalValue\": 3,\n",
      "                        \"description\": \"Number of multigrid passes\",\n",
      "                        \"@id\": \"N440ac6975caa4ef9a5e2d858a9ca93a1\"\n",
      "                    }\n",
      "                ],\n",
      "                \"@id\": \"Nb0559775d0034cf2b5897ac26fbf0e2f\"\n",
      "            },\n",
      "            {\n",
      "                \"@type\": \"pivmeta:OutlierDetectionMethod\",\n",
      "                \"name\": \"normalized median test\",\n",
      "                \"hasParameter\": {\n",
      "                    \"@type\": \"m4i:NumericalVariable\",\n",
      "                    \"rdfs:label\": \"threshold\",\n",
      "                    \"m4i:hasNumericalValue\": 3.0,\n",
      "                    \"@id\": \"N805f05ed508e4e0ba3dcd412308607c5\"\n",
      "                },\n",
      "                \"@id\": \"N697cf00a6b364a67a83e883ef29de5c2\"\n",
      "            },\n",
      "            {\n",
      "                \"@type\": \"pivmeta:OutlierDetectionMethod\",\n",
      "                \"name\": \"dynamic mean test\",\n",
      "                \"hasParameter\": [\n",
      "                    {\n",
      "                        \"@type\": \"m4i:NumericalVariable\",\n",
      "                        \"rdfs:label\": \"mean\",\n",
      "                        \"m4i:hasNumericalValue\": 2.0,\n",
      "                        \"@id\": \"N41cb5260ea494ffd90c1be5eba930c84\"\n",
      "                    },\n",
      "                    {\n",
      "                        \"@type\": \"m4i:NumericalVariable\",\n",
      "                        \"rdfs:label\": \"var\",\n",
      "                        \"m4i:hasNumericalValue\": 1.0,\n",
      "                        \"@id\": \"N27ce631ab1fc45e0a7bb173262b0cbe6\"\n",
      "                    }\n",
      "                ],\n",
      "                \"@id\": \"N1e543b5feddb49d5b778b1cd89c71679\"\n",
      "            }\n",
      "        ],\n",
      "        \"m4i:precedes\": {\n",
      "            \"@type\": \"pivmeta:PivProcessingStep\",\n",
      "            \"rdfs:label\": \"Post processing\",\n",
      "            \"m4i:realizesMethod\": {\n",
      "                \"@type\": \"m4i:Method\",\n",
      "                \"schema:description\": \"applies a low-pass filtering on the data using a Gaussian weighted kernel of specified width to reduce spurious noise.\",\n",
      "                \"m4i:hasParameter\": {\n",
      "                    \"@type\": \"m4i:NumericalVariable\",\n",
      "                    \"rdfs:label\": \"kernel\",\n",
      "                    \"m4i:hasNumericalValue\": 2.0,\n",
      "                    \"@id\": \"N627c315435d84fe586ee82c45a07780f\"\n",
      "                },\n",
      "                \"name\": \"Low-pass filtering\",\n",
      "                \"@id\": \"N3cc26ac71f5945aa8f5b70a4b9bcdd23\"\n",
      "            },\n",
      "            \"m4i:hasOutput\": {\n",
      "                \"@type\": \"dcat:Dataset\",\n",
      "                \"dcterms:title\": \"ILA Vortex Pair\",\n",
      "                \"dcat:distribution\": [\n",
      "                    {\n",
      "                        \"@type\": \"pivmeta:PivResultDistribution\",\n",
      "                        \"dcterms:title\": \"Result File\",\n",
      "                        \"dcat:downloadURL\": \"file:///vp1a.dat\",\n",
      "                        \"@id\": \"N58f4a869cd6244f3a2597c1d95681945\"\n",
      "                    },\n",
      "                    {\n",
      "                        \"@type\": \"pivmeta:PivImageDistribution\",\n",
      "                        \"dcterms:title\": \"ILA Vortex Pair Images\",\n",
      "                        \"download_URL\": \"https://www.pivtec.com/download/samples/pivimg1.zip\",\n",
      "                        \"piv_image_type\": \"PivImageType.ExperimentalImage\",\n",
      "                        \"@id\": \"N89833ee827e346dbb7a88face72cac65\"\n",
      "                    }\n",
      "                ],\n",
      "                \"@id\": \"N7178ea351bfd488393e20af6d991d037\"\n",
      "            },\n",
      "            \"has_employed_tool\": {\n",
      "                \"@type\": \"pivmeta:PIVSoftware\",\n",
      "                \"schema:author\": {\n",
      "                    \"@type\": \"prov:Organization\",\n",
      "                    \"foaf:mbox\": \"info@pivtec.com\",\n",
      "                    \"foaf:name\": \"PIVTEC GmbH\",\n",
      "                    \"schema:url\": \"https://www.pivtec.com/\",\n",
      "                    \"@id\": \"Ne18344d04ec04a3ba6c9c892bb864034\"\n",
      "                },\n",
      "                \"sd:hasDocumentation\": \"https://www.pivtec.com/download/docs/PIVview_v36_Manual.pdf\",\n",
      "                \"@id\": \"N851b79b921a94a1b9688be300a591f25\"\n",
      "            },\n",
      "            \"@id\": \"Nec6a6d1affac42e9add6c099b67b5bf2\"\n",
      "        },\n",
      "        \"has_employed_tool\": {\n",
      "            \"@type\": \"pivmeta:PIVSoftware\",\n",
      "            \"schema:author\": {\n",
      "                \"@type\": \"prov:Organization\",\n",
      "                \"foaf:mbox\": \"info@pivtec.com\",\n",
      "                \"foaf:name\": \"PIVTEC GmbH\",\n",
      "                \"schema:url\": \"https://www.pivtec.com/\",\n",
      "                \"@id\": \"Ned7e9a05e48740dd8ba0c3e9e9f02ad9\"\n",
      "            },\n",
      "            \"sd:hasDocumentation\": \"https://www.pivtec.com/download/docs/PIVview_v36_Manual.pdf\",\n",
      "            \"@id\": \"Ne57ea45a300c47d19e5dc4227fe9f80e\"\n",
      "        },\n",
      "        \"@id\": \"N1e0942e2816e4485a604278d25187010\"\n",
      "    },\n",
      "    \"name\": \"Image pre processing\",\n",
      "    \"has_employed_tool\": {\n",
      "        \"@type\": \"pivmeta:PIVSoftware\",\n",
      "        \"schema:author\": {\n",
      "            \"@type\": \"prov:Organization\",\n",
      "            \"foaf:mbox\": \"info@pivtec.com\",\n",
      "            \"foaf:name\": \"PIVTEC GmbH\",\n",
      "            \"schema:url\": \"https://www.pivtec.com/\",\n",
      "            \"@id\": \"Ne3c6147269b04b1aa2e33070c4a09248\"\n",
      "        },\n",
      "        \"sd:hasDocumentation\": \"https://www.pivtec.com/download/docs/PIVview_v36_Manual.pdf\",\n",
      "        \"@id\": \"N9f6c54489ce845a4b7406d58d6494bfb\"\n",
      "    },\n",
      "    \"@id\": \"Nc6f8b5d33f6b46b1baa1a6e74e4ae5ba\"\n",
      "}\n"
     ]
    }
   ],
   "source": [
    "print(pre.model_dump_jsonld())"
   ]
  },
  {
   "cell_type": "code",
   "execution_count": 23,
   "id": "0cbb3eae-3c90-489f-8311-fa159e3e488c",
   "metadata": {},
   "outputs": [],
   "source": [
    "with open('piv_process.json', 'w') as f:\n",
    "    f.write(proc.model_dump_jsonld())"
   ]
  },
  {
   "cell_type": "code",
   "execution_count": 24,
   "id": "73935d8b-9949-4bf9-b56d-c71940ba9bec",
   "metadata": {},
   "outputs": [
    {
     "name": "stdout",
     "output_type": "stream",
     "text": [
      "{\n",
      "    \"@context\": {\n",
      "        \"owl\": \"http://www.w3.org/2002/07/owl#\",\n",
      "        \"rdfs\": \"http://www.w3.org/2000/01/rdf-schema#\",\n",
      "        \"m4i\": \"http://w3id.org/nfdi4ing/metadata4ing#\",\n",
      "        \"schema\": \"https://schema.org/\",\n",
      "        \"obo\": \"http://purl.obolibrary.org/obo/\",\n",
      "        \"@import\": \"https://raw.githubusercontent.com/matthiasprobst/pivmeta/main/pivmeta_context.jsonld\",\n",
      "        \"pivmeta\": \"https://matthiasprobst.github.io/pivmeta#\",\n",
      "        \"ssno\": \"https://matthiasprobst.github.io/ssno#\",\n",
      "        \"dcat\": \"http://www.w3.org/ns/dcat#\",\n",
      "        \"dcterms\": \"http://purl.org/dc/terms/\",\n",
      "        \"prov\": \"http://www.w3.org/ns/prov#\",\n",
      "        \"sd\": \"https://w3id.org/okn/o/sd#\",\n",
      "        \"foaf\": \"http://xmlns.com/foaf/0.1/\"\n",
      "    },\n",
      "    \"@type\": \"m4i:ProcessingStep\",\n",
      "    \"rdfs:label\": \"PIV Run\",\n",
      "    \"startsWith\": {\n",
      "        \"@type\": \"pivmeta:PivPostProcessing\",\n",
      "        \"m4i:realizesMethod\": [\n",
      "            {\n",
      "                \"@type\": \"m4i:Method\",\n",
      "                \"schema:description\": \"Rotates the input image by 180 deg\",\n",
      "                \"m4i:hasParameter\": {\n",
      "                    \"@type\": \"m4i:NumericalVariable\",\n",
      "                    \"m4i:hasNumericalValue\": 180,\n",
      "                    \"m4i:hasUnit\": \"deg\",\n",
      "                    \"m4i:hasKindOfQuantity\": \"https://qudt.org/vocab/unit/DEG\",\n",
      "                    \"name\": \"rotation\",\n",
      "                    \"@id\": \"Ncd6d4e25ae824eedb61078c3f2149423\"\n",
      "                },\n",
      "                \"@id\": \"Nd97728d0d7f2497ca210117a9f36e140\"\n",
      "            },\n",
      "            {\n",
      "                \"@type\": \"m4i:Method\",\n",
      "                \"schema:description\": \"Applies a median filter to the image\",\n",
      "                \"hasParameter\": {\n",
      "                    \"@type\": \"m4i:NumericalVariable\",\n",
      "                    \"m4i:hasNumericalValue\": 3,\n",
      "                    \"pivmeta:hasStandardName\": \"https://matthiasprobst.github.io/pivmeta#image_filter_kernel_size\",\n",
      "                    \"@id\": \"N6b43c3eba05a4c46b34882dfd45cb829\"\n",
      "                },\n",
      "                \"@id\": \"N95ddcc55a11c4157b91c526ffeec7c29\"\n",
      "            }\n",
      "        ],\n",
      "        \"m4i:precedes\": {\n",
      "            \"@type\": \"pivmeta:PIVEvaluation\",\n",
      "            \"rdfs:label\": \"piv evaluation\",\n",
      "            \"m4i:realizesMethod\": [\n",
      "                {\n",
      "                    \"@type\": \"pivmeta:CorrelationMethod\",\n",
      "                    \"schema:description\": \"The default mode of cross-correlation using FFTs to speed the computation. In principle the sum of pixel-wise multiplication of intensities is computed for each correlation offset (For implementation details please refer to Raffel et al. 2007).\",\n",
      "                    \"pivmeta:windowWeightingFunction\": \"https://matthiasprobst.github.io/pivmeta#SquareWindowWeightingFunction\",\n",
      "                    \"name\": \"Standard (FFT) Correlation\",\n",
      "                    \"@id\": \"Ne0903e8c4d2d4696963dea3cdca31d95\"\n",
      "                },\n",
      "                {\n",
      "                    \"@type\": \"m4i:Method\",\n",
      "                    \"schema:description\": \"Run a multigrid PIV algorithm on all images\",\n",
      "                    \"name\": \"Multigrid interrogation method\",\n",
      "                    \"hasParameter\": [\n",
      "                        {\n",
      "                            \"@type\": \"m4i:NumericalVariable\",\n",
      "                            \"m4i:hasNumericalValue\": 64,\n",
      "                            \"pivmeta:hasStandardName\": \"https://matthiasprobst.github.io/pivmeta#x_initial_interrogation_window_size\",\n",
      "                            \"@id\": \"Nac1b2e859c904c8aaf52e1e8fa0f69aa\"\n",
      "                        },\n",
      "                        {\n",
      "                            \"@type\": \"m4i:NumericalVariable\",\n",
      "                            \"m4i:hasNumericalValue\": 64,\n",
      "                            \"pivmeta:hasStandardName\": \"https://matthiasprobst.github.io/pivmeta#y_initial_interrogation_window_size\",\n",
      "                            \"@id\": \"N39669976dcda4dfda632239047bbd2bf\"\n",
      "                        },\n",
      "                        {\n",
      "                            \"@type\": \"m4i:NumericalVariable\",\n",
      "                            \"m4i:hasNumericalValue\": 16,\n",
      "                            \"pivmeta:hasStandardName\": \"https://matthiasprobst.github.io/pivmeta#x_final_interrogation_window_size\",\n",
      "                            \"@id\": \"Nd0a0786950d24b3aa16f4404e1cc5ac1\"\n",
      "                        },\n",
      "                        {\n",
      "                            \"@type\": \"m4i:NumericalVariable\",\n",
      "                            \"m4i:hasNumericalValue\": 16,\n",
      "                            \"pivmeta:hasStandardName\": \"https://matthiasprobst.github.io/pivmeta#y_final_interrogation_window_size\",\n",
      "                            \"@id\": \"N78957a3922e44348a53b154d353f2887\"\n",
      "                        },\n",
      "                        {\n",
      "                            \"@type\": \"m4i:NumericalVariable\",\n",
      "                            \"m4i:hasNumericalValue\": 8,\n",
      "                            \"pivmeta:hasStandardName\": \"https://matthiasprobst.github.io/pivmeta#x_final_interrogation_window_overlap_size\",\n",
      "                            \"@id\": \"N0f4f3c7d2e6d4af19b0a438462c1b32d\"\n",
      "                        },\n",
      "                        {\n",
      "                            \"@type\": \"m4i:NumericalVariable\",\n",
      "                            \"m4i:hasNumericalValue\": 8,\n",
      "                            \"pivmeta:hasStandardName\": \"https://matthiasprobst.github.io/pivmeta#y_final_interrogation_window_overlap_size\",\n",
      "                            \"@id\": \"Nf212fd51bb6444efb774b3c528e1dd43\"\n",
      "                        },\n",
      "                        {\n",
      "                            \"@type\": \"m4i:NumericalVariable\",\n",
      "                            \"m4i:hasNumericalValue\": 3,\n",
      "                            \"description\": \"Number of multigrid passes\",\n",
      "                            \"@id\": \"N63f05779dae5485ba60ccbf0b5911c8c\"\n",
      "                        }\n",
      "                    ],\n",
      "                    \"@id\": \"N2da4ed4e78054c408c3cc23820eb7150\"\n",
      "                },\n",
      "                {\n",
      "                    \"@type\": \"pivmeta:OutlierDetectionMethod\",\n",
      "                    \"name\": \"normalized median test\",\n",
      "                    \"hasParameter\": {\n",
      "                        \"@type\": \"m4i:NumericalVariable\",\n",
      "                        \"rdfs:label\": \"threshold\",\n",
      "                        \"m4i:hasNumericalValue\": 3.0,\n",
      "                        \"@id\": \"N73e2ae4310124848aba73a6b9d00a094\"\n",
      "                    },\n",
      "                    \"@id\": \"N2c96ed9b53884e0fbe45236b64125b99\"\n",
      "                },\n",
      "                {\n",
      "                    \"@type\": \"pivmeta:OutlierDetectionMethod\",\n",
      "                    \"name\": \"dynamic mean test\",\n",
      "                    \"hasParameter\": [\n",
      "                        {\n",
      "                            \"@type\": \"m4i:NumericalVariable\",\n",
      "                            \"rdfs:label\": \"mean\",\n",
      "                            \"m4i:hasNumericalValue\": 2.0,\n",
      "                            \"@id\": \"N6f2fd272e6af48f88470ea5eb71c64a2\"\n",
      "                        },\n",
      "                        {\n",
      "                            \"@type\": \"m4i:NumericalVariable\",\n",
      "                            \"rdfs:label\": \"var\",\n",
      "                            \"m4i:hasNumericalValue\": 1.0,\n",
      "                            \"@id\": \"Ne2d7e8184d17435aa1d517f57e69683f\"\n",
      "                        }\n",
      "                    ],\n",
      "                    \"@id\": \"N0e8fe067a8aa4dc79de34f63c77041cd\"\n",
      "                }\n",
      "            ],\n",
      "            \"m4i:precedes\": {\n",
      "                \"@type\": \"pivmeta:PivProcessingStep\",\n",
      "                \"rdfs:label\": \"Post processing\",\n",
      "                \"m4i:realizesMethod\": {\n",
      "                    \"@type\": \"m4i:Method\",\n",
      "                    \"schema:description\": \"applies a low-pass filtering on the data using a Gaussian weighted kernel of specified width to reduce spurious noise.\",\n",
      "                    \"m4i:hasParameter\": {\n",
      "                        \"@type\": \"m4i:NumericalVariable\",\n",
      "                        \"rdfs:label\": \"kernel\",\n",
      "                        \"m4i:hasNumericalValue\": 2.0,\n",
      "                        \"@id\": \"Nbd2701afbfc94f3c90d3a379584c2b53\"\n",
      "                    },\n",
      "                    \"name\": \"Low-pass filtering\",\n",
      "                    \"@id\": \"N0101f3e66745414da83284e1b59964c9\"\n",
      "                },\n",
      "                \"m4i:hasOutput\": {\n",
      "                    \"@type\": \"dcat:Dataset\",\n",
      "                    \"dcterms:title\": \"ILA Vortex Pair\",\n",
      "                    \"dcat:distribution\": [\n",
      "                        {\n",
      "                            \"@type\": \"pivmeta:PivResultDistribution\",\n",
      "                            \"dcterms:title\": \"Result File\",\n",
      "                            \"dcat:downloadURL\": \"file:///vp1a.dat\",\n",
      "                            \"@id\": \"N47f6a6c233fe473aa068eca03fc30f0e\"\n",
      "                        },\n",
      "                        {\n",
      "                            \"@type\": \"pivmeta:PivImageDistribution\",\n",
      "                            \"dcterms:title\": \"ILA Vortex Pair Images\",\n",
      "                            \"download_URL\": \"https://www.pivtec.com/download/samples/pivimg1.zip\",\n",
      "                            \"piv_image_type\": \"PivImageType.ExperimentalImage\",\n",
      "                            \"@id\": \"N45b4401f9d0c4374ba3419de316ecb0e\"\n",
      "                        }\n",
      "                    ],\n",
      "                    \"@id\": \"N0a58bbdfbee24dabb41fbf72386d5530\"\n",
      "                },\n",
      "                \"has_employed_tool\": {\n",
      "                    \"@type\": \"pivmeta:PIVSoftware\",\n",
      "                    \"schema:author\": {\n",
      "                        \"@type\": \"prov:Organization\",\n",
      "                        \"foaf:mbox\": \"info@pivtec.com\",\n",
      "                        \"foaf:name\": \"PIVTEC GmbH\",\n",
      "                        \"schema:url\": \"https://www.pivtec.com/\",\n",
      "                        \"@id\": \"N322f61ce3cd644eab0dce9c8110316d6\"\n",
      "                    },\n",
      "                    \"sd:hasDocumentation\": \"https://www.pivtec.com/download/docs/PIVview_v36_Manual.pdf\",\n",
      "                    \"@id\": \"N469e71799c1d4cbc838f18323ec9feb7\"\n",
      "                },\n",
      "                \"@id\": \"N0a4bac0e75b44f82b9f84ce8997dabbb\"\n",
      "            },\n",
      "            \"has_employed_tool\": {\n",
      "                \"@type\": \"pivmeta:PIVSoftware\",\n",
      "                \"schema:author\": {\n",
      "                    \"@type\": \"prov:Organization\",\n",
      "                    \"foaf:mbox\": \"info@pivtec.com\",\n",
      "                    \"foaf:name\": \"PIVTEC GmbH\",\n",
      "                    \"schema:url\": \"https://www.pivtec.com/\",\n",
      "                    \"@id\": \"Nef899f536c9b421092c727cb59e4ab04\"\n",
      "                },\n",
      "                \"sd:hasDocumentation\": \"https://www.pivtec.com/download/docs/PIVview_v36_Manual.pdf\",\n",
      "                \"@id\": \"N27701935ef9f40deb9e69eeafece50b2\"\n",
      "            },\n",
      "            \"@id\": \"N97156426a15449089c5080203661baaa\"\n",
      "        },\n",
      "        \"name\": \"Image pre processing\",\n",
      "        \"has_employed_tool\": {\n",
      "            \"@type\": \"pivmeta:PIVSoftware\",\n",
      "            \"schema:author\": {\n",
      "                \"@type\": \"prov:Organization\",\n",
      "                \"foaf:mbox\": \"info@pivtec.com\",\n",
      "                \"foaf:name\": \"PIVTEC GmbH\",\n",
      "                \"schema:url\": \"https://www.pivtec.com/\",\n",
      "                \"@id\": \"N0475541a5f6a4f89b66cc6553ca22b95\"\n",
      "            },\n",
      "            \"sd:hasDocumentation\": \"https://www.pivtec.com/download/docs/PIVview_v36_Manual.pdf\",\n",
      "            \"@id\": \"N87798b037ce44ad7b1a9dc248bc00ac6\"\n",
      "        },\n",
      "        \"@id\": \"Nc0d1956193f5475bbad7e678cdd2e72e\"\n",
      "    },\n",
      "    \"endsWith\": {\n",
      "        \"@type\": \"pivmeta:PivProcessingStep\",\n",
      "        \"rdfs:label\": \"Post processing\",\n",
      "        \"m4i:realizesMethod\": {\n",
      "            \"@type\": \"m4i:Method\",\n",
      "            \"schema:description\": \"applies a low-pass filtering on the data using a Gaussian weighted kernel of specified width to reduce spurious noise.\",\n",
      "            \"m4i:hasParameter\": {\n",
      "                \"@type\": \"m4i:NumericalVariable\",\n",
      "                \"rdfs:label\": \"kernel\",\n",
      "                \"m4i:hasNumericalValue\": 2.0,\n",
      "                \"@id\": \"N83d734d9bd004400bbd82136ec1cb78f\"\n",
      "            },\n",
      "            \"name\": \"Low-pass filtering\",\n",
      "            \"@id\": \"N0e84597854764825bc4c9408312958d9\"\n",
      "        },\n",
      "        \"m4i:hasOutput\": {\n",
      "            \"@type\": \"dcat:Dataset\",\n",
      "            \"dcterms:title\": \"ILA Vortex Pair\",\n",
      "            \"dcat:distribution\": [\n",
      "                {\n",
      "                    \"@type\": \"pivmeta:PivResultDistribution\",\n",
      "                    \"dcterms:title\": \"Result File\",\n",
      "                    \"dcat:downloadURL\": \"file:///vp1a.dat\",\n",
      "                    \"@id\": \"N07cb3fdf746541cd9f8c3bab3493b152\"\n",
      "                },\n",
      "                {\n",
      "                    \"@type\": \"pivmeta:PivImageDistribution\",\n",
      "                    \"dcterms:title\": \"ILA Vortex Pair Images\",\n",
      "                    \"download_URL\": \"https://www.pivtec.com/download/samples/pivimg1.zip\",\n",
      "                    \"piv_image_type\": \"PivImageType.ExperimentalImage\",\n",
      "                    \"@id\": \"N9ec59bb07f3e4814a280ce1aa340d246\"\n",
      "                }\n",
      "            ],\n",
      "            \"@id\": \"N6fc51af94f734713a264ce5be057c204\"\n",
      "        },\n",
      "        \"has_employed_tool\": {\n",
      "            \"@type\": \"pivmeta:PIVSoftware\",\n",
      "            \"schema:author\": {\n",
      "                \"@type\": \"prov:Organization\",\n",
      "                \"foaf:mbox\": \"info@pivtec.com\",\n",
      "                \"foaf:name\": \"PIVTEC GmbH\",\n",
      "                \"schema:url\": \"https://www.pivtec.com/\",\n",
      "                \"@id\": \"Nd05c4884346c4711bcb9e5eef00b6a70\"\n",
      "            },\n",
      "            \"sd:hasDocumentation\": \"https://www.pivtec.com/download/docs/PIVview_v36_Manual.pdf\",\n",
      "            \"@id\": \"Nb1d7671a439c48f0800d4194ed207ca2\"\n",
      "        },\n",
      "        \"@id\": \"N8d14726ed2264f79ba7417fa7d23df71\"\n",
      "    },\n",
      "    \"@id\": \"N172da87f0bc34f3ca7ec153c3d96a566\"\n",
      "}\n"
     ]
    }
   ],
   "source": [
    "print(piv.model_dump_jsonld(\n",
    "    context={\"@import\": \"https://raw.githubusercontent.com/matthiasprobst/pivmeta/main/pivmeta_context.jsonld\"})\n",
    "     )"
   ]
  },
  {
   "cell_type": "code",
   "execution_count": null,
   "id": "1bd43d3e-4d8f-48f7-a7ba-fce7ec20d804",
   "metadata": {},
   "outputs": [],
   "source": []
  },
  {
   "cell_type": "code",
   "execution_count": null,
   "id": "fdbface7-7494-4d28-a940-c6a099305a69",
   "metadata": {},
   "outputs": [],
   "source": []
  }
 ],
 "metadata": {
  "kernelspec": {
   "display_name": "Python 3 (ipykernel)",
   "language": "python",
   "name": "python3"
  },
  "language_info": {
   "codemirror_mode": {
    "name": "ipython",
    "version": 3
   },
   "file_extension": ".py",
   "mimetype": "text/x-python",
   "name": "python",
   "nbconvert_exporter": "python",
   "pygments_lexer": "ipython3",
   "version": "3.8.18"
  }
 },
 "nbformat": 4,
 "nbformat_minor": 5
}
