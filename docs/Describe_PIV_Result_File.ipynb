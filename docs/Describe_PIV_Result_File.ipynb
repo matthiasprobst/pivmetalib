{
 "cells": [
  {
   "cell_type": "markdown",
   "id": "d9e14431-c577-4f76-9e5c-556b3cf9a4a5",
   "metadata": {},
   "source": [
    "# Describe a PIV Result File\n",
    "\n",
    "In this example, we want to describe the result file of the ILA Vortex pair (source: https://www.pivtec.com/download/samples/VortexPairSeq.zip)\n",
    "\n",
    "Where to start? Let's first evaluate what we have:\n",
    "\n",
    "General context:\n",
    "- The general concept of a dataset is described by `dcat:Dataset`\n",
    "- The file is described by `pivmeta:PivResultDistribution` and is part of the `dcat:Dataset`\n",
    "\n",
    "Specific information:<br>\n",
    "Of greater interest is the PIV process including the PIV parameters leading to the dataset. A `dcat:Dataset` is the output of the PIV process. For this, we can use [`m4i:output of`](http://purl.obolibrary.org/obo/RO_0002353):"
   ]
  },
  {
   "cell_type": "code",
   "execution_count": 1,
   "id": "ab72c7ec-9b38-4533-ac56-affd899fec3a",
   "metadata": {},
   "outputs": [],
   "source": [
    "from pivmetalib import pivmeta, dcat, m4i, schema, sd, prov"
   ]
  },
  {
   "cell_type": "code",
   "execution_count": 2,
   "id": "e8c7d349-1914-496d-8822-b07d4bccfa08",
   "metadata": {},
   "outputs": [],
   "source": [
    "result_dist = pivmeta.PivResultDistribution(\n",
    "    title='Result File',\n",
    "    download_URL='file:///vp1a.dat'\n",
    ")\n",
    "# the \"downloaded\" file must exist:\n",
    "assert result_dist.download().exists()"
   ]
  },
  {
   "cell_type": "code",
   "execution_count": 3,
   "id": "9c46182e-d70e-4e31-ab68-01449aeeddf7",
   "metadata": {},
   "outputs": [
    {
     "data": {
      "text/plain": [
       "<PivImageType.ExperimentalImage: 'https://matthiasprobst.github.io/pivmeta#ExperimentalImage'>"
      ]
     },
     "execution_count": 3,
     "metadata": {},
     "output_type": "execute_result"
    }
   ],
   "source": [
    "pivmeta.PivImageType.ExperimentalImage"
   ]
  },
  {
   "cell_type": "code",
   "execution_count": 4,
   "id": "84695ded-4cca-477e-960d-8caff46bc2fa",
   "metadata": {},
   "outputs": [
    {
     "data": {
      "text/plain": [
       "Url('https://matthiasprobst.github.io/pivmeta#ExperimentalImage')"
      ]
     },
     "execution_count": 4,
     "metadata": {},
     "output_type": "execute_result"
    }
   ],
   "source": [
    "piv_image_dist = pivmeta.PivImageDistribution(\n",
    "    title='ILA Vortex Pair Images',\n",
    "    download_URL='https://www.pivtec.com/download/samples/pivimg1.zip',\n",
    "    piv_image_type=pivmeta.PivImageType.ExperimentalImage\n",
    ")\n",
    "piv_image_dist.piv_image_type"
   ]
  },
  {
   "cell_type": "code",
   "execution_count": 5,
   "id": "6f9ea047-6108-4395-9f71-81ff5a0442fb",
   "metadata": {},
   "outputs": [
    {
     "data": {
      "text/html": [
       "Dataset(ILA Vortex Pair)"
      ],
      "text/plain": [
       "Dataset(title=ILA Vortex Pair, distribution=[PivResultDistribution(title=Result File, download_URL=file:///vp1a.dat, ), PivImageDistribution(title=ILA Vortex Pair Images, download_URL=https://www.pivtec.com/download/samples/pivimg1.zip, piv_image_type=https://matthiasprobst.github.io/pivmeta#ExperimentalImage, )], )"
      ]
     },
     "execution_count": 5,
     "metadata": {},
     "output_type": "execute_result"
    }
   ],
   "source": [
    "ds = dcat.Dataset(\n",
    "    title='ILA Vortex Pair',\n",
    "    distribution=[result_dist, piv_image_dist]\n",
    ")\n",
    "ds"
   ]
  },
  {
   "cell_type": "markdown",
   "id": "0f2f7895-5f01-45fd-95cb-cef9fa67851a",
   "metadata": {},
   "source": [
    "Before defining the PIV processing steps, we need to describe the software used:"
   ]
  },
  {
   "cell_type": "code",
   "execution_count": 6,
   "id": "481978f4-a49c-479c-b40e-abd5de377e72",
   "metadata": {},
   "outputs": [],
   "source": [
    "piv_software = pivmeta.PIVSoftware(\n",
    "    author=prov.Organisation(\n",
    "        name='PIVTEC GmbH',\n",
    "        mbox='info@pivtec.com',\n",
    "        url='https://www.pivtec.com/'\n",
    "    ),\n",
    "    has_documentation='https://www.pivtec.com/download/docs/PIVview_v36_Manual.pdf',\n",
    ")"
   ]
  },
  {
   "cell_type": "code",
   "execution_count": 7,
   "id": "2f059f4b-154e-4f5d-ad66-409f7fb4f9db",
   "metadata": {},
   "outputs": [
    {
     "data": {
      "text/plain": [
       "<h5rdmtoolbox._cfg.set_config at 0x13f61b7e8b0>"
      ]
     },
     "execution_count": 7,
     "metadata": {},
     "output_type": "execute_result"
    }
   ],
   "source": [
    "import h5py\n",
    "from typing import Dict\n",
    "\n",
    "\n",
    "import h5rdmtoolbox as h5tbx\n",
    "h5tbx.set_config(natural_naming=False)"
   ]
  },
  {
   "cell_type": "code",
   "execution_count": 8,
   "id": "d61c53d3-4162-4fe0-a5c4-8c64c947e62a",
   "metadata": {},
   "outputs": [
    {
     "data": {
      "text/html": [
       "<head><style>/*\r\n",
       "CSS inspired by xarray: https://github.com/pydata/xarray\r\n",
       "*/\r\n",
       ".h5tb-header > div,\r\n",
       ".h5tb-header > ul {\r\n",
       "    display: inline;\r\n",
       "    margin-top: 0;\r\n",
       "    margin-bottom: 0;\r\n",
       "}\r\n",
       "\r\n",
       ".h5tb-dataarray-cls,\r\n",
       ".h5tb-dataarray-name {\r\n",
       "    margin-left: 2px;\r\n",
       "    margin-right: 10px;\r\n",
       "}\r\n",
       "\r\n",
       ".h5tb-dataarray-name {\r\n",
       "    color: #000;\r\n",
       "}\r\n",
       "\r\n",
       ".h5grp-sections {\r\n",
       "    list-style: none;\r\n",
       "    padding: 3px;\r\n",
       "    margin: 0;\r\n",
       "}\r\n",
       "\r\n",
       ".h5grp-sections input {\r\n",
       "    display: none;\r\n",
       "}\r\n",
       "\r\n",
       ".h5grp-sections label {\r\n",
       "    display: inline;\r\n",
       "}\r\n",
       "\r\n",
       ".h5grp-sections > li > input + label > span {\r\n",
       "    display: inline;\r\n",
       "    margin-left: 4px;\r\n",
       "}\r\n",
       "\r\n",
       ".h5grp-sections > li > input:checked + label > span {\r\n",
       "    display: none;\r\n",
       "}\r\n",
       "\r\n",
       ".h5grp-sections input:enabled + label {\r\n",
       "    cursor: pointer;\r\n",
       "}\r\n",
       "\r\n",
       ".h5grp-sections input:not(.h5tb-values-in) ~ ul {\r\n",
       "    display: none;\r\n",
       "}\r\n",
       "\r\n",
       ".h5grp-sections input:not(.h5tb-values-in):checked ~ ul {\r\n",
       "    display: block;\r\n",
       "}\r\n",
       "\r\n",
       ".h5grp-sections > li > input + label {\r\n",
       "    width: 140px;\r\n",
       "    color: #555;\r\n",
       "    font-weight: 500;\r\n",
       "    padding: 4px 0 2px 0;\r\n",
       "}\r\n",
       "\r\n",
       "\r\n",
       ".h5grp-sections > li > input + label:before {\r\n",
       "    display: inline-block;\r\n",
       "    content: '+';\r\n",
       "    font-size: 11px;\r\n",
       "    width: 15px;\r\n",
       "    text-align: center;\r\n",
       "}\r\n",
       "\r\n",
       ".h5grp-sections > li > input:disabled + label:before {\r\n",
       "    color: #777;\r\n",
       "}\r\n",
       "\r\n",
       ".h5grp-sections > li > input:checked + label:before {\r\n",
       "    content: '-';\r\n",
       "}\r\n",
       "\r\n",
       ".h5tb-dim-list {\r\n",
       "    display: inline-block !important;\r\n",
       "    list-style: none;\r\n",
       "    padding: 0;\r\n",
       "}\r\n",
       "\r\n",
       ".h5tb-dim-list li {\r\n",
       "    display: inline-block;\r\n",
       "    padding: 0;\r\n",
       "    margin: 0;\r\n",
       "}\r\n",
       "\r\n",
       ".h5tb-dim-list:before {\r\n",
       "    content: '(';\r\n",
       "}\r\n",
       "\r\n",
       ".h5tb-dim-list:after {\r\n",
       "    content: ')';\r\n",
       "}\r\n",
       "\r\n",
       ".h5tb-dim-list li:not(:last-child):after {\r\n",
       "    content: ',';\r\n",
       "}\r\n",
       "\r\n",
       ".h5tb-has-index {\r\n",
       "    text-decoration: underline;\r\n",
       "}\r\n",
       "\r\n",
       ".h5tb-var-list {\r\n",
       "    list-style: none;\r\n",
       "    padding: 0;\r\n",
       "    margin: 0;\r\n",
       "}\r\n",
       "\r\n",
       ".h5tb-var-list > li {\r\n",
       "    background-color: #fcfcfc;\r\n",
       "    overflow: hidden;\r\n",
       "}\r\n",
       "\r\n",
       ".h5tb-var-list > li:nth-child(odd) {\r\n",
       "    background-color: #efefef;\r\n",
       "}\r\n",
       "\r\n",
       ".h5tb-var-list li:hover {\r\n",
       "    background-color: rgba(3, 169, 244, .2);\r\n",
       "}\r\n",
       "\r\n",
       ".h5tb-var-list li > span {\r\n",
       "    display: inline-block;\r\n",
       "}\r\n",
       "\r\n",
       "input.h5tb-varname-in + label {\r\n",
       "    width: 140px;\r\n",
       "    padding-left: 0;\r\n",
       "    font-weight: bold;\r\n",
       "}\r\n",
       "\r\n",
       ".h5tb-dataset {\r\n",
       "    width: 100px;\r\n",
       "}\r\n",
       "\r\n",
       ".h5tb-attributevalue {\r\n",
       "    width: 100px;\r\n",
       "    text-align: left;\r\n",
       "    color: #888;\r\n",
       "    white-space: nowrap;\r\n",
       "    font-size: 12px;\r\n",
       "}\r\n",
       "\r\n",
       "input.h5tb-varname-in + label:before {\r\n",
       "    content: ' ';\r\n",
       "    display: inline-block;\r\n",
       "    font-size: 11px;\r\n",
       "    width: 15px;\r\n",
       "    padding-left: 2px;\r\n",
       "    padding-right: 2px;\r\n",
       "    text-align: center;\r\n",
       "    color: #aaa;\r\n",
       "    text-decoration: none !important;\r\n",
       "}\r\n",
       "\r\n",
       "input.h5tb-varname-in:enabled + label:hover:before {\r\n",
       "    color: #000;\r\n",
       "}\r\n",
       "\r\n",
       "input.h5tb-varname-in:checked + label:before {\r\n",
       "    color: #ccc;\r\n",
       "}\r\n",
       "\r\n",
       ".h5tb-dims {\r\n",
       "    width: 280px;\r\n",
       "    white-space: nowrap;\r\n",
       "}\r\n",
       "\r\n",
       ".h5tb-attr-list {\r\n",
       "    list-style: none;\r\n",
       "    background-color: rgba(0,0,0,.0);\r\n",
       "    padding-bottom: 6px;\r\n",
       "    color: #6a6c73;\r\n",
       "}\r\n",
       "\r\n",
       ".h5tb-attr-list li,\r\n",
       ".h5tb-attr-list li:hover {\r\n",
       "    background-color: rgba(0,0,0,.0);\r\n",
       "}</style></head>\n",
       "<div class='h5tb-warp'>\n",
       "\n",
       "              <ul style=\"list-style-type: none;\" class=\"h5grp-sections\">\n",
       "                    <li>\n",
       "                        <input id=\"group-ds--6515526700\" type=\"checkbox\" checked>\n",
       "                        <label style=\"font-weight: bold\" for=\"group-ds--6515526700\">\n",
       "                        /<span>(1)</span></label>\n",
       "                  \n",
       "\n",
       "                    <ul class=\"h5tb-attr-list\"><li style=\"list-style-type: none; font-style: italic\">__h5rdmtoolbox_version__<a href=\"https://w3id.org/okn/o/sd#SoftwareVersion\"><img src=\"https://github.com/matthiasprobst/h5RDMtoolbox/blob/dev/h5rdmtoolbox/data/iri_icon.png?raw=true\" alt=\" [IRI]\" width=\"16\" height=\"16\" /></a> : 1.2.2</li><li style=\"list-style-type: none; font-style: italic\">has_documentation : <a href=\"https://www.pivtec.com/download/docs/PIVview_v36_Manual.pdf\">https://www.pivtec.com/download/docs/PIVview_v36_Manual.pdf</a></li>\n",
       "                    </ul>\n",
       "\n",
       "              <ul style=\"list-style-type: none;\" class=\"h5grp-sections\">\n",
       "                    <li>\n",
       "                        <input id=\"group-ds-author-6516495900\" type=\"checkbox\" >\n",
       "                        <label style=\"font-weight: bold\" for=\"group-ds-author-6516495900\">\n",
       "                        author<a href=\"https://schema.org/:author\"><img src=\"https://github.com/matthiasprobst/h5RDMtoolbox/blob/dev/h5rdmtoolbox/data/iri_icon.png?raw=true\" alt=\" [IRI]\" width=\"16\" height=\"16\" /></a><span>(0)</span></label>\n",
       "                  \n",
       "\n",
       "                    <ul class=\"h5tb-attr-list\"><li style=\"list-style-type: none; font-style: italic\">mbox : info@pivtec.com</li><li style=\"list-style-type: none; font-style: italic\">name : PIVTEC GmbH</li>\n",
       "                    </ul>\n",
       "</li>\n",
       "</ul>\n",
       "</li>\n",
       "</ul>\n",
       "</div>"
      ],
      "text/plain": [
       "<IPython.core.display.HTML object>"
      ]
     },
     "metadata": {},
     "output_type": "display_data"
    }
   ],
   "source": [
    "with h5tbx.File() as h5:\n",
    "    piv_software.dump_hdf(h5)\n",
    "    h5.dump()"
   ]
  },
  {
   "cell_type": "code",
   "execution_count": 9,
   "id": "1d31903d-62c1-42a8-94f3-915d95414140",
   "metadata": {},
   "outputs": [
    {
     "name": "stdout",
     "output_type": "stream",
     "text": [
      "{\n",
      "    \"@context\": {\n",
      "        \"@import\": \"https://raw.githubusercontent.com/matthiasprobst/pivmeta/main/pivmeta_context.jsonld\"\n",
      "    },\n",
      "    \"@graph\": [\n",
      "        {\n",
      "            \"@id\": \"https://local-domain.org/f1387bc4-1b67-4931-a3dc-44d2ac5b2d83\",\n",
      "            \"@type\": \"prov:Organisation\",\n",
      "            \"foaf:mbox\": \"info@pivtec.com\",\n",
      "            \"foaf:name\": \"PIVTEC GmbH\",\n",
      "            \"url\": \"https://www.pivtec.com/\"\n",
      "        },\n",
      "        {\n",
      "            \"@id\": \"https://local-domain.org/af7bfd2f-b8c2-455f-9afb-4ad77d9651de\",\n",
      "            \"@type\": \"Piv Software\",\n",
      "            \"schema:author\": {\n",
      "                \"@id\": \"https://local-domain.org/f1387bc4-1b67-4931-a3dc-44d2ac5b2d83\"\n",
      "            },\n",
      "            \"sd:hasDocumentation\": \"https://www.pivtec.com/download/docs/PIVview_v36_Manual.pdf\"\n",
      "        }\n",
      "    ]\n",
      "}\n"
     ]
    }
   ],
   "source": [
    "print(piv_software.dump_jsonld())"
   ]
  },
  {
   "cell_type": "markdown",
   "id": "faac78e5-65fe-44f4-8950-9d4c6f2dd46c",
   "metadata": {},
   "source": [
    "## Processing steps\n",
    "\n",
    "A `PivProcessingStep` class is provided in order to distinguish the processing step from others. Some methods are provided as classes but without specific properties. This is done to provide flexibility, as all methods can be standardized. However, by introducing **standard names**, the authors may narrow their parameter definitions either by using global standard names (with an IRI) or within their project.\n",
    "\n",
    "*TODO: Put here an image illustrating the possibilities*\n",
    "\n",
    "By using standard names, important parameters can be identified unambiguously. See `PIVMETA.image_filter_kernel_size` in the example in contrast to the 180° image rotation."
   ]
  },
  {
   "cell_type": "markdown",
   "id": "da19c623-fd59-4936-b702-d94c601ebffb",
   "metadata": {},
   "source": [
    "### 1. Pre-Processing (Image processing)\n",
    "\n",
    "Methods:\n",
    "- image rotation by 180 deg"
   ]
  },
  {
   "cell_type": "code",
   "execution_count": 10,
   "id": "27665a5d-a23a-4f3b-b85f-6965d92ee703",
   "metadata": {},
   "outputs": [],
   "source": [
    "from pivmetalib.namespace import PIVMETA  # Or define a standard name table here..."
   ]
  },
  {
   "cell_type": "code",
   "execution_count": 11,
   "id": "8bcde2fb-ddf5-4520-a151-a71bd4f184f5",
   "metadata": {},
   "outputs": [
    {
     "data": {
      "text/html": [
       "PivPreProcessing(realizes_method=[Method(description=Rotates the input image by 180 deg, has_parameter=id=None label=None has_variable_description=None has_symbol=None has_numerical_value=180 has_unit='deg' has_kind_of_quantity=None name='rotation' kind_of_quantity='https://qudt.org/vocab/unit/DEG', ), Method(description=Applies a median filter to the image, has_parameter=id=None label=None has_variable_description=None has_symbol=None has_numerical_value=3 has_unit=None has_kind_of_quantity=None standard_name=Url('https://matthiasprobst.github.io/pivmeta#image_filter_kernel_size'), )])"
      ],
      "text/plain": [
       "PivPreProcessing(realizes_method=[Method(description=Rotates the input image by 180 deg, has_parameter=id=None label=None has_variable_description=None has_symbol=None has_numerical_value=180 has_unit='deg' has_kind_of_quantity=None name='rotation' kind_of_quantity='https://qudt.org/vocab/unit/DEG', ), Method(description=Applies a median filter to the image, has_parameter=id=None label=None has_variable_description=None has_symbol=None has_numerical_value=3 has_unit=None has_kind_of_quantity=None standard_name=Url('https://matthiasprobst.github.io/pivmeta#image_filter_kernel_size'), )], name=Image pre processing)"
      ]
     },
     "execution_count": 11,
     "metadata": {},
     "output_type": "execute_result"
    }
   ],
   "source": [
    "pre = pivmeta.PivPreProcessing(\n",
    "    name='Image pre processing',\n",
    "    realizes_method=[\n",
    "        m4i.Method(\n",
    "            description='Rotates the input image by 180 deg',\n",
    "            has_parameter=m4i.NumericalVariable(\n",
    "                name='rotation',\n",
    "                has_numerical_value=180,\n",
    "                has_unit='deg',\n",
    "                kind_of_quantity='https://qudt.org/vocab/unit/DEG'\n",
    "            )\n",
    "        ),\n",
    "        # Dont define all the classes for filters and outlier detection because everybody may define it differently.\n",
    "        # common parameters can be specified \"on demand\" by standard names like so: \n",
    "        m4i.Method(\n",
    "            description='Applies a median filter to the image',\n",
    "            has_parameter=pivmeta.NumericalVariable(\n",
    "                standard_name=PIVMETA.image_filter_kernel_size,\n",
    "                has_numerical_value=3,\n",
    "            )\n",
    "        )\n",
    "    ]\n",
    ")\n",
    "pre"
   ]
  },
  {
   "cell_type": "markdown",
   "id": "473b212f-f571-427e-92f1-b301961b75d1",
   "metadata": {},
   "source": [
    "## 2. PIV evaluation\n",
    "\n",
    "The PIV evaluation is a `m4i:ProcessingStep`. It realizes the methods\n",
    "- `pivemta:CorrelationMethod` (e.g. FFT, ... ),\n",
    "- `pivemta:InterrogationMethod` (e.g. `pivemta:Multigrid`, ...) and\n",
    "- `pivemta:PeakSearchMethod`.\n",
    "\n",
    "The outlier detection (validation) is a sub-processing step (`pivemta:PivValidation`), because it can realize multiple methods. Most popular ones are described by classes:\n",
    "- `pivemta:DynMean`.\n",
    "\n",
    "Here, a multigrid evaluation is performed using standard FFT."
   ]
  },
  {
   "cell_type": "markdown",
   "id": "df6461be-e23c-4688-8f46-e9c3d3786882",
   "metadata": {},
   "source": [
    "### 2.1 Correlation algorithm\n",
    "\n",
    "The correlation algorithm is a subclass of `m4i:Method`. At least a name and description should be provided (here, taken from the documentation). We could also provide parameters."
   ]
  },
  {
   "cell_type": "code",
   "execution_count": 12,
   "id": "7447a632-4fa7-41e9-95d1-be5386a5bccc",
   "metadata": {},
   "outputs": [
    {
     "data": {
      "text/html": [
       "CorrelationAlgorithm(description=The default mode of cross-correlation using FFTs to speed the computation. In principle the sum of pixel-wise multiplication of intensities is computed for each correlation offset (For implementation details please refer to Raffel et al. 2007).)"
      ],
      "text/plain": [
       "CorrelationAlgorithm(description=The default mode of cross-correlation using FFTs to speed the computation. In principle the sum of pixel-wise multiplication of intensities is computed for each correlation offset (For implementation details please refer to Raffel et al. 2007)., name=Standard (FFT) Correlation)"
      ]
     },
     "execution_count": 12,
     "metadata": {},
     "output_type": "execute_result"
    }
   ],
   "source": [
    "calgo = pivmeta.CorrelationAlgorithm(\n",
    "    name='Standard (FFT) Correlation',\n",
    "    description='The default mode of cross-correlation using FFTs to speed the computation. ' \n",
    "    'In principle the sum of pixel-wise multiplication of intensities is computed for each ' \n",
    "    'correlation offset (For implementation details please refer to Raffel et al. 2007).'\n",
    ")\n",
    "calgo"
   ]
  },
  {
   "cell_type": "markdown",
   "id": "eb1f5c6b-d7ce-4502-b997-cc79e719d97f",
   "metadata": {},
   "source": [
    "### 2.2 Interrogation method\n",
    "\n",
    "In this example, a *Multi-Grid* method was used starting from a window with size 64 px down to 16 px in 3 steps"
   ]
  },
  {
   "cell_type": "code",
   "execution_count": 13,
   "id": "6045c0bd-448f-4285-ac9a-579b018cf734",
   "metadata": {},
   "outputs": [],
   "source": [
    "v = pivmeta.NumericalVariable(\n",
    "            has_standard_name=PIVMETA.x_initial_interrogation_window_size,\n",
    "            has_numerical_value=64,\n",
    "        )"
   ]
  },
  {
   "cell_type": "code",
   "execution_count": 14,
   "id": "6eb9d495-a9b6-4c63-9e94-62680abb2620",
   "metadata": {},
   "outputs": [],
   "source": [
    "#print(v.dump_jsonld())"
   ]
  },
  {
   "cell_type": "code",
   "execution_count": 15,
   "id": "cf03a99e-133b-4ced-aab5-599eb3ef1472",
   "metadata": {},
   "outputs": [
    {
     "ename": "AttributeError",
     "evalue": "module 'pivmetalib.pivmeta' has no attribute 'Multigrid'",
     "output_type": "error",
     "traceback": [
      "\u001b[1;31m---------------------------------------------------------------------------\u001b[0m",
      "\u001b[1;31mAttributeError\u001b[0m                            Traceback (most recent call last)",
      "Cell \u001b[1;32mIn[15], line 1\u001b[0m\n\u001b[1;32m----> 1\u001b[0m int_meth \u001b[38;5;241m=\u001b[39m \u001b[43mpivmeta\u001b[49m\u001b[38;5;241;43m.\u001b[39;49m\u001b[43mMultigrid\u001b[49m(\n\u001b[0;32m      2\u001b[0m     name\u001b[38;5;241m=\u001b[39m\u001b[38;5;124m'\u001b[39m\u001b[38;5;124mMultigrid interrogation method\u001b[39m\u001b[38;5;124m'\u001b[39m,\n\u001b[0;32m      3\u001b[0m     description\u001b[38;5;241m=\u001b[39m\u001b[38;5;124m'\u001b[39m\u001b[38;5;124mRun a multigrid PIV algorithm on all images\u001b[39m\u001b[38;5;124m'\u001b[39m,\n\u001b[0;32m      4\u001b[0m     has_parameter\u001b[38;5;241m=\u001b[39m[\n\u001b[0;32m      5\u001b[0m         pivmeta\u001b[38;5;241m.\u001b[39mNumericalVariable(\n\u001b[0;32m      6\u001b[0m             has_standard_name\u001b[38;5;241m=\u001b[39mPIVMETA\u001b[38;5;241m.\u001b[39mx_initial_interrogation_window_size,\n\u001b[0;32m      7\u001b[0m             has_numerical_value\u001b[38;5;241m=\u001b[39m\u001b[38;5;241m64\u001b[39m,\n\u001b[0;32m      8\u001b[0m         ),\n\u001b[0;32m      9\u001b[0m         pivmeta\u001b[38;5;241m.\u001b[39mNumericalVariable(\n\u001b[0;32m     10\u001b[0m             has_standard_name\u001b[38;5;241m=\u001b[39mPIVMETA\u001b[38;5;241m.\u001b[39my_initial_interrogation_window_size,\n\u001b[0;32m     11\u001b[0m             has_numerical_value\u001b[38;5;241m=\u001b[39m\u001b[38;5;241m64\u001b[39m,\n\u001b[0;32m     12\u001b[0m         ),\n\u001b[0;32m     13\u001b[0m         pivmeta\u001b[38;5;241m.\u001b[39mNumericalVariable(\n\u001b[0;32m     14\u001b[0m             has_standard_name\u001b[38;5;241m=\u001b[39mPIVMETA\u001b[38;5;241m.\u001b[39mx_final_interrogation_window_size,\n\u001b[0;32m     15\u001b[0m             has_numerical_value\u001b[38;5;241m=\u001b[39m\u001b[38;5;241m16\u001b[39m,\n\u001b[0;32m     16\u001b[0m         ),\n\u001b[0;32m     17\u001b[0m         pivmeta\u001b[38;5;241m.\u001b[39mNumericalVariable(\n\u001b[0;32m     18\u001b[0m             has_standard_name\u001b[38;5;241m=\u001b[39mPIVMETA\u001b[38;5;241m.\u001b[39my_final_interrogation_window_size,\n\u001b[0;32m     19\u001b[0m             has_numerical_value\u001b[38;5;241m=\u001b[39m\u001b[38;5;241m16\u001b[39m,\n\u001b[0;32m     20\u001b[0m         ),\n\u001b[0;32m     21\u001b[0m         pivmeta\u001b[38;5;241m.\u001b[39mNumericalVariable(\n\u001b[0;32m     22\u001b[0m             has_standard_name\u001b[38;5;241m=\u001b[39mPIVMETA\u001b[38;5;241m.\u001b[39mx_final_interrogation_window_overlap_size,\n\u001b[0;32m     23\u001b[0m             has_numerical_value\u001b[38;5;241m=\u001b[39m\u001b[38;5;241m8\u001b[39m,\n\u001b[0;32m     24\u001b[0m         ),\n\u001b[0;32m     25\u001b[0m         pivmeta\u001b[38;5;241m.\u001b[39mNumericalVariable(\n\u001b[0;32m     26\u001b[0m             has_standard_name\u001b[38;5;241m=\u001b[39mPIVMETA\u001b[38;5;241m.\u001b[39my_final_interrogation_window_overlap_size,\n\u001b[0;32m     27\u001b[0m             has_numerical_value\u001b[38;5;241m=\u001b[39m\u001b[38;5;241m8\u001b[39m,\n\u001b[0;32m     28\u001b[0m         ),\n\u001b[0;32m     29\u001b[0m         pivmeta\u001b[38;5;241m.\u001b[39mNumericalVariable(\n\u001b[0;32m     30\u001b[0m             has_standard_name\u001b[38;5;241m=\u001b[39mPIVMETA\u001b[38;5;241m.\u001b[39mnumber_of_multigrid_passes,\n\u001b[0;32m     31\u001b[0m             has_numerical_value\u001b[38;5;241m=\u001b[39m\u001b[38;5;241m3\u001b[39m,\n\u001b[0;32m     32\u001b[0m         )\n\u001b[0;32m     33\u001b[0m     ]\n\u001b[0;32m     34\u001b[0m )\n\u001b[0;32m     35\u001b[0m int_meth\n",
      "\u001b[1;31mAttributeError\u001b[0m: module 'pivmetalib.pivmeta' has no attribute 'Multigrid'"
     ]
    }
   ],
   "source": [
    "int_meth = pivmeta.Multigrid(\n",
    "    name='Multigrid interrogation method',\n",
    "    description='Run a multigrid PIV algorithm on all images',\n",
    "    has_parameter=[\n",
    "        pivmeta.NumericalVariable(\n",
    "            has_standard_name=PIVMETA.x_initial_interrogation_window_size,\n",
    "            has_numerical_value=64,\n",
    "        ),\n",
    "        pivmeta.NumericalVariable(\n",
    "            has_standard_name=PIVMETA.y_initial_interrogation_window_size,\n",
    "            has_numerical_value=64,\n",
    "        ),\n",
    "        pivmeta.NumericalVariable(\n",
    "            has_standard_name=PIVMETA.x_final_interrogation_window_size,\n",
    "            has_numerical_value=16,\n",
    "        ),\n",
    "        pivmeta.NumericalVariable(\n",
    "            has_standard_name=PIVMETA.y_final_interrogation_window_size,\n",
    "            has_numerical_value=16,\n",
    "        ),\n",
    "        pivmeta.NumericalVariable(\n",
    "            has_standard_name=PIVMETA.x_final_interrogation_window_overlap_size,\n",
    "            has_numerical_value=8,\n",
    "        ),\n",
    "        pivmeta.NumericalVariable(\n",
    "            has_standard_name=PIVMETA.y_final_interrogation_window_overlap_size,\n",
    "            has_numerical_value=8,\n",
    "        ),\n",
    "        pivmeta.NumericalVariable(\n",
    "            has_standard_name=PIVMETA.number_of_multigrid_passes,\n",
    "            has_numerical_value=3,\n",
    "        )\n",
    "    ]\n",
    ")\n",
    "int_meth"
   ]
  },
  {
   "cell_type": "markdown",
   "id": "fce1e717-0e02-4f4a-bbb2-af411dc36db8",
   "metadata": {},
   "source": [
    "### 2.3 Outlier detection\n",
    "\n",
    "We use the following two methods for outlier detection:\n",
    "- normalized median test threshold: 3.0 (see DOI=https://doi.org/10.1007/s00348-005-0016-6)\n",
    "- dynamic mean test: mean=2.0, var=1.0"
   ]
  },
  {
   "cell_type": "code",
   "execution_count": null,
   "id": "739aa70a-7dc0-4317-a814-f3c14b8e8727",
   "metadata": {},
   "outputs": [],
   "source": [
    "median_test = pivmeta.OutlierDetectionMethod(\n",
    "    name='normalized median test',\n",
    "    has_parameter=m4i.NumericalVariable(\n",
    "        name='threshold',\n",
    "        has_numerical_value=3.0\n",
    "    )\n",
    ")"
   ]
  },
  {
   "cell_type": "code",
   "execution_count": null,
   "id": "5048b457-c0c7-4f01-a168-0805de557080",
   "metadata": {},
   "outputs": [],
   "source": [
    "dyn_mean = pivmeta.OutlierDetectionMethod(\n",
    "    name='dynamic mean test',\n",
    "    has_parameter=[\n",
    "        m4i.NumericalVariable(\n",
    "            name='mean',\n",
    "            has_numerical_value=2.0\n",
    "        ),\n",
    "        m4i.NumericalVariable(\n",
    "            name='var',\n",
    "            has_numerical_value=1.0\n",
    "        )\n",
    "    ]\n",
    ")"
   ]
  },
  {
   "cell_type": "code",
   "execution_count": null,
   "id": "f1acbf4e-ee47-4d81-976e-990ba8af789c",
   "metadata": {},
   "outputs": [],
   "source": [
    "proc = pivmeta.PivEvaluation(\n",
    "    name='piv evaluation',\n",
    "    realizes_method=[\n",
    "        calgo,\n",
    "        int_meth,\n",
    "        median_test,\n",
    "        dyn_mean\n",
    "    ]\n",
    ")\n",
    "proc"
   ]
  },
  {
   "cell_type": "code",
   "execution_count": null,
   "id": "f708a8ea-8e34-40a1-8788-e36d282b52f6",
   "metadata": {},
   "outputs": [],
   "source": [
    "data_smoothing = m4i.Method(\n",
    "    name='Low-pass filtering',\n",
    "    description='applies a low-pass filtering on the data using a Gaussian weighted kernel of specified width to reduce spurious noise.',\n",
    "    has_parameter=m4i.NumericalVariable(name='kernel', has_numerical_value=2.0)\n",
    ")"
   ]
  },
  {
   "cell_type": "code",
   "execution_count": null,
   "id": "c0aa9014-102f-4dba-9977-3a310ac1afd1",
   "metadata": {},
   "outputs": [],
   "source": [
    "post = pivmeta.PivPostProcessing(\n",
    "    name='Post processing',\n",
    "    realizes_method=data_smoothing\n",
    ")\n",
    "            "
   ]
  },
  {
   "cell_type": "markdown",
   "id": "f1809a68-1074-48e5-b047-85cf6f62a147",
   "metadata": {},
   "source": [
    "## 3. Creating the full Meta document (connect information)\n",
    "\n",
    "We created three processing steps:\n",
    "1. pre (takes raw images)\n",
    "2. proc\n",
    "3. post (outputs result data)\n"
   ]
  },
  {
   "cell_type": "code",
   "execution_count": null,
   "id": "b4e4230c-aff3-4adb-bba0-24b33fad657c",
   "metadata": {},
   "outputs": [],
   "source": [
    "post.has_output = ds"
   ]
  },
  {
   "cell_type": "markdown",
   "id": "adc7dc2e-06f6-4500-9066-fa9ebc390429",
   "metadata": {},
   "source": [
    "## 4. dump piv run to JSON-LD"
   ]
  },
  {
   "cell_type": "code",
   "execution_count": null,
   "id": "355ccc0f-79f9-4068-9aef-3b72aadf9dad",
   "metadata": {},
   "outputs": [],
   "source": [
    "piv = m4i.ProcessingStep(\n",
    "    name='PIV Run',\n",
    "    starts_with=pre,\n",
    "    ends_with=post\n",
    ")\n",
    "# proc.part_of = piv\n",
    "pre.precedes = proc\n",
    "proc.precedes = post\n",
    "\n",
    "# all processing steps were employed by software pivview:\n",
    "pre.has_employed_tool = pivtec\n",
    "proc.has_employed_tool = pivtec\n",
    "post.has_employed_tool = pivtec"
   ]
  },
  {
   "cell_type": "code",
   "execution_count": null,
   "id": "0cbb3eae-3c90-489f-8311-fa159e3e488c",
   "metadata": {},
   "outputs": [],
   "source": [
    "with open('piv_process.json', 'w') as f:\n",
    "    f.write(proc.dump_jsonld())"
   ]
  },
  {
   "cell_type": "code",
   "execution_count": null,
   "id": "8c278c4a-87dc-4c2b-b264-76a47918abb9",
   "metadata": {},
   "outputs": [],
   "source": [
    "from pivmetalib.jsonld import dump_jsonld"
   ]
  },
  {
   "cell_type": "code",
   "execution_count": null,
   "id": "07b8666b-7f4c-47a2-9ab5-206d167de1b7",
   "metadata": {
    "scrolled": true
   },
   "outputs": [],
   "source": [
    "print(dump_jsonld([pre, proc]))"
   ]
  },
  {
   "cell_type": "markdown",
   "id": "da25733d-4758-410b-91e1-19d9fc6ec7b8",
   "metadata": {},
   "source": [
    "# Query JSON-LD file\n",
    "\n",
    "t.b.d"
   ]
  },
  {
   "cell_type": "code",
   "execution_count": null,
   "id": "bddb2f4c-0527-48de-a581-7baf1ea2cc53",
   "metadata": {},
   "outputs": [],
   "source": []
  }
 ],
 "metadata": {
  "kernelspec": {
   "display_name": "Python 3 (ipykernel)",
   "language": "python",
   "name": "python3"
  },
  "language_info": {
   "codemirror_mode": {
    "name": "ipython",
    "version": 3
   },
   "file_extension": ".py",
   "mimetype": "text/x-python",
   "name": "python",
   "nbconvert_exporter": "python",
   "pygments_lexer": "ipython3",
   "version": "3.8.18"
  }
 },
 "nbformat": 4,
 "nbformat_minor": 5
}
